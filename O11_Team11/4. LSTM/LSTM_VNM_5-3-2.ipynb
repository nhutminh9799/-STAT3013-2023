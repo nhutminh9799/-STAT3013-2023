{
 "cells": [
  {
   "cell_type": "code",
   "execution_count": 4,
   "metadata": {
    "colab": {
     "base_uri": "https://localhost:8080/",
     "height": 73
    },
    "id": "s3EiLvGmcAEl",
    "outputId": "eaf750b0-6392-4227-e0a1-a1a8a6be7a7a"
   },
   "outputs": [
    {
     "name": "stdout",
     "output_type": "stream",
     "text": [
      "WARNING:tensorflow:From C:\\Users\\ngomi\\AppData\\Local\\Programs\\Python\\Python310\\lib\\site-packages\\keras\\src\\losses.py:2976: The name tf.losses.sparse_softmax_cross_entropy is deprecated. Please use tf.compat.v1.losses.sparse_softmax_cross_entropy instead.\n",
      "\n"
     ]
    }
   ],
   "source": [
    "# 1. Import thư viện cần thiết\n",
    "import numpy as np\n",
    "import pandas as pd\n",
    "import matplotlib.pyplot as plt\n",
    "from sklearn.preprocessing import MinMaxScaler\n",
    "from keras.models import Sequential\n",
    "from keras.layers import Dense, LSTM"
   ]
  },
  {
   "cell_type": "code",
   "execution_count": 5,
   "metadata": {
    "colab": {
     "base_uri": "https://localhost:8080/",
     "height": 423
    },
    "id": "VGFGSX5RcbO2",
    "outputId": "7757ba32-91fd-41f9-f4a8-17436ab679f3"
   },
   "outputs": [
    {
     "data": {
      "text/html": [
       "<div>\n",
       "<style scoped>\n",
       "    .dataframe tbody tr th:only-of-type {\n",
       "        vertical-align: middle;\n",
       "    }\n",
       "\n",
       "    .dataframe tbody tr th {\n",
       "        vertical-align: top;\n",
       "    }\n",
       "\n",
       "    .dataframe thead th {\n",
       "        text-align: right;\n",
       "    }\n",
       "</style>\n",
       "<table border=\"1\" class=\"dataframe\">\n",
       "  <thead>\n",
       "    <tr style=\"text-align: right;\">\n",
       "      <th></th>\n",
       "      <th>Date</th>\n",
       "      <th>Close</th>\n",
       "      <th>Open</th>\n",
       "      <th>High</th>\n",
       "      <th>Low</th>\n",
       "      <th>Vol.</th>\n",
       "      <th>Change %</th>\n",
       "    </tr>\n",
       "  </thead>\n",
       "  <tbody>\n",
       "    <tr>\n",
       "      <th>0</th>\n",
       "      <td>03-01-17</td>\n",
       "      <td>100082.0</td>\n",
       "      <td>99213.0</td>\n",
       "      <td>100319.0</td>\n",
       "      <td>99213.0</td>\n",
       "      <td>782840</td>\n",
       "      <td>0.88</td>\n",
       "    </tr>\n",
       "    <tr>\n",
       "      <th>1</th>\n",
       "      <td>04-01-17</td>\n",
       "      <td>100240.0</td>\n",
       "      <td>100714.0</td>\n",
       "      <td>100793.0</td>\n",
       "      <td>100161.0</td>\n",
       "      <td>791240</td>\n",
       "      <td>0.16</td>\n",
       "    </tr>\n",
       "    <tr>\n",
       "      <th>2</th>\n",
       "      <td>05-01-17</td>\n",
       "      <td>100082.0</td>\n",
       "      <td>100398.0</td>\n",
       "      <td>100398.0</td>\n",
       "      <td>99687.0</td>\n",
       "      <td>986830</td>\n",
       "      <td>-0.16</td>\n",
       "    </tr>\n",
       "    <tr>\n",
       "      <th>3</th>\n",
       "      <td>06-01-17</td>\n",
       "      <td>99529.0</td>\n",
       "      <td>100082.0</td>\n",
       "      <td>100793.0</td>\n",
       "      <td>99529.0</td>\n",
       "      <td>1650000</td>\n",
       "      <td>-0.55</td>\n",
       "    </tr>\n",
       "    <tr>\n",
       "      <th>4</th>\n",
       "      <td>09-01-17</td>\n",
       "      <td>99529.0</td>\n",
       "      <td>100082.0</td>\n",
       "      <td>100161.0</td>\n",
       "      <td>99529.0</td>\n",
       "      <td>1090000</td>\n",
       "      <td>0.00</td>\n",
       "    </tr>\n",
       "    <tr>\n",
       "      <th>...</th>\n",
       "      <td>...</td>\n",
       "      <td>...</td>\n",
       "      <td>...</td>\n",
       "      <td>...</td>\n",
       "      <td>...</td>\n",
       "      <td>...</td>\n",
       "      <td>...</td>\n",
       "    </tr>\n",
       "    <tr>\n",
       "      <th>1736</th>\n",
       "      <td>14-12-23</td>\n",
       "      <td>68400.0</td>\n",
       "      <td>68400.0</td>\n",
       "      <td>68900.0</td>\n",
       "      <td>68200.0</td>\n",
       "      <td>1460000</td>\n",
       "      <td>0.29</td>\n",
       "    </tr>\n",
       "    <tr>\n",
       "      <th>1737</th>\n",
       "      <td>15-12-23</td>\n",
       "      <td>68100.0</td>\n",
       "      <td>68500.0</td>\n",
       "      <td>68600.0</td>\n",
       "      <td>68100.0</td>\n",
       "      <td>3740000</td>\n",
       "      <td>-0.44</td>\n",
       "    </tr>\n",
       "    <tr>\n",
       "      <th>1738</th>\n",
       "      <td>18-12-23</td>\n",
       "      <td>67000.0</td>\n",
       "      <td>68100.0</td>\n",
       "      <td>68200.0</td>\n",
       "      <td>67000.0</td>\n",
       "      <td>3510000</td>\n",
       "      <td>-1.62</td>\n",
       "    </tr>\n",
       "    <tr>\n",
       "      <th>1739</th>\n",
       "      <td>19-12-23</td>\n",
       "      <td>67000.0</td>\n",
       "      <td>67100.0</td>\n",
       "      <td>67400.0</td>\n",
       "      <td>66300.0</td>\n",
       "      <td>3060000</td>\n",
       "      <td>0.00</td>\n",
       "    </tr>\n",
       "    <tr>\n",
       "      <th>1740</th>\n",
       "      <td>20-12-23</td>\n",
       "      <td>68100.0</td>\n",
       "      <td>67000.0</td>\n",
       "      <td>68200.0</td>\n",
       "      <td>67000.0</td>\n",
       "      <td>2600000</td>\n",
       "      <td>1.64</td>\n",
       "    </tr>\n",
       "  </tbody>\n",
       "</table>\n",
       "<p>1741 rows × 7 columns</p>\n",
       "</div>"
      ],
      "text/plain": [
       "          Date     Close      Open      High       Low     Vol.  Change %\n",
       "0     03-01-17  100082.0   99213.0  100319.0   99213.0   782840      0.88\n",
       "1     04-01-17  100240.0  100714.0  100793.0  100161.0   791240      0.16\n",
       "2     05-01-17  100082.0  100398.0  100398.0   99687.0   986830     -0.16\n",
       "3     06-01-17   99529.0  100082.0  100793.0   99529.0  1650000     -0.55\n",
       "4     09-01-17   99529.0  100082.0  100161.0   99529.0  1090000      0.00\n",
       "...        ...       ...       ...       ...       ...      ...       ...\n",
       "1736  14-12-23   68400.0   68400.0   68900.0   68200.0  1460000      0.29\n",
       "1737  15-12-23   68100.0   68500.0   68600.0   68100.0  3740000     -0.44\n",
       "1738  18-12-23   67000.0   68100.0   68200.0   67000.0  3510000     -1.62\n",
       "1739  19-12-23   67000.0   67100.0   67400.0   66300.0  3060000      0.00\n",
       "1740  20-12-23   68100.0   67000.0   68200.0   67000.0  2600000      1.64\n",
       "\n",
       "[1741 rows x 7 columns]"
      ]
     },
     "execution_count": 5,
     "metadata": {},
     "output_type": "execute_result"
    }
   ],
   "source": [
    "data = pd.read_csv(\"VNM_Historical_Data.csv\")\n",
    "data"
   ]
  },
  {
   "cell_type": "code",
   "execution_count": 7,
   "metadata": {
    "id": "Iq_PYQF3chos"
   },
   "outputs": [],
   "source": [
    "# 2. Gắn index với giá Close\n",
    "data1 = data.reset_index()['Close']"
   ]
  },
  {
   "cell_type": "code",
   "execution_count": 8,
   "metadata": {
    "id": "m--PgkdzcqGv"
   },
   "outputs": [],
   "source": [
    "# 3. Scaler data\n",
    "scaler=MinMaxScaler(feature_range=(0,1))\n",
    "data1=scaler.fit_transform(np.array(data1).reshape(-1,1))"
   ]
  },
  {
   "cell_type": "code",
   "execution_count": 9,
   "metadata": {
    "id": "nTZeGYTycuUs"
   },
   "outputs": [],
   "source": [
    "# 4. Chia train test theo tỉ lệ 6:3:1\n",
    "train_size = int(0.6 * len(data1))\n",
    "test_size = int(0.3 * len(data1))\n",
    "val_size = len(data1) - train_size - test_size\n",
    "\n",
    "train_data = data1[:train_size]\n",
    "test_data = data1[train_size:train_size+test_size]\n",
    "val_data = data1[train_size+test_size:]"
   ]
  },
  {
   "cell_type": "code",
   "execution_count": 10,
   "metadata": {
    "id": "p-BhISyMc4yA"
   },
   "outputs": [],
   "source": [
    "# 5. Hàm Create Dataset\n",
    "import numpy\n",
    "# convert an array of values into a dataset matrix\n",
    "def create_dataset(dataset, time_step=1):\n",
    "\tdataX, dataY = [], []\n",
    "\tfor i in range(len(dataset)-time_step-1):\n",
    "\t\ta = dataset[i:(i+time_step), 0]   ###i=0, X=0,1,2,3-----99   Y=100\n",
    "\t\tdataX.append(a)\n",
    "\t\tdataY.append(dataset[i + time_step, 0])\n",
    "\treturn numpy.array(dataX), numpy.array(dataY)"
   ]
  },
  {
   "cell_type": "code",
   "execution_count": 11,
   "metadata": {
    "id": "1ZCtxMxEdOxc"
   },
   "outputs": [],
   "source": [
    "#6. Reshape into X=t,t+1,t+2..t+99 and Y=t+100\n",
    "\n",
    "time_step = 100\n",
    "X_train, y_train = create_dataset(train_data, time_step)\n",
    "X_val, yval = create_dataset(val_data, time_step)\n",
    "X_test, ytest = create_dataset(test_data, time_step)"
   ]
  },
  {
   "cell_type": "code",
   "execution_count": 12,
   "metadata": {
    "id": "2BplvEa7dq9K"
   },
   "outputs": [],
   "source": [
    "# 7. Reshape input to be [samples, time steps, features] which is required for LSTM\n",
    "X_train =X_train.reshape(X_train.shape[0],X_train.shape[1] , 1)\n",
    "X_test = X_test.reshape(X_test.shape[0],X_test.shape[1] , 1)\n",
    "X_val = X_val.reshape(X_val.shape[0],X_val.shape[1] , 1)"
   ]
  },
  {
   "cell_type": "code",
   "execution_count": 13,
   "metadata": {
    "id": "nT3TMlTuhbW8"
   },
   "outputs": [
    {
     "name": "stdout",
     "output_type": "stream",
     "text": [
      "WARNING:tensorflow:From C:\\Users\\ngomi\\AppData\\Local\\Programs\\Python\\Python310\\lib\\site-packages\\keras\\src\\backend.py:873: The name tf.get_default_graph is deprecated. Please use tf.compat.v1.get_default_graph instead.\n",
      "\n",
      "WARNING:tensorflow:From C:\\Users\\ngomi\\AppData\\Local\\Programs\\Python\\Python310\\lib\\site-packages\\keras\\src\\optimizers\\__init__.py:309: The name tf.train.Optimizer is deprecated. Please use tf.compat.v1.train.Optimizer instead.\n",
      "\n"
     ]
    }
   ],
   "source": [
    "# 8. Define LSTM Model\n",
    "\n",
    "model=Sequential()\n",
    "model.add(LSTM(50,return_sequences=True,input_shape=(100,1)))\n",
    "model.add(LSTM(50,return_sequences=True))\n",
    "model.add(LSTM(50))\n",
    "model.add(Dense(1))\n",
    "model.compile(loss='mean_squared_error',optimizer='adam')"
   ]
  },
  {
   "cell_type": "code",
   "execution_count": 14,
   "metadata": {
    "colab": {
     "base_uri": "https://localhost:8080/"
    },
    "id": "WV9yjx9Che4h",
    "outputId": "4675cf80-ee21-4854-f731-65bd008d7107"
   },
   "outputs": [
    {
     "name": "stdout",
     "output_type": "stream",
     "text": [
      "Epoch 1/100\n",
      "WARNING:tensorflow:From C:\\Users\\ngomi\\AppData\\Local\\Programs\\Python\\Python310\\lib\\site-packages\\keras\\src\\utils\\tf_utils.py:492: The name tf.ragged.RaggedTensorValue is deprecated. Please use tf.compat.v1.ragged.RaggedTensorValue instead.\n",
      "\n",
      "15/15 [==============================] - 47s 785ms/step - loss: 0.0654 - val_loss: 0.0025\n",
      "Epoch 2/100\n",
      "15/15 [==============================] - 5s 311ms/step - loss: 0.0113 - val_loss: 0.0053\n",
      "Epoch 3/100\n",
      "15/15 [==============================] - 4s 299ms/step - loss: 0.0048 - val_loss: 0.0026\n",
      "Epoch 4/100\n",
      "15/15 [==============================] - 5s 308ms/step - loss: 0.0030 - val_loss: 6.5394e-04\n",
      "Epoch 5/100\n",
      "15/15 [==============================] - 5s 310ms/step - loss: 0.0027 - val_loss: 5.9538e-04\n",
      "Epoch 6/100\n",
      "15/15 [==============================] - 4s 276ms/step - loss: 0.0026 - val_loss: 6.5731e-04\n",
      "Epoch 7/100\n",
      "15/15 [==============================] - 5s 309ms/step - loss: 0.0026 - val_loss: 8.5853e-04\n",
      "Epoch 8/100\n",
      "15/15 [==============================] - 4s 288ms/step - loss: 0.0024 - val_loss: 0.0011\n",
      "Epoch 9/100\n",
      "15/15 [==============================] - 4s 278ms/step - loss: 0.0024 - val_loss: 8.6213e-04\n",
      "Epoch 10/100\n",
      "15/15 [==============================] - 4s 284ms/step - loss: 0.0022 - val_loss: 7.3111e-04\n",
      "Epoch 11/100\n",
      "15/15 [==============================] - 4s 261ms/step - loss: 0.0021 - val_loss: 8.1367e-04\n",
      "Epoch 12/100\n",
      "15/15 [==============================] - 5s 306ms/step - loss: 0.0022 - val_loss: 7.6104e-04\n",
      "Epoch 13/100\n",
      "15/15 [==============================] - 5s 320ms/step - loss: 0.0021 - val_loss: 5.9669e-04\n",
      "Epoch 14/100\n",
      "15/15 [==============================] - 4s 293ms/step - loss: 0.0021 - val_loss: 8.6750e-04\n",
      "Epoch 15/100\n",
      "15/15 [==============================] - 5s 318ms/step - loss: 0.0019 - val_loss: 6.2135e-04\n",
      "Epoch 16/100\n",
      "15/15 [==============================] - 5s 333ms/step - loss: 0.0019 - val_loss: 8.3914e-04\n",
      "Epoch 17/100\n",
      "15/15 [==============================] - 5s 325ms/step - loss: 0.0020 - val_loss: 6.5280e-04\n",
      "Epoch 18/100\n",
      "15/15 [==============================] - 5s 307ms/step - loss: 0.0021 - val_loss: 7.3720e-04\n",
      "Epoch 19/100\n",
      "15/15 [==============================] - 4s 279ms/step - loss: 0.0022 - val_loss: 7.0456e-04\n",
      "Epoch 20/100\n",
      "15/15 [==============================] - 5s 344ms/step - loss: 0.0019 - val_loss: 4.8118e-04\n",
      "Epoch 21/100\n",
      "15/15 [==============================] - 5s 327ms/step - loss: 0.0019 - val_loss: 6.2554e-04\n",
      "Epoch 22/100\n",
      "15/15 [==============================] - 5s 372ms/step - loss: 0.0018 - val_loss: 7.6240e-04\n",
      "Epoch 23/100\n",
      "15/15 [==============================] - 5s 317ms/step - loss: 0.0017 - val_loss: 5.1578e-04\n",
      "Epoch 24/100\n",
      "15/15 [==============================] - 4s 284ms/step - loss: 0.0017 - val_loss: 6.9058e-04\n",
      "Epoch 25/100\n",
      "15/15 [==============================] - 4s 282ms/step - loss: 0.0017 - val_loss: 7.8995e-04\n",
      "Epoch 26/100\n",
      "15/15 [==============================] - 4s 274ms/step - loss: 0.0017 - val_loss: 6.5137e-04\n",
      "Epoch 27/100\n",
      "15/15 [==============================] - 4s 294ms/step - loss: 0.0016 - val_loss: 4.5996e-04\n",
      "Epoch 28/100\n",
      "15/15 [==============================] - 5s 313ms/step - loss: 0.0017 - val_loss: 5.7864e-04\n",
      "Epoch 29/100\n",
      "15/15 [==============================] - 4s 273ms/step - loss: 0.0017 - val_loss: 8.1967e-04\n",
      "Epoch 30/100\n",
      "15/15 [==============================] - 5s 311ms/step - loss: 0.0017 - val_loss: 6.7142e-04\n",
      "Epoch 31/100\n",
      "15/15 [==============================] - 4s 248ms/step - loss: 0.0017 - val_loss: 7.4121e-04\n",
      "Epoch 32/100\n",
      "15/15 [==============================] - 4s 254ms/step - loss: 0.0016 - val_loss: 5.6947e-04\n",
      "Epoch 33/100\n",
      "15/15 [==============================] - 5s 323ms/step - loss: 0.0016 - val_loss: 5.1732e-04\n",
      "Epoch 34/100\n",
      "15/15 [==============================] - 4s 267ms/step - loss: 0.0015 - val_loss: 4.5285e-04\n",
      "Epoch 35/100\n",
      "15/15 [==============================] - 4s 281ms/step - loss: 0.0014 - val_loss: 5.3036e-04\n",
      "Epoch 36/100\n",
      "15/15 [==============================] - 4s 295ms/step - loss: 0.0014 - val_loss: 4.9439e-04\n",
      "Epoch 37/100\n",
      "15/15 [==============================] - 3s 197ms/step - loss: 0.0015 - val_loss: 5.9986e-04\n",
      "Epoch 38/100\n",
      "15/15 [==============================] - 3s 183ms/step - loss: 0.0014 - val_loss: 6.6221e-04\n",
      "Epoch 39/100\n",
      "15/15 [==============================] - 3s 181ms/step - loss: 0.0014 - val_loss: 4.7869e-04\n",
      "Epoch 40/100\n",
      "15/15 [==============================] - 4s 261ms/step - loss: 0.0015 - val_loss: 6.8982e-04\n",
      "Epoch 41/100\n",
      "15/15 [==============================] - 3s 199ms/step - loss: 0.0014 - val_loss: 7.1175e-04\n",
      "Epoch 42/100\n",
      "15/15 [==============================] - 2s 158ms/step - loss: 0.0013 - val_loss: 5.5469e-04\n",
      "Epoch 43/100\n",
      "15/15 [==============================] - 2s 164ms/step - loss: 0.0012 - val_loss: 6.1751e-04\n",
      "Epoch 44/100\n",
      "15/15 [==============================] - 2s 167ms/step - loss: 0.0011 - val_loss: 4.7953e-04\n",
      "Epoch 45/100\n",
      "15/15 [==============================] - 2s 165ms/step - loss: 0.0011 - val_loss: 4.2051e-04\n",
      "Epoch 46/100\n",
      "15/15 [==============================] - 2s 160ms/step - loss: 0.0011 - val_loss: 3.7672e-04\n",
      "Epoch 47/100\n",
      "15/15 [==============================] - 2s 164ms/step - loss: 0.0012 - val_loss: 3.3055e-04\n",
      "Epoch 48/100\n",
      "15/15 [==============================] - 2s 156ms/step - loss: 0.0014 - val_loss: 3.7439e-04\n",
      "Epoch 49/100\n",
      "15/15 [==============================] - 2s 154ms/step - loss: 0.0013 - val_loss: 3.5727e-04\n",
      "Epoch 50/100\n",
      "15/15 [==============================] - 2s 153ms/step - loss: 0.0012 - val_loss: 4.0163e-04\n",
      "Epoch 51/100\n",
      "15/15 [==============================] - 2s 154ms/step - loss: 0.0011 - val_loss: 3.3845e-04\n",
      "Epoch 52/100\n",
      "15/15 [==============================] - 3s 170ms/step - loss: 0.0011 - val_loss: 3.3003e-04\n",
      "Epoch 53/100\n",
      "15/15 [==============================] - 3s 169ms/step - loss: 0.0011 - val_loss: 3.3529e-04\n",
      "Epoch 54/100\n",
      "15/15 [==============================] - 2s 159ms/step - loss: 0.0010 - val_loss: 3.7092e-04\n",
      "Epoch 55/100\n",
      "15/15 [==============================] - 3s 170ms/step - loss: 8.9569e-04 - val_loss: 3.6760e-04\n",
      "Epoch 56/100\n",
      "15/15 [==============================] - 3s 179ms/step - loss: 8.8446e-04 - val_loss: 4.4240e-04\n",
      "Epoch 57/100\n",
      "15/15 [==============================] - 3s 174ms/step - loss: 8.6961e-04 - val_loss: 3.8197e-04\n",
      "Epoch 58/100\n",
      "15/15 [==============================] - 2s 157ms/step - loss: 9.6203e-04 - val_loss: 5.0372e-04\n",
      "Epoch 59/100\n",
      "15/15 [==============================] - 2s 153ms/step - loss: 9.5375e-04 - val_loss: 4.9708e-04\n",
      "Epoch 60/100\n",
      "15/15 [==============================] - 3s 184ms/step - loss: 8.8412e-04 - val_loss: 3.5711e-04\n",
      "Epoch 61/100\n",
      "15/15 [==============================] - 2s 162ms/step - loss: 8.5800e-04 - val_loss: 4.1629e-04\n",
      "Epoch 62/100\n",
      "15/15 [==============================] - 3s 170ms/step - loss: 8.1157e-04 - val_loss: 4.3353e-04\n",
      "Epoch 63/100\n",
      "15/15 [==============================] - 2s 168ms/step - loss: 7.8764e-04 - val_loss: 3.7006e-04\n",
      "Epoch 64/100\n",
      "15/15 [==============================] - 3s 179ms/step - loss: 7.7571e-04 - val_loss: 3.3402e-04\n",
      "Epoch 65/100\n",
      "15/15 [==============================] - 2s 154ms/step - loss: 7.8730e-04 - val_loss: 3.6638e-04\n",
      "Epoch 66/100\n",
      "15/15 [==============================] - 3s 180ms/step - loss: 8.0034e-04 - val_loss: 3.5751e-04\n",
      "Epoch 67/100\n",
      "15/15 [==============================] - 2s 150ms/step - loss: 7.6642e-04 - val_loss: 3.4724e-04\n",
      "Epoch 68/100\n",
      "15/15 [==============================] - 3s 192ms/step - loss: 7.4548e-04 - val_loss: 3.3145e-04\n",
      "Epoch 69/100\n",
      "15/15 [==============================] - 3s 213ms/step - loss: 7.9748e-04 - val_loss: 5.2096e-04\n",
      "Epoch 70/100\n",
      "15/15 [==============================] - 3s 171ms/step - loss: 8.1495e-04 - val_loss: 3.8832e-04\n",
      "Epoch 71/100\n",
      "15/15 [==============================] - 2s 156ms/step - loss: 7.2861e-04 - val_loss: 3.5845e-04\n",
      "Epoch 72/100\n",
      "15/15 [==============================] - 2s 153ms/step - loss: 7.2682e-04 - val_loss: 5.0703e-04\n",
      "Epoch 73/100\n",
      "15/15 [==============================] - 2s 159ms/step - loss: 7.4393e-04 - val_loss: 4.2093e-04\n",
      "Epoch 74/100\n",
      "15/15 [==============================] - 2s 151ms/step - loss: 6.9225e-04 - val_loss: 3.5912e-04\n",
      "Epoch 75/100\n",
      "15/15 [==============================] - 2s 155ms/step - loss: 6.9291e-04 - val_loss: 3.8786e-04\n",
      "Epoch 76/100\n",
      "15/15 [==============================] - 2s 156ms/step - loss: 6.8110e-04 - val_loss: 3.6644e-04\n",
      "Epoch 77/100\n",
      "15/15 [==============================] - 2s 159ms/step - loss: 6.7253e-04 - val_loss: 4.5048e-04\n",
      "Epoch 78/100\n",
      "15/15 [==============================] - 2s 147ms/step - loss: 7.8549e-04 - val_loss: 2.5627e-04\n",
      "Epoch 79/100\n",
      "15/15 [==============================] - 2s 150ms/step - loss: 9.2439e-04 - val_loss: 3.3200e-04\n",
      "Epoch 80/100\n",
      "15/15 [==============================] - 3s 171ms/step - loss: 6.8544e-04 - val_loss: 2.8229e-04\n",
      "Epoch 81/100\n",
      "15/15 [==============================] - 3s 196ms/step - loss: 9.6961e-04 - val_loss: 3.6714e-04\n",
      "Epoch 82/100\n",
      "15/15 [==============================] - 3s 166ms/step - loss: 8.5757e-04 - val_loss: 4.1886e-04\n",
      "Epoch 83/100\n",
      "15/15 [==============================] - 3s 188ms/step - loss: 8.6863e-04 - val_loss: 2.9104e-04\n",
      "Epoch 84/100\n",
      "15/15 [==============================] - 2s 167ms/step - loss: 8.5602e-04 - val_loss: 3.5381e-04\n",
      "Epoch 85/100\n",
      "15/15 [==============================] - 2s 161ms/step - loss: 7.5316e-04 - val_loss: 2.7221e-04\n",
      "Epoch 86/100\n",
      "15/15 [==============================] - 2s 163ms/step - loss: 6.9070e-04 - val_loss: 2.5489e-04\n",
      "Epoch 87/100\n",
      "15/15 [==============================] - 3s 172ms/step - loss: 6.1895e-04 - val_loss: 3.7713e-04\n",
      "Epoch 88/100\n",
      "15/15 [==============================] - 3s 175ms/step - loss: 6.0820e-04 - val_loss: 4.3863e-04\n",
      "Epoch 89/100\n",
      "15/15 [==============================] - 3s 185ms/step - loss: 6.4633e-04 - val_loss: 4.0929e-04\n",
      "Epoch 90/100\n",
      "15/15 [==============================] - 2s 152ms/step - loss: 5.8615e-04 - val_loss: 2.7127e-04\n",
      "Epoch 91/100\n",
      "15/15 [==============================] - 3s 192ms/step - loss: 5.7299e-04 - val_loss: 3.3888e-04\n",
      "Epoch 92/100\n",
      "15/15 [==============================] - 2s 159ms/step - loss: 5.7956e-04 - val_loss: 3.8200e-04\n",
      "Epoch 93/100\n",
      "15/15 [==============================] - 3s 176ms/step - loss: 6.0367e-04 - val_loss: 2.6218e-04\n",
      "Epoch 94/100\n",
      "15/15 [==============================] - 2s 149ms/step - loss: 6.6493e-04 - val_loss: 2.4534e-04\n",
      "Epoch 95/100\n",
      "15/15 [==============================] - 2s 166ms/step - loss: 5.4503e-04 - val_loss: 4.3718e-04\n",
      "Epoch 96/100\n",
      "15/15 [==============================] - 2s 157ms/step - loss: 6.7296e-04 - val_loss: 2.7186e-04\n",
      "Epoch 97/100\n",
      "15/15 [==============================] - 3s 169ms/step - loss: 5.5398e-04 - val_loss: 2.6001e-04\n",
      "Epoch 98/100\n",
      "15/15 [==============================] - 3s 194ms/step - loss: 5.3734e-04 - val_loss: 3.2243e-04\n",
      "Epoch 99/100\n",
      "15/15 [==============================] - 2s 166ms/step - loss: 5.3336e-04 - val_loss: 3.4616e-04\n",
      "Epoch 100/100\n",
      "15/15 [==============================] - 2s 163ms/step - loss: 5.6132e-04 - val_loss: 2.0475e-04\n"
     ]
    },
    {
     "data": {
      "text/plain": [
       "<keras.src.callbacks.History at 0x1624b488880>"
      ]
     },
     "execution_count": 14,
     "metadata": {},
     "output_type": "execute_result"
    }
   ],
   "source": [
    "# 9. Fit mô hình với dữ liệu train\n",
    "model.fit(X_train,y_train,validation_data=(X_test,ytest),epochs=100,batch_size=64,verbose=1)"
   ]
  },
  {
   "cell_type": "code",
   "execution_count": 15,
   "metadata": {
    "colab": {
     "base_uri": "https://localhost:8080/"
    },
    "id": "BfDOneTviUI0",
    "outputId": "71f52cff-747d-432e-8b1b-6499705ffcc2"
   },
   "outputs": [
    {
     "name": "stdout",
     "output_type": "stream",
     "text": [
      "30/30 [==============================] - 3s 36ms/step\n",
      "14/14 [==============================] - 1s 36ms/step\n",
      "3/3 [==============================] - 0s 36ms/step\n"
     ]
    }
   ],
   "source": [
    "# 10. Dự báo dữ liệu test, val\n",
    "train_predict=model.predict(X_train)\n",
    "y_pred=model.predict(X_test)\n",
    "y_pred_val=model.predict(X_val)"
   ]
  },
  {
   "cell_type": "code",
   "execution_count": 16,
   "metadata": {
    "id": "wEkfyFmNiWS7"
   },
   "outputs": [],
   "source": [
    "# 11. Chuẩn hóa dữ liệu y_pred, y_pred_val\n",
    "train_predict=scaler.inverse_transform(train_predict)\n",
    "y_pred=scaler.inverse_transform(y_pred)\n",
    "y_pred_val=scaler.inverse_transform(y_pred_val)"
   ]
  },
  {
   "cell_type": "code",
   "execution_count": 17,
   "metadata": {
    "colab": {
     "base_uri": "https://localhost:8080/"
    },
    "id": "5UZyMhHPiZRF",
    "outputId": "0542386e-3e46-4ee6-96c7-53bce48e2dd2"
   },
   "outputs": [
    {
     "name": "stdout",
     "output_type": "stream",
     "text": [
      "Validation RMSE: 73437.57154083379\n",
      "Testing RMSE: 76534.64122729105\n"
     ]
    }
   ],
   "source": [
    "# 12. Đánh giá độ chính xác thuật toán bằng RMSE\n",
    "valid_rmse = np.sqrt(np.mean((y_pred_val - yval)**2))\n",
    "test_rmse = np.sqrt(np.mean((y_pred - ytest)**2))\n",
    "print('Validation RMSE:', valid_rmse)\n",
    "print('Testing RMSE:', test_rmse)"
   ]
  },
  {
   "cell_type": "code",
   "execution_count": 18,
   "metadata": {
    "colab": {
     "base_uri": "https://localhost:8080/"
    },
    "id": "eiwmnwbJnKQA",
    "outputId": "5405b396-4ac1-4c60-b8db-220479cc273c"
   },
   "outputs": [
    {
     "name": "stdout",
     "output_type": "stream",
     "text": [
      "Validation MAE: 73349.56637286382\n",
      "Testing MAE: 76403.5983838686\n"
     ]
    }
   ],
   "source": [
    "# Đánh giá độ chính xác thuật toán bằng MAE\n",
    "valid_mae = np.mean(np.abs(y_pred_val - yval))\n",
    "test_mae = np.mean(np.abs(y_pred - ytest))\n",
    "print('Validation MAE:', valid_mae)\n",
    "print('Testing MAE:', test_mae)"
   ]
  },
  {
   "cell_type": "code",
   "execution_count": 19,
   "metadata": {
    "colab": {
     "base_uri": "https://localhost:8080/"
    },
    "id": "Te05uf2anmVC",
    "outputId": "5a8c882d-6b76-47af-9999-71aa6eede194"
   },
   "outputs": [
    {
     "name": "stdout",
     "output_type": "stream",
     "text": [
      "Validation MAPE: 87309465.34014624\n",
      "Testing MAPE: inf\n"
     ]
    },
    {
     "name": "stderr",
     "output_type": "stream",
     "text": [
      "C:\\Users\\ngomi\\AppData\\Local\\Temp\\ipykernel_14228\\77519784.py:3: RuntimeWarning: divide by zero encountered in divide\n",
      "  test_mape = np.mean(np.abs((y_pred - ytest) / ytest)) * 100\n"
     ]
    }
   ],
   "source": [
    "# Đánh giá độ chính xác thuật toán bằng MAPE\n",
    "valid_mape = np.mean(np.abs((y_pred_val - yval) / yval)) * 100\n",
    "test_mape = np.mean(np.abs((y_pred - ytest) / ytest)) * 100\n",
    "print('Validation MAPE:', valid_mape)\n",
    "print('Testing MAPE:', test_mape)"
   ]
  },
  {
   "cell_type": "code",
   "execution_count": 20,
   "metadata": {
    "colab": {
     "base_uri": "https://localhost:8080/"
    },
    "id": "eINDGpclibM2",
    "outputId": "4608403d-48bd-4130-bbf8-6ecb5edc3b4d"
   },
   "outputs": [
    {
     "name": "stdout",
     "output_type": "stream",
     "text": [
      "0 day input [0.10706897 0.10356996 0.10531946 0.09657193 0.09744668 0.09919619\n",
      " 0.09919619 0.10706897 0.10794373 0.11581651 0.12019028 0.12631355\n",
      " 0.14118436 0.14643289 0.12893781 0.12981257 0.09919619 0.1026952\n",
      " 0.11931552 0.11581651 0.10356996 0.10356996 0.10706897 0.10619422\n",
      " 0.1009457  0.10356996 0.10794373 0.10531946 0.10182045 0.10007094\n",
      " 0.10706897 0.11756602 0.11931552 0.14555813 0.14118436 0.14468338\n",
      " 0.14468338 0.16480271 0.16392796 0.15955419 0.16392796 0.15955419\n",
      " 0.16655222 0.15605518 0.15867944 0.15955419 0.15430567 0.15430567\n",
      " 0.14905715 0.14643289 0.14205912 0.14293387 0.12981257 0.13418633\n",
      " 0.11844077 0.11319225 0.1254388  0.11144274 0.11494175 0.10007094\n",
      " 0.11319225 0.10881848 0.11494175 0.11494175 0.12456404 0.12718831\n",
      " 0.12193978 0.11844077 0.11056799 0.08869915 0.09657193 0.0782021\n",
      " 0.07907685 0.06770506 0.05020998 0.05895752 0.05545851 0.05895752\n",
      " 0.07995161 0.08432538 0.07645259 0.08520013 0.08345062 0.08869915\n",
      " 0.08257587 0.07295358 0.0650808  0.0668303  0.08257587 0.07907685\n",
      " 0.07645259 0.07032932 0.07207883 0.07120407 0.0650808  0.06158178\n",
      " 0.05983227 0.06333129 0.06245654 0.053709   0.06245654 0.06595555\n",
      " 0.05983227 0.06333129 0.06245654 0.06770506 0.07645259 0.07120407\n",
      " 0.06070703 0.06245654 0.05983227 0.05020998 0.05020998 0.05983227]\n"
     ]
    },
    {
     "ename": "ValueError",
     "evalue": "cannot reshape array of size 114 into shape (1,138,1)",
     "output_type": "error",
     "traceback": [
      "\u001b[1;31m---------------------------------------------------------------------------\u001b[0m",
      "\u001b[1;31mValueError\u001b[0m                                Traceback (most recent call last)",
      "Cell \u001b[1;32mIn[20], line 20\u001b[0m\n\u001b[0;32m     18\u001b[0m \u001b[38;5;28mprint\u001b[39m(\u001b[38;5;124m\"\u001b[39m\u001b[38;5;132;01m{}\u001b[39;00m\u001b[38;5;124m day input \u001b[39m\u001b[38;5;132;01m{}\u001b[39;00m\u001b[38;5;124m\"\u001b[39m\u001b[38;5;241m.\u001b[39mformat(i,x_input))\n\u001b[0;32m     19\u001b[0m x_input\u001b[38;5;241m=\u001b[39mx_input\u001b[38;5;241m.\u001b[39mreshape(\u001b[38;5;241m1\u001b[39m,\u001b[38;5;241m-\u001b[39m\u001b[38;5;241m1\u001b[39m)\n\u001b[1;32m---> 20\u001b[0m x_input \u001b[38;5;241m=\u001b[39m \u001b[43mx_input\u001b[49m\u001b[38;5;241;43m.\u001b[39;49m\u001b[43mreshape\u001b[49m\u001b[43m(\u001b[49m\u001b[43m(\u001b[49m\u001b[38;5;241;43m1\u001b[39;49m\u001b[43m,\u001b[49m\u001b[43m \u001b[49m\u001b[43mn_steps\u001b[49m\u001b[43m,\u001b[49m\u001b[43m \u001b[49m\u001b[38;5;241;43m1\u001b[39;49m\u001b[43m)\u001b[49m\u001b[43m)\u001b[49m\n\u001b[0;32m     21\u001b[0m \u001b[38;5;66;03m#print(x_input)\u001b[39;00m\n\u001b[0;32m     22\u001b[0m yhat \u001b[38;5;241m=\u001b[39m model\u001b[38;5;241m.\u001b[39mpredict(x_input, verbose\u001b[38;5;241m=\u001b[39m\u001b[38;5;241m0\u001b[39m)\n",
      "\u001b[1;31mValueError\u001b[0m: cannot reshape array of size 114 into shape (1,138,1)"
     ]
    }
   ],
   "source": [
    "# 13. Dự báo 30 ngày tiếp theo\n",
    "x_input=val_data[60:].reshape(1,-1)\n",
    "x_input.shape\n",
    "\n",
    "temp_input=list(x_input)\n",
    "temp_input=temp_input[0].tolist()\n",
    "\n",
    "from numpy import array\n",
    "\n",
    "lst_output=[]\n",
    "n_steps=138\n",
    "i=0\n",
    "while(i<30):\n",
    "\n",
    "    if(len(temp_input)>100):\n",
    "        #print(temp_input)\n",
    "        x_input=np.array(temp_input[1:])\n",
    "        print(\"{} day input {}\".format(i,x_input))\n",
    "        x_input=x_input.reshape(1,-1)\n",
    "        x_input = x_input.reshape((1, n_steps, 1))\n",
    "        #print(x_input)\n",
    "        yhat = model.predict(x_input, verbose=0)\n",
    "        print(\"{} day output {}\".format(i,yhat))\n",
    "        temp_input.extend(yhat[0].tolist())\n",
    "        temp_input=temp_input[1:]\n",
    "        #print(temp_input)\n",
    "        lst_output.extend(yhat.tolist())\n",
    "        i=i+1\n",
    "    else:\n",
    "        x_input = x_input.reshape((1, n_steps,1))\n",
    "        yhat = model.predict(x_input, verbose=0)\n",
    "        print(yhat[0])\n",
    "        temp_input.extend(yhat[0].tolist())\n",
    "        print(len(temp_input))\n",
    "        lst_output.extend(yhat.tolist())\n",
    "        i=i+1"
   ]
  },
  {
   "cell_type": "code",
   "execution_count": null,
   "metadata": {
    "colab": {
     "base_uri": "https://localhost:8080/"
    },
    "id": "MM61LuEZi5zy",
    "outputId": "3d302c60-b757-48b1-f932-b5555a68543d"
   },
   "outputs": [],
   "source": [
    "# 14. Kết quả dự báo 30 ngày tiếp theo\n",
    "y_future = scaler.inverse_transform(lst_output)\n",
    "y_future"
   ]
  },
  {
   "cell_type": "code",
   "execution_count": null,
   "metadata": {
    "colab": {
     "base_uri": "https://localhost:8080/",
     "height": 432
    },
    "id": "fqnGXk4ti4W1",
    "outputId": "b735f728-6bb7-4233-c2ba-ad76972883c7"
   },
   "outputs": [],
   "source": [
    "# 15.Vẽ hình\n",
    "\n",
    "train_data_index = pd.RangeIndex(start=0, stop=train_size, step=1)\n",
    "plt.plot(scaler.inverse_transform(train_data))\n",
    "test_data_index = pd.RangeIndex(start=train_size, stop=train_size+test_size, step=1)\n",
    "plt.plot(test_data_index,scaler.inverse_transform(test_data))\n",
    "test_data_index = pd.RangeIndex(start=train_size+101, stop=train_size+test_size, step=1)\n",
    "plt.plot(test_data_index,(y_pred))\n",
    "val_data_index = pd.RangeIndex(start=train_size+test_size, stop=train_size+test_size+val_size, step=1)\n",
    "plt.plot(val_data_index,scaler.inverse_transform(val_data))\n",
    "val_data_index = pd.RangeIndex(start=train_size+test_size+101, stop=train_size+test_size+val_size, step=1)\n",
    "plt.plot(val_data_index,y_pred_val)\n",
    "prediect_data_index = pd.RangeIndex(start=len(data1)-1, stop=len(data1)+29, step=1)\n",
    "plt.plot(prediect_data_index,scaler.inverse_transform(lst_output))\n",
    "plt.legend(['Train','Test','Predict','Validate','ValidatePred','Predict30days'])\n",
    "plt.show()"
   ]
  },
  {
   "cell_type": "code",
   "execution_count": null,
   "metadata": {},
   "outputs": [],
   "source": []
  }
 ],
 "metadata": {
  "colab": {
   "provenance": []
  },
  "kernelspec": {
   "display_name": "Python 3 (ipykernel)",
   "language": "python",
   "name": "python3"
  },
  "language_info": {
   "codemirror_mode": {
    "name": "ipython",
    "version": 3
   },
   "file_extension": ".py",
   "mimetype": "text/x-python",
   "name": "python",
   "nbconvert_exporter": "python",
   "pygments_lexer": "ipython3",
   "version": "3.10.4"
  }
 },
 "nbformat": 4,
 "nbformat_minor": 4
}
