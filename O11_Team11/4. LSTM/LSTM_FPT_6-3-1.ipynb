{
 "cells": [
  {
   "cell_type": "code",
   "execution_count": 1,
   "metadata": {
    "colab": {
     "base_uri": "https://localhost:8080/",
     "height": 73
    },
    "id": "s3EiLvGmcAEl",
    "outputId": "eaf750b0-6392-4227-e0a1-a1a8a6be7a7a"
   },
   "outputs": [
    {
     "name": "stdout",
     "output_type": "stream",
     "text": [
      "WARNING:tensorflow:From C:\\Users\\ngomi\\AppData\\Local\\Programs\\Python\\Python310\\lib\\site-packages\\keras\\src\\losses.py:2976: The name tf.losses.sparse_softmax_cross_entropy is deprecated. Please use tf.compat.v1.losses.sparse_softmax_cross_entropy instead.\n",
      "\n"
     ]
    }
   ],
   "source": [
    "# 1. Import thư viện cần thiết\n",
    "import numpy as np\n",
    "import pandas as pd\n",
    "import matplotlib.pyplot as plt\n",
    "from sklearn.preprocessing import MinMaxScaler\n",
    "from keras.models import Sequential\n",
    "from keras.layers import Dense, LSTM"
   ]
  },
  {
   "cell_type": "code",
   "execution_count": 2,
   "metadata": {
    "colab": {
     "base_uri": "https://localhost:8080/",
     "height": 423
    },
    "id": "VGFGSX5RcbO2",
    "outputId": "7757ba32-91fd-41f9-f4a8-17436ab679f3"
   },
   "outputs": [
    {
     "data": {
      "text/html": [
       "<div>\n",
       "<style scoped>\n",
       "    .dataframe tbody tr th:only-of-type {\n",
       "        vertical-align: middle;\n",
       "    }\n",
       "\n",
       "    .dataframe tbody tr th {\n",
       "        vertical-align: top;\n",
       "    }\n",
       "\n",
       "    .dataframe thead th {\n",
       "        text-align: right;\n",
       "    }\n",
       "</style>\n",
       "<table border=\"1\" class=\"dataframe\">\n",
       "  <thead>\n",
       "    <tr style=\"text-align: right;\">\n",
       "      <th></th>\n",
       "      <th>Date</th>\n",
       "      <th>Close</th>\n",
       "      <th>Open</th>\n",
       "      <th>High</th>\n",
       "      <th>Low</th>\n",
       "      <th>Vol.</th>\n",
       "      <th>Change %</th>\n",
       "    </tr>\n",
       "  </thead>\n",
       "  <tbody>\n",
       "    <tr>\n",
       "      <th>0</th>\n",
       "      <td>03-01-17</td>\n",
       "      <td>16158.2</td>\n",
       "      <td>15960.1</td>\n",
       "      <td>16194.3</td>\n",
       "      <td>15960.1</td>\n",
       "      <td>2.34M</td>\n",
       "      <td>1.93%</td>\n",
       "    </tr>\n",
       "    <tr>\n",
       "      <th>1</th>\n",
       "      <td>04-01-17</td>\n",
       "      <td>16302.3</td>\n",
       "      <td>16140.2</td>\n",
       "      <td>16464.5</td>\n",
       "      <td>16104.2</td>\n",
       "      <td>2.36M</td>\n",
       "      <td>0.89%</td>\n",
       "    </tr>\n",
       "    <tr>\n",
       "      <th>2</th>\n",
       "      <td>05-01-17</td>\n",
       "      <td>16248.3</td>\n",
       "      <td>16284.3</td>\n",
       "      <td>16356.4</td>\n",
       "      <td>16248.3</td>\n",
       "      <td>1.42M</td>\n",
       "      <td>-0.33%</td>\n",
       "    </tr>\n",
       "    <tr>\n",
       "      <th>3</th>\n",
       "      <td>06-01-17</td>\n",
       "      <td>16194.3</td>\n",
       "      <td>16284.3</td>\n",
       "      <td>16392.4</td>\n",
       "      <td>16194.3</td>\n",
       "      <td>1.85M</td>\n",
       "      <td>-0.33%</td>\n",
       "    </tr>\n",
       "    <tr>\n",
       "      <th>4</th>\n",
       "      <td>09-01-17</td>\n",
       "      <td>16284.3</td>\n",
       "      <td>16230.3</td>\n",
       "      <td>16356.4</td>\n",
       "      <td>16176.2</td>\n",
       "      <td>1.16M</td>\n",
       "      <td>0.56%</td>\n",
       "    </tr>\n",
       "    <tr>\n",
       "      <th>...</th>\n",
       "      <td>...</td>\n",
       "      <td>...</td>\n",
       "      <td>...</td>\n",
       "      <td>...</td>\n",
       "      <td>...</td>\n",
       "      <td>...</td>\n",
       "      <td>...</td>\n",
       "    </tr>\n",
       "    <tr>\n",
       "      <th>1736</th>\n",
       "      <td>14-12-23</td>\n",
       "      <td>96200.0</td>\n",
       "      <td>95800.0</td>\n",
       "      <td>96400.0</td>\n",
       "      <td>95200.0</td>\n",
       "      <td>1.71M</td>\n",
       "      <td>1.05%</td>\n",
       "    </tr>\n",
       "    <tr>\n",
       "      <th>1737</th>\n",
       "      <td>15-12-23</td>\n",
       "      <td>96200.0</td>\n",
       "      <td>96200.0</td>\n",
       "      <td>96300.0</td>\n",
       "      <td>95000.0</td>\n",
       "      <td>1.47M</td>\n",
       "      <td>0.00%</td>\n",
       "    </tr>\n",
       "    <tr>\n",
       "      <th>1738</th>\n",
       "      <td>18-12-23</td>\n",
       "      <td>94000.0</td>\n",
       "      <td>95900.0</td>\n",
       "      <td>96200.0</td>\n",
       "      <td>93700.0</td>\n",
       "      <td>2.27M</td>\n",
       "      <td>-2.29%</td>\n",
       "    </tr>\n",
       "    <tr>\n",
       "      <th>1739</th>\n",
       "      <td>19-12-23</td>\n",
       "      <td>94600.0</td>\n",
       "      <td>93900.0</td>\n",
       "      <td>94600.0</td>\n",
       "      <td>93600.0</td>\n",
       "      <td>1.25M</td>\n",
       "      <td>0.64%</td>\n",
       "    </tr>\n",
       "    <tr>\n",
       "      <th>1740</th>\n",
       "      <td>20-12-23</td>\n",
       "      <td>94700.0</td>\n",
       "      <td>94300.0</td>\n",
       "      <td>95000.0</td>\n",
       "      <td>94100.0</td>\n",
       "      <td>1.35M</td>\n",
       "      <td>0.11%</td>\n",
       "    </tr>\n",
       "  </tbody>\n",
       "</table>\n",
       "<p>1741 rows × 7 columns</p>\n",
       "</div>"
      ],
      "text/plain": [
       "          Date    Close     Open     High      Low   Vol. Change %\n",
       "0     03-01-17  16158.2  15960.1  16194.3  15960.1  2.34M    1.93%\n",
       "1     04-01-17  16302.3  16140.2  16464.5  16104.2  2.36M    0.89%\n",
       "2     05-01-17  16248.3  16284.3  16356.4  16248.3  1.42M   -0.33%\n",
       "3     06-01-17  16194.3  16284.3  16392.4  16194.3  1.85M   -0.33%\n",
       "4     09-01-17  16284.3  16230.3  16356.4  16176.2  1.16M    0.56%\n",
       "...        ...      ...      ...      ...      ...    ...      ...\n",
       "1736  14-12-23  96200.0  95800.0  96400.0  95200.0  1.71M    1.05%\n",
       "1737  15-12-23  96200.0  96200.0  96300.0  95000.0  1.47M    0.00%\n",
       "1738  18-12-23  94000.0  95900.0  96200.0  93700.0  2.27M   -2.29%\n",
       "1739  19-12-23  94600.0  93900.0  94600.0  93600.0  1.25M    0.64%\n",
       "1740  20-12-23  94700.0  94300.0  95000.0  94100.0  1.35M    0.11%\n",
       "\n",
       "[1741 rows x 7 columns]"
      ]
     },
     "execution_count": 2,
     "metadata": {},
     "output_type": "execute_result"
    }
   ],
   "source": [
    "data = pd.read_csv(\"FPT_Historical_Data.csv\")\n",
    "data"
   ]
  },
  {
   "cell_type": "code",
   "execution_count": 3,
   "metadata": {
    "id": "Iq_PYQF3chos"
   },
   "outputs": [],
   "source": [
    "# 2. Gắn index với giá Close\n",
    "data1 = data.reset_index()['Close']"
   ]
  },
  {
   "cell_type": "code",
   "execution_count": 4,
   "metadata": {
    "id": "m--PgkdzcqGv"
   },
   "outputs": [],
   "source": [
    "# 3. Scaler data\n",
    "scaler=MinMaxScaler(feature_range=(0,1))\n",
    "data1=scaler.fit_transform(np.array(data1).reshape(-1,1))"
   ]
  },
  {
   "cell_type": "code",
   "execution_count": 5,
   "metadata": {
    "id": "nTZeGYTycuUs"
   },
   "outputs": [],
   "source": [
    "# 4. Chia train test theo tỉ lệ 6:3:1\n",
    "train_size = int(0.6 * len(data1))\n",
    "test_size = int(0.3 * len(data1))\n",
    "val_size = len(data1) - train_size - test_size\n",
    "\n",
    "train_data = data1[:train_size]\n",
    "test_data = data1[train_size:train_size+test_size]\n",
    "val_data = data1[train_size+test_size:]"
   ]
  },
  {
   "cell_type": "code",
   "execution_count": 6,
   "metadata": {
    "id": "p-BhISyMc4yA"
   },
   "outputs": [],
   "source": [
    "# 5. Hàm Create Dataset\n",
    "import numpy\n",
    "# convert an array of values into a dataset matrix\n",
    "def create_dataset(dataset, time_step=1):\n",
    "\tdataX, dataY = [], []\n",
    "\tfor i in range(len(dataset)-time_step-1):\n",
    "\t\ta = dataset[i:(i+time_step), 0]   ###i=0, X=0,1,2,3-----99   Y=100\n",
    "\t\tdataX.append(a)\n",
    "\t\tdataY.append(dataset[i + time_step, 0])\n",
    "\treturn numpy.array(dataX), numpy.array(dataY)"
   ]
  },
  {
   "cell_type": "code",
   "execution_count": 7,
   "metadata": {
    "id": "1ZCtxMxEdOxc"
   },
   "outputs": [],
   "source": [
    "#6. Reshape into X=t,t+1,t+2..t+99 and Y=t+100\n",
    "\n",
    "time_step = 100\n",
    "X_train, y_train = create_dataset(train_data, time_step)\n",
    "X_val, yval = create_dataset(val_data, time_step)\n",
    "X_test, ytest = create_dataset(test_data, time_step)"
   ]
  },
  {
   "cell_type": "code",
   "execution_count": 8,
   "metadata": {
    "id": "2BplvEa7dq9K"
   },
   "outputs": [],
   "source": [
    "# 7. Reshape input to be [samples, time steps, features] which is required for LSTM\n",
    "X_train =X_train.reshape(X_train.shape[0],X_train.shape[1] , 1)\n",
    "X_test = X_test.reshape(X_test.shape[0],X_test.shape[1] , 1)\n",
    "X_val = X_val.reshape(X_val.shape[0],X_val.shape[1] , 1)"
   ]
  },
  {
   "cell_type": "code",
   "execution_count": 9,
   "metadata": {
    "id": "nT3TMlTuhbW8"
   },
   "outputs": [
    {
     "name": "stdout",
     "output_type": "stream",
     "text": [
      "WARNING:tensorflow:From C:\\Users\\ngomi\\AppData\\Local\\Programs\\Python\\Python310\\lib\\site-packages\\keras\\src\\backend.py:873: The name tf.get_default_graph is deprecated. Please use tf.compat.v1.get_default_graph instead.\n",
      "\n",
      "WARNING:tensorflow:From C:\\Users\\ngomi\\AppData\\Local\\Programs\\Python\\Python310\\lib\\site-packages\\keras\\src\\optimizers\\__init__.py:309: The name tf.train.Optimizer is deprecated. Please use tf.compat.v1.train.Optimizer instead.\n",
      "\n"
     ]
    }
   ],
   "source": [
    "# 8. Define LSTM Model\n",
    "\n",
    "model=Sequential()\n",
    "model.add(LSTM(50,return_sequences=True,input_shape=(100,1)))\n",
    "model.add(LSTM(50,return_sequences=True))\n",
    "model.add(LSTM(50))\n",
    "model.add(Dense(1))\n",
    "model.compile(loss='mean_squared_error',optimizer='adam')"
   ]
  },
  {
   "cell_type": "code",
   "execution_count": null,
   "metadata": {
    "colab": {
     "base_uri": "https://localhost:8080/"
    },
    "id": "WV9yjx9Che4h",
    "outputId": "4675cf80-ee21-4854-f731-65bd008d7107"
   },
   "outputs": [
    {
     "name": "stdout",
     "output_type": "stream",
     "text": [
      "Epoch 1/100\n",
      "WARNING:tensorflow:From C:\\Users\\ngomi\\AppData\\Local\\Programs\\Python\\Python310\\lib\\site-packages\\keras\\src\\utils\\tf_utils.py:492: The name tf.ragged.RaggedTensorValue is deprecated. Please use tf.compat.v1.ragged.RaggedTensorValue instead.\n",
      "\n",
      "15/15 [==============================] - 43s 698ms/step - loss: 0.0081 - val_loss: 0.1366\n",
      "Epoch 2/100\n",
      "15/15 [==============================] - 4s 244ms/step - loss: 0.0015 - val_loss: 0.0064\n",
      "Epoch 3/100\n",
      "15/15 [==============================] - 3s 231ms/step - loss: 3.8369e-04 - val_loss: 0.0305\n",
      "Epoch 4/100\n",
      "15/15 [==============================] - 4s 238ms/step - loss: 2.9503e-04 - val_loss: 0.0146\n",
      "Epoch 5/100\n",
      "15/15 [==============================] - 4s 242ms/step - loss: 2.6280e-04 - val_loss: 0.0243\n",
      "Epoch 6/100\n",
      "15/15 [==============================] - 4s 249ms/step - loss: 2.5373e-04 - val_loss: 0.0297\n",
      "Epoch 7/100\n",
      "15/15 [==============================] - 4s 262ms/step - loss: 2.5390e-04 - val_loss: 0.0263\n",
      "Epoch 8/100\n",
      "15/15 [==============================] - 4s 230ms/step - loss: 2.4608e-04 - val_loss: 0.0360\n",
      "Epoch 9/100\n",
      "15/15 [==============================] - 3s 226ms/step - loss: 2.4503e-04 - val_loss: 0.0337\n",
      "Epoch 10/100\n",
      "15/15 [==============================] - 3s 233ms/step - loss: 2.5629e-04 - val_loss: 0.0368\n",
      "Epoch 11/100\n",
      "15/15 [==============================] - 3s 228ms/step - loss: 2.6907e-04 - val_loss: 0.0288\n",
      "Epoch 12/100\n",
      "15/15 [==============================] - 3s 228ms/step - loss: 2.4107e-04 - val_loss: 0.0310\n",
      "Epoch 13/100\n",
      "15/15 [==============================] - 4s 249ms/step - loss: 2.4149e-04 - val_loss: 0.0327\n",
      "Epoch 14/100\n",
      "15/15 [==============================] - 3s 234ms/step - loss: 2.3261e-04 - val_loss: 0.0324\n",
      "Epoch 15/100\n",
      "15/15 [==============================] - 3s 235ms/step - loss: 2.3915e-04 - val_loss: 0.0332\n",
      "Epoch 16/100\n",
      "15/15 [==============================] - 4s 241ms/step - loss: 2.2971e-04 - val_loss: 0.0284\n",
      "Epoch 17/100\n",
      "15/15 [==============================] - 3s 203ms/step - loss: 2.3414e-04 - val_loss: 0.0316\n",
      "Epoch 18/100\n",
      "15/15 [==============================] - 3s 169ms/step - loss: 2.4082e-04 - val_loss: 0.0219\n",
      "Epoch 19/100\n",
      "15/15 [==============================] - 3s 174ms/step - loss: 2.3851e-04 - val_loss: 0.0332\n",
      "Epoch 20/100\n",
      "15/15 [==============================] - 3s 211ms/step - loss: 2.3756e-04 - val_loss: 0.0240\n",
      "Epoch 21/100\n",
      "15/15 [==============================] - 3s 180ms/step - loss: 2.2417e-04 - val_loss: 0.0184\n",
      "Epoch 22/100\n",
      "15/15 [==============================] - 2s 165ms/step - loss: 2.3515e-04 - val_loss: 0.0206\n",
      "Epoch 23/100\n",
      "15/15 [==============================] - 2s 167ms/step - loss: 2.6567e-04 - val_loss: 0.0069\n",
      "Epoch 24/100\n",
      "15/15 [==============================] - 3s 169ms/step - loss: 2.4826e-04 - val_loss: 0.0195\n",
      "Epoch 25/100\n",
      "15/15 [==============================] - 3s 172ms/step - loss: 2.2122e-04 - val_loss: 0.0212\n",
      "Epoch 26/100\n",
      "15/15 [==============================] - 3s 174ms/step - loss: 2.2039e-04 - val_loss: 0.0207\n",
      "Epoch 27/100\n",
      "15/15 [==============================] - 3s 174ms/step - loss: 2.1002e-04 - val_loss: 0.0191\n",
      "Epoch 28/100\n",
      "15/15 [==============================] - 3s 169ms/step - loss: 2.1053e-04 - val_loss: 0.0080\n",
      "Epoch 29/100\n",
      "15/15 [==============================] - 2s 166ms/step - loss: 2.0986e-04 - val_loss: 0.0185\n",
      "Epoch 30/100\n",
      "15/15 [==============================] - 2s 165ms/step - loss: 2.0149e-04 - val_loss: 0.0111\n",
      "Epoch 31/100\n",
      "15/15 [==============================] - 3s 171ms/step - loss: 1.9980e-04 - val_loss: 0.0092\n",
      "Epoch 32/100\n",
      "15/15 [==============================] - 2s 164ms/step - loss: 2.0154e-04 - val_loss: 0.0136\n",
      "Epoch 33/100\n",
      "15/15 [==============================] - 2s 165ms/step - loss: 1.9637e-04 - val_loss: 0.0086\n",
      "Epoch 34/100\n",
      "15/15 [==============================] - 3s 170ms/step - loss: 2.0712e-04 - val_loss: 0.0036\n",
      "Epoch 35/100\n",
      "15/15 [==============================] - 3s 170ms/step - loss: 2.1094e-04 - val_loss: 0.0115\n",
      "Epoch 36/100\n",
      "15/15 [==============================] - 2s 164ms/step - loss: 2.1350e-04 - val_loss: 0.0028\n",
      "Epoch 37/100\n",
      "15/15 [==============================] - 2s 165ms/step - loss: 2.0829e-04 - val_loss: 0.0054\n",
      "Epoch 38/100\n",
      "15/15 [==============================] - 2s 163ms/step - loss: 1.8767e-04 - val_loss: 0.0070\n",
      "Epoch 39/100\n",
      "15/15 [==============================] - 3s 173ms/step - loss: 2.0584e-04 - val_loss: 0.0038\n",
      "Epoch 40/100\n",
      "15/15 [==============================] - 2s 163ms/step - loss: 1.9374e-04 - val_loss: 0.0041\n",
      "Epoch 41/100\n",
      "15/15 [==============================] - 2s 165ms/step - loss: 1.8788e-04 - val_loss: 0.0025\n",
      "Epoch 42/100\n",
      "15/15 [==============================] - 2s 166ms/step - loss: 1.8749e-04 - val_loss: 0.0076\n",
      "Epoch 43/100\n",
      "15/15 [==============================] - 3s 172ms/step - loss: 1.7201e-04 - val_loss: 0.0062\n",
      "Epoch 44/100\n",
      "15/15 [==============================] - 2s 164ms/step - loss: 1.8376e-04 - val_loss: 0.0074\n",
      "Epoch 45/100\n",
      "15/15 [==============================] - 2s 167ms/step - loss: 1.9445e-04 - val_loss: 0.0039\n",
      "Epoch 46/100\n",
      "15/15 [==============================] - 3s 172ms/step - loss: 1.6761e-04 - val_loss: 0.0029\n",
      "Epoch 47/100\n",
      "15/15 [==============================] - 3s 172ms/step - loss: 1.7988e-04 - val_loss: 0.0065\n",
      "Epoch 48/100\n",
      "15/15 [==============================] - 2s 158ms/step - loss: 1.8281e-04 - val_loss: 0.0048\n",
      "Epoch 49/100\n",
      "15/15 [==============================] - 2s 154ms/step - loss: 1.5679e-04 - val_loss: 0.0052\n",
      "Epoch 50/100\n",
      "15/15 [==============================] - 2s 154ms/step - loss: 1.6159e-04 - val_loss: 0.0085\n",
      "Epoch 51/100\n",
      "15/15 [==============================] - 2s 153ms/step - loss: 1.6029e-04 - val_loss: 0.0054\n",
      "Epoch 52/100\n",
      "15/15 [==============================] - 2s 154ms/step - loss: 1.5000e-04 - val_loss: 0.0032\n",
      "Epoch 53/100\n",
      "15/15 [==============================] - 3s 179ms/step - loss: 1.4328e-04 - val_loss: 0.0038\n",
      "Epoch 54/100\n",
      "15/15 [==============================] - 3s 171ms/step - loss: 1.4818e-04 - val_loss: 0.0040\n",
      "Epoch 55/100\n",
      "15/15 [==============================] - 3s 170ms/step - loss: 1.4660e-04 - val_loss: 0.0027\n",
      "Epoch 56/100\n",
      "15/15 [==============================] - 3s 176ms/step - loss: 1.5612e-04 - val_loss: 0.0067\n",
      "Epoch 57/100\n",
      "15/15 [==============================] - 3s 171ms/step - loss: 1.5160e-04 - val_loss: 0.0024\n",
      "Epoch 58/100\n",
      "15/15 [==============================] - 3s 172ms/step - loss: 1.5483e-04 - val_loss: 0.0029\n",
      "Epoch 59/100\n",
      "15/15 [==============================] - 3s 196ms/step - loss: 1.4722e-04 - val_loss: 0.0072\n",
      "Epoch 60/100\n",
      "15/15 [==============================] - 2s 163ms/step - loss: 1.3730e-04 - val_loss: 0.0031\n",
      "Epoch 61/100\n",
      "15/15 [==============================] - 2s 158ms/step - loss: 1.3621e-04 - val_loss: 0.0046\n",
      "Epoch 62/100\n",
      "15/15 [==============================] - 2s 154ms/step - loss: 1.3129e-04 - val_loss: 0.0017\n",
      "Epoch 63/100\n",
      "15/15 [==============================] - 2s 151ms/step - loss: 1.3924e-04 - val_loss: 0.0025\n",
      "Epoch 64/100\n",
      "15/15 [==============================] - 2s 151ms/step - loss: 1.3508e-04 - val_loss: 0.0067\n",
      "Epoch 65/100\n",
      "15/15 [==============================] - 2s 153ms/step - loss: 1.2670e-04 - val_loss: 0.0103\n",
      "Epoch 66/100\n",
      "15/15 [==============================] - 2s 152ms/step - loss: 1.2994e-04 - val_loss: 0.0052\n",
      "Epoch 67/100\n",
      "15/15 [==============================] - 2s 156ms/step - loss: 1.1540e-04 - val_loss: 0.0033\n",
      "Epoch 68/100\n",
      "15/15 [==============================] - 2s 162ms/step - loss: 1.2607e-04 - val_loss: 0.0052\n",
      "Epoch 69/100\n",
      "15/15 [==============================] - 2s 162ms/step - loss: 1.1717e-04 - val_loss: 0.0085\n",
      "Epoch 70/100\n",
      "15/15 [==============================] - 2s 167ms/step - loss: 1.2539e-04 - val_loss: 0.0056\n",
      "Epoch 71/100\n",
      "15/15 [==============================] - 3s 181ms/step - loss: 1.1319e-04 - val_loss: 0.0048\n",
      "Epoch 72/100\n",
      "15/15 [==============================] - 3s 170ms/step - loss: 1.1180e-04 - val_loss: 0.0040\n",
      "Epoch 73/100\n",
      "15/15 [==============================] - 2s 164ms/step - loss: 1.0881e-04 - val_loss: 0.0060\n",
      "Epoch 74/100\n",
      "15/15 [==============================] - 2s 159ms/step - loss: 1.0625e-04 - val_loss: 0.0045\n",
      "Epoch 75/100\n",
      "15/15 [==============================] - 2s 164ms/step - loss: 1.2817e-04 - val_loss: 0.0022\n",
      "Epoch 76/100\n",
      "15/15 [==============================] - 2s 167ms/step - loss: 1.3070e-04 - val_loss: 0.0053\n",
      "Epoch 77/100\n",
      "15/15 [==============================] - 2s 168ms/step - loss: 1.2699e-04 - val_loss: 0.0034\n",
      "Epoch 78/100\n",
      "15/15 [==============================] - 2s 161ms/step - loss: 1.3129e-04 - val_loss: 0.0037\n",
      "Epoch 79/100\n",
      "15/15 [==============================] - 2s 166ms/step - loss: 1.1907e-04 - val_loss: 0.0048\n",
      "Epoch 80/100\n",
      "15/15 [==============================] - 3s 166ms/step - loss: 1.1340e-04 - val_loss: 0.0057\n",
      "Epoch 81/100\n",
      "15/15 [==============================] - 2s 163ms/step - loss: 1.1330e-04 - val_loss: 0.0041\n",
      "Epoch 82/100\n",
      "15/15 [==============================] - 3s 171ms/step - loss: 1.1879e-04 - val_loss: 0.0142\n",
      "Epoch 83/100\n",
      "15/15 [==============================] - 3s 172ms/step - loss: 1.3361e-04 - val_loss: 0.0067\n",
      "Epoch 84/100\n",
      "15/15 [==============================] - 2s 166ms/step - loss: 1.1321e-04 - val_loss: 0.0064\n",
      "Epoch 85/100\n",
      "15/15 [==============================] - 3s 177ms/step - loss: 9.7872e-05 - val_loss: 0.0064\n",
      "Epoch 86/100\n",
      "15/15 [==============================] - 3s 181ms/step - loss: 1.0251e-04 - val_loss: 0.0054\n",
      "Epoch 87/100\n",
      "15/15 [==============================] - 3s 206ms/step - loss: 1.0087e-04 - val_loss: 0.0029\n",
      "Epoch 88/100\n",
      "15/15 [==============================] - 3s 172ms/step - loss: 1.0157e-04 - val_loss: 0.0042\n",
      "Epoch 89/100\n",
      "15/15 [==============================] - ETA: 0s - loss: 1.0028e-04"
     ]
    }
   ],
   "source": [
    "# 9. Fit mô hình với dữ liệu train\n",
    "model.fit(X_train,y_train,validation_data=(X_test,ytest),epochs=100,batch_size=64,verbose=1)"
   ]
  },
  {
   "cell_type": "code",
   "execution_count": null,
   "metadata": {
    "colab": {
     "base_uri": "https://localhost:8080/"
    },
    "id": "BfDOneTviUI0",
    "outputId": "71f52cff-747d-432e-8b1b-6499705ffcc2"
   },
   "outputs": [],
   "source": [
    "# 10. Dự báo dữ liệu test, val\n",
    "train_predict=model.predict(X_train)\n",
    "y_pred=model.predict(X_test)\n",
    "y_pred_val=model.predict(X_val)"
   ]
  },
  {
   "cell_type": "code",
   "execution_count": null,
   "metadata": {
    "id": "wEkfyFmNiWS7"
   },
   "outputs": [],
   "source": [
    "# 11. Chuẩn hóa dữ liệu y_pred, y_pred_val\n",
    "train_predict=scaler.inverse_transform(train_predict)\n",
    "y_pred=scaler.inverse_transform(y_pred)\n",
    "y_pred_val=scaler.inverse_transform(y_pred_val)"
   ]
  },
  {
   "cell_type": "code",
   "execution_count": null,
   "metadata": {
    "colab": {
     "base_uri": "https://localhost:8080/"
    },
    "id": "5UZyMhHPiZRF",
    "outputId": "0542386e-3e46-4ee6-96c7-53bce48e2dd2"
   },
   "outputs": [],
   "source": [
    "# 12. Đánh giá độ chính xác thuật toán bằng RMSE\n",
    "valid_rmse = np.sqrt(np.mean((y_pred_val - yval)**2))\n",
    "test_rmse = np.sqrt(np.mean((y_pred - ytest)**2))\n",
    "print('Validation RMSE:', valid_rmse)\n",
    "print('Testing RMSE:', test_rmse)"
   ]
  },
  {
   "cell_type": "code",
   "execution_count": null,
   "metadata": {
    "colab": {
     "base_uri": "https://localhost:8080/"
    },
    "id": "eiwmnwbJnKQA",
    "outputId": "5405b396-4ac1-4c60-b8db-220479cc273c"
   },
   "outputs": [],
   "source": [
    "# Đánh giá độ chính xác thuật toán bằng MAE\n",
    "valid_mae = np.mean(np.abs(y_pred_val - yval))\n",
    "test_mae = np.mean(np.abs(y_pred - ytest))\n",
    "print('Validation MAE:', valid_mae)\n",
    "print('Testing MAE:', test_mae)"
   ]
  },
  {
   "cell_type": "code",
   "execution_count": null,
   "metadata": {
    "colab": {
     "base_uri": "https://localhost:8080/"
    },
    "id": "Te05uf2anmVC",
    "outputId": "5a8c882d-6b76-47af-9999-71aa6eede194"
   },
   "outputs": [],
   "source": [
    "# Đánh giá độ chính xác thuật toán bằng MAPE\n",
    "valid_mape = np.mean(np.abs((y_pred_val - yval) / yval)) * 100\n",
    "test_mape = np.mean(np.abs((y_pred - ytest) / ytest)) * 100\n",
    "print('Validation MAPE:', valid_mape)\n",
    "print('Testing MAPE:', test_mape)"
   ]
  },
  {
   "cell_type": "code",
   "execution_count": null,
   "metadata": {
    "colab": {
     "base_uri": "https://localhost:8080/"
    },
    "id": "eINDGpclibM2",
    "outputId": "4608403d-48bd-4130-bbf8-6ecb5edc3b4d"
   },
   "outputs": [],
   "source": [
    "# 13. Dự báo 30 ngày tiếp theo\n",
    "x_input=val_data[60:].reshape(1,-1)\n",
    "x_input.shape\n",
    "\n",
    "temp_input=list(x_input)\n",
    "temp_input=temp_input[0].tolist()\n",
    "\n",
    "from numpy import array\n",
    "\n",
    "lst_output=[]\n",
    "n_steps=114\n",
    "i=0\n",
    "while(i<30):\n",
    "\n",
    "    if(len(temp_input)>100):\n",
    "        #print(temp_input)\n",
    "        x_input=np.array(temp_input[1:])\n",
    "        print(\"{} day input {}\".format(i,x_input))\n",
    "        x_input=x_input.reshape(1,-1)\n",
    "        x_input = x_input.reshape((1, n_steps, 1))\n",
    "        #print(x_input)\n",
    "        yhat = model.predict(x_input, verbose=0)\n",
    "        print(\"{} day output {}\".format(i,yhat))\n",
    "        temp_input.extend(yhat[0].tolist())\n",
    "        temp_input=temp_input[1:]\n",
    "        #print(temp_input)\n",
    "        lst_output.extend(yhat.tolist())\n",
    "        i=i+1\n",
    "    else:\n",
    "        x_input = x_input.reshape((1, n_steps,1))\n",
    "        yhat = model.predict(x_input, verbose=0)\n",
    "        print(yhat[0])\n",
    "        temp_input.extend(yhat[0].tolist())\n",
    "        print(len(temp_input))\n",
    "        lst_output.extend(yhat.tolist())\n",
    "        i=i+1"
   ]
  },
  {
   "cell_type": "code",
   "execution_count": null,
   "metadata": {
    "colab": {
     "base_uri": "https://localhost:8080/"
    },
    "id": "MM61LuEZi5zy",
    "outputId": "3d302c60-b757-48b1-f932-b5555a68543d"
   },
   "outputs": [],
   "source": [
    "# 14. Kết quả dự báo 30 ngày tiếp theo\n",
    "y_future = scaler.inverse_transform(lst_output)\n",
    "y_future"
   ]
  },
  {
   "cell_type": "code",
   "execution_count": null,
   "metadata": {
    "colab": {
     "base_uri": "https://localhost:8080/",
     "height": 432
    },
    "id": "fqnGXk4ti4W1",
    "outputId": "b735f728-6bb7-4233-c2ba-ad76972883c7"
   },
   "outputs": [],
   "source": [
    "# 15.Vẽ hình\n",
    "\n",
    "train_data_index = pd.RangeIndex(start=0, stop=train_size, step=1)\n",
    "plt.plot(scaler.inverse_transform(train_data))\n",
    "test_data_index = pd.RangeIndex(start=train_size, stop=train_size+test_size, step=1)\n",
    "plt.plot(test_data_index,scaler.inverse_transform(test_data))\n",
    "test_data_index = pd.RangeIndex(start=train_size+101, stop=train_size+test_size, step=1)\n",
    "plt.plot(test_data_index,(y_pred))\n",
    "val_data_index = pd.RangeIndex(start=train_size+test_size, stop=train_size+test_size+val_size, step=1)\n",
    "plt.plot(val_data_index,scaler.inverse_transform(val_data))\n",
    "val_data_index = pd.RangeIndex(start=train_size+test_size+101, stop=train_size+test_size+val_size, step=1)\n",
    "plt.plot(val_data_index,y_pred_val)\n",
    "prediect_data_index = pd.RangeIndex(start=len(data1)-1, stop=len(data1)+29, step=1)\n",
    "plt.plot(prediect_data_index,scaler.inverse_transform(lst_output))\n",
    "plt.legend(['Train','Test','Predict','Validate','ValidatePred','Predict30days'])\n",
    "plt.show()"
   ]
  },
  {
   "cell_type": "code",
   "execution_count": null,
   "metadata": {},
   "outputs": [],
   "source": []
  }
 ],
 "metadata": {
  "colab": {
   "provenance": []
  },
  "kernelspec": {
   "display_name": "Python 3 (ipykernel)",
   "language": "python",
   "name": "python3"
  },
  "language_info": {
   "codemirror_mode": {
    "name": "ipython",
    "version": 3
   },
   "file_extension": ".py",
   "mimetype": "text/x-python",
   "name": "python",
   "nbconvert_exporter": "python",
   "pygments_lexer": "ipython3",
   "version": "3.10.4"
  }
 },
 "nbformat": 4,
 "nbformat_minor": 4
}
