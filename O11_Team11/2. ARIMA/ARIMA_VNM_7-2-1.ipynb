{
 "cells": [
  {
   "cell_type": "code",
   "execution_count": 1,
   "metadata": {
    "executionInfo": {
     "elapsed": 1363,
     "status": "ok",
     "timestamp": 1703889796983,
     "user": {
      "displayName": "CƯỜNG NGUYỄN TOÀN TIẾN",
      "userId": "13473845281965379358"
     },
     "user_tz": -420
    },
    "id": "Pz4NRO0097Mo"
   },
   "outputs": [],
   "source": [
    "# 1. Các thư viện cần thiết\n",
    "import numpy as np\n",
    "import pandas as pd\n",
    "import matplotlib.pyplot as plt\n",
    "from sklearn.preprocessing import MinMaxScaler\n",
    "from sklearn.linear_model import LinearRegression"
   ]
  },
  {
   "cell_type": "code",
   "execution_count": 4,
   "metadata": {
    "executionInfo": {
     "elapsed": 526,
     "status": "ok",
     "timestamp": 1703889799464,
     "user": {
      "displayName": "CƯỜNG NGUYỄN TOÀN TIẾN",
      "userId": "13473845281965379358"
     },
     "user_tz": -420
    },
    "id": "EYJFW55g-EQN"
   },
   "outputs": [],
   "source": [
    "# 2. Đọc file dữ liệu và chia train test validate theo tỉ lệ 7:1:2\n",
    "df = pd.read_csv('VNM_Historical_Data.csv')\n",
    "df = df[['Close']]\n",
    "df = df.dropna() # Drop missing values\n",
    "df = df.reset_index(drop=True) # Reset the index\n",
    "df\n",
    "# Split the data into training, testing, and validation sets\n",
    "train_size = int(0.7 * len(df))\n",
    "test_size = int(0.2 * len(df))\n",
    "val_size = len(df) - train_size - test_size\n",
    "\n",
    "train_data = df[:train_size]\n",
    "test_data = df[train_size:train_size+test_size]\n",
    "val_data = df[train_size+test_size:]\n"
   ]
  },
  {
   "cell_type": "code",
   "execution_count": 5,
   "metadata": {
    "colab": {
     "base_uri": "https://localhost:8080/"
    },
    "executionInfo": {
     "elapsed": 5624,
     "status": "ok",
     "timestamp": 1703889807596,
     "user": {
      "displayName": "CƯỜNG NGUYỄN TOÀN TIẾN",
      "userId": "13473845281965379358"
     },
     "user_tz": -420
    },
    "id": "Ap7KYJ7G-Nt0",
    "outputId": "8ad3f630-b6bb-4ccc-b39a-1139ce5d5c2b"
   },
   "outputs": [
    {
     "name": "stdout",
     "output_type": "stream",
     "text": [
      "Requirement already satisfied: pmdarima in c:\\users\\ngomi\\appdata\\local\\programs\\python\\python310\\lib\\site-packages (2.0.4)"
     ]
    },
    {
     "name": "stderr",
     "output_type": "stream",
     "text": [
      "WARNING: You are using pip version 22.0.4; however, version 23.3.2 is available.\n",
      "You should consider upgrading via the 'C:\\Users\\ngomi\\AppData\\Local\\Programs\\Python\\Python310\\python.exe -m pip install --upgrade pip' command.\n"
     ]
    },
    {
     "name": "stdout",
     "output_type": "stream",
     "text": [
      "\n",
      "Requirement already satisfied: statsmodels>=0.13.2 in c:\\users\\ngomi\\appdata\\local\\programs\\python\\python310\\lib\\site-packages (from pmdarima) (0.14.0)\n",
      "Requirement already satisfied: packaging>=17.1 in c:\\users\\ngomi\\appdata\\local\\programs\\python\\python310\\lib\\site-packages (from pmdarima) (23.1)\n",
      "Requirement already satisfied: numpy>=1.21.2 in c:\\users\\ngomi\\appdata\\local\\programs\\python\\python310\\lib\\site-packages (from pmdarima) (1.26.0)\n",
      "Requirement already satisfied: scikit-learn>=0.22 in c:\\users\\ngomi\\appdata\\local\\programs\\python\\python310\\lib\\site-packages (from pmdarima) (1.3.2)\n",
      "Requirement already satisfied: scipy>=1.3.2 in c:\\users\\ngomi\\appdata\\local\\programs\\python\\python310\\lib\\site-packages (from pmdarima) (1.11.2)\n",
      "Requirement already satisfied: setuptools!=50.0.0,>=38.6.0 in c:\\users\\ngomi\\appdata\\local\\programs\\python\\python310\\lib\\site-packages (from pmdarima) (58.1.0)\n",
      "Requirement already satisfied: joblib>=0.11 in c:\\users\\ngomi\\appdata\\local\\programs\\python\\python310\\lib\\site-packages (from pmdarima) (1.3.2)\n",
      "Requirement already satisfied: Cython!=0.29.18,!=0.29.31,>=0.29 in c:\\users\\ngomi\\appdata\\local\\programs\\python\\python310\\lib\\site-packages (from pmdarima) (3.0.6)\n",
      "Requirement already satisfied: pandas>=0.19 in c:\\users\\ngomi\\appdata\\local\\programs\\python\\python310\\lib\\site-packages (from pmdarima) (2.1.0)\n",
      "Requirement already satisfied: urllib3 in c:\\users\\ngomi\\appdata\\local\\programs\\python\\python310\\lib\\site-packages (from pmdarima) (2.0.4)\n",
      "Requirement already satisfied: pytz>=2020.1 in c:\\users\\ngomi\\appdata\\local\\programs\\python\\python310\\lib\\site-packages (from pandas>=0.19->pmdarima) (2023.3.post1)\n",
      "Requirement already satisfied: tzdata>=2022.1 in c:\\users\\ngomi\\appdata\\local\\programs\\python\\python310\\lib\\site-packages (from pandas>=0.19->pmdarima) (2023.3)\n",
      "Requirement already satisfied: python-dateutil>=2.8.2 in c:\\users\\ngomi\\appdata\\local\\programs\\python\\python310\\lib\\site-packages (from pandas>=0.19->pmdarima) (2.8.2)\n",
      "Requirement already satisfied: threadpoolctl>=2.0.0 in c:\\users\\ngomi\\appdata\\local\\programs\\python\\python310\\lib\\site-packages (from scikit-learn>=0.22->pmdarima) (3.2.0)\n",
      "Requirement already satisfied: patsy>=0.5.2 in c:\\users\\ngomi\\appdata\\local\\programs\\python\\python310\\lib\\site-packages (from statsmodels>=0.13.2->pmdarima) (0.5.4)\n",
      "Requirement already satisfied: six in c:\\users\\ngomi\\appdata\\local\\programs\\python\\python310\\lib\\site-packages (from patsy>=0.5.2->statsmodels>=0.13.2->pmdarima) (1.16.0)\n"
     ]
    }
   ],
   "source": [
    "!pip install pmdarima"
   ]
  },
  {
   "cell_type": "code",
   "execution_count": 13,
   "metadata": {},
   "outputs": [
    {
     "name": "stdout",
     "output_type": "stream",
     "text": [
      "Performing stepwise search to minimize aic\n",
      " ARIMA(2,1,2)(0,0,0)[0] intercept   : AIC=21862.846, Time=0.44 sec\n",
      " ARIMA(0,1,0)(0,0,0)[0] intercept   : AIC=21858.146, Time=0.03 sec\n",
      " ARIMA(1,1,0)(0,0,0)[0] intercept   : AIC=21859.613, Time=0.09 sec\n",
      " ARIMA(0,1,1)(0,0,0)[0] intercept   : AIC=21859.615, Time=0.10 sec\n",
      " ARIMA(0,1,0)(0,0,0)[0]             : AIC=21856.212, Time=0.04 sec\n",
      " ARIMA(1,1,1)(0,0,0)[0] intercept   : AIC=21861.612, Time=0.37 sec\n",
      "\n",
      "Best model:  ARIMA(0,1,0)(0,0,0)[0]          \n",
      "Total fit time: 1.080 seconds\n"
     ]
    },
    {
     "data": {
      "text/html": [
       "<style>#sk-container-id-1 {color: black;}#sk-container-id-1 pre{padding: 0;}#sk-container-id-1 div.sk-toggleable {background-color: white;}#sk-container-id-1 label.sk-toggleable__label {cursor: pointer;display: block;width: 100%;margin-bottom: 0;padding: 0.3em;box-sizing: border-box;text-align: center;}#sk-container-id-1 label.sk-toggleable__label-arrow:before {content: \"▸\";float: left;margin-right: 0.25em;color: #696969;}#sk-container-id-1 label.sk-toggleable__label-arrow:hover:before {color: black;}#sk-container-id-1 div.sk-estimator:hover label.sk-toggleable__label-arrow:before {color: black;}#sk-container-id-1 div.sk-toggleable__content {max-height: 0;max-width: 0;overflow: hidden;text-align: left;background-color: #f0f8ff;}#sk-container-id-1 div.sk-toggleable__content pre {margin: 0.2em;color: black;border-radius: 0.25em;background-color: #f0f8ff;}#sk-container-id-1 input.sk-toggleable__control:checked~div.sk-toggleable__content {max-height: 200px;max-width: 100%;overflow: auto;}#sk-container-id-1 input.sk-toggleable__control:checked~label.sk-toggleable__label-arrow:before {content: \"▾\";}#sk-container-id-1 div.sk-estimator input.sk-toggleable__control:checked~label.sk-toggleable__label {background-color: #d4ebff;}#sk-container-id-1 div.sk-label input.sk-toggleable__control:checked~label.sk-toggleable__label {background-color: #d4ebff;}#sk-container-id-1 input.sk-hidden--visually {border: 0;clip: rect(1px 1px 1px 1px);clip: rect(1px, 1px, 1px, 1px);height: 1px;margin: -1px;overflow: hidden;padding: 0;position: absolute;width: 1px;}#sk-container-id-1 div.sk-estimator {font-family: monospace;background-color: #f0f8ff;border: 1px dotted black;border-radius: 0.25em;box-sizing: border-box;margin-bottom: 0.5em;}#sk-container-id-1 div.sk-estimator:hover {background-color: #d4ebff;}#sk-container-id-1 div.sk-parallel-item::after {content: \"\";width: 100%;border-bottom: 1px solid gray;flex-grow: 1;}#sk-container-id-1 div.sk-label:hover label.sk-toggleable__label {background-color: #d4ebff;}#sk-container-id-1 div.sk-serial::before {content: \"\";position: absolute;border-left: 1px solid gray;box-sizing: border-box;top: 0;bottom: 0;left: 50%;z-index: 0;}#sk-container-id-1 div.sk-serial {display: flex;flex-direction: column;align-items: center;background-color: white;padding-right: 0.2em;padding-left: 0.2em;position: relative;}#sk-container-id-1 div.sk-item {position: relative;z-index: 1;}#sk-container-id-1 div.sk-parallel {display: flex;align-items: stretch;justify-content: center;background-color: white;position: relative;}#sk-container-id-1 div.sk-item::before, #sk-container-id-1 div.sk-parallel-item::before {content: \"\";position: absolute;border-left: 1px solid gray;box-sizing: border-box;top: 0;bottom: 0;left: 50%;z-index: -1;}#sk-container-id-1 div.sk-parallel-item {display: flex;flex-direction: column;z-index: 1;position: relative;background-color: white;}#sk-container-id-1 div.sk-parallel-item:first-child::after {align-self: flex-end;width: 50%;}#sk-container-id-1 div.sk-parallel-item:last-child::after {align-self: flex-start;width: 50%;}#sk-container-id-1 div.sk-parallel-item:only-child::after {width: 0;}#sk-container-id-1 div.sk-dashed-wrapped {border: 1px dashed gray;margin: 0 0.4em 0.5em 0.4em;box-sizing: border-box;padding-bottom: 0.4em;background-color: white;}#sk-container-id-1 div.sk-label label {font-family: monospace;font-weight: bold;display: inline-block;line-height: 1.2em;}#sk-container-id-1 div.sk-label-container {text-align: center;}#sk-container-id-1 div.sk-container {/* jupyter's `normalize.less` sets `[hidden] { display: none; }` but bootstrap.min.css set `[hidden] { display: none !important; }` so we also need the `!important` here to be able to override the default hidden behavior on the sphinx rendered scikit-learn.org. See: https://github.com/scikit-learn/scikit-learn/issues/21755 */display: inline-block !important;position: relative;}#sk-container-id-1 div.sk-text-repr-fallback {display: none;}</style><div id=\"sk-container-id-1\" class=\"sk-top-container\"><div class=\"sk-text-repr-fallback\"><pre> ARIMA(0,1,0)(0,0,0)[0]          </pre><b>In a Jupyter environment, please rerun this cell to show the HTML representation or trust the notebook. <br />On GitHub, the HTML representation is unable to render, please try loading this page with nbviewer.org.</b></div><div class=\"sk-container\" hidden><div class=\"sk-item\"><div class=\"sk-estimator sk-toggleable\"><input class=\"sk-toggleable__control sk-hidden--visually\" id=\"sk-estimator-id-1\" type=\"checkbox\" checked><label for=\"sk-estimator-id-1\" class=\"sk-toggleable__label sk-toggleable__label-arrow\">ARIMA</label><div class=\"sk-toggleable__content\"><pre> ARIMA(0,1,0)(0,0,0)[0]          </pre></div></div></div></div></div>"
      ],
      "text/plain": [
       "ARIMA(order=(0, 1, 0), scoring_args={}, suppress_warnings=True,\n",
       "      with_intercept=False)"
      ]
     },
     "execution_count": 13,
     "metadata": {},
     "output_type": "execute_result"
    }
   ],
   "source": [
    "#3. Quá trình Training\n",
    "x_train = np.array(train_data.index).reshape(-1, 1) \n",
    "y_train = np.array(train_data['Close'])\n",
    "\n",
    "#Find the best ARIMA model using auto_arima\n",
    "from pmdarima.arima import auto_arima \n",
    "model = auto_arima(y_train, trace=True, error_action='ignore', suppress_warnings=True)\n",
    "\n",
    "#Fit the model\n",
    "model.fit(y_train)"
   ]
  },
  {
   "cell_type": "code",
   "execution_count": 17,
   "metadata": {
    "executionInfo": {
     "elapsed": 3,
     "status": "ok",
     "timestamp": 1703889839846,
     "user": {
      "displayName": "CƯỜNG NGUYỄN TOÀN TIẾN",
      "userId": "13473845281965379358"
     },
     "user_tz": -420
    },
    "id": "yJq0SVeB-YoA"
   },
   "outputs": [],
   "source": [
    "# 4. Quá trình testing\n",
    "x_test = np.array(test_data.index).reshape(-1, 1)\n",
    "y_test = np.array(test_data['Close'])\n",
    "y_pred = model.predict(n_periods=len(y_test))\n",
    "\n",
    "# 5. Quá trình Validate\n",
    "x_val= np.array(val_data.index).reshape(-1, 1)\n",
    "y_val = np.array(val_data['Close'])\n",
    "y_pred_val =  model.predict(n_periods=len(y_val))"
   ]
  },
  {
   "cell_type": "code",
   "execution_count": 18,
   "metadata": {
    "colab": {
     "base_uri": "https://localhost:8080/"
    },
    "executionInfo": {
     "elapsed": 335,
     "status": "ok",
     "timestamp": 1703889844570,
     "user": {
      "displayName": "CƯỜNG NGUYỄN TOÀN TIẾN",
      "userId": "13473845281965379358"
     },
     "user_tz": -420
    },
    "id": "VJtPasCN-d3q",
    "outputId": "a4116706-b848-429b-a369-93bae77eca3d"
   },
   "outputs": [
    {
     "name": "stdout",
     "output_type": "stream",
     "text": [
      "Predicted opening prices for the next 30 days:\n",
      "[82953.6 82953.6 82953.6 82953.6 82953.6 82953.6 82953.6 82953.6 82953.6\n",
      " 82953.6 82953.6 82953.6 82953.6 82953.6 82953.6 82953.6 82953.6 82953.6\n",
      " 82953.6 82953.6 82953.6 82953.6 82953.6 82953.6 82953.6 82953.6 82953.6\n",
      " 82953.6 82953.6 82953.6]\n"
     ]
    }
   ],
   "source": [
    "# 6. Quá trình tạo index predict 30 ngày tiếp theo\n",
    "last_index =  df.index[-1]\n",
    "last_data = pd.RangeIndex(start=last_index, stop=last_index+30, step=1)\n",
    "\n",
    "# Create an array of 30 consecutive integers starting from last_index\n",
    "x_next_30_days = np.array(range(last_index+1, last_index+31)).reshape(-1, 1)\n",
    "\n",
    "# Predict the closing prices for the next 30 days\n",
    "y_next_30_days = model.predict(n_periods=len(x_next_30_days))\n",
    "\n",
    "# Print the predicted opening prices for the next 30 days\n",
    "print('Predicted opening prices for the next 30 days:')\n",
    "print(y_next_30_days)"
   ]
  },
  {
   "cell_type": "code",
   "execution_count": 19,
   "metadata": {
    "colab": {
     "base_uri": "https://localhost:8080/"
    },
    "executionInfo": {
     "elapsed": 352,
     "status": "ok",
     "timestamp": 1703889847672,
     "user": {
      "displayName": "CƯỜNG NGUYỄN TOÀN TIẾN",
      "userId": "13473845281965379358"
     },
     "user_tz": -420
    },
    "id": "a3Xd-mSy-nXF",
    "outputId": "d905798a-aec4-465f-ae26-f2c73089e160"
   },
   "outputs": [
    {
     "name": "stdout",
     "output_type": "stream",
     "text": [
      "Validation RMSE: 11972.638398329043\n",
      "Testing RMSE: 9460.158081572074\n",
      "Validation MAE: 11362.742857142863\n",
      "Testing MAE: 8312.959195402305\n",
      "Validation MAPE: 16.187261202569207\n",
      "Testing MAPE: 11.56051501554008\n"
     ]
    }
   ],
   "source": [
    "# 7. Tính RMSE, MSE, MAPE\n",
    "from sklearn.metrics import mean_squared_error, mean_absolute_percentage_error, mean_absolute_error\n",
    "\n",
    "valid_mse = mean_squared_error(y_val, y_pred_val)\n",
    "test_mse = mean_squared_error(y_test, y_pred)\n",
    "\n",
    "valid_rmse = np.sqrt(valid_mse)\n",
    "test_rmse = np.sqrt(test_mse)\n",
    "\n",
    "valid_mae = mean_absolute_error(y_val, y_pred_val)\n",
    "test_mae = mean_absolute_error(y_test, y_pred)\n",
    "\n",
    "valid_mape = mean_absolute_percentage_error(y_val, y_pred_val)*100\n",
    "test_mape = mean_absolute_percentage_error(y_test, y_pred)*100\n",
    "\n",
    "print('Validation RMSE:', valid_rmse)\n",
    "print('Testing RMSE:', test_rmse)\n",
    "print('Validation MAE:', valid_mae)\n",
    "print('Testing MAE:', test_mae)\n",
    "print('Validation MAPE:', valid_mape)\n",
    "print('Testing MAPE:', test_mape)"
   ]
  },
  {
   "cell_type": "code",
   "execution_count": 20,
   "metadata": {
    "colab": {
     "base_uri": "https://localhost:8080/",
     "height": 430
    },
    "executionInfo": {
     "elapsed": 897,
     "status": "ok",
     "timestamp": 1703889865286,
     "user": {
      "displayName": "CƯỜNG NGUYỄN TOÀN TIẾN",
      "userId": "13473845281965379358"
     },
     "user_tz": -420
    },
    "id": "KY0TLg1y-q9t",
    "outputId": "0d1cf8bc-64ee-48d1-f876-83f46a8676aa"
   },
   "outputs": [
    {
     "data": {
      "image/png": "[encoded data removed]",
      "text/plain": [
       "<Figure size 640x480 with 1 Axes>"
      ]
     },
     "metadata": {},
     "output_type": "display_data"
    }
   ],
   "source": [
    "# 8.Vẽ hình\n",
    "plt.plot(train_data.index, train_data['Close'])\n",
    "plt.plot(test_data.index, test_data['Close'])\n",
    "plt.plot(val_data.index, val_data['Close'])\n",
    "plt.plot(test_data.index, y_pred)\n",
    "plt.plot(val_data.index, y_pred_val)\n",
    "plt.plot(last_data,y_next_30_days)\n",
    "plt.legend(['Train', 'Test', 'Validate', 'Predictions Test', 'Predictions Validate','Next30Day'])\n",
    "plt.show()"
   ]
  },
  {
   "cell_type": "code",
   "execution_count": 21,
   "metadata": {
    "colab": {
     "base_uri": "https://localhost:8080/"
    },
    "executionInfo": {
     "elapsed": 317,
     "status": "ok",
     "timestamp": 1703889875828,
     "user": {
      "displayName": "CƯỜNG NGUYỄN TOÀN TIẾN",
      "userId": "13473845281965379358"
     },
     "user_tz": -420
    },
    "id": "IgT52zTI-yeL",
    "outputId": "e40bb690-f7fe-4f87-ba04-e996cd9f816e"
   },
   "outputs": [
    {
     "data": {
      "text/plain": [
       "RangeIndex(start=1218, stop=1566, step=1)"
      ]
     },
     "execution_count": 21,
     "metadata": {},
     "output_type": "execute_result"
    }
   ],
   "source": [
    "test_data.index"
   ]
  },
  {
   "cell_type": "code",
   "execution_count": null,
   "metadata": {},
   "outputs": [],
   "source": []
  }
 ],
 "metadata": {
  "colab": {
   "authorship_tag": "ABX9TyMFoEmdtz2dB+Y+fRDxDKHs",
   "provenance": []
  },
  "kernelspec": {
   "display_name": "Python 3 (ipykernel)",
   "language": "python",
   "name": "python3"
  },
  "language_info": {
   "codemirror_mode": {
    "name": "ipython",
    "version": 3
   },
   "file_extension": ".py",
   "mimetype": "text/x-python",
   "name": "python",
   "nbconvert_exporter": "python",
   "pygments_lexer": "ipython3",
   "version": "3.10.4"
  }
 },
 "nbformat": 4,
 "nbformat_minor": 4
}
