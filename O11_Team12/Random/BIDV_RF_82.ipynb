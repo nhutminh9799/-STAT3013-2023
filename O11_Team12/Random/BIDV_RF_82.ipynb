{
 "cells": [
  {
   "cell_type": "code",
   "execution_count": 1,
   "id": "16713daa",
   "metadata": {},
   "outputs": [
    {
     "name": "stdout",
     "output_type": "stream",
     "text": [
      "WARNING:tensorflow:From D:\\ProgramData\\anaconda3\\Lib\\site-packages\\keras\\src\\losses.py:2976: The name tf.losses.sparse_softmax_cross_entropy is deprecated. Please use tf.compat.v1.losses.sparse_softmax_cross_entropy instead.\n",
      "\n"
     ]
    }
   ],
   "source": [
    "# Import library\n",
    "import numpy as np\n",
    "import pandas as pd\n",
    "import matplotlib.pyplot as plt\n",
    "from sklearn.preprocessing import MinMaxScaler\n",
    "from keras.models import Sequential\n",
    "from sklearn.ensemble import RandomForestRegressor"
   ]
  },
  {
   "cell_type": "code",
   "execution_count": 2,
   "id": "5439bf25",
   "metadata": {},
   "outputs": [
    {
     "data": {
      "text/plain": [
       "<bound method NDFrame.describe of 0       11054.8\n",
       "1       10574.2\n",
       "2        9973.4\n",
       "3       10213.7\n",
       "4       10153.6\n",
       "         ...   \n",
       "2467    41000.0\n",
       "2468    41200.0\n",
       "2469    41300.0\n",
       "2470    41800.0\n",
       "2471    42050.0\n",
       "Name: Price, Length: 2472, dtype: float64>"
      ]
     },
     "execution_count": 2,
     "metadata": {},
     "output_type": "execute_result"
    }
   ],
   "source": [
    "# Load dữ liệu từ file CSV (ví dụ)\n",
    "df = pd.read_csv('C:\\\\Users\\\\Administrator\\\\Downloads\\\\BIDV.csv')\n",
    "df1=df.reset_index()['Price']\n",
    "df1.describe"
   ]
  },
  {
   "cell_type": "code",
   "execution_count": 3,
   "id": "4208c4ea",
   "metadata": {},
   "outputs": [],
   "source": [
    "# Scaler data\n",
    "scaler=MinMaxScaler(feature_range=(0,1))\n",
    "df1=scaler.fit_transform(np.array(df1).reshape(-1,1))"
   ]
  },
  {
   "cell_type": "code",
   "execution_count": 4,
   "id": "005a4e21",
   "metadata": {},
   "outputs": [],
   "source": [
    "# Chia train test\n",
    "train_size = int(0.9 * len(df1))\n",
    "test_size = len(df1) - train_size\n",
    "\n",
    "train_data = df1[:train_size]\n",
    "test_data = df1[train_size:]"
   ]
  },
  {
   "cell_type": "code",
   "execution_count": 5,
   "id": "83583693",
   "metadata": {},
   "outputs": [],
   "source": [
    "# Hàm Create Dataset\n",
    "import numpy\n",
    "# convert an array of values into a dataset matrix\n",
    "def create_dataset(dataset, time_step=1):\n",
    "    dataX, dataY = [], []\n",
    "    for i in range(len(dataset)-time_step-1):\n",
    "        a = dataset[i:(i+time_step), 0]   ###i=0, X=0,1,2,3-----99   Y=100\n",
    "        dataX.append(a)\n",
    "        dataY.append(dataset[i + time_step, 0])\n",
    "    return numpy.array(dataX), numpy.array(dataY)"
   ]
  },
  {
   "cell_type": "code",
   "execution_count": 6,
   "id": "e9316021",
   "metadata": {},
   "outputs": [],
   "source": [
    "# Reshape into X=t,t+1,t+2..t+99 and Y=t+100\n",
    "time_step = 30\n",
    "X_train, y_train = create_dataset(train_data, time_step)\n",
    "X_test, y_test = create_dataset(test_data, time_step)"
   ]
  },
  {
   "cell_type": "code",
   "execution_count": 7,
   "id": "a6f1fac9",
   "metadata": {},
   "outputs": [
    {
     "data": {
      "text/plain": [
       "(array([[0.07418187, 0.06248662, 0.04786633, ..., 0.04786633, 0.04786633,\n",
       "         0.05078893],\n",
       "        [0.06248662, 0.04786633, 0.05371396, ..., 0.04786633, 0.05078893,\n",
       "         0.05956159],\n",
       "        [0.04786633, 0.05371396, 0.05225145, ..., 0.05078893, 0.05956159,\n",
       "         0.06394913],\n",
       "        ...,\n",
       "        [0.68486577, 0.64958047, 0.68121557, ..., 0.75178617, 0.7493527 ,\n",
       "         0.74205229],\n",
       "        [0.64958047, 0.68121557, 0.6787821 , ..., 0.7493527 , 0.74205229,\n",
       "         0.74448576],\n",
       "        [0.68121557, 0.6787821 , 0.61794537, ..., 0.74205229, 0.74448576,\n",
       "         0.75421964]]),\n",
       " array([0.05956159, 0.06394913, 0.0610241 , ..., 0.74448576, 0.75421964,\n",
       "        0.75421964]))"
      ]
     },
     "execution_count": 7,
     "metadata": {},
     "output_type": "execute_result"
    }
   ],
   "source": [
    "# Reshape input to be [samples, time steps, features] which is required for LSTM\n",
    "X_train =X_train.reshape(X_train.shape[0],X_train.shape[1])\n",
    "X_test = X_test.reshape(X_test.shape[0],X_train.shape[1])\n",
    "X_train, y_train"
   ]
  },
  {
   "cell_type": "code",
   "execution_count": 8,
   "id": "8880ec67",
   "metadata": {},
   "outputs": [
    {
     "data": {
      "text/html": [
       "<style>#sk-container-id-1 {color: black;}#sk-container-id-1 pre{padding: 0;}#sk-container-id-1 div.sk-toggleable {background-color: white;}#sk-container-id-1 label.sk-toggleable__label {cursor: pointer;display: block;width: 100%;margin-bottom: 0;padding: 0.3em;box-sizing: border-box;text-align: center;}#sk-container-id-1 label.sk-toggleable__label-arrow:before {content: \"▸\";float: left;margin-right: 0.25em;color: #696969;}#sk-container-id-1 label.sk-toggleable__label-arrow:hover:before {color: black;}#sk-container-id-1 div.sk-estimator:hover label.sk-toggleable__label-arrow:before {color: black;}#sk-container-id-1 div.sk-toggleable__content {max-height: 0;max-width: 0;overflow: hidden;text-align: left;background-color: #f0f8ff;}#sk-container-id-1 div.sk-toggleable__content pre {margin: 0.2em;color: black;border-radius: 0.25em;background-color: #f0f8ff;}#sk-container-id-1 input.sk-toggleable__control:checked~div.sk-toggleable__content {max-height: 200px;max-width: 100%;overflow: auto;}#sk-container-id-1 input.sk-toggleable__control:checked~label.sk-toggleable__label-arrow:before {content: \"▾\";}#sk-container-id-1 div.sk-estimator input.sk-toggleable__control:checked~label.sk-toggleable__label {background-color: #d4ebff;}#sk-container-id-1 div.sk-label input.sk-toggleable__control:checked~label.sk-toggleable__label {background-color: #d4ebff;}#sk-container-id-1 input.sk-hidden--visually {border: 0;clip: rect(1px 1px 1px 1px);clip: rect(1px, 1px, 1px, 1px);height: 1px;margin: -1px;overflow: hidden;padding: 0;position: absolute;width: 1px;}#sk-container-id-1 div.sk-estimator {font-family: monospace;background-color: #f0f8ff;border: 1px dotted black;border-radius: 0.25em;box-sizing: border-box;margin-bottom: 0.5em;}#sk-container-id-1 div.sk-estimator:hover {background-color: #d4ebff;}#sk-container-id-1 div.sk-parallel-item::after {content: \"\";width: 100%;border-bottom: 1px solid gray;flex-grow: 1;}#sk-container-id-1 div.sk-label:hover label.sk-toggleable__label {background-color: #d4ebff;}#sk-container-id-1 div.sk-serial::before {content: \"\";position: absolute;border-left: 1px solid gray;box-sizing: border-box;top: 0;bottom: 0;left: 50%;z-index: 0;}#sk-container-id-1 div.sk-serial {display: flex;flex-direction: column;align-items: center;background-color: white;padding-right: 0.2em;padding-left: 0.2em;position: relative;}#sk-container-id-1 div.sk-item {position: relative;z-index: 1;}#sk-container-id-1 div.sk-parallel {display: flex;align-items: stretch;justify-content: center;background-color: white;position: relative;}#sk-container-id-1 div.sk-item::before, #sk-container-id-1 div.sk-parallel-item::before {content: \"\";position: absolute;border-left: 1px solid gray;box-sizing: border-box;top: 0;bottom: 0;left: 50%;z-index: -1;}#sk-container-id-1 div.sk-parallel-item {display: flex;flex-direction: column;z-index: 1;position: relative;background-color: white;}#sk-container-id-1 div.sk-parallel-item:first-child::after {align-self: flex-end;width: 50%;}#sk-container-id-1 div.sk-parallel-item:last-child::after {align-self: flex-start;width: 50%;}#sk-container-id-1 div.sk-parallel-item:only-child::after {width: 0;}#sk-container-id-1 div.sk-dashed-wrapped {border: 1px dashed gray;margin: 0 0.4em 0.5em 0.4em;box-sizing: border-box;padding-bottom: 0.4em;background-color: white;}#sk-container-id-1 div.sk-label label {font-family: monospace;font-weight: bold;display: inline-block;line-height: 1.2em;}#sk-container-id-1 div.sk-label-container {text-align: center;}#sk-container-id-1 div.sk-container {/* jupyter's `normalize.less` sets `[hidden] { display: none; }` but bootstrap.min.css set `[hidden] { display: none !important; }` so we also need the `!important` here to be able to override the default hidden behavior on the sphinx rendered scikit-learn.org. See: https://github.com/scikit-learn/scikit-learn/issues/21755 */display: inline-block !important;position: relative;}#sk-container-id-1 div.sk-text-repr-fallback {display: none;}</style><div id=\"sk-container-id-1\" class=\"sk-top-container\"><div class=\"sk-text-repr-fallback\"><pre>RandomForestRegressor(n_estimators=50)</pre><b>In a Jupyter environment, please rerun this cell to show the HTML representation or trust the notebook. <br />On GitHub, the HTML representation is unable to render, please try loading this page with nbviewer.org.</b></div><div class=\"sk-container\" hidden><div class=\"sk-item\"><div class=\"sk-estimator sk-toggleable\"><input class=\"sk-toggleable__control sk-hidden--visually\" id=\"sk-estimator-id-1\" type=\"checkbox\" checked><label for=\"sk-estimator-id-1\" class=\"sk-toggleable__label sk-toggleable__label-arrow\">RandomForestRegressor</label><div class=\"sk-toggleable__content\"><pre>RandomForestRegressor(n_estimators=50)</pre></div></div></div></div></div>"
      ],
      "text/plain": [
       "RandomForestRegressor(n_estimators=50)"
      ]
     },
     "execution_count": 8,
     "metadata": {},
     "output_type": "execute_result"
    }
   ],
   "source": [
    "model = RandomForestRegressor(n_estimators=50)\n",
    "model.fit(X_train,y_train)"
   ]
  },
  {
   "cell_type": "code",
   "execution_count": 9,
   "id": "3aa8e29e",
   "metadata": {},
   "outputs": [
    {
     "data": {
      "text/plain": [
       "array([[42397.   ],\n",
       "       [43501.   ],\n",
       "       [43762.   ],\n",
       "       [45217.   ],\n",
       "       [45789.   ],\n",
       "       [45274.   ],\n",
       "       [45344.   ],\n",
       "       [45364.   ],\n",
       "       [45180.   ],\n",
       "       [43770.   ],\n",
       "       [43623.   ],\n",
       "       [43890.   ],\n",
       "       [45070.   ],\n",
       "       [45463.   ],\n",
       "       [45319.   ],\n",
       "       [45645.   ],\n",
       "       [45681.   ],\n",
       "       [45825.   ],\n",
       "       [45826.   ],\n",
       "       [45273.   ],\n",
       "       [45333.   ],\n",
       "       [45748.   ],\n",
       "       [45450.   ],\n",
       "       [45117.   ],\n",
       "       [45330.   ],\n",
       "       [45151.   ],\n",
       "       [44824.   ],\n",
       "       [44889.   ],\n",
       "       [44950.   ],\n",
       "       [44959.   ],\n",
       "       [45020.   ],\n",
       "       [45128.   ],\n",
       "       [45009.   ],\n",
       "       [45046.   ],\n",
       "       [44978.   ],\n",
       "       [45168.   ],\n",
       "       [45228.   ],\n",
       "       [44916.   ],\n",
       "       [44939.   ],\n",
       "       [44975.   ],\n",
       "       [44592.   ],\n",
       "       [43422.   ],\n",
       "       [43720.   ],\n",
       "       [44770.   ],\n",
       "       [43637.   ],\n",
       "       [44791.   ],\n",
       "       [43869.   ],\n",
       "       [43697.   ],\n",
       "       [43956.   ],\n",
       "       [43606.   ],\n",
       "       [43512.   ],\n",
       "       [43645.   ],\n",
       "       [43536.   ],\n",
       "       [43483.   ],\n",
       "       [43577.   ],\n",
       "       [42910.   ],\n",
       "       [43606.   ],\n",
       "       [44955.   ],\n",
       "       [45101.   ],\n",
       "       [45137.   ],\n",
       "       [45055.   ],\n",
       "       [45052.   ],\n",
       "       [45083.   ],\n",
       "       [45122.   ],\n",
       "       [45046.   ],\n",
       "       [44490.   ],\n",
       "       [43621.   ],\n",
       "       [43628.   ],\n",
       "       [43490.   ],\n",
       "       [43572.   ],\n",
       "       [42813.   ],\n",
       "       [43619.   ],\n",
       "       [43550.   ],\n",
       "       [43706.   ],\n",
       "       [43608.   ],\n",
       "       [43742.   ],\n",
       "       [44718.   ],\n",
       "       [44692.   ],\n",
       "       [44915.   ],\n",
       "       [43434.   ],\n",
       "       [42942.   ],\n",
       "       [43389.   ],\n",
       "       [43466.   ],\n",
       "       [43630.   ],\n",
       "       [43641.   ],\n",
       "       [43631.   ],\n",
       "       [43050.   ],\n",
       "       [43520.   ],\n",
       "       [42361.   ],\n",
       "       [43552.   ],\n",
       "       [43631.   ],\n",
       "       [43789.   ],\n",
       "       [43715.   ],\n",
       "       [44068.   ],\n",
       "       [44888.   ],\n",
       "       [42931.384],\n",
       "       [43328.   ],\n",
       "       [43457.   ],\n",
       "       [43501.   ],\n",
       "       [43556.   ],\n",
       "       [43601.   ],\n",
       "       [44893.   ],\n",
       "       [45716.   ],\n",
       "       [45890.   ],\n",
       "       [46001.   ],\n",
       "       [45878.   ],\n",
       "       [45433.   ],\n",
       "       [45843.   ],\n",
       "       [45456.   ],\n",
       "       [45348.   ],\n",
       "       [46061.   ],\n",
       "       [45819.   ],\n",
       "       [45782.   ],\n",
       "       [45554.   ],\n",
       "       [45720.   ],\n",
       "       [45515.   ],\n",
       "       [45624.   ],\n",
       "       [45650.   ],\n",
       "       [45694.   ],\n",
       "       [45666.   ],\n",
       "       [45518.   ],\n",
       "       [45520.   ],\n",
       "       [45547.   ],\n",
       "       [45555.   ],\n",
       "       [45413.   ],\n",
       "       [45700.   ],\n",
       "       [45605.   ],\n",
       "       [45585.   ],\n",
       "       [45635.   ],\n",
       "       [45666.   ],\n",
       "       [45056.   ],\n",
       "       [44058.   ],\n",
       "       [44996.   ],\n",
       "       [44827.   ],\n",
       "       [44845.   ],\n",
       "       [45024.   ],\n",
       "       [44860.   ],\n",
       "       [44966.   ],\n",
       "       [44696.   ],\n",
       "       [45487.   ],\n",
       "       [45550.   ],\n",
       "       [45788.   ],\n",
       "       [45821.   ],\n",
       "       [45865.   ],\n",
       "       [45663.   ],\n",
       "       [45806.   ],\n",
       "       [45861.   ],\n",
       "       [45880.   ],\n",
       "       [45858.   ],\n",
       "       [45121.   ],\n",
       "       [44978.   ],\n",
       "       [45069.   ],\n",
       "       [45049.   ],\n",
       "       [44983.   ],\n",
       "       [45134.   ],\n",
       "       [44764.   ],\n",
       "       [43643.   ],\n",
       "       [43621.   ],\n",
       "       [43570.   ],\n",
       "       [43665.   ],\n",
       "       [41938.714],\n",
       "       [42804.   ],\n",
       "       [41800.48 ],\n",
       "       [41903.556],\n",
       "       [41792.802],\n",
       "       [41723.278],\n",
       "       [42134.532],\n",
       "       [42257.834],\n",
       "       [42613.078],\n",
       "       [42055.606],\n",
       "       [41618.274],\n",
       "       [39430.282],\n",
       "       [39936.028],\n",
       "       [40336.456],\n",
       "       [39678.928],\n",
       "       [41143.97 ],\n",
       "       [40023.844],\n",
       "       [40097.88 ],\n",
       "       [42302.19 ],\n",
       "       [40061.348],\n",
       "       [39807.508],\n",
       "       [39129.544],\n",
       "       [41927.92 ],\n",
       "       [41460.23 ],\n",
       "       [41725.256],\n",
       "       [41764.6  ],\n",
       "       [42392.182],\n",
       "       [42424.434],\n",
       "       [42213.204],\n",
       "       [42119.422],\n",
       "       [42445.122],\n",
       "       [43724.   ],\n",
       "       [43744.   ],\n",
       "       [42794.436],\n",
       "       [42827.868],\n",
       "       [43565.   ],\n",
       "       [43603.   ],\n",
       "       [42859.714],\n",
       "       [43562.   ],\n",
       "       [42177.992],\n",
       "       [38681.002],\n",
       "       [39042.782],\n",
       "       [38659.16 ],\n",
       "       [39067.824],\n",
       "       [39210.854],\n",
       "       [39165.308],\n",
       "       [39149.202],\n",
       "       [39981.8  ],\n",
       "       [41736.818],\n",
       "       [41044.34 ],\n",
       "       [41764.524],\n",
       "       [41989.342],\n",
       "       [41642.358],\n",
       "       [41603.484],\n",
       "       [40416.312],\n",
       "       [40357.73 ],\n",
       "       [40985.416]])"
      ]
     },
     "execution_count": 9,
     "metadata": {},
     "output_type": "execute_result"
    }
   ],
   "source": [
    "# Dự báo\n",
    "test_predict = model.predict(X_test)\n",
    "test_predict = scaler.inverse_transform(test_predict.reshape(-1, 1))\n",
    "y_test = scaler.inverse_transform([y_test])\n",
    "test_predict"
   ]
  },
  {
   "cell_type": "code",
   "execution_count": 10,
   "id": "3d474ccd",
   "metadata": {},
   "outputs": [
    {
     "name": "stdout",
     "output_type": "stream",
     "text": [
      "[[42074.416]\n",
      " [42042.628]\n",
      " [42083.568]\n",
      " [42201.296]\n",
      " [42288.742]\n",
      " [42289.67 ]\n",
      " [42160.86 ]\n",
      " [42154.574]\n",
      " [42168.72 ]\n",
      " [42202.896]\n",
      " [42198.088]\n",
      " [42187.942]\n",
      " [42165.462]\n",
      " [42205.732]\n",
      " [42194.732]\n",
      " [42259.028]\n",
      " [42149.288]\n",
      " [42140.548]\n",
      " [42139.486]\n",
      " [42235.226]\n",
      " [42178.366]\n",
      " [42154.366]\n",
      " [42141.626]\n",
      " [42235.226]\n",
      " [42235.226]\n",
      " [42235.226]\n",
      " [42141.626]\n",
      " [42141.626]\n",
      " [42200.626]\n",
      " [42235.226]]\n"
     ]
    }
   ],
   "source": [
    "# Dự báo giá trị 30 ngày trong tương lai\n",
    "last_30_days = df1[-30:]\n",
    "next_30_days = []\n",
    "for i in range(30):\n",
    "    x = last_30_days[-time_step:].reshape(1, time_step)\n",
    "    y_hat = model.predict(x)\n",
    "    next_30_days.append(y_hat)\n",
    "    last_30_days = np.append(last_30_days, y_hat)\n",
    "\n",
    "next_30_days = np.array(next_30_days).reshape(-1, 1)\n",
    "next_30_days = scaler.inverse_transform(next_30_days)\n",
    "\n",
    "print(next_30_days)"
   ]
  },
  {
   "cell_type": "code",
   "execution_count": 11,
   "id": "956759b3",
   "metadata": {},
   "outputs": [
    {
     "data": {
      "image/png": "[encoded data removed]",
      "text/plain": [
       "<Figure size 640x480 with 1 Axes>"
      ]
     },
     "metadata": {},
     "output_type": "display_data"
    }
   ],
   "source": [
    "color_palette = ['#1f77b4', '#ff7f0e', '#2ca02c', '#d62728', '#9467bd', '#8c564b']\n",
    "from matplotlib import pyplot as plt\n",
    "# train\n",
    "train_data_index = pd.RangeIndex(start=0, stop=train_size, step=1)\n",
    "plt.plot(train_data_index, scaler.inverse_transform(train_data), label=\"Train\")\n",
    "# plt.plot([*train_range], pred_train.squeeze(), label=\"Predict Train\", linestyle=\"dotted\", color = color_palette[1])\n",
    "\n",
    "# test\n",
    "test_data_index = pd.RangeIndex(start=train_size, stop=train_size + test_size, step=1)\n",
    "# test_range = range(len(y_true_train.squeeze()),len(y_true_train.squeeze()) + len(y_true_test.squeeze()))\n",
    "plt.plot(test_data_index, scaler.inverse_transform(test_data), label=\"Test\")\n",
    "test_data_index = pd.RangeIndex(start=train_size+31, stop=len(df1), step=1)\n",
    "plt.plot(test_data_index, test_predict.squeeze(), label=\"Predict\", linestyle=\"-\")\n",
    "\n",
    "#30 days\n",
    "predict_data_index = pd.RangeIndex(start=len(df1), stop=len(df1)+30, step=1)\n",
    "plt.plot(predict_data_index, next_30_days.squeeze(), label=\"Next30days\")\n",
    "\n",
    "# # Dự đoán 30 điểm tiếp theo\n",
    "plt.legend()\n",
    "plt.title('BIDV_RF: Stock Price Prediction')\n",
    "plt.show()"
   ]
  },
  {
   "cell_type": "code",
   "execution_count": 12,
   "id": "79d30838",
   "metadata": {},
   "outputs": [
    {
     "name": "stdout",
     "output_type": "stream",
     "text": [
      "RMSE trên tập test là: 1150.2664977325326\n",
      "MAPE trên tập test là: 1.9707061827226005 %\n",
      "MDA trên tập test là: 34.72222222222222 %\n",
      "MSLE trên tập test là: 0.0006606040463596468\n"
     ]
    }
   ],
   "source": [
    "from sklearn.metrics import mean_squared_error, mean_absolute_error, mean_absolute_percentage_error, mean_squared_log_error\n",
    "import numpy as np\n",
    "def calculate_mda(y_true, y_pred):\n",
    "    y_true_diff = np.diff(y_true)\n",
    "    y_pred_diff = np.diff(y_pred)\n",
    "    correct_direction = np.sign(y_true_diff) == np.sign(y_pred_diff)\n",
    "    return np.mean(correct_direction) * 100\n",
    "\n",
    "# Tính toán RMSE, MAE và MAPE trên tập test\n",
    "test_score_rmse = np.sqrt(mean_squared_error(y_test[0], test_predict[:, 0]))\n",
    "test_score_mape = mean_absolute_percentage_error(y_test[0], test_predict[:, 0]) * 100\n",
    "test_score_mda = calculate_mda(y_test[0], test_predict[:, 0])\n",
    "msle = mean_squared_log_error(y_test[0], test_predict[:, 0])\n",
    "\n",
    "print('RMSE trên tập test là:', test_score_rmse)\n",
    "print('MAPE trên tập test là:', test_score_mape, '%')\n",
    "print('MDA trên tập test là:', test_score_mda, '%')\n",
    "print('MSLE trên tập test là:', msle)"
   ]
  },
  {
   "cell_type": "code",
   "execution_count": null,
   "id": "58d40225",
   "metadata": {},
   "outputs": [],
   "source": []
  }
 ],
 "metadata": {
  "kernelspec": {
   "display_name": "Python 3 (ipykernel)",
   "language": "python",
   "name": "python3"
  },
  "language_info": {
   "codemirror_mode": {
    "name": "ipython",
    "version": 3
   },
   "file_extension": ".py",
   "mimetype": "text/x-python",
   "name": "python",
   "nbconvert_exporter": "python",
   "pygments_lexer": "ipython3",
   "version": "3.11.5"
  }
 },
 "nbformat": 4,
 "nbformat_minor": 5
}
