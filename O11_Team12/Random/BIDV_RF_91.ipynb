{
 "cells": [
  {
   "cell_type": "code",
   "execution_count": 1,
   "id": "16713daa",
   "metadata": {},
   "outputs": [
    {
     "name": "stdout",
     "output_type": "stream",
     "text": [
      "WARNING:tensorflow:From D:\\ProgramData\\anaconda3\\Lib\\site-packages\\keras\\src\\losses.py:2976: The name tf.losses.sparse_softmax_cross_entropy is deprecated. Please use tf.compat.v1.losses.sparse_softmax_cross_entropy instead.\n",
      "\n"
     ]
    }
   ],
   "source": [
    "# Import library\n",
    "import numpy as np\n",
    "import pandas as pd\n",
    "import matplotlib.pyplot as plt\n",
    "from sklearn.preprocessing import MinMaxScaler\n",
    "from keras.models import Sequential\n",
    "from sklearn.ensemble import RandomForestRegressor"
   ]
  },
  {
   "cell_type": "code",
   "execution_count": 2,
   "id": "5439bf25",
   "metadata": {},
   "outputs": [
    {
     "data": {
      "text/plain": [
       "<bound method NDFrame.describe of 0       11054.8\n",
       "1       10574.2\n",
       "2        9973.4\n",
       "3       10213.7\n",
       "4       10153.6\n",
       "         ...   \n",
       "2467    41000.0\n",
       "2468    41200.0\n",
       "2469    41300.0\n",
       "2470    41800.0\n",
       "2471    42050.0\n",
       "Name: Price, Length: 2472, dtype: float64>"
      ]
     },
     "execution_count": 2,
     "metadata": {},
     "output_type": "execute_result"
    }
   ],
   "source": [
    "# Load dữ liệu từ file CSV (ví dụ)\n",
    "df = pd.read_csv('C:\\\\Users\\\\Administrator\\\\Downloads\\\\BIDV.csv')\n",
    "df1=df.reset_index()['Price']\n",
    "df1.describe"
   ]
  },
  {
   "cell_type": "code",
   "execution_count": 3,
   "id": "4208c4ea",
   "metadata": {},
   "outputs": [],
   "source": [
    "# Scaler data\n",
    "scaler=MinMaxScaler(feature_range=(0,1))\n",
    "df1=scaler.fit_transform(np.array(df1).reshape(-1,1))"
   ]
  },
  {
   "cell_type": "code",
   "execution_count": 4,
   "id": "005a4e21",
   "metadata": {},
   "outputs": [],
   "source": [
    "# Chia train test\n",
    "train_size = int(0.9 * len(df1))\n",
    "test_size = len(df1) - train_size\n",
    "\n",
    "train_data = df1[:train_size]\n",
    "test_data = df1[train_size:]"
   ]
  },
  {
   "cell_type": "code",
   "execution_count": 5,
   "id": "83583693",
   "metadata": {},
   "outputs": [],
   "source": [
    "# Hàm Create Dataset\n",
    "import numpy\n",
    "# convert an array of values into a dataset matrix\n",
    "def create_dataset(dataset, time_step=1):\n",
    "    dataX, dataY = [], []\n",
    "    for i in range(len(dataset)-time_step-1):\n",
    "        a = dataset[i:(i+time_step), 0]   ###i=0, X=0,1,2,3-----99   Y=100\n",
    "        dataX.append(a)\n",
    "        dataY.append(dataset[i + time_step, 0])\n",
    "    return numpy.array(dataX), numpy.array(dataY)"
   ]
  },
  {
   "cell_type": "code",
   "execution_count": 6,
   "id": "e9316021",
   "metadata": {},
   "outputs": [],
   "source": [
    "# Reshape into X=t,t+1,t+2..t+99 and Y=t+100\n",
    "time_step = 30\n",
    "X_train, y_train = create_dataset(train_data, time_step)\n",
    "X_test, y_test = create_dataset(test_data, time_step)"
   ]
  },
  {
   "cell_type": "code",
   "execution_count": 7,
   "id": "a6f1fac9",
   "metadata": {},
   "outputs": [
    {
     "data": {
      "text/plain": [
       "(array([[0.07418187, 0.06248662, 0.04786633, ..., 0.04786633, 0.04786633,\n",
       "         0.05078893],\n",
       "        [0.06248662, 0.04786633, 0.05371396, ..., 0.04786633, 0.05078893,\n",
       "         0.05956159],\n",
       "        [0.04786633, 0.05371396, 0.05225145, ..., 0.05078893, 0.05956159,\n",
       "         0.06394913],\n",
       "        ...,\n",
       "        [0.68486577, 0.64958047, 0.68121557, ..., 0.75178617, 0.7493527 ,\n",
       "         0.74205229],\n",
       "        [0.64958047, 0.68121557, 0.6787821 , ..., 0.7493527 , 0.74205229,\n",
       "         0.74448576],\n",
       "        [0.68121557, 0.6787821 , 0.61794537, ..., 0.74205229, 0.74448576,\n",
       "         0.75421964]]),\n",
       " array([0.05956159, 0.06394913, 0.0610241 , ..., 0.74448576, 0.75421964,\n",
       "        0.75421964]))"
      ]
     },
     "execution_count": 7,
     "metadata": {},
     "output_type": "execute_result"
    }
   ],
   "source": [
    "# Reshape input to be [samples, time steps, features] which is required for LSTM\n",
    "X_train =X_train.reshape(X_train.shape[0],X_train.shape[1])\n",
    "X_test = X_test.reshape(X_test.shape[0],X_train.shape[1])\n",
    "X_train, y_train"
   ]
  },
  {
   "cell_type": "code",
   "execution_count": 8,
   "id": "8880ec67",
   "metadata": {},
   "outputs": [
    {
     "data": {
      "text/html": [
       "<style>#sk-container-id-1 {color: black;}#sk-container-id-1 pre{padding: 0;}#sk-container-id-1 div.sk-toggleable {background-color: white;}#sk-container-id-1 label.sk-toggleable__label {cursor: pointer;display: block;width: 100%;margin-bottom: 0;padding: 0.3em;box-sizing: border-box;text-align: center;}#sk-container-id-1 label.sk-toggleable__label-arrow:before {content: \"▸\";float: left;margin-right: 0.25em;color: #696969;}#sk-container-id-1 label.sk-toggleable__label-arrow:hover:before {color: black;}#sk-container-id-1 div.sk-estimator:hover label.sk-toggleable__label-arrow:before {color: black;}#sk-container-id-1 div.sk-toggleable__content {max-height: 0;max-width: 0;overflow: hidden;text-align: left;background-color: #f0f8ff;}#sk-container-id-1 div.sk-toggleable__content pre {margin: 0.2em;color: black;border-radius: 0.25em;background-color: #f0f8ff;}#sk-container-id-1 input.sk-toggleable__control:checked~div.sk-toggleable__content {max-height: 200px;max-width: 100%;overflow: auto;}#sk-container-id-1 input.sk-toggleable__control:checked~label.sk-toggleable__label-arrow:before {content: \"▾\";}#sk-container-id-1 div.sk-estimator input.sk-toggleable__control:checked~label.sk-toggleable__label {background-color: #d4ebff;}#sk-container-id-1 div.sk-label input.sk-toggleable__control:checked~label.sk-toggleable__label {background-color: #d4ebff;}#sk-container-id-1 input.sk-hidden--visually {border: 0;clip: rect(1px 1px 1px 1px);clip: rect(1px, 1px, 1px, 1px);height: 1px;margin: -1px;overflow: hidden;padding: 0;position: absolute;width: 1px;}#sk-container-id-1 div.sk-estimator {font-family: monospace;background-color: #f0f8ff;border: 1px dotted black;border-radius: 0.25em;box-sizing: border-box;margin-bottom: 0.5em;}#sk-container-id-1 div.sk-estimator:hover {background-color: #d4ebff;}#sk-container-id-1 div.sk-parallel-item::after {content: \"\";width: 100%;border-bottom: 1px solid gray;flex-grow: 1;}#sk-container-id-1 div.sk-label:hover label.sk-toggleable__label {background-color: #d4ebff;}#sk-container-id-1 div.sk-serial::before {content: \"\";position: absolute;border-left: 1px solid gray;box-sizing: border-box;top: 0;bottom: 0;left: 50%;z-index: 0;}#sk-container-id-1 div.sk-serial {display: flex;flex-direction: column;align-items: center;background-color: white;padding-right: 0.2em;padding-left: 0.2em;position: relative;}#sk-container-id-1 div.sk-item {position: relative;z-index: 1;}#sk-container-id-1 div.sk-parallel {display: flex;align-items: stretch;justify-content: center;background-color: white;position: relative;}#sk-container-id-1 div.sk-item::before, #sk-container-id-1 div.sk-parallel-item::before {content: \"\";position: absolute;border-left: 1px solid gray;box-sizing: border-box;top: 0;bottom: 0;left: 50%;z-index: -1;}#sk-container-id-1 div.sk-parallel-item {display: flex;flex-direction: column;z-index: 1;position: relative;background-color: white;}#sk-container-id-1 div.sk-parallel-item:first-child::after {align-self: flex-end;width: 50%;}#sk-container-id-1 div.sk-parallel-item:last-child::after {align-self: flex-start;width: 50%;}#sk-container-id-1 div.sk-parallel-item:only-child::after {width: 0;}#sk-container-id-1 div.sk-dashed-wrapped {border: 1px dashed gray;margin: 0 0.4em 0.5em 0.4em;box-sizing: border-box;padding-bottom: 0.4em;background-color: white;}#sk-container-id-1 div.sk-label label {font-family: monospace;font-weight: bold;display: inline-block;line-height: 1.2em;}#sk-container-id-1 div.sk-label-container {text-align: center;}#sk-container-id-1 div.sk-container {/* jupyter's `normalize.less` sets `[hidden] { display: none; }` but bootstrap.min.css set `[hidden] { display: none !important; }` so we also need the `!important` here to be able to override the default hidden behavior on the sphinx rendered scikit-learn.org. See: https://github.com/scikit-learn/scikit-learn/issues/21755 */display: inline-block !important;position: relative;}#sk-container-id-1 div.sk-text-repr-fallback {display: none;}</style><div id=\"sk-container-id-1\" class=\"sk-top-container\"><div class=\"sk-text-repr-fallback\"><pre>RandomForestRegressor(n_estimators=50)</pre><b>In a Jupyter environment, please rerun this cell to show the HTML representation or trust the notebook. <br />On GitHub, the HTML representation is unable to render, please try loading this page with nbviewer.org.</b></div><div class=\"sk-container\" hidden><div class=\"sk-item\"><div class=\"sk-estimator sk-toggleable\"><input class=\"sk-toggleable__control sk-hidden--visually\" id=\"sk-estimator-id-1\" type=\"checkbox\" checked><label for=\"sk-estimator-id-1\" class=\"sk-toggleable__label sk-toggleable__label-arrow\">RandomForestRegressor</label><div class=\"sk-toggleable__content\"><pre>RandomForestRegressor(n_estimators=50)</pre></div></div></div></div></div>"
      ],
      "text/plain": [
       "RandomForestRegressor(n_estimators=50)"
      ]
     },
     "execution_count": 8,
     "metadata": {},
     "output_type": "execute_result"
    }
   ],
   "source": [
    "model = RandomForestRegressor(n_estimators=50)\n",
    "model.fit(X_train,y_train)"
   ]
  },
  {
   "cell_type": "code",
   "execution_count": 9,
   "id": "3aa8e29e",
   "metadata": {},
   "outputs": [
    {
     "data": {
      "text/plain": [
       "array([[42545.73 ],\n",
       "       [43461.   ],\n",
       "       [43807.   ],\n",
       "       [45025.   ],\n",
       "       [45603.   ],\n",
       "       [45034.   ],\n",
       "       [45218.   ],\n",
       "       [45063.   ],\n",
       "       [45011.   ],\n",
       "       [43726.   ],\n",
       "       [43622.   ],\n",
       "       [44020.   ],\n",
       "       [45158.   ],\n",
       "       [45154.   ],\n",
       "       [44777.   ],\n",
       "       [45536.   ],\n",
       "       [45436.   ],\n",
       "       [45559.   ],\n",
       "       [45576.   ],\n",
       "       [45118.   ],\n",
       "       [45144.   ],\n",
       "       [45607.   ],\n",
       "       [45206.   ],\n",
       "       [45216.   ],\n",
       "       [45425.   ],\n",
       "       [44926.   ],\n",
       "       [44725.   ],\n",
       "       [44800.   ],\n",
       "       [44789.   ],\n",
       "       [44941.   ],\n",
       "       [45032.   ],\n",
       "       [44959.   ],\n",
       "       [44977.   ],\n",
       "       [44968.   ],\n",
       "       [44956.   ],\n",
       "       [44858.   ],\n",
       "       [44833.   ],\n",
       "       [44925.   ],\n",
       "       [44935.   ],\n",
       "       [44865.   ],\n",
       "       [44318.   ],\n",
       "       [43575.   ],\n",
       "       [43881.   ],\n",
       "       [44632.   ],\n",
       "       [43724.   ],\n",
       "       [44667.   ],\n",
       "       [43646.   ],\n",
       "       [43673.   ],\n",
       "       [43731.   ],\n",
       "       [43634.   ],\n",
       "       [43370.   ],\n",
       "       [43443.   ],\n",
       "       [43404.   ],\n",
       "       [43446.   ],\n",
       "       [43514.   ],\n",
       "       [42844.   ],\n",
       "       [43605.   ],\n",
       "       [44529.   ],\n",
       "       [44860.   ],\n",
       "       [44862.   ],\n",
       "       [44853.   ],\n",
       "       [44849.   ],\n",
       "       [44920.   ],\n",
       "       [45001.   ],\n",
       "       [45008.   ],\n",
       "       [44316.   ],\n",
       "       [43525.   ],\n",
       "       [43519.   ],\n",
       "       [43504.   ],\n",
       "       [43601.   ],\n",
       "       [42942.   ],\n",
       "       [43564.   ],\n",
       "       [43538.   ],\n",
       "       [43620.   ],\n",
       "       [43654.   ],\n",
       "       [43824.   ],\n",
       "       [44513.   ],\n",
       "       [44565.   ],\n",
       "       [44749.   ],\n",
       "       [43495.   ],\n",
       "       [42931.   ],\n",
       "       [43414.   ],\n",
       "       [43464.   ],\n",
       "       [43553.   ],\n",
       "       [43637.   ],\n",
       "       [43570.   ],\n",
       "       [43141.   ],\n",
       "       [43409.   ],\n",
       "       [42555.   ],\n",
       "       [43423.   ],\n",
       "       [43564.   ],\n",
       "       [43664.   ],\n",
       "       [43609.   ],\n",
       "       [43832.   ],\n",
       "       [44836.   ],\n",
       "       [43000.   ],\n",
       "       [43476.   ],\n",
       "       [43424.   ],\n",
       "       [43555.   ],\n",
       "       [43601.   ],\n",
       "       [43547.   ],\n",
       "       [44859.   ],\n",
       "       [45578.   ],\n",
       "       [45712.   ],\n",
       "       [45702.   ],\n",
       "       [45614.   ],\n",
       "       [45063.   ],\n",
       "       [45592.   ],\n",
       "       [45185.   ],\n",
       "       [45097.   ],\n",
       "       [45794.   ],\n",
       "       [45475.   ],\n",
       "       [45559.   ],\n",
       "       [45569.   ],\n",
       "       [45508.   ],\n",
       "       [45526.   ],\n",
       "       [45512.   ],\n",
       "       [45509.   ],\n",
       "       [45513.   ],\n",
       "       [45533.   ],\n",
       "       [45562.   ],\n",
       "       [45583.   ],\n",
       "       [45441.   ],\n",
       "       [45431.   ],\n",
       "       [45654.   ],\n",
       "       [45727.   ],\n",
       "       [45592.   ],\n",
       "       [45558.   ],\n",
       "       [45611.   ],\n",
       "       [45601.   ],\n",
       "       [44970.   ],\n",
       "       [44200.   ],\n",
       "       [44836.   ],\n",
       "       [44768.   ],\n",
       "       [44917.   ],\n",
       "       [45019.   ],\n",
       "       [44672.   ],\n",
       "       [44675.   ],\n",
       "       [44566.   ],\n",
       "       [45135.   ],\n",
       "       [45405.   ],\n",
       "       [45495.   ],\n",
       "       [45511.   ],\n",
       "       [45643.   ],\n",
       "       [45622.   ],\n",
       "       [45611.   ],\n",
       "       [45642.   ],\n",
       "       [45713.   ],\n",
       "       [45596.   ],\n",
       "       [44965.   ],\n",
       "       [44894.   ],\n",
       "       [44857.   ],\n",
       "       [45004.   ],\n",
       "       [44818.   ],\n",
       "       [44987.   ],\n",
       "       [44660.   ],\n",
       "       [43620.   ],\n",
       "       [43680.   ],\n",
       "       [43639.   ],\n",
       "       [43611.   ],\n",
       "       [41994.   ],\n",
       "       [42765.   ],\n",
       "       [41834.802],\n",
       "       [42128.   ],\n",
       "       [41893.802],\n",
       "       [41909.244],\n",
       "       [42252.2  ],\n",
       "       [42282.46 ],\n",
       "       [42604.792],\n",
       "       [42242.22 ],\n",
       "       [41733.342],\n",
       "       [39606.15 ],\n",
       "       [40208.516],\n",
       "       [40252.716],\n",
       "       [40193.526],\n",
       "       [41446.162],\n",
       "       [40223.936],\n",
       "       [40005.596],\n",
       "       [42254.462],\n",
       "       [40465.948],\n",
       "       [39940.424],\n",
       "       [39289.22 ],\n",
       "       [41912.536],\n",
       "       [41575.398],\n",
       "       [41745.444],\n",
       "       [41750.112],\n",
       "       [42393.32 ],\n",
       "       [42386.436],\n",
       "       [42017.92 ],\n",
       "       [41683.468],\n",
       "       [42107.054],\n",
       "       [43707.   ],\n",
       "       [43777.   ],\n",
       "       [42591.768],\n",
       "       [42488.428],\n",
       "       [43512.   ],\n",
       "       [43507.   ],\n",
       "       [42586.768],\n",
       "       [43576.   ],\n",
       "       [42003.444],\n",
       "       [38901.826],\n",
       "       [39197.594],\n",
       "       [38655.076],\n",
       "       [39137.302],\n",
       "       [39269.35 ],\n",
       "       [39253.052],\n",
       "       [39137.086],\n",
       "       [39832.326],\n",
       "       [41406.484],\n",
       "       [40621.962],\n",
       "       [41460.748],\n",
       "       [41415.666],\n",
       "       [41344.648],\n",
       "       [41178.49 ],\n",
       "       [40329.762],\n",
       "       [40332.766],\n",
       "       [40819.588]])"
      ]
     },
     "execution_count": 9,
     "metadata": {},
     "output_type": "execute_result"
    }
   ],
   "source": [
    "# Dự báo\n",
    "test_predict = model.predict(X_test)\n",
    "test_predict = scaler.inverse_transform(test_predict.reshape(-1, 1))\n",
    "y_test = scaler.inverse_transform([y_test])\n",
    "test_predict"
   ]
  },
  {
   "cell_type": "code",
   "execution_count": 10,
   "id": "3d474ccd",
   "metadata": {},
   "outputs": [
    {
     "name": "stdout",
     "output_type": "stream",
     "text": [
      "[[41812.128]\n",
      " [41459.008]\n",
      " [41451.28 ]\n",
      " [41275.116]\n",
      " [40968.612]\n",
      " [40380.982]\n",
      " [39968.762]\n",
      " [39153.176]\n",
      " [38826.21 ]\n",
      " [38541.628]\n",
      " [37177.302]\n",
      " [36670.28 ]\n",
      " [36546.744]\n",
      " [36574.37 ]\n",
      " [36481.258]\n",
      " [36361.484]\n",
      " [36371.092]\n",
      " [36342.792]\n",
      " [36248.188]\n",
      " [36178.964]\n",
      " [35980.53 ]\n",
      " [35891.734]\n",
      " [35944.138]\n",
      " [35830.674]\n",
      " [35704.89 ]\n",
      " [35607.464]\n",
      " [35481.492]\n",
      " [35139.886]\n",
      " [34849.2  ]\n",
      " [34427.702]]\n"
     ]
    }
   ],
   "source": [
    "# Dự báo giá trị 30 ngày trong tương lai\n",
    "last_30_days = df1[-30:]\n",
    "next_30_days = []\n",
    "for i in range(30):\n",
    "    x = last_30_days[-time_step:].reshape(1, time_step)\n",
    "    y_hat = model.predict(x)\n",
    "    next_30_days.append(y_hat)\n",
    "    last_30_days = np.append(last_30_days, y_hat)\n",
    "\n",
    "next_30_days = np.array(next_30_days).reshape(-1, 1)\n",
    "next_30_days = scaler.inverse_transform(next_30_days)\n",
    "\n",
    "print(next_30_days)"
   ]
  },
  {
   "cell_type": "code",
   "execution_count": 11,
   "id": "956759b3",
   "metadata": {},
   "outputs": [
    {
     "data": {
      "image/png": "[encoded data removed]",
      "text/plain": [
       "<Figure size 640x480 with 1 Axes>"
      ]
     },
     "metadata": {},
     "output_type": "display_data"
    }
   ],
   "source": [
    "color_palette = ['#1f77b4', '#ff7f0e', '#2ca02c', '#d62728', '#9467bd', '#8c564b']\n",
    "from matplotlib import pyplot as plt\n",
    "\n",
    "# train\n",
    "train_data_index = pd.RangeIndex(start=0, stop=train_size, step=1)\n",
    "plt.plot(train_data_index, scaler.inverse_transform(train_data), label=\"Train\")\n",
    "# plt.plot([*train_range], pred_train.squeeze(), label=\"Predict Train\", linestyle=\"dotted\", color = color_palette[1])\n",
    "\n",
    "# test\n",
    "test_data_index = pd.RangeIndex(start=train_size, stop=train_size + test_size, step=1)\n",
    "# test_range = range(len(y_true_train.squeeze()),len(y_true_train.squeeze()) + len(y_true_test.squeeze()))\n",
    "plt.plot(test_data_index, scaler.inverse_transform(test_data), label=\"Test\")\n",
    "test_data_index = pd.RangeIndex(start=train_size+31, stop=len(df1), step=1)\n",
    "plt.plot(test_data_index, test_predict.squeeze(), label=\"Predict\", linestyle=\"-\")\n",
    "\n",
    "#30 days\n",
    "predict_data_index = pd.RangeIndex(start=len(df1), stop=len(df1)+30, step=1)\n",
    "plt.plot(predict_data_index, next_30_days.squeeze(), label=\"Next30days\")\n",
    "\n",
    "# # Dự đoán 30 điểm tiếp theo\n",
    "plt.legend()\n",
    "plt.title('BIDV_RF: Stock Price Prediction')\n",
    "plt.show()"
   ]
  },
  {
   "cell_type": "code",
   "execution_count": 12,
   "id": "79d30838",
   "metadata": {},
   "outputs": [
    {
     "name": "stdout",
     "output_type": "stream",
     "text": [
      "RMSE trên tập test là: 1201.4940546368318\n",
      "MAPE trên tập test là: 2.0609678215068725 %\n",
      "MDA trên tập test là: 37.96296296296296 %\n",
      "MSLE trên tập test là: 0.0007173459081290605\n"
     ]
    }
   ],
   "source": [
    "from sklearn.metrics import mean_squared_error, mean_absolute_error, mean_absolute_percentage_error, mean_squared_log_error\n",
    "import numpy as np\n",
    "def calculate_mda(y_true, y_pred):\n",
    "    y_true_diff = np.diff(y_true)\n",
    "    y_pred_diff = np.diff(y_pred)\n",
    "    correct_direction = np.sign(y_true_diff) == np.sign(y_pred_diff)\n",
    "    return np.mean(correct_direction) * 100\n",
    "\n",
    "# Tính toán RMSE, MAE và MAPE trên tập test\n",
    "test_score_rmse = np.sqrt(mean_squared_error(y_test[0], test_predict[:, 0]))\n",
    "test_score_mape = mean_absolute_percentage_error(y_test[0], test_predict[:, 0]) * 100\n",
    "test_score_mda = calculate_mda(y_test[0], test_predict[:, 0])\n",
    "msle = mean_squared_log_error(y_test[0], test_predict[:, 0])\n",
    "\n",
    "print('RMSE trên tập test là:', test_score_rmse)\n",
    "print('MAPE trên tập test là:', test_score_mape, '%')\n",
    "print('MDA trên tập test là:', test_score_mda, '%')\n",
    "print('MSLE trên tập test là:', msle)"
   ]
  },
  {
   "cell_type": "code",
   "execution_count": null,
   "id": "58d40225",
   "metadata": {},
   "outputs": [],
   "source": []
  }
 ],
 "metadata": {
  "kernelspec": {
   "display_name": "Python 3 (ipykernel)",
   "language": "python",
   "name": "python3"
  },
  "language_info": {
   "codemirror_mode": {
    "name": "ipython",
    "version": 3
   },
   "file_extension": ".py",
   "mimetype": "text/x-python",
   "name": "python",
   "nbconvert_exporter": "python",
   "pygments_lexer": "ipython3",
   "version": "3.11.5"
  }
 },
 "nbformat": 4,
 "nbformat_minor": 5
}
