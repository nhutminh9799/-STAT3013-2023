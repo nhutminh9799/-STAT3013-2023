{
 "cells": [
  {
   "cell_type": "code",
   "execution_count": 1,
   "id": "b2b08c57",
   "metadata": {},
   "outputs": [
    {
     "name": "stdout",
     "output_type": "stream",
     "text": [
      "WARNING:tensorflow:From D:\\ProgramData\\anaconda3\\Lib\\site-packages\\keras\\src\\losses.py:2976: The name tf.losses.sparse_softmax_cross_entropy is deprecated. Please use tf.compat.v1.losses.sparse_softmax_cross_entropy instead.\n",
      "\n"
     ]
    }
   ],
   "source": [
    "# Import library\n",
    "import numpy as np\n",
    "import pandas as pd\n",
    "import matplotlib.pyplot as plt\n",
    "from sklearn.preprocessing import MinMaxScaler\n",
    "from keras.models import Sequential\n",
    "from sklearn.ensemble import RandomForestRegressor"
   ]
  },
  {
   "cell_type": "code",
   "execution_count": 2,
   "id": "4bc1820b",
   "metadata": {},
   "outputs": [
    {
     "data": {
      "text/plain": [
       "<bound method NDFrame.describe of 0       11929.0\n",
       "1       11841.0\n",
       "2       11797.0\n",
       "3       11885.0\n",
       "4       11797.0\n",
       "         ...   \n",
       "2491    81500.0\n",
       "2492    81200.0\n",
       "2493    81100.0\n",
       "2494    80900.0\n",
       "2495    80800.0\n",
       "Name: Price, Length: 2496, dtype: float64>"
      ]
     },
     "execution_count": 2,
     "metadata": {},
     "output_type": "execute_result"
    }
   ],
   "source": [
    "# Load dữ liệu từ file CSV (ví dụ)\n",
    "df = pd.read_csv('C:\\\\Users\\\\Administrator\\\\Downloads\\\\VCB.csv')\n",
    "df1=df.reset_index()['Price']\n",
    "df1.describe"
   ]
  },
  {
   "cell_type": "code",
   "execution_count": 3,
   "id": "ba0f1efb",
   "metadata": {},
   "outputs": [],
   "source": [
    "# Scaler data\n",
    "scaler=MinMaxScaler(feature_range=(0,1))\n",
    "df1=scaler.fit_transform(np.array(df1).reshape(-1,1))"
   ]
  },
  {
   "cell_type": "code",
   "execution_count": 4,
   "id": "3c79835d",
   "metadata": {},
   "outputs": [],
   "source": [
    "# Chia train test\n",
    "train_size = int(0.9 * len(df1))\n",
    "test_size = len(df1) - train_size\n",
    "\n",
    "train_data = df1[:train_size]\n",
    "test_data = df1[train_size:]"
   ]
  },
  {
   "cell_type": "code",
   "execution_count": 5,
   "id": "af72db97",
   "metadata": {},
   "outputs": [],
   "source": [
    "# Hàm Create Dataset\n",
    "import numpy\n",
    "# convert an array of values into a dataset matrix\n",
    "def create_dataset(dataset, time_step=1):\n",
    "    dataX, dataY = [], []\n",
    "    for i in range(len(dataset)-time_step-1):\n",
    "        a = dataset[i:(i+time_step), 0]   ###i=0, X=0,1,2,3-----99   Y=100\n",
    "        dataX.append(a)\n",
    "        dataY.append(dataset[i + time_step, 0])\n",
    "    return numpy.array(dataX), numpy.array(dataY)"
   ]
  },
  {
   "cell_type": "code",
   "execution_count": 6,
   "id": "81977bfa",
   "metadata": {},
   "outputs": [],
   "source": [
    "# Reshape into X=t,t+1,t+2..t+99 and Y=t+100\n",
    "time_step = 30\n",
    "X_train, y_train = create_dataset(train_data, time_step)\n",
    "X_test, y_test = create_dataset(test_data, time_step)"
   ]
  },
  {
   "cell_type": "code",
   "execution_count": 7,
   "id": "1f2d07d2",
   "metadata": {},
   "outputs": [
    {
     "data": {
      "text/plain": [
       "(array([[0.01512138, 0.01420493, 0.01374671, ..., 0.02063047, 0.02063047,\n",
       "         0.02383804],\n",
       "        [0.01420493, 0.01374671, 0.01466315, ..., 0.02063047, 0.02383804,\n",
       "         0.02337982],\n",
       "        [0.01374671, 0.01466315, 0.01374671, ..., 0.02383804, 0.02337982,\n",
       "         0.02383804],\n",
       "        ...,\n",
       "        [0.63862825, 0.64695958, 0.66153942, ..., 0.71152745, 0.71881737,\n",
       "         0.7209002 ],\n",
       "        [0.64695958, 0.66153942, 0.64904242, ..., 0.71881737, 0.7209002 ,\n",
       "         0.71569312],\n",
       "        [0.66153942, 0.64904242, 0.67716068, ..., 0.7209002 , 0.71569312,\n",
       "         0.71361028]]),\n",
       " array([0.02337982, 0.02383804, 0.02292159, ..., 0.71569312, 0.71361028,\n",
       "        0.71048603]))"
      ]
     },
     "execution_count": 7,
     "metadata": {},
     "output_type": "execute_result"
    }
   ],
   "source": [
    "# Reshape input to be [samples, time steps, features] which is required for LSTM\n",
    "X_train =X_train.reshape(X_train.shape[0],X_train.shape[1])\n",
    "X_test = X_test.reshape(X_test.shape[0],X_train.shape[1])\n",
    "X_train, y_train"
   ]
  },
  {
   "cell_type": "code",
   "execution_count": 8,
   "id": "742f287f",
   "metadata": {},
   "outputs": [
    {
     "data": {
      "text/html": [
       "<style>#sk-container-id-1 {color: black;}#sk-container-id-1 pre{padding: 0;}#sk-container-id-1 div.sk-toggleable {background-color: white;}#sk-container-id-1 label.sk-toggleable__label {cursor: pointer;display: block;width: 100%;margin-bottom: 0;padding: 0.3em;box-sizing: border-box;text-align: center;}#sk-container-id-1 label.sk-toggleable__label-arrow:before {content: \"▸\";float: left;margin-right: 0.25em;color: #696969;}#sk-container-id-1 label.sk-toggleable__label-arrow:hover:before {color: black;}#sk-container-id-1 div.sk-estimator:hover label.sk-toggleable__label-arrow:before {color: black;}#sk-container-id-1 div.sk-toggleable__content {max-height: 0;max-width: 0;overflow: hidden;text-align: left;background-color: #f0f8ff;}#sk-container-id-1 div.sk-toggleable__content pre {margin: 0.2em;color: black;border-radius: 0.25em;background-color: #f0f8ff;}#sk-container-id-1 input.sk-toggleable__control:checked~div.sk-toggleable__content {max-height: 200px;max-width: 100%;overflow: auto;}#sk-container-id-1 input.sk-toggleable__control:checked~label.sk-toggleable__label-arrow:before {content: \"▾\";}#sk-container-id-1 div.sk-estimator input.sk-toggleable__control:checked~label.sk-toggleable__label {background-color: #d4ebff;}#sk-container-id-1 div.sk-label input.sk-toggleable__control:checked~label.sk-toggleable__label {background-color: #d4ebff;}#sk-container-id-1 input.sk-hidden--visually {border: 0;clip: rect(1px 1px 1px 1px);clip: rect(1px, 1px, 1px, 1px);height: 1px;margin: -1px;overflow: hidden;padding: 0;position: absolute;width: 1px;}#sk-container-id-1 div.sk-estimator {font-family: monospace;background-color: #f0f8ff;border: 1px dotted black;border-radius: 0.25em;box-sizing: border-box;margin-bottom: 0.5em;}#sk-container-id-1 div.sk-estimator:hover {background-color: #d4ebff;}#sk-container-id-1 div.sk-parallel-item::after {content: \"\";width: 100%;border-bottom: 1px solid gray;flex-grow: 1;}#sk-container-id-1 div.sk-label:hover label.sk-toggleable__label {background-color: #d4ebff;}#sk-container-id-1 div.sk-serial::before {content: \"\";position: absolute;border-left: 1px solid gray;box-sizing: border-box;top: 0;bottom: 0;left: 50%;z-index: 0;}#sk-container-id-1 div.sk-serial {display: flex;flex-direction: column;align-items: center;background-color: white;padding-right: 0.2em;padding-left: 0.2em;position: relative;}#sk-container-id-1 div.sk-item {position: relative;z-index: 1;}#sk-container-id-1 div.sk-parallel {display: flex;align-items: stretch;justify-content: center;background-color: white;position: relative;}#sk-container-id-1 div.sk-item::before, #sk-container-id-1 div.sk-parallel-item::before {content: \"\";position: absolute;border-left: 1px solid gray;box-sizing: border-box;top: 0;bottom: 0;left: 50%;z-index: -1;}#sk-container-id-1 div.sk-parallel-item {display: flex;flex-direction: column;z-index: 1;position: relative;background-color: white;}#sk-container-id-1 div.sk-parallel-item:first-child::after {align-self: flex-end;width: 50%;}#sk-container-id-1 div.sk-parallel-item:last-child::after {align-self: flex-start;width: 50%;}#sk-container-id-1 div.sk-parallel-item:only-child::after {width: 0;}#sk-container-id-1 div.sk-dashed-wrapped {border: 1px dashed gray;margin: 0 0.4em 0.5em 0.4em;box-sizing: border-box;padding-bottom: 0.4em;background-color: white;}#sk-container-id-1 div.sk-label label {font-family: monospace;font-weight: bold;display: inline-block;line-height: 1.2em;}#sk-container-id-1 div.sk-label-container {text-align: center;}#sk-container-id-1 div.sk-container {/* jupyter's `normalize.less` sets `[hidden] { display: none; }` but bootstrap.min.css set `[hidden] { display: none !important; }` so we also need the `!important` here to be able to override the default hidden behavior on the sphinx rendered scikit-learn.org. See: https://github.com/scikit-learn/scikit-learn/issues/21755 */display: inline-block !important;position: relative;}#sk-container-id-1 div.sk-text-repr-fallback {display: none;}</style><div id=\"sk-container-id-1\" class=\"sk-top-container\"><div class=\"sk-text-repr-fallback\"><pre>RandomForestRegressor(n_estimators=50)</pre><b>In a Jupyter environment, please rerun this cell to show the HTML representation or trust the notebook. <br />On GitHub, the HTML representation is unable to render, please try loading this page with nbviewer.org.</b></div><div class=\"sk-container\" hidden><div class=\"sk-item\"><div class=\"sk-estimator sk-toggleable\"><input class=\"sk-toggleable__control sk-hidden--visually\" id=\"sk-estimator-id-1\" type=\"checkbox\" checked><label for=\"sk-estimator-id-1\" class=\"sk-toggleable__label sk-toggleable__label-arrow\">RandomForestRegressor</label><div class=\"sk-toggleable__content\"><pre>RandomForestRegressor(n_estimators=50)</pre></div></div></div></div></div>"
      ],
      "text/plain": [
       "RandomForestRegressor(n_estimators=50)"
      ]
     },
     "execution_count": 8,
     "metadata": {},
     "output_type": "execute_result"
    }
   ],
   "source": [
    "model = RandomForestRegressor(n_estimators=50)\n",
    "model.fit(X_train,y_train)"
   ]
  },
  {
   "cell_type": "code",
   "execution_count": 9,
   "id": "dc1e068c",
   "metadata": {},
   "outputs": [
    {
     "data": {
      "text/plain": [
       "array([[89410.56],\n",
       "       [89403.04],\n",
       "       [89371.96],\n",
       "       [89449.96],\n",
       "       [89197.96],\n",
       "       [89267.96],\n",
       "       [89287.96],\n",
       "       [89251.96],\n",
       "       [89291.96],\n",
       "       [89281.96],\n",
       "       [89419.96],\n",
       "       [89291.96],\n",
       "       [89291.96],\n",
       "       [89291.96],\n",
       "       [89291.96],\n",
       "       [88333.74],\n",
       "       [88332.82],\n",
       "       [89081.04],\n",
       "       [89031.04],\n",
       "       [89419.04],\n",
       "       [89149.96],\n",
       "       [88244.82],\n",
       "       [88184.82],\n",
       "       [88230.82],\n",
       "       [88114.82],\n",
       "       [86980.96],\n",
       "       [83493.6 ],\n",
       "       [85794.14],\n",
       "       [86937.22],\n",
       "       [88280.5 ],\n",
       "       [86857.12],\n",
       "       [88168.7 ],\n",
       "       [88765.42],\n",
       "       [89296.12],\n",
       "       [89484.72],\n",
       "       [88223.9 ],\n",
       "       [89435.2 ],\n",
       "       [89323.96],\n",
       "       [88976.12],\n",
       "       [88538.82],\n",
       "       [87287.34],\n",
       "       [86835.92],\n",
       "       [86516.06],\n",
       "       [86624.06],\n",
       "       [86710.06],\n",
       "       [86643.36],\n",
       "       [86647.96],\n",
       "       [86127.6 ],\n",
       "       [86689.78],\n",
       "       [86553.74],\n",
       "       [85881.04],\n",
       "       [85906.44],\n",
       "       [86513.14],\n",
       "       [87011.98],\n",
       "       [87011.98],\n",
       "       [88098.16],\n",
       "       [86574.26],\n",
       "       [87168.68],\n",
       "       [89603.08],\n",
       "       [89393.74],\n",
       "       [89411.42],\n",
       "       [88487.9 ],\n",
       "       [89327.04],\n",
       "       [88527.74],\n",
       "       [89246.12],\n",
       "       [89555.96],\n",
       "       [89273.96],\n",
       "       [89429.96],\n",
       "       [89281.96],\n",
       "       [89403.96],\n",
       "       [89499.96],\n",
       "       [89291.96],\n",
       "       [89097.96],\n",
       "       [89241.04],\n",
       "       [89271.96],\n",
       "       [89203.96],\n",
       "       [89291.96],\n",
       "       [89419.96],\n",
       "       [89419.96],\n",
       "       [89419.96],\n",
       "       [89419.96],\n",
       "       [89379.96],\n",
       "       [89419.96],\n",
       "       [89419.96],\n",
       "       [89369.96],\n",
       "       [89379.96],\n",
       "       [89379.96],\n",
       "       [89379.96],\n",
       "       [89379.96],\n",
       "       [89379.96],\n",
       "       [89379.96],\n",
       "       [89379.96],\n",
       "       [89379.96],\n",
       "       [89379.96],\n",
       "       [89379.96],\n",
       "       [89379.96],\n",
       "       [89379.96],\n",
       "       [89379.96],\n",
       "       [89379.96],\n",
       "       [89379.96],\n",
       "       [89379.96],\n",
       "       [89379.96],\n",
       "       [89379.96],\n",
       "       [89379.96],\n",
       "       [89379.96],\n",
       "       [89379.96],\n",
       "       [89379.96],\n",
       "       [89379.96],\n",
       "       [89379.96],\n",
       "       [89379.96],\n",
       "       [89379.96],\n",
       "       [89379.96],\n",
       "       [89379.96],\n",
       "       [87167.84],\n",
       "       [88923.78],\n",
       "       [89423.04],\n",
       "       [89175.96],\n",
       "       [89460.56],\n",
       "       [88549.74],\n",
       "       [88354.82],\n",
       "       [88380.82],\n",
       "       [88149.9 ],\n",
       "       [87735.78],\n",
       "       [88205.78],\n",
       "       [88198.82],\n",
       "       [87719.78],\n",
       "       [86709.88],\n",
       "       [87657.78],\n",
       "       [87043.92],\n",
       "       [86710.58],\n",
       "       [87196.9 ],\n",
       "       [87095.  ],\n",
       "       [87181.6 ],\n",
       "       [87053.6 ],\n",
       "       [86533.84],\n",
       "       [85591.68],\n",
       "       [85882.96],\n",
       "       [85571.08],\n",
       "       [85810.4 ],\n",
       "       [86538.38],\n",
       "       [87006.1 ],\n",
       "       [87032.9 ],\n",
       "       [87586.16],\n",
       "       [87586.16],\n",
       "       [87028.68],\n",
       "       [87167.76],\n",
       "       [86745.44],\n",
       "       [87384.08],\n",
       "       [87330.68],\n",
       "       [87172.8 ],\n",
       "       [87209.72],\n",
       "       [86717.28],\n",
       "       [86135.78],\n",
       "       [86067.52],\n",
       "       [85979.96],\n",
       "       [87173.6 ],\n",
       "       [87006.1 ],\n",
       "       [85916.58],\n",
       "       [85843.14],\n",
       "       [85990.88],\n",
       "       [85895.74],\n",
       "       [85822.98],\n",
       "       [85638.26],\n",
       "       [85561.1 ],\n",
       "       [84338.44],\n",
       "       [84774.  ],\n",
       "       [84278.  ],\n",
       "       [85486.74],\n",
       "       [85688.98],\n",
       "       [85156.58],\n",
       "       [85702.98],\n",
       "       [85545.8 ],\n",
       "       [84910.82],\n",
       "       [84908.24],\n",
       "       [84096.  ],\n",
       "       [84418.  ],\n",
       "       [84086.  ],\n",
       "       [84936.7 ],\n",
       "       [84840.36],\n",
       "       [84056.  ],\n",
       "       [84516.44],\n",
       "       [84906.12],\n",
       "       [85617.22],\n",
       "       [85765.2 ],\n",
       "       [87014.22],\n",
       "       [86717.64],\n",
       "       [87185.88],\n",
       "       [86612.84],\n",
       "       [87202.58],\n",
       "       [86001.48],\n",
       "       [85211.76],\n",
       "       [84310.26],\n",
       "       [84950.82],\n",
       "       [85659.92],\n",
       "       [86021.72],\n",
       "       [84417.86],\n",
       "       [85645.68],\n",
       "       [85765.58],\n",
       "       [85720.98],\n",
       "       [84445.82],\n",
       "       [84945.5 ],\n",
       "       [84840.8 ],\n",
       "       [84900.64],\n",
       "       [84574.44],\n",
       "       [84132.  ],\n",
       "       [84500.  ],\n",
       "       [85126.7 ],\n",
       "       [84768.24],\n",
       "       [85010.24],\n",
       "       [84626.12],\n",
       "       [84210.32],\n",
       "       [83642.  ],\n",
       "       [83622.  ],\n",
       "       [83782.  ],\n",
       "       [84060.  ],\n",
       "       [82224.88],\n",
       "       [82109.02],\n",
       "       [81804.06],\n",
       "       [81828.06]])"
      ]
     },
     "execution_count": 9,
     "metadata": {},
     "output_type": "execute_result"
    }
   ],
   "source": [
    "# Dự báo\n",
    "test_predict = model.predict(X_test)\n",
    "test_predict = scaler.inverse_transform(test_predict.reshape(-1, 1))\n",
    "y_test = scaler.inverse_transform([y_test])\n",
    "test_predict"
   ]
  },
  {
   "cell_type": "code",
   "execution_count": 10,
   "id": "d3becec0",
   "metadata": {},
   "outputs": [
    {
     "name": "stdout",
     "output_type": "stream",
     "text": [
      "[[80676.32]\n",
      " [80975.92]\n",
      " [80892.  ]\n",
      " [80703.92]\n",
      " [81036.32]\n",
      " [80834.  ]\n",
      " [80690.  ]\n",
      " [80926.  ]\n",
      " [80396.  ]\n",
      " [80081.42]\n",
      " [79711.92]\n",
      " [79896.  ]\n",
      " [80034.7 ]\n",
      " [79718.7 ]\n",
      " [79736.  ]\n",
      " [80370.62]\n",
      " [80195.92]\n",
      " [80355.1 ]\n",
      " [80288.06]\n",
      " [80308.64]\n",
      " [80221.62]\n",
      " [79941.02]\n",
      " [79072.68]\n",
      " [78597.54]\n",
      " [78748.76]\n",
      " [79049.  ]\n",
      " [78989.06]\n",
      " [78855.26]\n",
      " [78851.14]\n",
      " [78935.66]]\n"
     ]
    }
   ],
   "source": [
    "# Dự báo giá trị 30 ngày trong tương lai\n",
    "last_30_days = df1[-30:]\n",
    "next_30_days = []\n",
    "for i in range(30):\n",
    "    x = last_30_days[-time_step:].reshape(1, time_step)\n",
    "    y_hat = model.predict(x)\n",
    "    next_30_days.append(y_hat)\n",
    "    last_30_days = np.append(last_30_days, y_hat)\n",
    "\n",
    "next_30_days = np.array(next_30_days).reshape(-1, 1)\n",
    "next_30_days = scaler.inverse_transform(next_30_days)\n",
    "\n",
    "print(next_30_days)"
   ]
  },
  {
   "cell_type": "code",
   "execution_count": 15,
   "id": "c0a3790b",
   "metadata": {},
   "outputs": [
    {
     "data": {
      "image/png": "[encoded data removed]",
      "text/plain": [
       "<Figure size 1200x600 with 1 Axes>"
      ]
     },
     "metadata": {},
     "output_type": "display_data"
    }
   ],
   "source": [
    "color_palette = ['#1f77b4', '#ff7f0e', '#2ca02c', '#d62728', '#9467bd', '#8c564b']\n",
    "from matplotlib import pyplot as plt\n",
    "plt.figure(figsize=(12, 6))\n",
    "\n",
    "# train\n",
    "train_data_index = pd.RangeIndex(start=0, stop=train_size, step=1)\n",
    "plt.plot(train_data_index, scaler.inverse_transform(train_data), label=\"Train\")\n",
    "# plt.plot([*train_range], pred_train.squeeze(), label=\"Predict Train\", linestyle=\"dotted\", color = color_palette[1])\n",
    "\n",
    "# test\n",
    "test_data_index = pd.RangeIndex(start=train_size, stop=train_size + test_size, step=1)\n",
    "# test_range = range(len(y_true_train.squeeze()),len(y_true_train.squeeze()) + len(y_true_test.squeeze()))\n",
    "plt.plot(test_data_index, scaler.inverse_transform(test_data), label=\"Test\")\n",
    "test_data_index = pd.RangeIndex(start=train_size+31, stop=len(df1), step=1)\n",
    "plt.plot(test_data_index, test_predict.squeeze(), label=\"Predict\", linestyle=\"-\")\n",
    "\n",
    "#30 days\n",
    "predict_data_index = pd.RangeIndex(start=len(df1), stop=len(df1)+30, step=1)\n",
    "plt.plot(predict_data_index, next_30_days.squeeze(), label=\"next30days\")\n",
    "\n",
    "# # Dự đoán 30 điểm tiếp theo\n",
    "plt.legend()\n",
    "plt.title('VCB_RF: Stock Price Prediction')\n",
    "plt.show()"
   ]
  },
  {
   "cell_type": "code",
   "execution_count": 12,
   "id": "63c5ca29",
   "metadata": {},
   "outputs": [
    {
     "name": "stdout",
     "output_type": "stream",
     "text": [
      "RMSE trên tập test là: 5611.529653982996\n",
      "MAPE trên tập test là: 3.980279208341675 %\n",
      "MDA trên tập test là: 39.908256880733944 %\n",
      "MSLE trên tập test là: 0.0035089366115553943\n"
     ]
    }
   ],
   "source": [
    "from sklearn.metrics import mean_squared_error, mean_absolute_error, mean_absolute_percentage_error, mean_squared_log_error\n",
    "def calculate_mda(y_true, y_pred):\n",
    "    y_true_diff = np.diff(y_true)\n",
    "    y_pred_diff = np.diff(y_pred)\n",
    "    correct_direction = np.sign(y_true_diff) == np.sign(y_pred_diff)\n",
    "    return np.mean(correct_direction) * 100\n",
    "\n",
    "# Tính toán RMSE, MAE và MAPE trên tập test\n",
    "test_score_rmse = np.sqrt(mean_squared_error(y_test[0], test_predict[:, 0]))\n",
    "test_score_mape = mean_absolute_percentage_error(y_test[0], test_predict[:, 0]) * 100\n",
    "test_score_mda = calculate_mda(y_test[0], test_predict[:, 0])\n",
    "msle = mean_squared_log_error(y_test[0], test_predict[:, 0])\n",
    "\n",
    "print('RMSE trên tập test là:', test_score_rmse)\n",
    "print('MAPE trên tập test là:', test_score_mape, '%')\n",
    "print('MDA trên tập test là:', test_score_mda, '%')\n",
    "print('MSLE trên tập test là:', msle)"
   ]
  },
  {
   "cell_type": "code",
   "execution_count": null,
   "id": "250625ee",
   "metadata": {},
   "outputs": [],
   "source": []
  }
 ],
 "metadata": {
  "kernelspec": {
   "display_name": "Python 3 (ipykernel)",
   "language": "python",
   "name": "python3"
  },
  "language_info": {
   "codemirror_mode": {
    "name": "ipython",
    "version": 3
   },
   "file_extension": ".py",
   "mimetype": "text/x-python",
   "name": "python",
   "nbconvert_exporter": "python",
   "pygments_lexer": "ipython3",
   "version": "3.11.5"
  }
 },
 "nbformat": 4,
 "nbformat_minor": 5
}
