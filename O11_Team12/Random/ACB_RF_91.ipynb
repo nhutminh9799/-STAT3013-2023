{
 "cells": [
  {
   "cell_type": "code",
   "execution_count": 1,
   "id": "584f41b2",
   "metadata": {},
   "outputs": [
    {
     "name": "stdout",
     "output_type": "stream",
     "text": [
      "WARNING:tensorflow:From D:\\ProgramData\\anaconda3\\Lib\\site-packages\\keras\\src\\losses.py:2976: The name tf.losses.sparse_softmax_cross_entropy is deprecated. Please use tf.compat.v1.losses.sparse_softmax_cross_entropy instead.\n",
      "\n"
     ]
    }
   ],
   "source": [
    "# Import library\n",
    "import numpy as np\n",
    "import pandas as pd\n",
    "import matplotlib.pyplot as plt\n",
    "from sklearn.preprocessing import MinMaxScaler\n",
    "from keras.models import Sequential\n",
    "from sklearn.ensemble import RandomForestRegressor"
   ]
  },
  {
   "cell_type": "code",
   "execution_count": 2,
   "id": "ea92dd8c",
   "metadata": {},
   "outputs": [
    {
     "data": {
      "text/plain": [
       "<bound method NDFrame.describe of 0        3910.0\n",
       "1        3910.0\n",
       "2        3885.1\n",
       "3        3885.1\n",
       "4        3910.0\n",
       "         ...   \n",
       "2488    22800.0\n",
       "2489    23050.0\n",
       "2490    23200.0\n",
       "2491    23250.0\n",
       "2492    23250.0\n",
       "Name: Price, Length: 2493, dtype: float64>"
      ]
     },
     "execution_count": 2,
     "metadata": {},
     "output_type": "execute_result"
    }
   ],
   "source": [
    "# Load dữ liệu từ file CSV (ví dụ)\n",
    "df = pd.read_csv('C:\\\\Users\\\\Administrator\\\\Downloads\\\\ACB.csv')\n",
    "df1=df.reset_index()['Price']\n",
    "df1.describe"
   ]
  },
  {
   "cell_type": "code",
   "execution_count": 3,
   "id": "f60246f4",
   "metadata": {},
   "outputs": [],
   "source": [
    "# Scaler data\n",
    "scaler=MinMaxScaler(feature_range=(0,1))\n",
    "df1=scaler.fit_transform(np.array(df1).reshape(-1,1))"
   ]
  },
  {
   "cell_type": "code",
   "execution_count": 4,
   "id": "6302bd02",
   "metadata": {},
   "outputs": [],
   "source": [
    "# Chia train test\n",
    "train_size = int(0.9 * len(df1))\n",
    "test_size = len(df1) - train_size\n",
    "\n",
    "train_data = df1[:train_size]\n",
    "test_data = df1[train_size:]"
   ]
  },
  {
   "cell_type": "code",
   "execution_count": 5,
   "id": "2e57e4a4",
   "metadata": {},
   "outputs": [],
   "source": [
    "# Hàm Create Dataset\n",
    "import numpy\n",
    "# convert an array of values into a dataset matrix\n",
    "def create_dataset(dataset, time_step=1):\n",
    "    dataX, dataY = [], []\n",
    "    for i in range(len(dataset)-time_step-1):\n",
    "        a = dataset[i:(i+time_step), 0]   ###i=0, X=0,1,2,3-----99   Y=100\n",
    "        dataX.append(a)\n",
    "        dataY.append(dataset[i + time_step, 0])\n",
    "    return numpy.array(dataX), numpy.array(dataY)"
   ]
  },
  {
   "cell_type": "code",
   "execution_count": 6,
   "id": "dae6c940",
   "metadata": {},
   "outputs": [],
   "source": [
    "# Reshape into X=t,t+1,t+2..t+99 and Y=t+100\n",
    "time_step = 30\n",
    "X_train, y_train = create_dataset(train_data, time_step)\n",
    "X_test, y_test = create_dataset(test_data, time_step)"
   ]
  },
  {
   "cell_type": "code",
   "execution_count": 7,
   "id": "a65fceaa",
   "metadata": {},
   "outputs": [
    {
     "data": {
      "text/plain": [
       "(array([[0.00094051, 0.00094051, 0.        , ..., 0.00564308, 0.00658359,\n",
       "         0.00752411],\n",
       "        [0.00094051, 0.        , 0.        , ..., 0.00658359, 0.00752411,\n",
       "         0.00846462],\n",
       "        [0.        , 0.        , 0.00094051, ..., 0.00752411, 0.00846462,\n",
       "         0.00846462],\n",
       "        ...,\n",
       "        [0.63323752, 0.65778908, 0.63701468, ..., 0.72766658, 0.72955516,\n",
       "         0.72200084],\n",
       "        [0.65778908, 0.63701468, 0.60868596, ..., 0.72955516, 0.72200084,\n",
       "         0.71255793],\n",
       "        [0.63701468, 0.60868596, 0.63890326, ..., 0.72200084, 0.71255793,\n",
       "         0.70500361]]),\n",
       " array([0.00846462, 0.00846462, 0.00470257, ..., 0.71255793, 0.70500361,\n",
       "        0.71444651]))"
      ]
     },
     "execution_count": 7,
     "metadata": {},
     "output_type": "execute_result"
    }
   ],
   "source": [
    "# Reshape input to be [samples, time steps, features] which is required for LSTM\n",
    "X_train =X_train.reshape(X_train.shape[0],X_train.shape[1])\n",
    "X_test = X_test.reshape(X_test.shape[0],X_train.shape[1])\n",
    "X_train, y_train"
   ]
  },
  {
   "cell_type": "code",
   "execution_count": 8,
   "id": "ad1415ba",
   "metadata": {},
   "outputs": [
    {
     "data": {
      "text/html": [
       "<style>#sk-container-id-1 {color: black;}#sk-container-id-1 pre{padding: 0;}#sk-container-id-1 div.sk-toggleable {background-color: white;}#sk-container-id-1 label.sk-toggleable__label {cursor: pointer;display: block;width: 100%;margin-bottom: 0;padding: 0.3em;box-sizing: border-box;text-align: center;}#sk-container-id-1 label.sk-toggleable__label-arrow:before {content: \"▸\";float: left;margin-right: 0.25em;color: #696969;}#sk-container-id-1 label.sk-toggleable__label-arrow:hover:before {color: black;}#sk-container-id-1 div.sk-estimator:hover label.sk-toggleable__label-arrow:before {color: black;}#sk-container-id-1 div.sk-toggleable__content {max-height: 0;max-width: 0;overflow: hidden;text-align: left;background-color: #f0f8ff;}#sk-container-id-1 div.sk-toggleable__content pre {margin: 0.2em;color: black;border-radius: 0.25em;background-color: #f0f8ff;}#sk-container-id-1 input.sk-toggleable__control:checked~div.sk-toggleable__content {max-height: 200px;max-width: 100%;overflow: auto;}#sk-container-id-1 input.sk-toggleable__control:checked~label.sk-toggleable__label-arrow:before {content: \"▾\";}#sk-container-id-1 div.sk-estimator input.sk-toggleable__control:checked~label.sk-toggleable__label {background-color: #d4ebff;}#sk-container-id-1 div.sk-label input.sk-toggleable__control:checked~label.sk-toggleable__label {background-color: #d4ebff;}#sk-container-id-1 input.sk-hidden--visually {border: 0;clip: rect(1px 1px 1px 1px);clip: rect(1px, 1px, 1px, 1px);height: 1px;margin: -1px;overflow: hidden;padding: 0;position: absolute;width: 1px;}#sk-container-id-1 div.sk-estimator {font-family: monospace;background-color: #f0f8ff;border: 1px dotted black;border-radius: 0.25em;box-sizing: border-box;margin-bottom: 0.5em;}#sk-container-id-1 div.sk-estimator:hover {background-color: #d4ebff;}#sk-container-id-1 div.sk-parallel-item::after {content: \"\";width: 100%;border-bottom: 1px solid gray;flex-grow: 1;}#sk-container-id-1 div.sk-label:hover label.sk-toggleable__label {background-color: #d4ebff;}#sk-container-id-1 div.sk-serial::before {content: \"\";position: absolute;border-left: 1px solid gray;box-sizing: border-box;top: 0;bottom: 0;left: 50%;z-index: 0;}#sk-container-id-1 div.sk-serial {display: flex;flex-direction: column;align-items: center;background-color: white;padding-right: 0.2em;padding-left: 0.2em;position: relative;}#sk-container-id-1 div.sk-item {position: relative;z-index: 1;}#sk-container-id-1 div.sk-parallel {display: flex;align-items: stretch;justify-content: center;background-color: white;position: relative;}#sk-container-id-1 div.sk-item::before, #sk-container-id-1 div.sk-parallel-item::before {content: \"\";position: absolute;border-left: 1px solid gray;box-sizing: border-box;top: 0;bottom: 0;left: 50%;z-index: -1;}#sk-container-id-1 div.sk-parallel-item {display: flex;flex-direction: column;z-index: 1;position: relative;background-color: white;}#sk-container-id-1 div.sk-parallel-item:first-child::after {align-self: flex-end;width: 50%;}#sk-container-id-1 div.sk-parallel-item:last-child::after {align-self: flex-start;width: 50%;}#sk-container-id-1 div.sk-parallel-item:only-child::after {width: 0;}#sk-container-id-1 div.sk-dashed-wrapped {border: 1px dashed gray;margin: 0 0.4em 0.5em 0.4em;box-sizing: border-box;padding-bottom: 0.4em;background-color: white;}#sk-container-id-1 div.sk-label label {font-family: monospace;font-weight: bold;display: inline-block;line-height: 1.2em;}#sk-container-id-1 div.sk-label-container {text-align: center;}#sk-container-id-1 div.sk-container {/* jupyter's `normalize.less` sets `[hidden] { display: none; }` but bootstrap.min.css set `[hidden] { display: none !important; }` so we also need the `!important` here to be able to override the default hidden behavior on the sphinx rendered scikit-learn.org. See: https://github.com/scikit-learn/scikit-learn/issues/21755 */display: inline-block !important;position: relative;}#sk-container-id-1 div.sk-text-repr-fallback {display: none;}</style><div id=\"sk-container-id-1\" class=\"sk-top-container\"><div class=\"sk-text-repr-fallback\"><pre>RandomForestRegressor(n_estimators=50)</pre><b>In a Jupyter environment, please rerun this cell to show the HTML representation or trust the notebook. <br />On GitHub, the HTML representation is unable to render, please try loading this page with nbviewer.org.</b></div><div class=\"sk-container\" hidden><div class=\"sk-item\"><div class=\"sk-estimator sk-toggleable\"><input class=\"sk-toggleable__control sk-hidden--visually\" id=\"sk-estimator-id-1\" type=\"checkbox\" checked><label for=\"sk-estimator-id-1\" class=\"sk-toggleable__label sk-toggleable__label-arrow\">RandomForestRegressor</label><div class=\"sk-toggleable__content\"><pre>RandomForestRegressor(n_estimators=50)</pre></div></div></div></div></div>"
      ],
      "text/plain": [
       "RandomForestRegressor(n_estimators=50)"
      ]
     },
     "execution_count": 8,
     "metadata": {},
     "output_type": "execute_result"
    }
   ],
   "source": [
    "model = RandomForestRegressor(n_estimators=50)\n",
    "model.fit(X_train,y_train)"
   ]
  },
  {
   "cell_type": "code",
   "execution_count": 9,
   "id": "58a51a71",
   "metadata": {},
   "outputs": [
    {
     "data": {
      "text/plain": [
       "array([[24343.72],\n",
       "       [23734.  ],\n",
       "       [23749.72],\n",
       "       [24571.24],\n",
       "       [24827.44],\n",
       "       [24655.76],\n",
       "       [25596.4 ],\n",
       "       [25433.92],\n",
       "       [24713.28],\n",
       "       [25397.4 ],\n",
       "       [24679.4 ],\n",
       "       [24408.4 ],\n",
       "       [24783.  ],\n",
       "       [24803.2 ],\n",
       "       [24844.  ],\n",
       "       [24724.12],\n",
       "       [24762.6 ],\n",
       "       [24727.  ],\n",
       "       [24898.4 ],\n",
       "       [24914.4 ],\n",
       "       [25031.92],\n",
       "       [24723.  ],\n",
       "       [23913.  ],\n",
       "       [24731.4 ],\n",
       "       [24655.12],\n",
       "       [24473.84],\n",
       "       [23865.  ],\n",
       "       [24132.8 ],\n",
       "       [23850.  ],\n",
       "       [24436.2 ],\n",
       "       [24526.8 ],\n",
       "       [24605.92],\n",
       "       [24673.  ],\n",
       "       [24702.6 ],\n",
       "       [24590.6 ],\n",
       "       [24692.8 ],\n",
       "       [24971.92],\n",
       "       [24975.8 ],\n",
       "       [24934.  ],\n",
       "       [24962.  ],\n",
       "       [24909.8 ],\n",
       "       [24968.4 ],\n",
       "       [24903.2 ],\n",
       "       [25044.  ],\n",
       "       [24952.4 ],\n",
       "       [24921.4 ],\n",
       "       [24867.4 ],\n",
       "       [24945.4 ],\n",
       "       [24833.12],\n",
       "       [24357.4 ],\n",
       "       [24433.6 ],\n",
       "       [24123.  ],\n",
       "       [23775.8 ],\n",
       "       [23841.  ],\n",
       "       [23892.8 ],\n",
       "       [24046.  ],\n",
       "       [24530.  ],\n",
       "       [24414.4 ],\n",
       "       [24928.92],\n",
       "       [24748.4 ],\n",
       "       [24800.  ],\n",
       "       [24864.2 ],\n",
       "       [24858.2 ],\n",
       "       [24847.4 ],\n",
       "       [24884.8 ],\n",
       "       [24904.2 ],\n",
       "       [24878.  ],\n",
       "       [24884.6 ],\n",
       "       [24884.6 ],\n",
       "       [25042.2 ],\n",
       "       [24979.4 ],\n",
       "       [24993.  ],\n",
       "       [24981.4 ],\n",
       "       [24985.8 ],\n",
       "       [24983.6 ],\n",
       "       [25430.2 ],\n",
       "       [20903.24],\n",
       "       [21768.96],\n",
       "       [21659.96],\n",
       "       [21741.2 ],\n",
       "       [21673.2 ],\n",
       "       [21086.52],\n",
       "       [21125.28],\n",
       "       [21061.48],\n",
       "       [21153.4 ],\n",
       "       [21599.24],\n",
       "       [21612.48],\n",
       "       [21682.28],\n",
       "       [21580.56],\n",
       "       [21603.4 ],\n",
       "       [21628.72],\n",
       "       [21654.  ],\n",
       "       [21781.24],\n",
       "       [22126.2 ],\n",
       "       [22081.2 ],\n",
       "       [22041.96],\n",
       "       [21743.52],\n",
       "       [21990.8 ],\n",
       "       [21990.2 ],\n",
       "       [21994.64],\n",
       "       [21973.8 ],\n",
       "       [21606.16],\n",
       "       [21660.08],\n",
       "       [21973.36],\n",
       "       [22090.04],\n",
       "       [21750.  ],\n",
       "       [22080.6 ],\n",
       "       [22075.12],\n",
       "       [22104.12],\n",
       "       [22132.16],\n",
       "       [22131.16],\n",
       "       [22085.56],\n",
       "       [22094.12],\n",
       "       [22139.08],\n",
       "       [22108.08],\n",
       "       [22111.92],\n",
       "       [22066.8 ],\n",
       "       [22034.28],\n",
       "       [23071.24],\n",
       "       [23043.  ],\n",
       "       [23091.92],\n",
       "       [23255.64],\n",
       "       [24634.2 ],\n",
       "       [24015.8 ],\n",
       "       [23260.64],\n",
       "       [23161.68],\n",
       "       [22973.96],\n",
       "       [22883.24],\n",
       "       [22979.64],\n",
       "       [22920.28],\n",
       "       [22839.52],\n",
       "       [22815.76],\n",
       "       [21776.6 ],\n",
       "       [22098.2 ],\n",
       "       [22122.36],\n",
       "       [21599.28],\n",
       "       [22088.84],\n",
       "       [22045.44],\n",
       "       [22115.68],\n",
       "       [22068.8 ],\n",
       "       [22155.32],\n",
       "       [22722.6 ],\n",
       "       [22892.28],\n",
       "       [23078.88],\n",
       "       [23098.44],\n",
       "       [23034.08],\n",
       "       [22192.28],\n",
       "       [22965.84],\n",
       "       [22853.24],\n",
       "       [22212.04],\n",
       "       [22789.08],\n",
       "       [22152.28],\n",
       "       [22063.48],\n",
       "       [22152.16],\n",
       "       [22087.84],\n",
       "       [22131.4 ],\n",
       "       [22065.2 ],\n",
       "       [21598.72],\n",
       "       [22038.8 ],\n",
       "       [21557.88],\n",
       "       [21551.32],\n",
       "       [21635.76],\n",
       "       [21166.48],\n",
       "       [21238.64],\n",
       "       [21248.28],\n",
       "       [21659.68],\n",
       "       [22769.12],\n",
       "       [22905.68],\n",
       "       [22861.64],\n",
       "       [22882.72],\n",
       "       [22985.  ],\n",
       "       [22845.8 ],\n",
       "       [22267.04],\n",
       "       [22170.32],\n",
       "       [21608.24],\n",
       "       [21667.08],\n",
       "       [21625.2 ],\n",
       "       [21671.08],\n",
       "       [21674.8 ],\n",
       "       [20704.84],\n",
       "       [21222.8 ],\n",
       "       [20922.12],\n",
       "       [20953.12],\n",
       "       [21338.04],\n",
       "       [22235.92],\n",
       "       [22248.24],\n",
       "       [22141.4 ],\n",
       "       [22243.08],\n",
       "       [22911.32],\n",
       "       [22810.8 ],\n",
       "       [22269.72],\n",
       "       [22260.52],\n",
       "       [23079.2 ],\n",
       "       [23226.08],\n",
       "       [23316.08],\n",
       "       [23182.16],\n",
       "       [23069.68],\n",
       "       [22875.52],\n",
       "       [22786.44],\n",
       "       [22126.2 ],\n",
       "       [22129.4 ],\n",
       "       [21629.8 ],\n",
       "       [21695.48],\n",
       "       [22085.96],\n",
       "       [22094.32],\n",
       "       [22092.04],\n",
       "       [22079.28],\n",
       "       [22118.4 ],\n",
       "       [22048.32],\n",
       "       [22111.24],\n",
       "       [22151.  ],\n",
       "       [22076.12],\n",
       "       [22832.32],\n",
       "       [22086.36],\n",
       "       [22925.24],\n",
       "       [22945.92],\n",
       "       [22911.24],\n",
       "       [23111.  ],\n",
       "       [23189.96]])"
      ]
     },
     "execution_count": 9,
     "metadata": {},
     "output_type": "execute_result"
    }
   ],
   "source": [
    "# Dự báo\n",
    "test_predict = model.predict(X_test)\n",
    "test_predict = scaler.inverse_transform(test_predict.reshape(-1, 1))\n",
    "y_test = scaler.inverse_transform([y_test])\n",
    "test_predict"
   ]
  },
  {
   "cell_type": "code",
   "execution_count": 10,
   "id": "b0ed7a84",
   "metadata": {},
   "outputs": [
    {
     "name": "stdout",
     "output_type": "stream",
     "text": [
      "[[23176.6 ]\n",
      " [23203.68]\n",
      " [23262.96]\n",
      " [23190.56]\n",
      " [23126.88]\n",
      " [23067.64]\n",
      " [23073.56]\n",
      " [23054.48]\n",
      " [23048.2 ]\n",
      " [23054.52]\n",
      " [23031.48]\n",
      " [23083.52]\n",
      " [23036.84]\n",
      " [23159.64]\n",
      " [23098.36]\n",
      " [23141.52]\n",
      " [23115.08]\n",
      " [23123.72]\n",
      " [23160.36]\n",
      " [23157.32]\n",
      " [23166.76]\n",
      " [23203.04]\n",
      " [23235.04]\n",
      " [23233.52]\n",
      " [23229.08]\n",
      " [23245.8 ]\n",
      " [23240.52]\n",
      " [23245.36]\n",
      " [23240.52]\n",
      " [23240.52]]\n"
     ]
    }
   ],
   "source": [
    "# Dự báo giá trị 30 ngày trong tương lai\n",
    "last_30_days = df1[-30:]\n",
    "next_30_days = []\n",
    "for i in range(30):\n",
    "    x = last_30_days[-time_step:].reshape(1, time_step)\n",
    "    y_hat = model.predict(x)\n",
    "    next_30_days.append(y_hat)\n",
    "    last_30_days = np.append(last_30_days, y_hat)\n",
    "\n",
    "next_30_days = np.array(next_30_days).reshape(-1, 1)\n",
    "next_30_days = scaler.inverse_transform(next_30_days)\n",
    "\n",
    "print(next_30_days)"
   ]
  },
  {
   "cell_type": "code",
   "execution_count": 11,
   "id": "6bd72602",
   "metadata": {},
   "outputs": [
    {
     "data": {
      "image/png": "[encoded data removed]",
      "text/plain": [
       "<Figure size 1200x800 with 1 Axes>"
      ]
     },
     "metadata": {},
     "output_type": "display_data"
    }
   ],
   "source": [
    "color_palette = ['#1f77b4', '#ff7f0e', '#2ca02c', '#d62728', '#9467bd', '#8c564b']\n",
    "from matplotlib import pyplot as plt\n",
    "\n",
    "# train\n",
    "train_data_index = pd.RangeIndex(start=0, stop=train_size, step=1)\n",
    "plt.plot(train_data_index, scaler.inverse_transform(train_data), label=\"Train\")\n",
    "# plt.plot([*train_range], pred_train.squeeze(), label=\"Predict Train\", linestyle=\"dotted\", color = color_palette[1])\n",
    "\n",
    "# test\n",
    "test_data_index = pd.RangeIndex(start=train_size, stop=train_size + test_size, step=1)\n",
    "# test_range = range(len(y_true_train.squeeze()),len(y_true_train.squeeze()) + len(y_true_test.squeeze()))\n",
    "plt.plot(test_data_index, scaler.inverse_transform(test_data), label=\"Test\")\n",
    "test_data_index = pd.RangeIndex(start=train_size+31, stop=len(df1), step=1)\n",
    "plt.plot(test_data_index, test_predict.squeeze(), label=\"Predict\", linestyle=\"-\")\n",
    "\n",
    "#30 days\n",
    "predict_data_index = pd.RangeIndex(start=len(df1), stop=len(df1)+30, step=1)\n",
    "plt.plot(predict_data_index, next_30_days.squeeze(), label=\"next30days\")\n",
    "\n",
    "# # Dự đoán 30 điểm tiếp theo\n",
    "plt.legend()\n",
    "plt.title('ACB_RF: Stock Price Prediction')\n",
    "plt.show()"
   ]
  },
  {
   "cell_type": "code",
   "execution_count": 12,
   "id": "f77222e9",
   "metadata": {},
   "outputs": [
    {
     "name": "stdout",
     "output_type": "stream",
     "text": [
      "RMSE trên tập test là: 454.825363573507\n",
      "MAPE trên tập test là: 1.2898368168150318 %\n",
      "MDA trên tập test là: 39.908256880733944 %\n",
      "MSLE trên tập test là: 0.0003854491313537858\n"
     ]
    }
   ],
   "source": [
    "from sklearn.metrics import mean_squared_error, mean_absolute_error, mean_absolute_percentage_error, mean_squared_log_error\n",
    "import numpy as np\n",
    "def calculate_mda(y_true, y_pred):\n",
    "    y_true_diff = np.diff(y_true)\n",
    "    y_pred_diff = np.diff(y_pred)\n",
    "    correct_direction = np.sign(y_true_diff) == np.sign(y_pred_diff)\n",
    "    return np.mean(correct_direction) * 100\n",
    "\n",
    "# Tính toán RMSE, MAE và MAPE trên tập test\n",
    "test_score_rmse = np.sqrt(mean_squared_error(y_test[0], test_predict[:, 0]))\n",
    "test_score_mape = mean_absolute_percentage_error(y_test[0], test_predict[:, 0]) * 100\n",
    "test_score_mda = calculate_mda(y_test[0], test_predict[:, 0])\n",
    "msle = mean_squared_log_error(y_test[0], test_predict[:, 0])\n",
    "\n",
    "print('RMSE trên tập test là:', test_score_rmse)\n",
    "print('MAPE trên tập test là:', test_score_mape, '%')\n",
    "print('MDA trên tập test là:', test_score_mda, '%')\n",
    "print('MSLE trên tập test là:', msle)"
   ]
  }
 ],
 "metadata": {
  "kernelspec": {
   "display_name": "Python 3 (ipykernel)",
   "language": "python",
   "name": "python3"
  },
  "language_info": {
   "codemirror_mode": {
    "name": "ipython",
    "version": 3
   },
   "file_extension": ".py",
   "mimetype": "text/x-python",
   "name": "python",
   "nbconvert_exporter": "python",
   "pygments_lexer": "ipython3",
   "version": "3.11.5"
  }
 },
 "nbformat": 4,
 "nbformat_minor": 5
}
