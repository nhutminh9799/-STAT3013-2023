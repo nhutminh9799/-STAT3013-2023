{
 "cells": [
  {
   "cell_type": "markdown",
   "id": "cace6a35",
   "metadata": {},
   "source": [
    "# 7:3 Train/Test Ratio"
   ]
  },
  {
   "cell_type": "code",
   "execution_count": 1,
   "id": "e3f4afad",
   "metadata": {},
   "outputs": [],
   "source": [
    "# import libraries\n",
    "import pandas as pd\n",
    "import numpy as np\n",
    "from statsmodels.tsa.api import VAR\n",
    "from sklearn.metrics import mean_squared_error, mean_absolute_percentage_error\n",
    "import matplotlib.pyplot as plt"
   ]
  },
  {
   "cell_type": "code",
   "execution_count": 2,
   "id": "32860b60",
   "metadata": {},
   "outputs": [],
   "source": [
    "# read data\n",
    "df = pd.read_csv('ACB.csv')\n",
    "df = df[['Price','Open','High']]"
   ]
  },
  {
   "cell_type": "code",
   "execution_count": 3,
   "id": "aa96819b",
   "metadata": {},
   "outputs": [
    {
     "name": "stderr",
     "output_type": "stream",
     "text": [
      "C:\\Users\\Manh Khuong\\anaconda3\\Lib\\site-packages\\statsmodels\\tsa\\stattools.py:1488: FutureWarning: verbose is deprecated since functions should not print results\n",
      "  warnings.warn(\n",
      "C:\\Users\\Manh Khuong\\anaconda3\\Lib\\site-packages\\statsmodels\\tsa\\stattools.py:1488: FutureWarning: verbose is deprecated since functions should not print results\n",
      "  warnings.warn(\n",
      "C:\\Users\\Manh Khuong\\anaconda3\\Lib\\site-packages\\statsmodels\\tsa\\stattools.py:1488: FutureWarning: verbose is deprecated since functions should not print results\n",
      "  warnings.warn(\n",
      "C:\\Users\\Manh Khuong\\anaconda3\\Lib\\site-packages\\statsmodels\\tsa\\stattools.py:1488: FutureWarning: verbose is deprecated since functions should not print results\n",
      "  warnings.warn(\n",
      "C:\\Users\\Manh Khuong\\anaconda3\\Lib\\site-packages\\statsmodels\\tsa\\stattools.py:1488: FutureWarning: verbose is deprecated since functions should not print results\n",
      "  warnings.warn(\n",
      "C:\\Users\\Manh Khuong\\anaconda3\\Lib\\site-packages\\statsmodels\\tsa\\stattools.py:1488: FutureWarning: verbose is deprecated since functions should not print results\n",
      "  warnings.warn(\n",
      "C:\\Users\\Manh Khuong\\anaconda3\\Lib\\site-packages\\statsmodels\\tsa\\stattools.py:1488: FutureWarning: verbose is deprecated since functions should not print results\n",
      "  warnings.warn(\n",
      "C:\\Users\\Manh Khuong\\anaconda3\\Lib\\site-packages\\statsmodels\\tsa\\stattools.py:1488: FutureWarning: verbose is deprecated since functions should not print results\n",
      "  warnings.warn(\n",
      "C:\\Users\\Manh Khuong\\anaconda3\\Lib\\site-packages\\statsmodels\\tsa\\stattools.py:1488: FutureWarning: verbose is deprecated since functions should not print results\n",
      "  warnings.warn(\n"
     ]
    },
    {
     "data": {
      "text/html": [
       "<div>\n",
       "<style scoped>\n",
       "    .dataframe tbody tr th:only-of-type {\n",
       "        vertical-align: middle;\n",
       "    }\n",
       "\n",
       "    .dataframe tbody tr th {\n",
       "        vertical-align: top;\n",
       "    }\n",
       "\n",
       "    .dataframe thead th {\n",
       "        text-align: right;\n",
       "    }\n",
       "</style>\n",
       "<table border=\"1\" class=\"dataframe\">\n",
       "  <thead>\n",
       "    <tr style=\"text-align: right;\">\n",
       "      <th></th>\n",
       "      <th>Price_x</th>\n",
       "      <th>Open_x</th>\n",
       "      <th>High_x</th>\n",
       "    </tr>\n",
       "  </thead>\n",
       "  <tbody>\n",
       "    <tr>\n",
       "      <th>Price_y</th>\n",
       "      <td>1.0</td>\n",
       "      <td>0.011</td>\n",
       "      <td>0.0125</td>\n",
       "    </tr>\n",
       "    <tr>\n",
       "      <th>Open_y</th>\n",
       "      <td>0.0</td>\n",
       "      <td>1.000</td>\n",
       "      <td>0.0000</td>\n",
       "    </tr>\n",
       "    <tr>\n",
       "      <th>High_y</th>\n",
       "      <td>0.0</td>\n",
       "      <td>0.000</td>\n",
       "      <td>1.0000</td>\n",
       "    </tr>\n",
       "  </tbody>\n",
       "</table>\n",
       "</div>"
      ],
      "text/plain": [
       "         Price_x  Open_x  High_x\n",
       "Price_y      1.0   0.011  0.0125\n",
       "Open_y       0.0   1.000  0.0000\n",
       "High_y       0.0   0.000  1.0000"
      ]
     },
     "execution_count": 3,
     "metadata": {},
     "output_type": "execute_result"
    }
   ],
   "source": [
    "# Testing Causation using Granger’s Causality Test\n",
    "from statsmodels.tsa.stattools import grangercausalitytests\n",
    "maxlag=12\n",
    "test = 'ssr_chi2test'\n",
    "def grangers_causation_matrix(data, variables, test='ssr_chi2test', verbose=False):    \n",
    "    df = pd.DataFrame(np.zeros((len(variables), len(variables))), columns=variables, index=variables)\n",
    "    for c in df.columns:\n",
    "        for r in df.index:\n",
    "            test_result = grangercausalitytests(data[[r, c]], maxlag=maxlag, verbose=False)\n",
    "            p_values = [round(test_result[i+1][0][test][1],4) for i in range(maxlag)]\n",
    "            if verbose: print(f'Y = {r}, X = {c}, P Values = {p_values}')\n",
    "            min_p_value = np.min(p_values)\n",
    "            df.loc[r, c] = min_p_value\n",
    "    df.columns = [var + '_x' for var in variables]\n",
    "    df.index = [var + '_y' for var in variables]\n",
    "    return df\n",
    "\n",
    "grangers_causation_matrix(df, variables = df.columns)    "
   ]
  },
  {
   "cell_type": "code",
   "execution_count": 4,
   "id": "1f43cb12",
   "metadata": {},
   "outputs": [
    {
     "name": "stdout",
     "output_type": "stream",
     "text": [
      "Name   ::  Test Stat > C(95%)    =>   Signif  \n",
      " ----------------------------------------\n",
      "Price  ::  612.63    > 24.2761   =>   True\n",
      "Open   ::  148.03    > 12.3212   =>   True\n",
      "High   ::  0.65      > 4.1296    =>   False\n"
     ]
    }
   ],
   "source": [
    "# Cointegration Test\n",
    "from statsmodels.tsa.vector_ar.vecm import coint_johansen\n",
    "def cointegration_test(df, alpha=0.05): \n",
    "    \"\"\"Perform Johanson's Cointegration Test and Report Summary\"\"\"\n",
    "    out = coint_johansen(df,-1,5)\n",
    "    d = {'0.90':0, '0.95':1, '0.99':2}\n",
    "    traces = out.lr1\n",
    "    cvts = out.cvt[:, d[str(1-alpha)]]\n",
    "    def adjust(val, length= 6): return str(val).ljust(length)\n",
    "\n",
    "    # Summary\n",
    "    print('Name   ::  Test Stat > C(95%)    =>   Signif  \\n', '--'*20)\n",
    "    for col, trace, cvt in zip(df.columns, traces, cvts):\n",
    "        print(adjust(col), ':: ', adjust(round(trace,2), 9), \">\", adjust(cvt, 8), ' =>  ' , trace > cvt)\n",
    "\n",
    "cointegration_test(df)"
   ]
  },
  {
   "cell_type": "code",
   "execution_count": 5,
   "id": "b29c7a9d",
   "metadata": {},
   "outputs": [],
   "source": [
    "df =  df[['Price','Open']]"
   ]
  },
  {
   "cell_type": "code",
   "execution_count": 6,
   "id": "b21e3f3e",
   "metadata": {},
   "outputs": [
    {
     "name": "stdout",
     "output_type": "stream",
     "text": [
      "ADF stat: -0.787497\n",
      "p-value: 0.822767\n",
      "\n",
      "\n"
     ]
    }
   ],
   "source": [
    "# check stationary\n",
    "from statsmodels.tsa.stattools import adfuller\n",
    "adf1 = adfuller(df['Price'], regression ='c', maxlag=30)\n",
    "print(\"ADF stat: %f\" % adf1[0])\n",
    "print(\"p-value: %f\" % adf1[1])\n",
    "print('\\n')"
   ]
  },
  {
   "cell_type": "code",
   "execution_count": 7,
   "id": "78684fc5",
   "metadata": {},
   "outputs": [
    {
     "name": "stdout",
     "output_type": "stream",
     "text": [
      "ADF stat: -23.666766\n",
      "p-value: 0.000000\n",
      "\n",
      "\n"
     ]
    }
   ],
   "source": [
    "# differencing\n",
    "from statsmodels.tsa.stattools import adfuller\n",
    "df_difference = df.diff().dropna()\n",
    "adf1 = adfuller(df_difference['Price'], regression ='c', maxlag=30)\n",
    "print(\"ADF stat: %f\" % adf1[0])\n",
    "print(\"p-value: %f\" % adf1[1])\n",
    "print('\\n')"
   ]
  },
  {
   "cell_type": "code",
   "execution_count": 8,
   "id": "f1bbf49a",
   "metadata": {},
   "outputs": [],
   "source": [
    "# Split train/test\n",
    "train_size = int(0.3 * len(df))\n",
    "train = df_difference[:-train_size]\n",
    "test = df_difference[-train_size:]"
   ]
  },
  {
   "cell_type": "code",
   "execution_count": 9,
   "id": "7b29d259",
   "metadata": {},
   "outputs": [
    {
     "name": "stdout",
     "output_type": "stream",
     "text": [
      "Order = 1\n",
      "AIC:  20.83427522869372\n",
      "BIC:  20.853073175727445\n",
      "\n",
      "Order = 2\n",
      "AIC:  20.700127654551334\n",
      "BIC:  20.73147225033745\n",
      "\n",
      "Order = 3\n",
      "AIC:  20.617358799609246\n",
      "BIC:  20.661261812355384\n",
      "\n",
      "Order = 4\n",
      "AIC:  20.57384990249288\n",
      "BIC:  20.630323118412367\n",
      "\n",
      "Order = 5\n",
      "AIC:  20.53895632652061\n",
      "BIC:  20.608011549870373\n",
      "\n",
      "Order = 6\n",
      "AIC:  20.49705404478558\n",
      "BIC:  20.57870309790416\n",
      "\n",
      "Order = 7\n",
      "AIC:  20.490297747401062\n",
      "BIC:  20.584552470746722\n",
      "\n",
      "Order = 8\n",
      "AIC:  20.469677136997213\n",
      "BIC:  20.576549389186155\n",
      "\n",
      "Order = 9\n",
      "AIC:  20.459394305601563\n",
      "BIC:  20.57889596344625\n",
      "\n",
      "Order = 10\n",
      "AIC:  20.44586698882785\n",
      "BIC:  20.5780099473754\n",
      "\n"
     ]
    },
    {
     "name": "stderr",
     "output_type": "stream",
     "text": [
      "C:\\Users\\Manh Khuong\\anaconda3\\Lib\\site-packages\\statsmodels\\tsa\\base\\tsa_model.py:473: ValueWarning: An unsupported index was provided and will be ignored when e.g. forecasting.\n",
      "  self._init_dates(dates, freq)\n",
      "C:\\Users\\Manh Khuong\\anaconda3\\Lib\\site-packages\\statsmodels\\tsa\\base\\tsa_model.py:473: ValueWarning: An unsupported index was provided and will be ignored when e.g. forecasting.\n",
      "  self._init_dates(dates, freq)\n",
      "C:\\Users\\Manh Khuong\\anaconda3\\Lib\\site-packages\\statsmodels\\tsa\\base\\tsa_model.py:473: ValueWarning: An unsupported index was provided and will be ignored when e.g. forecasting.\n",
      "  self._init_dates(dates, freq)\n",
      "C:\\Users\\Manh Khuong\\anaconda3\\Lib\\site-packages\\statsmodels\\tsa\\base\\tsa_model.py:473: ValueWarning: An unsupported index was provided and will be ignored when e.g. forecasting.\n",
      "  self._init_dates(dates, freq)\n",
      "C:\\Users\\Manh Khuong\\anaconda3\\Lib\\site-packages\\statsmodels\\tsa\\base\\tsa_model.py:473: ValueWarning: An unsupported index was provided and will be ignored when e.g. forecasting.\n",
      "  self._init_dates(dates, freq)\n",
      "C:\\Users\\Manh Khuong\\anaconda3\\Lib\\site-packages\\statsmodels\\tsa\\base\\tsa_model.py:473: ValueWarning: An unsupported index was provided and will be ignored when e.g. forecasting.\n",
      "  self._init_dates(dates, freq)\n",
      "C:\\Users\\Manh Khuong\\anaconda3\\Lib\\site-packages\\statsmodels\\tsa\\base\\tsa_model.py:473: ValueWarning: An unsupported index was provided and will be ignored when e.g. forecasting.\n",
      "  self._init_dates(dates, freq)\n",
      "C:\\Users\\Manh Khuong\\anaconda3\\Lib\\site-packages\\statsmodels\\tsa\\base\\tsa_model.py:473: ValueWarning: An unsupported index was provided and will be ignored when e.g. forecasting.\n",
      "  self._init_dates(dates, freq)\n",
      "C:\\Users\\Manh Khuong\\anaconda3\\Lib\\site-packages\\statsmodels\\tsa\\base\\tsa_model.py:473: ValueWarning: An unsupported index was provided and will be ignored when e.g. forecasting.\n",
      "  self._init_dates(dates, freq)\n",
      "C:\\Users\\Manh Khuong\\anaconda3\\Lib\\site-packages\\statsmodels\\tsa\\base\\tsa_model.py:473: ValueWarning: An unsupported index was provided and will be ignored when e.g. forecasting.\n",
      "  self._init_dates(dates, freq)\n"
     ]
    }
   ],
   "source": [
    "# find the best fit model\n",
    "for i in [1,2,3,4,5,6,7,8,9,10]:\n",
    "    model = VAR(train)\n",
    "    results = model.fit(i)\n",
    "    print('Order =', i)\n",
    "    print('AIC: ', results.aic)\n",
    "    print('BIC: ', results.bic)\n",
    "    print()"
   ]
  },
  {
   "cell_type": "code",
   "execution_count": 10,
   "id": "4578019e",
   "metadata": {},
   "outputs": [
    {
     "data": {
      "text/html": [
       "<table class=\"simpletable\">\n",
       "<caption>VAR Order Selection (* highlights the minimums)</caption>\n",
       "<tr>\n",
       "   <td></td>      <th>AIC</th>         <th>BIC</th>         <th>FPE</th>        <th>HQIC</th>    \n",
       "</tr>\n",
       "<tr>\n",
       "  <th>0</th>  <td>     21.77</td>  <td>     21.77</td>  <td> 2.838e+09</td>  <td>     21.77</td> \n",
       "</tr>\n",
       "<tr>\n",
       "  <th>1</th>  <td>     20.85</td>  <td>     20.87</td>  <td> 1.131e+09</td>  <td>     20.85</td> \n",
       "</tr>\n",
       "<tr>\n",
       "  <th>2</th>  <td>     20.71</td>  <td>     20.74</td>  <td> 9.882e+08</td>  <td>     20.72</td> \n",
       "</tr>\n",
       "<tr>\n",
       "  <th>3</th>  <td>     20.63</td>  <td>     20.67</td>  <td> 9.087e+08</td>  <td>     20.64</td> \n",
       "</tr>\n",
       "<tr>\n",
       "  <th>4</th>  <td>     20.58</td>  <td>     20.64</td>  <td> 8.691e+08</td>  <td>     20.60</td> \n",
       "</tr>\n",
       "<tr>\n",
       "  <th>5</th>  <td>     20.55</td>  <td>     20.62</td>  <td> 8.383e+08</td>  <td>     20.57</td> \n",
       "</tr>\n",
       "<tr>\n",
       "  <th>6</th>  <td>     20.50</td>  <td>     20.59</td>  <td> 8.030e+08</td>  <td>     20.53</td> \n",
       "</tr>\n",
       "<tr>\n",
       "  <th>7</th>  <td>     20.50</td>  <td>     20.59</td>  <td> 7.967e+08</td>  <td>     20.53</td> \n",
       "</tr>\n",
       "<tr>\n",
       "  <th>8</th>  <td>     20.47</td>  <td>     20.58</td>  <td> 7.795e+08</td>  <td>     20.51</td> \n",
       "</tr>\n",
       "<tr>\n",
       "  <th>9</th>  <td>     20.46</td>  <td>     20.58</td>  <td> 7.707e+08</td>  <td>     20.51</td> \n",
       "</tr>\n",
       "<tr>\n",
       "  <th>10</th> <td>     20.45</td>  <td>     20.58</td>  <td> 7.595e+08</td>  <td>     20.50</td> \n",
       "</tr>\n",
       "<tr>\n",
       "  <th>11</th> <td>     20.43*</td> <td>     20.58*</td> <td> 7.479e+08*</td> <td>     20.49*</td>\n",
       "</tr>\n",
       "<tr>\n",
       "  <th>12</th> <td>     20.43</td>  <td>     20.59</td>  <td> 7.484e+08</td>  <td>     20.49</td> \n",
       "</tr>\n",
       "</table>"
      ],
      "text/latex": [
       "\\begin{center}\n",
       "\\begin{tabular}{lcccc}\n",
       "\\toprule\n",
       "            & \\textbf{AIC} & \\textbf{BIC} & \\textbf{FPE} & \\textbf{HQIC}  \\\\\n",
       "\\midrule\n",
       "\\textbf{0}  &       21.77  &       21.77  &   2.838e+09  &        21.77   \\\\\n",
       "\\textbf{1}  &       20.85  &       20.87  &   1.131e+09  &        20.85   \\\\\n",
       "\\textbf{2}  &       20.71  &       20.74  &   9.882e+08  &        20.72   \\\\\n",
       "\\textbf{3}  &       20.63  &       20.67  &   9.087e+08  &        20.64   \\\\\n",
       "\\textbf{4}  &       20.58  &       20.64  &   8.691e+08  &        20.60   \\\\\n",
       "\\textbf{5}  &       20.55  &       20.62  &   8.383e+08  &        20.57   \\\\\n",
       "\\textbf{6}  &       20.50  &       20.59  &   8.030e+08  &        20.53   \\\\\n",
       "\\textbf{7}  &       20.50  &       20.59  &   7.967e+08  &        20.53   \\\\\n",
       "\\textbf{8}  &       20.47  &       20.58  &   7.795e+08  &        20.51   \\\\\n",
       "\\textbf{9}  &       20.46  &       20.58  &   7.707e+08  &        20.51   \\\\\n",
       "\\textbf{10} &       20.45  &       20.58  &   7.595e+08  &        20.50   \\\\\n",
       "\\textbf{11} &      20.43*  &      20.58*  &  7.479e+08*  &       20.49*   \\\\\n",
       "\\textbf{12} &       20.43  &       20.59  &   7.484e+08  &        20.49   \\\\\n",
       "\\bottomrule\n",
       "\\end{tabular}\n",
       "%\\caption{VAR Order Selection (* highlights the minimums)}\n",
       "\\end{center}"
      ],
      "text/plain": [
       "<class 'statsmodels.iolib.table.SimpleTable'>"
      ]
     },
     "execution_count": 10,
     "metadata": {},
     "output_type": "execute_result"
    }
   ],
   "source": [
    "x = model.select_order(maxlags=12)\n",
    "x.summary()"
   ]
  },
  {
   "cell_type": "code",
   "execution_count": 11,
   "id": "98109c83",
   "metadata": {
    "scrolled": true
   },
   "outputs": [
    {
     "data": {
      "text/plain": [
       "  Summary of Regression Results   \n",
       "==================================\n",
       "Model:                         VAR\n",
       "Method:                        OLS\n",
       "Date:           Sun, 31, Dec, 2023\n",
       "Time:                     00:39:54\n",
       "--------------------------------------------------------------------\n",
       "No. of Equations:         2.00000    BIC:                    20.5763\n",
       "Nobs:                     1734.00    HQIC:                   20.4851\n",
       "Log likelihood:          -22589.0    FPE:                7.46985e+08\n",
       "AIC:                      20.4316    Det(Omega_mle):     7.27556e+08\n",
       "--------------------------------------------------------------------\n",
       "Results for equation Price\n",
       "============================================================================\n",
       "               coefficient       std. error           t-stat            prob\n",
       "----------------------------------------------------------------------------\n",
       "const             7.916389         4.358611            1.816           0.069\n",
       "L1.Price         -0.054712         0.024253           -2.256           0.024\n",
       "L1.Open          -0.072774         0.028566           -2.548           0.011\n",
       "L2.Price          0.196319         0.040715            4.822           0.000\n",
       "L2.Open          -0.165721         0.038132           -4.346           0.000\n",
       "L3.Price          0.158966         0.048065            3.307           0.001\n",
       "L3.Open          -0.143838         0.043980           -3.271           0.001\n",
       "L4.Price          0.154049         0.053774            2.865           0.004\n",
       "L4.Open          -0.162404         0.047906           -3.390           0.001\n",
       "L5.Price          0.169459         0.056992            2.973           0.003\n",
       "L5.Open          -0.131411         0.050289           -2.613           0.009\n",
       "L6.Price          0.121997         0.059324            2.056           0.040\n",
       "L6.Open          -0.078023         0.050614           -1.542           0.123\n",
       "L7.Price          0.049886         0.059406            0.840           0.401\n",
       "L7.Open          -0.061937         0.049197           -1.259           0.208\n",
       "L8.Price          0.077950         0.057682            1.351           0.177\n",
       "L8.Open          -0.100072         0.046088           -2.171           0.030\n",
       "L9.Price          0.033066         0.054564            0.606           0.545\n",
       "L9.Open          -0.106682         0.041262           -2.586           0.010\n",
       "L10.Price         0.191394         0.050326            3.803           0.000\n",
       "L10.Open         -0.062721         0.034493           -1.818           0.069\n",
       "L11.Price         0.007498         0.042352            0.177           0.859\n",
       "L11.Open         -0.003818         0.018817           -0.203           0.839\n",
       "============================================================================\n",
       "\n",
       "Results for equation Open\n",
       "============================================================================\n",
       "               coefficient       std. error           t-stat            prob\n",
       "----------------------------------------------------------------------------\n",
       "const             0.251750         3.658480            0.069           0.945\n",
       "L1.Price          1.131517         0.020357           55.584           0.000\n",
       "L1.Open          -0.899444         0.023977          -37.512           0.000\n",
       "L2.Price          0.911924         0.034175           26.684           0.000\n",
       "L2.Open          -0.810198         0.032007          -25.313           0.000\n",
       "L3.Price          0.879512         0.040344           21.800           0.000\n",
       "L3.Open          -0.769877         0.036915          -20.855           0.000\n",
       "L4.Price          0.799000         0.045137           17.702           0.000\n",
       "L4.Open          -0.688957         0.040211          -17.133           0.000\n",
       "L5.Price          0.720260         0.047837           15.056           0.000\n",
       "L5.Open          -0.620960         0.042211          -14.711           0.000\n",
       "L6.Price          0.606469         0.049795           12.179           0.000\n",
       "L6.Open          -0.518970         0.042484          -12.216           0.000\n",
       "L7.Price          0.457235         0.049864            9.170           0.000\n",
       "L7.Open          -0.396391         0.041295           -9.599           0.000\n",
       "L8.Price          0.383080         0.048417            7.912           0.000\n",
       "L8.Open          -0.351967         0.038684           -9.098           0.000\n",
       "L9.Price          0.295444         0.045799            6.451           0.000\n",
       "L9.Open          -0.235925         0.034634           -6.812           0.000\n",
       "L10.Price         0.189852         0.042242            4.494           0.000\n",
       "L10.Open         -0.196353         0.028952           -6.782           0.000\n",
       "L11.Price         0.179112         0.035549            5.038           0.000\n",
       "L11.Open         -0.080747         0.015794           -5.112           0.000\n",
       "============================================================================\n",
       "\n",
       "Correlation matrix of residuals\n",
       "            Price      Open\n",
       "Price    1.000000  0.059971\n",
       "Open     0.059971  1.000000\n",
       "\n"
      ]
     },
     "execution_count": 11,
     "metadata": {},
     "output_type": "execute_result"
    }
   ],
   "source": [
    "result = model.fit(11)\n",
    "result.summary()"
   ]
  },
  {
   "cell_type": "code",
   "execution_count": 12,
   "id": "291658c7",
   "metadata": {},
   "outputs": [],
   "source": [
    "# Get the lag order\n",
    "lag_order = result.k_ar\n",
    "lagged_Values = train.values[-lag_order:]\n",
    "\n",
    "# Forecast\n",
    "pred = result.forecast(y=lagged_Values, steps=len(test)+30) \n",
    "\n",
    "idx = pd.RangeIndex(start=len(train), stop=len(df)+29, step=1)\n",
    "df_forecast=pd.DataFrame(data=pred, index=idx, columns=['price_1d', 'open_1d'])"
   ]
  },
  {
   "cell_type": "code",
   "execution_count": 13,
   "id": "2a6cc91d",
   "metadata": {},
   "outputs": [],
   "source": [
    "# Convert differenced values into original values\n",
    "df_forecast['PriceForecast'] = df['Price'].iloc[-train_size-1] + df_forecast['price_1d'].cumsum()\n",
    "df_forecast['OpenForecast'] = df['Open'].iloc[-train_size-1] + df_forecast['open_1d'].cumsum()\n",
    "df_forecast_30 = df_forecast[-30:]\n",
    "df_forecast = df_forecast[:-30]"
   ]
  },
  {
   "cell_type": "code",
   "execution_count": 18,
   "id": "ca738007",
   "metadata": {},
   "outputs": [
    {
     "name": "stdout",
     "output_type": "stream",
     "text": [
      "RMSE trên tập test là: 4531.319300845888\n",
      "MAPE trên tập test là: 14.287464936327721\n",
      "MSLE trên tập test là: 0.03927650392101271\n"
     ]
    }
   ],
   "source": [
    "# Evaluating\n",
    "from sklearn.metrics import mean_squared_error, mean_absolute_percentage_error, mean_absolute_error, mean_squared_log_error\n",
    "test_score_rmse_lstm = np.sqrt(mean_squared_error(df[-train_size:]['Price'], df_forecast['PriceForecast']))\n",
    "test_score_mape_lstm = mean_absolute_percentage_error(df[-train_size:]['Price'], df_forecast['PriceForecast']) * 100\n",
    "test_score_msle_lstm = mean_squared_log_error(df[-train_size:]['Price'], df_forecast['PriceForecast'])\n",
    "\n",
    "print('RMSE trên tập test là:', test_score_rmse_lstm)\n",
    "print('MAPE trên tập test là:', test_score_mape_lstm)\n",
    "print('MSLE trên tập test là:', test_score_msle_lstm)"
   ]
  },
  {
   "cell_type": "code",
   "execution_count": 15,
   "id": "a5e8b114",
   "metadata": {},
   "outputs": [
    {
     "data": {
      "image/png": "[encoded data removed]",
      "text/plain": [
       "<Figure size 640x480 with 1 Axes>"
      ]
     },
     "metadata": {},
     "output_type": "display_data"
    }
   ],
   "source": [
    "# Plot\n",
    "plt.plot(df[:-train_size].index, df[:-train_size]['Price'], label='Train')\n",
    "plt.plot(test.index, df[-train_size:]['Price'], label='Actual Test')\n",
    "plt.plot(df[-train_size:].index, df_forecast['PriceForecast'], label='Predicted Test')\n",
    "plt.plot(df_forecast_30.index, df_forecast_30['PriceForecast'], label='Next 30 days')\n",
    "plt.legend()\n",
    "plt.show()"
   ]
  },
  {
   "cell_type": "markdown",
   "id": "f47d4659",
   "metadata": {},
   "source": [
    "# 8:2 Tran/Test Ratio"
   ]
  },
  {
   "cell_type": "code",
   "execution_count": 19,
   "id": "155bbcdc",
   "metadata": {},
   "outputs": [],
   "source": [
    "# import libraries\n",
    "import pandas as pd\n",
    "import numpy as np\n",
    "from statsmodels.tsa.api import VAR\n",
    "from sklearn.metrics import mean_squared_error, mean_absolute_percentage_error\n",
    "import matplotlib.pyplot as plt"
   ]
  },
  {
   "cell_type": "code",
   "execution_count": 20,
   "id": "ffaac384",
   "metadata": {},
   "outputs": [],
   "source": [
    "# read data\n",
    "df = pd.read_csv('ACB.csv')\n",
    "df = df[['Price','Open','High']]"
   ]
  },
  {
   "cell_type": "code",
   "execution_count": 21,
   "id": "f7606009",
   "metadata": {},
   "outputs": [
    {
     "name": "stderr",
     "output_type": "stream",
     "text": [
      "C:\\Users\\Manh Khuong\\anaconda3\\Lib\\site-packages\\statsmodels\\tsa\\stattools.py:1488: FutureWarning: verbose is deprecated since functions should not print results\n",
      "  warnings.warn(\n",
      "C:\\Users\\Manh Khuong\\anaconda3\\Lib\\site-packages\\statsmodels\\tsa\\stattools.py:1488: FutureWarning: verbose is deprecated since functions should not print results\n",
      "  warnings.warn(\n",
      "C:\\Users\\Manh Khuong\\anaconda3\\Lib\\site-packages\\statsmodels\\tsa\\stattools.py:1488: FutureWarning: verbose is deprecated since functions should not print results\n",
      "  warnings.warn(\n",
      "C:\\Users\\Manh Khuong\\anaconda3\\Lib\\site-packages\\statsmodels\\tsa\\stattools.py:1488: FutureWarning: verbose is deprecated since functions should not print results\n",
      "  warnings.warn(\n",
      "C:\\Users\\Manh Khuong\\anaconda3\\Lib\\site-packages\\statsmodels\\tsa\\stattools.py:1488: FutureWarning: verbose is deprecated since functions should not print results\n",
      "  warnings.warn(\n",
      "C:\\Users\\Manh Khuong\\anaconda3\\Lib\\site-packages\\statsmodels\\tsa\\stattools.py:1488: FutureWarning: verbose is deprecated since functions should not print results\n",
      "  warnings.warn(\n",
      "C:\\Users\\Manh Khuong\\anaconda3\\Lib\\site-packages\\statsmodels\\tsa\\stattools.py:1488: FutureWarning: verbose is deprecated since functions should not print results\n",
      "  warnings.warn(\n",
      "C:\\Users\\Manh Khuong\\anaconda3\\Lib\\site-packages\\statsmodels\\tsa\\stattools.py:1488: FutureWarning: verbose is deprecated since functions should not print results\n",
      "  warnings.warn(\n",
      "C:\\Users\\Manh Khuong\\anaconda3\\Lib\\site-packages\\statsmodels\\tsa\\stattools.py:1488: FutureWarning: verbose is deprecated since functions should not print results\n",
      "  warnings.warn(\n"
     ]
    },
    {
     "data": {
      "text/html": [
       "<div>\n",
       "<style scoped>\n",
       "    .dataframe tbody tr th:only-of-type {\n",
       "        vertical-align: middle;\n",
       "    }\n",
       "\n",
       "    .dataframe tbody tr th {\n",
       "        vertical-align: top;\n",
       "    }\n",
       "\n",
       "    .dataframe thead th {\n",
       "        text-align: right;\n",
       "    }\n",
       "</style>\n",
       "<table border=\"1\" class=\"dataframe\">\n",
       "  <thead>\n",
       "    <tr style=\"text-align: right;\">\n",
       "      <th></th>\n",
       "      <th>Price_x</th>\n",
       "      <th>Open_x</th>\n",
       "      <th>High_x</th>\n",
       "    </tr>\n",
       "  </thead>\n",
       "  <tbody>\n",
       "    <tr>\n",
       "      <th>Price_y</th>\n",
       "      <td>1.0</td>\n",
       "      <td>0.011</td>\n",
       "      <td>0.0125</td>\n",
       "    </tr>\n",
       "    <tr>\n",
       "      <th>Open_y</th>\n",
       "      <td>0.0</td>\n",
       "      <td>1.000</td>\n",
       "      <td>0.0000</td>\n",
       "    </tr>\n",
       "    <tr>\n",
       "      <th>High_y</th>\n",
       "      <td>0.0</td>\n",
       "      <td>0.000</td>\n",
       "      <td>1.0000</td>\n",
       "    </tr>\n",
       "  </tbody>\n",
       "</table>\n",
       "</div>"
      ],
      "text/plain": [
       "         Price_x  Open_x  High_x\n",
       "Price_y      1.0   0.011  0.0125\n",
       "Open_y       0.0   1.000  0.0000\n",
       "High_y       0.0   0.000  1.0000"
      ]
     },
     "execution_count": 21,
     "metadata": {},
     "output_type": "execute_result"
    }
   ],
   "source": [
    "# Testing Causation using Granger’s Causality Test\n",
    "from statsmodels.tsa.stattools import grangercausalitytests\n",
    "maxlag=12\n",
    "test = 'ssr_chi2test'\n",
    "def grangers_causation_matrix(data, variables, test='ssr_chi2test', verbose=False):    \n",
    "    df = pd.DataFrame(np.zeros((len(variables), len(variables))), columns=variables, index=variables)\n",
    "    for c in df.columns:\n",
    "        for r in df.index:\n",
    "            test_result = grangercausalitytests(data[[r, c]], maxlag=maxlag, verbose=False)\n",
    "            p_values = [round(test_result[i+1][0][test][1],4) for i in range(maxlag)]\n",
    "            if verbose: print(f'Y = {r}, X = {c}, P Values = {p_values}')\n",
    "            min_p_value = np.min(p_values)\n",
    "            df.loc[r, c] = min_p_value\n",
    "    df.columns = [var + '_x' for var in variables]\n",
    "    df.index = [var + '_y' for var in variables]\n",
    "    return df\n",
    "\n",
    "grangers_causation_matrix(df, variables = df.columns)    "
   ]
  },
  {
   "cell_type": "code",
   "execution_count": 22,
   "id": "2662e8de",
   "metadata": {},
   "outputs": [
    {
     "name": "stdout",
     "output_type": "stream",
     "text": [
      "Name   ::  Test Stat > C(95%)    =>   Signif  \n",
      " ----------------------------------------\n",
      "Price  ::  612.63    > 24.2761   =>   True\n",
      "Open   ::  148.03    > 12.3212   =>   True\n",
      "High   ::  0.65      > 4.1296    =>   False\n"
     ]
    }
   ],
   "source": [
    "# Cointegration Test\n",
    "from statsmodels.tsa.vector_ar.vecm import coint_johansen\n",
    "def cointegration_test(df, alpha=0.05): \n",
    "    \"\"\"Perform Johanson's Cointegration Test and Report Summary\"\"\"\n",
    "    out = coint_johansen(df,-1,5)\n",
    "    d = {'0.90':0, '0.95':1, '0.99':2}\n",
    "    traces = out.lr1\n",
    "    cvts = out.cvt[:, d[str(1-alpha)]]\n",
    "    def adjust(val, length= 6): return str(val).ljust(length)\n",
    "\n",
    "    # Summary\n",
    "    print('Name   ::  Test Stat > C(95%)    =>   Signif  \\n', '--'*20)\n",
    "    for col, trace, cvt in zip(df.columns, traces, cvts):\n",
    "        print(adjust(col), ':: ', adjust(round(trace,2), 9), \">\", adjust(cvt, 8), ' =>  ' , trace > cvt)\n",
    "\n",
    "cointegration_test(df)"
   ]
  },
  {
   "cell_type": "code",
   "execution_count": 23,
   "id": "76d0e13b",
   "metadata": {},
   "outputs": [],
   "source": [
    "df =  df[['Price','Open']]"
   ]
  },
  {
   "cell_type": "code",
   "execution_count": 24,
   "id": "28ccab2d",
   "metadata": {},
   "outputs": [
    {
     "name": "stdout",
     "output_type": "stream",
     "text": [
      "ADF stat: -0.787497\n",
      "p-value: 0.822767\n",
      "\n",
      "\n"
     ]
    }
   ],
   "source": [
    "# check stationary\n",
    "from statsmodels.tsa.stattools import adfuller\n",
    "adf1 = adfuller(df['Price'], regression ='c', maxlag=30)\n",
    "print(\"ADF stat: %f\" % adf1[0])\n",
    "print(\"p-value: %f\" % adf1[1])\n",
    "print('\\n')"
   ]
  },
  {
   "cell_type": "code",
   "execution_count": 25,
   "id": "41582d78",
   "metadata": {},
   "outputs": [
    {
     "name": "stdout",
     "output_type": "stream",
     "text": [
      "ADF stat: -23.666766\n",
      "p-value: 0.000000\n",
      "\n",
      "\n"
     ]
    }
   ],
   "source": [
    "# differencing\n",
    "from statsmodels.tsa.stattools import adfuller\n",
    "df_difference = df.diff().dropna()\n",
    "adf1 = adfuller(df_difference['Price'], regression ='c', maxlag=30)\n",
    "print(\"ADF stat: %f\" % adf1[0])\n",
    "print(\"p-value: %f\" % adf1[1])\n",
    "print('\\n')"
   ]
  },
  {
   "cell_type": "code",
   "execution_count": 26,
   "id": "d9094c75",
   "metadata": {},
   "outputs": [],
   "source": [
    "# Split train/test\n",
    "train_size = int(0.2 * len(df))\n",
    "train = df_difference[:-train_size]\n",
    "test = df_difference[-train_size:]"
   ]
  },
  {
   "cell_type": "code",
   "execution_count": 27,
   "id": "1e9cf661",
   "metadata": {},
   "outputs": [
    {
     "name": "stdout",
     "output_type": "stream",
     "text": [
      "Order = 1\n",
      "AIC:  21.546147514330485\n",
      "BIC:  21.562998682379295\n",
      "\n",
      "Order = 2\n",
      "AIC:  21.414614417181763\n",
      "BIC:  21.442711276811004\n",
      "\n",
      "Order = 3\n",
      "AIC:  21.34198778006085\n",
      "BIC:  21.38133960942142\n",
      "\n",
      "Order = 4\n",
      "AIC:  21.29267056395986\n",
      "BIC:  21.343286653667867\n",
      "\n",
      "Order = 5\n",
      "AIC:  21.251732960700462\n",
      "BIC:  21.313622613860236\n",
      "\n",
      "Order = 6\n",
      "AIC:  21.231421808780855\n",
      "BIC:  21.304594341008034\n",
      "\n",
      "Order = 7\n",
      "AIC:  21.20425667473619\n",
      "BIC:  21.28872141418086\n",
      "\n",
      "Order = 8\n",
      "AIC:  21.19451981987572\n",
      "BIC:  21.290286107245596\n",
      "\n",
      "Order = 9\n",
      "AIC:  21.175258546067955\n",
      "BIC:  21.282335734651635\n",
      "\n",
      "Order = 10\n",
      "AIC:  21.170252346385173\n",
      "BIC:  21.288649802075437\n",
      "\n"
     ]
    },
    {
     "name": "stderr",
     "output_type": "stream",
     "text": [
      "C:\\Users\\Manh Khuong\\anaconda3\\Lib\\site-packages\\statsmodels\\tsa\\base\\tsa_model.py:473: ValueWarning: An unsupported index was provided and will be ignored when e.g. forecasting.\n",
      "  self._init_dates(dates, freq)\n",
      "C:\\Users\\Manh Khuong\\anaconda3\\Lib\\site-packages\\statsmodels\\tsa\\base\\tsa_model.py:473: ValueWarning: An unsupported index was provided and will be ignored when e.g. forecasting.\n",
      "  self._init_dates(dates, freq)\n",
      "C:\\Users\\Manh Khuong\\anaconda3\\Lib\\site-packages\\statsmodels\\tsa\\base\\tsa_model.py:473: ValueWarning: An unsupported index was provided and will be ignored when e.g. forecasting.\n",
      "  self._init_dates(dates, freq)\n",
      "C:\\Users\\Manh Khuong\\anaconda3\\Lib\\site-packages\\statsmodels\\tsa\\base\\tsa_model.py:473: ValueWarning: An unsupported index was provided and will be ignored when e.g. forecasting.\n",
      "  self._init_dates(dates, freq)\n",
      "C:\\Users\\Manh Khuong\\anaconda3\\Lib\\site-packages\\statsmodels\\tsa\\base\\tsa_model.py:473: ValueWarning: An unsupported index was provided and will be ignored when e.g. forecasting.\n",
      "  self._init_dates(dates, freq)\n",
      "C:\\Users\\Manh Khuong\\anaconda3\\Lib\\site-packages\\statsmodels\\tsa\\base\\tsa_model.py:473: ValueWarning: An unsupported index was provided and will be ignored when e.g. forecasting.\n",
      "  self._init_dates(dates, freq)\n",
      "C:\\Users\\Manh Khuong\\anaconda3\\Lib\\site-packages\\statsmodels\\tsa\\base\\tsa_model.py:473: ValueWarning: An unsupported index was provided and will be ignored when e.g. forecasting.\n",
      "  self._init_dates(dates, freq)\n",
      "C:\\Users\\Manh Khuong\\anaconda3\\Lib\\site-packages\\statsmodels\\tsa\\base\\tsa_model.py:473: ValueWarning: An unsupported index was provided and will be ignored when e.g. forecasting.\n",
      "  self._init_dates(dates, freq)\n",
      "C:\\Users\\Manh Khuong\\anaconda3\\Lib\\site-packages\\statsmodels\\tsa\\base\\tsa_model.py:473: ValueWarning: An unsupported index was provided and will be ignored when e.g. forecasting.\n",
      "  self._init_dates(dates, freq)\n",
      "C:\\Users\\Manh Khuong\\anaconda3\\Lib\\site-packages\\statsmodels\\tsa\\base\\tsa_model.py:473: ValueWarning: An unsupported index was provided and will be ignored when e.g. forecasting.\n",
      "  self._init_dates(dates, freq)\n"
     ]
    }
   ],
   "source": [
    "# find the best fit model\n",
    "for i in [1,2,3,4,5,6,7,8,9,10]:\n",
    "    model = VAR(train)\n",
    "    results = model.fit(i)\n",
    "    print('Order =', i)\n",
    "    print('AIC: ', results.aic)\n",
    "    print('BIC: ', results.bic)\n",
    "    print()"
   ]
  },
  {
   "cell_type": "code",
   "execution_count": 28,
   "id": "09693248",
   "metadata": {},
   "outputs": [
    {
     "data": {
      "text/html": [
       "<table class=\"simpletable\">\n",
       "<caption>VAR Order Selection (* highlights the minimums)</caption>\n",
       "<tr>\n",
       "   <td></td>      <th>AIC</th>         <th>BIC</th>         <th>FPE</th>        <th>HQIC</th>    \n",
       "</tr>\n",
       "<tr>\n",
       "  <th>0</th>  <td>     22.69</td>  <td>     22.69</td>  <td> 7.136e+09</td>  <td>     22.69</td> \n",
       "</tr>\n",
       "<tr>\n",
       "  <th>1</th>  <td>     21.56</td>  <td>     21.57</td>  <td> 2.302e+09</td>  <td>     21.56</td> \n",
       "</tr>\n",
       "<tr>\n",
       "  <th>2</th>  <td>     21.42</td>  <td>     21.45</td>  <td> 2.016e+09</td>  <td>     21.43</td> \n",
       "</tr>\n",
       "<tr>\n",
       "  <th>3</th>  <td>     21.35</td>  <td>     21.39</td>  <td> 1.873e+09</td>  <td>     21.37</td> \n",
       "</tr>\n",
       "<tr>\n",
       "  <th>4</th>  <td>     21.30</td>  <td>     21.35</td>  <td> 1.781e+09</td>  <td>     21.32</td> \n",
       "</tr>\n",
       "<tr>\n",
       "  <th>5</th>  <td>     21.26</td>  <td>     21.32</td>  <td> 1.708e+09</td>  <td>     21.28</td> \n",
       "</tr>\n",
       "<tr>\n",
       "  <th>6</th>  <td>     21.24</td>  <td>     21.31</td>  <td> 1.672e+09</td>  <td>     21.26</td> \n",
       "</tr>\n",
       "<tr>\n",
       "  <th>7</th>  <td>     21.21</td>  <td>     21.29</td>  <td> 1.626e+09</td>  <td>     21.24</td> \n",
       "</tr>\n",
       "<tr>\n",
       "  <th>8</th>  <td>     21.20</td>  <td>     21.29</td>  <td> 1.608e+09</td>  <td>     21.23</td> \n",
       "</tr>\n",
       "<tr>\n",
       "  <th>9</th>  <td>     21.18</td>  <td>     21.29*</td> <td> 1.576e+09</td>  <td>     21.22</td> \n",
       "</tr>\n",
       "<tr>\n",
       "  <th>10</th> <td>     21.17</td>  <td>     21.29</td>  <td> 1.567e+09</td>  <td>     21.22</td> \n",
       "</tr>\n",
       "<tr>\n",
       "  <th>11</th> <td>     21.16</td>  <td>     21.29</td>  <td> 1.548e+09</td>  <td>     21.21*</td>\n",
       "</tr>\n",
       "<tr>\n",
       "  <th>12</th> <td>     21.16*</td> <td>     21.30</td>  <td> 1.545e+09*</td> <td>     21.21</td> \n",
       "</tr>\n",
       "</table>"
      ],
      "text/latex": [
       "\\begin{center}\n",
       "\\begin{tabular}{lcccc}\n",
       "\\toprule\n",
       "            & \\textbf{AIC} & \\textbf{BIC} & \\textbf{FPE} & \\textbf{HQIC}  \\\\\n",
       "\\midrule\n",
       "\\textbf{0}  &       22.69  &       22.69  &   7.136e+09  &        22.69   \\\\\n",
       "\\textbf{1}  &       21.56  &       21.57  &   2.302e+09  &        21.56   \\\\\n",
       "\\textbf{2}  &       21.42  &       21.45  &   2.016e+09  &        21.43   \\\\\n",
       "\\textbf{3}  &       21.35  &       21.39  &   1.873e+09  &        21.37   \\\\\n",
       "\\textbf{4}  &       21.30  &       21.35  &   1.781e+09  &        21.32   \\\\\n",
       "\\textbf{5}  &       21.26  &       21.32  &   1.708e+09  &        21.28   \\\\\n",
       "\\textbf{6}  &       21.24  &       21.31  &   1.672e+09  &        21.26   \\\\\n",
       "\\textbf{7}  &       21.21  &       21.29  &   1.626e+09  &        21.24   \\\\\n",
       "\\textbf{8}  &       21.20  &       21.29  &   1.608e+09  &        21.23   \\\\\n",
       "\\textbf{9}  &       21.18  &      21.29*  &   1.576e+09  &        21.22   \\\\\n",
       "\\textbf{10} &       21.17  &       21.29  &   1.567e+09  &        21.22   \\\\\n",
       "\\textbf{11} &       21.16  &       21.29  &   1.548e+09  &       21.21*   \\\\\n",
       "\\textbf{12} &      21.16*  &       21.30  &  1.545e+09*  &        21.21   \\\\\n",
       "\\bottomrule\n",
       "\\end{tabular}\n",
       "%\\caption{VAR Order Selection (* highlights the minimums)}\n",
       "\\end{center}"
      ],
      "text/plain": [
       "<class 'statsmodels.iolib.table.SimpleTable'>"
      ]
     },
     "execution_count": 28,
     "metadata": {},
     "output_type": "execute_result"
    }
   ],
   "source": [
    "x = model.select_order(maxlags=12)\n",
    "x.summary()"
   ]
  },
  {
   "cell_type": "code",
   "execution_count": 30,
   "id": "88f57863",
   "metadata": {
    "scrolled": true
   },
   "outputs": [
    {
     "data": {
      "text/plain": [
       "  Summary of Regression Results   \n",
       "==================================\n",
       "Model:                         VAR\n",
       "Method:                        OLS\n",
       "Date:           Sun, 31, Dec, 2023\n",
       "Time:                     00:50:39\n",
       "--------------------------------------------------------------------\n",
       "No. of Equations:         2.00000    BIC:                    21.2823\n",
       "Nobs:                     1985.00    HQIC:                   21.2146\n",
       "Log likelihood:          -26611.6    FPE:                1.57144e+09\n",
       "AIC:                      21.1753    Det(Omega_mle):     1.54179e+09\n",
       "--------------------------------------------------------------------\n",
       "Results for equation Price\n",
       "===========================================================================\n",
       "              coefficient       std. error           t-stat            prob\n",
       "---------------------------------------------------------------------------\n",
       "const           11.870861         5.613357            2.115           0.034\n",
       "L1.Price        -0.036190         0.022911           -1.580           0.114\n",
       "L1.Open         -0.032814         0.034783           -0.943           0.345\n",
       "L2.Price         0.135512         0.045444            2.982           0.003\n",
       "L2.Open         -0.049211         0.045758           -1.075           0.282\n",
       "L3.Price         0.023862         0.053363            0.447           0.655\n",
       "L3.Open         -0.100227         0.051280           -1.954           0.051\n",
       "L4.Price         0.099565         0.058302            1.708           0.088\n",
       "L4.Open         -0.131031         0.054401           -2.409           0.016\n",
       "L5.Price         0.075960         0.061119            1.243           0.214\n",
       "L5.Open         -0.075280         0.055068           -1.367           0.172\n",
       "L6.Price         0.025072         0.061492            0.408           0.683\n",
       "L6.Open         -0.044521         0.052989           -0.840           0.401\n",
       "L7.Price         0.090485         0.058737            1.541           0.123\n",
       "L7.Open         -0.004490         0.048476           -0.093           0.926\n",
       "L8.Price         0.045801         0.054471            0.841           0.400\n",
       "L8.Open         -0.033230         0.040946           -0.812           0.417\n",
       "L9.Price        -0.018795         0.045453           -0.414           0.679\n",
       "L9.Open         -0.017979         0.020074           -0.896           0.370\n",
       "===========================================================================\n",
       "\n",
       "Results for equation Open\n",
       "===========================================================================\n",
       "              coefficient       std. error           t-stat            prob\n",
       "---------------------------------------------------------------------------\n",
       "const           -0.037015         3.655216           -0.010           0.992\n",
       "L1.Price         1.122200         0.014919           75.221           0.000\n",
       "L1.Open         -0.882596         0.022650          -38.967           0.000\n",
       "L2.Price         0.852058         0.029591           28.794           0.000\n",
       "L2.Open         -0.755943         0.029796          -25.371           0.000\n",
       "L3.Price         0.785332         0.034748           22.601           0.000\n",
       "L3.Open         -0.700435         0.033392          -20.976           0.000\n",
       "L4.Price         0.713688         0.037964           18.799           0.000\n",
       "L4.Open         -0.635510         0.035424          -17.940           0.000\n",
       "L5.Price         0.634858         0.039798           15.952           0.000\n",
       "L5.Open         -0.514195         0.035859          -14.340           0.000\n",
       "L6.Price         0.502473         0.040041           12.549           0.000\n",
       "L6.Open         -0.418239         0.034505          -12.121           0.000\n",
       "L7.Price         0.417829         0.038247           10.924           0.000\n",
       "L7.Open         -0.278696         0.031566           -8.829           0.000\n",
       "L8.Price         0.262506         0.035469            7.401           0.000\n",
       "L8.Open         -0.210621         0.026662           -7.900           0.000\n",
       "L9.Price         0.179069         0.029597            6.050           0.000\n",
       "L9.Open         -0.073490         0.013072           -5.622           0.000\n",
       "===========================================================================\n",
       "\n",
       "Correlation matrix of residuals\n",
       "            Price      Open\n",
       "Price    1.000000  0.177217\n",
       "Open     0.177217  1.000000\n",
       "\n"
      ]
     },
     "execution_count": 30,
     "metadata": {},
     "output_type": "execute_result"
    }
   ],
   "source": [
    "result = model.fit(9)\n",
    "result.summary()"
   ]
  },
  {
   "cell_type": "code",
   "execution_count": 31,
   "id": "89b84872",
   "metadata": {},
   "outputs": [],
   "source": [
    "# Get the lag order\n",
    "lag_order = result.k_ar\n",
    "lagged_Values = train.values[-lag_order:]\n",
    "\n",
    "# Forecast\n",
    "pred = result.forecast(y=lagged_Values, steps=len(test)+30) \n",
    "\n",
    "idx = pd.RangeIndex(start=len(train), stop=len(df)+29, step=1)\n",
    "df_forecast=pd.DataFrame(data=pred, index=idx, columns=['price_1d', 'open_1d'])"
   ]
  },
  {
   "cell_type": "code",
   "execution_count": 32,
   "id": "56c14b3c",
   "metadata": {},
   "outputs": [],
   "source": [
    "# Convert differenced values into original values\n",
    "df_forecast['PriceForecast'] = df['Price'].iloc[-train_size-1] + df_forecast['price_1d'].cumsum()\n",
    "df_forecast['OpenForecast'] = df['Open'].iloc[-train_size-1] + df_forecast['open_1d'].cumsum()\n",
    "df_forecast_30 = df_forecast[-30:]\n",
    "df_forecast = df_forecast[:-30]"
   ]
  },
  {
   "cell_type": "code",
   "execution_count": 33,
   "id": "f7231cdc",
   "metadata": {},
   "outputs": [
    {
     "name": "stdout",
     "output_type": "stream",
     "text": [
      "RMSE trên tập test là: 6337.585140716106\n",
      "MAPE trên tập test là: 24.557808038590633\n",
      "MSLE trên tập test là: 0.058819088759445935\n"
     ]
    }
   ],
   "source": [
    "# Evaluating\n",
    "from sklearn.metrics import mean_squared_error, mean_absolute_percentage_error, mean_absolute_error, mean_squared_log_error\n",
    "test_score_rmse_lstm = np.sqrt(mean_squared_error(df[-train_size:]['Price'], df_forecast['PriceForecast']))\n",
    "test_score_mape_lstm = mean_absolute_percentage_error(df[-train_size:]['Price'], df_forecast['PriceForecast']) * 100\n",
    "test_score_msle_lstm = mean_squared_log_error(df[-train_size:]['Price'], df_forecast['PriceForecast'])\n",
    "\n",
    "print('RMSE trên tập test là:', test_score_rmse_lstm)\n",
    "print('MAPE trên tập test là:', test_score_mape_lstm)\n",
    "print('MSLE trên tập test là:', test_score_msle_lstm)"
   ]
  },
  {
   "cell_type": "code",
   "execution_count": 34,
   "id": "b3da9ae6",
   "metadata": {},
   "outputs": [
    {
     "data": {
      "image/png": "[encoded data removed]",
      "text/plain": [
       "<Figure size 640x480 with 1 Axes>"
      ]
     },
     "metadata": {},
     "output_type": "display_data"
    }
   ],
   "source": [
    "# Plot\n",
    "plt.plot(df[:-train_size].index, df[:-train_size]['Price'], label='Train')\n",
    "plt.plot(test.index, df[-train_size:]['Price'], label='Actual Test')\n",
    "plt.plot(df[-train_size:].index, df_forecast['PriceForecast'], label='Predicted Test')\n",
    "plt.plot(df_forecast_30.index, df_forecast_30['PriceForecast'], label='Next 30 days')\n",
    "plt.legend()\n",
    "plt.show()"
   ]
  },
  {
   "cell_type": "markdown",
   "id": "9cc56f90",
   "metadata": {},
   "source": [
    "# 9:1 Train/Test Ratio"
   ]
  },
  {
   "cell_type": "code",
   "execution_count": 35,
   "id": "e7739706",
   "metadata": {},
   "outputs": [],
   "source": [
    "# import libraries\n",
    "import pandas as pd\n",
    "import numpy as np\n",
    "from statsmodels.tsa.api import VAR\n",
    "from sklearn.metrics import mean_squared_error, mean_absolute_percentage_error\n",
    "import matplotlib.pyplot as plt\n",
    "\n",
    "#read data\n",
    "df = pd.read_csv('ACB.csv')\n",
    "df = df[['Price','Open','High']]"
   ]
  },
  {
   "cell_type": "code",
   "execution_count": 36,
   "id": "74dc4e79",
   "metadata": {},
   "outputs": [
    {
     "name": "stderr",
     "output_type": "stream",
     "text": [
      "C:\\Users\\Manh Khuong\\anaconda3\\Lib\\site-packages\\statsmodels\\tsa\\stattools.py:1488: FutureWarning: verbose is deprecated since functions should not print results\n",
      "  warnings.warn(\n",
      "C:\\Users\\Manh Khuong\\anaconda3\\Lib\\site-packages\\statsmodels\\tsa\\stattools.py:1488: FutureWarning: verbose is deprecated since functions should not print results\n",
      "  warnings.warn(\n",
      "C:\\Users\\Manh Khuong\\anaconda3\\Lib\\site-packages\\statsmodels\\tsa\\stattools.py:1488: FutureWarning: verbose is deprecated since functions should not print results\n",
      "  warnings.warn(\n",
      "C:\\Users\\Manh Khuong\\anaconda3\\Lib\\site-packages\\statsmodels\\tsa\\stattools.py:1488: FutureWarning: verbose is deprecated since functions should not print results\n",
      "  warnings.warn(\n",
      "C:\\Users\\Manh Khuong\\anaconda3\\Lib\\site-packages\\statsmodels\\tsa\\stattools.py:1488: FutureWarning: verbose is deprecated since functions should not print results\n",
      "  warnings.warn(\n",
      "C:\\Users\\Manh Khuong\\anaconda3\\Lib\\site-packages\\statsmodels\\tsa\\stattools.py:1488: FutureWarning: verbose is deprecated since functions should not print results\n",
      "  warnings.warn(\n",
      "C:\\Users\\Manh Khuong\\anaconda3\\Lib\\site-packages\\statsmodels\\tsa\\stattools.py:1488: FutureWarning: verbose is deprecated since functions should not print results\n",
      "  warnings.warn(\n",
      "C:\\Users\\Manh Khuong\\anaconda3\\Lib\\site-packages\\statsmodels\\tsa\\stattools.py:1488: FutureWarning: verbose is deprecated since functions should not print results\n",
      "  warnings.warn(\n",
      "C:\\Users\\Manh Khuong\\anaconda3\\Lib\\site-packages\\statsmodels\\tsa\\stattools.py:1488: FutureWarning: verbose is deprecated since functions should not print results\n",
      "  warnings.warn(\n"
     ]
    },
    {
     "data": {
      "text/html": [
       "<div>\n",
       "<style scoped>\n",
       "    .dataframe tbody tr th:only-of-type {\n",
       "        vertical-align: middle;\n",
       "    }\n",
       "\n",
       "    .dataframe tbody tr th {\n",
       "        vertical-align: top;\n",
       "    }\n",
       "\n",
       "    .dataframe thead th {\n",
       "        text-align: right;\n",
       "    }\n",
       "</style>\n",
       "<table border=\"1\" class=\"dataframe\">\n",
       "  <thead>\n",
       "    <tr style=\"text-align: right;\">\n",
       "      <th></th>\n",
       "      <th>Price_x</th>\n",
       "      <th>Open_x</th>\n",
       "      <th>High_x</th>\n",
       "    </tr>\n",
       "  </thead>\n",
       "  <tbody>\n",
       "    <tr>\n",
       "      <th>Price_y</th>\n",
       "      <td>1.0</td>\n",
       "      <td>0.011</td>\n",
       "      <td>0.0125</td>\n",
       "    </tr>\n",
       "    <tr>\n",
       "      <th>Open_y</th>\n",
       "      <td>0.0</td>\n",
       "      <td>1.000</td>\n",
       "      <td>0.0000</td>\n",
       "    </tr>\n",
       "    <tr>\n",
       "      <th>High_y</th>\n",
       "      <td>0.0</td>\n",
       "      <td>0.000</td>\n",
       "      <td>1.0000</td>\n",
       "    </tr>\n",
       "  </tbody>\n",
       "</table>\n",
       "</div>"
      ],
      "text/plain": [
       "         Price_x  Open_x  High_x\n",
       "Price_y      1.0   0.011  0.0125\n",
       "Open_y       0.0   1.000  0.0000\n",
       "High_y       0.0   0.000  1.0000"
      ]
     },
     "execution_count": 36,
     "metadata": {},
     "output_type": "execute_result"
    }
   ],
   "source": [
    "# Testing Causation using Granger’s Causality Test\n",
    "from statsmodels.tsa.stattools import grangercausalitytests\n",
    "maxlag=12\n",
    "test = 'ssr_chi2test'\n",
    "def grangers_causation_matrix(data, variables, test='ssr_chi2test', verbose=False):    \n",
    "    df = pd.DataFrame(np.zeros((len(variables), len(variables))), columns=variables, index=variables)\n",
    "    for c in df.columns:\n",
    "        for r in df.index:\n",
    "            test_result = grangercausalitytests(data[[r, c]], maxlag=maxlag, verbose=False)\n",
    "            p_values = [round(test_result[i+1][0][test][1],4) for i in range(maxlag)]\n",
    "            if verbose: print(f'Y = {r}, X = {c}, P Values = {p_values}')\n",
    "            min_p_value = np.min(p_values)\n",
    "            df.loc[r, c] = min_p_value\n",
    "    df.columns = [var + '_x' for var in variables]\n",
    "    df.index = [var + '_y' for var in variables]\n",
    "    return df\n",
    "\n",
    "grangers_causation_matrix(df, variables = df.columns)    "
   ]
  },
  {
   "cell_type": "code",
   "execution_count": 37,
   "id": "0e7b0257",
   "metadata": {},
   "outputs": [
    {
     "name": "stdout",
     "output_type": "stream",
     "text": [
      "Name   ::  Test Stat > C(95%)    =>   Signif  \n",
      " ----------------------------------------\n",
      "Price  ::  612.63    > 24.2761   =>   True\n",
      "Open   ::  148.03    > 12.3212   =>   True\n",
      "High   ::  0.65      > 4.1296    =>   False\n"
     ]
    }
   ],
   "source": [
    "# Cointegration Test\n",
    "from statsmodels.tsa.vector_ar.vecm import coint_johansen\n",
    "def cointegration_test(df, alpha=0.05): \n",
    "    \"\"\"Perform Johanson's Cointegration Test and Report Summary\"\"\"\n",
    "    out = coint_johansen(df,-1,5)\n",
    "    d = {'0.90':0, '0.95':1, '0.99':2}\n",
    "    traces = out.lr1\n",
    "    cvts = out.cvt[:, d[str(1-alpha)]]\n",
    "    def adjust(val, length= 6): return str(val).ljust(length)\n",
    "\n",
    "    # Summary\n",
    "    print('Name   ::  Test Stat > C(95%)    =>   Signif  \\n', '--'*20)\n",
    "    for col, trace, cvt in zip(df.columns, traces, cvts):\n",
    "        print(adjust(col), ':: ', adjust(round(trace,2), 9), \">\", adjust(cvt, 8), ' =>  ' , trace > cvt)\n",
    "\n",
    "cointegration_test(df)"
   ]
  },
  {
   "cell_type": "code",
   "execution_count": 38,
   "id": "9f538df2",
   "metadata": {},
   "outputs": [],
   "source": [
    "df =  df[['Price','Open']]"
   ]
  },
  {
   "cell_type": "code",
   "execution_count": 39,
   "id": "5a824c93",
   "metadata": {},
   "outputs": [
    {
     "name": "stdout",
     "output_type": "stream",
     "text": [
      "ADF stat: -0.787497\n",
      "p-value: 0.822767\n",
      "\n",
      "\n"
     ]
    }
   ],
   "source": [
    "# check stationary\n",
    "from statsmodels.tsa.stattools import adfuller\n",
    "adf1 = adfuller(df['Price'], regression ='c', maxlag=30)\n",
    "print(\"ADF stat: %f\" % adf1[0])\n",
    "print(\"p-value: %f\" % adf1[1])\n",
    "print('\\n')"
   ]
  },
  {
   "cell_type": "code",
   "execution_count": 40,
   "id": "9a61ed04",
   "metadata": {},
   "outputs": [
    {
     "name": "stdout",
     "output_type": "stream",
     "text": [
      "ADF stat: -23.666766\n",
      "p-value: 0.000000\n",
      "\n",
      "\n"
     ]
    }
   ],
   "source": [
    "# differencing\n",
    "from statsmodels.tsa.stattools import adfuller\n",
    "df_difference = df.diff().dropna()\n",
    "adf1 = adfuller(df_difference['Price'], regression ='c', maxlag=30)\n",
    "print(\"ADF stat: %f\" % adf1[0])\n",
    "print(\"p-value: %f\" % adf1[1])\n",
    "print('\\n')"
   ]
  },
  {
   "cell_type": "code",
   "execution_count": 41,
   "id": "2909c32d",
   "metadata": {},
   "outputs": [],
   "source": [
    "# Split train/test\n",
    "train_size = int(0.1 * len(df))\n",
    "train = df_difference[:-train_size]\n",
    "test = df_difference[-train_size:]"
   ]
  },
  {
   "cell_type": "code",
   "execution_count": 42,
   "id": "cbfcc73f",
   "metadata": {},
   "outputs": [
    {
     "name": "stdout",
     "output_type": "stream",
     "text": [
      "Order = 1\n",
      "AIC:  21.974814408083088\n",
      "BIC:  21.990109118886743\n",
      "\n",
      "Order = 2\n",
      "AIC:  21.80923387340174\n",
      "BIC:  21.83473444222727\n",
      "\n",
      "Order = 3\n",
      "AIC:  21.736721465423173\n",
      "BIC:  21.77243541007848\n",
      "\n",
      "Order = 4\n",
      "AIC:  21.674143433525696\n",
      "BIC:  21.720078280823053\n",
      "\n",
      "Order = 5\n",
      "AIC:  21.637513675022586\n",
      "BIC:  21.693676960793443\n",
      "\n",
      "Order = 6\n",
      "AIC:  21.60898902317786\n",
      "BIC:  21.675388292287714\n",
      "\n",
      "Order = 7\n",
      "AIC:  21.587319222944313\n",
      "BIC:  21.663962029307573\n",
      "\n",
      "Order = 8\n",
      "AIC:  21.57617612838227\n",
      "BIC:  21.663070034977178\n",
      "\n",
      "Order = 9\n",
      "AIC:  21.554554560220645\n",
      "BIC:  21.65170713910422\n",
      "\n",
      "Order = 10\n",
      "AIC:  21.552318822013543\n",
      "BIC:  21.659737654336556\n",
      "\n"
     ]
    },
    {
     "name": "stderr",
     "output_type": "stream",
     "text": [
      "C:\\Users\\Manh Khuong\\anaconda3\\Lib\\site-packages\\statsmodels\\tsa\\base\\tsa_model.py:473: ValueWarning: An unsupported index was provided and will be ignored when e.g. forecasting.\n",
      "  self._init_dates(dates, freq)\n",
      "C:\\Users\\Manh Khuong\\anaconda3\\Lib\\site-packages\\statsmodels\\tsa\\base\\tsa_model.py:473: ValueWarning: An unsupported index was provided and will be ignored when e.g. forecasting.\n",
      "  self._init_dates(dates, freq)\n",
      "C:\\Users\\Manh Khuong\\anaconda3\\Lib\\site-packages\\statsmodels\\tsa\\base\\tsa_model.py:473: ValueWarning: An unsupported index was provided and will be ignored when e.g. forecasting.\n",
      "  self._init_dates(dates, freq)\n",
      "C:\\Users\\Manh Khuong\\anaconda3\\Lib\\site-packages\\statsmodels\\tsa\\base\\tsa_model.py:473: ValueWarning: An unsupported index was provided and will be ignored when e.g. forecasting.\n",
      "  self._init_dates(dates, freq)\n",
      "C:\\Users\\Manh Khuong\\anaconda3\\Lib\\site-packages\\statsmodels\\tsa\\base\\tsa_model.py:473: ValueWarning: An unsupported index was provided and will be ignored when e.g. forecasting.\n",
      "  self._init_dates(dates, freq)\n",
      "C:\\Users\\Manh Khuong\\anaconda3\\Lib\\site-packages\\statsmodels\\tsa\\base\\tsa_model.py:473: ValueWarning: An unsupported index was provided and will be ignored when e.g. forecasting.\n",
      "  self._init_dates(dates, freq)\n",
      "C:\\Users\\Manh Khuong\\anaconda3\\Lib\\site-packages\\statsmodels\\tsa\\base\\tsa_model.py:473: ValueWarning: An unsupported index was provided and will be ignored when e.g. forecasting.\n",
      "  self._init_dates(dates, freq)\n",
      "C:\\Users\\Manh Khuong\\anaconda3\\Lib\\site-packages\\statsmodels\\tsa\\base\\tsa_model.py:473: ValueWarning: An unsupported index was provided and will be ignored when e.g. forecasting.\n",
      "  self._init_dates(dates, freq)\n",
      "C:\\Users\\Manh Khuong\\anaconda3\\Lib\\site-packages\\statsmodels\\tsa\\base\\tsa_model.py:473: ValueWarning: An unsupported index was provided and will be ignored when e.g. forecasting.\n",
      "  self._init_dates(dates, freq)\n",
      "C:\\Users\\Manh Khuong\\anaconda3\\Lib\\site-packages\\statsmodels\\tsa\\base\\tsa_model.py:473: ValueWarning: An unsupported index was provided and will be ignored when e.g. forecasting.\n",
      "  self._init_dates(dates, freq)\n"
     ]
    }
   ],
   "source": [
    "# find the best fit model\n",
    "for i in [1,2,3,4,5,6,7,8,9,10]:\n",
    "    model = VAR(train)\n",
    "    results = model.fit(i)\n",
    "    print('Order =', i)\n",
    "    print('AIC: ', results.aic)\n",
    "    print('BIC: ', results.bic)\n",
    "    print()"
   ]
  },
  {
   "cell_type": "code",
   "execution_count": 43,
   "id": "3a96a37a",
   "metadata": {},
   "outputs": [
    {
     "data": {
      "text/html": [
       "<table class=\"simpletable\">\n",
       "<caption>VAR Order Selection (* highlights the minimums)</caption>\n",
       "<tr>\n",
       "   <td></td>      <th>AIC</th>         <th>BIC</th>         <th>FPE</th>        <th>HQIC</th>    \n",
       "</tr>\n",
       "<tr>\n",
       "  <th>0</th>  <td>     23.11</td>  <td>     23.11</td>  <td> 1.087e+10</td>  <td>     23.11</td> \n",
       "</tr>\n",
       "<tr>\n",
       "  <th>1</th>  <td>     21.98</td>  <td>     22.00</td>  <td> 3.530e+09</td>  <td>     21.99</td> \n",
       "</tr>\n",
       "<tr>\n",
       "  <th>2</th>  <td>     21.82</td>  <td>     21.84</td>  <td> 2.989e+09</td>  <td>     21.83</td> \n",
       "</tr>\n",
       "<tr>\n",
       "  <th>3</th>  <td>     21.74</td>  <td>     21.78</td>  <td> 2.777e+09</td>  <td>     21.76</td> \n",
       "</tr>\n",
       "<tr>\n",
       "  <th>4</th>  <td>     21.68</td>  <td>     21.73</td>  <td> 2.606e+09</td>  <td>     21.70</td> \n",
       "</tr>\n",
       "<tr>\n",
       "  <th>5</th>  <td>     21.64</td>  <td>     21.70</td>  <td> 2.510e+09</td>  <td>     21.66</td> \n",
       "</tr>\n",
       "<tr>\n",
       "  <th>6</th>  <td>     21.61</td>  <td>     21.68</td>  <td> 2.438e+09</td>  <td>     21.64</td> \n",
       "</tr>\n",
       "<tr>\n",
       "  <th>7</th>  <td>     21.59</td>  <td>     21.67</td>  <td> 2.383e+09</td>  <td>     21.62</td> \n",
       "</tr>\n",
       "<tr>\n",
       "  <th>8</th>  <td>     21.58</td>  <td>     21.67</td>  <td> 2.355e+09</td>  <td>     21.61</td> \n",
       "</tr>\n",
       "<tr>\n",
       "  <th>9</th>  <td>     21.56</td>  <td>     21.65*</td> <td> 2.302e+09</td>  <td>     21.59</td> \n",
       "</tr>\n",
       "<tr>\n",
       "  <th>10</th> <td>     21.55</td>  <td>     21.66</td>  <td> 2.295e+09</td>  <td>     21.59</td> \n",
       "</tr>\n",
       "<tr>\n",
       "  <th>11</th> <td>     21.54</td>  <td>     21.66</td>  <td> 2.271e+09</td>  <td>     21.59</td> \n",
       "</tr>\n",
       "<tr>\n",
       "  <th>12</th> <td>     21.54*</td> <td>     21.67</td>  <td> 2.260e+09*</td> <td>     21.59*</td>\n",
       "</tr>\n",
       "</table>"
      ],
      "text/latex": [
       "\\begin{center}\n",
       "\\begin{tabular}{lcccc}\n",
       "\\toprule\n",
       "            & \\textbf{AIC} & \\textbf{BIC} & \\textbf{FPE} & \\textbf{HQIC}  \\\\\n",
       "\\midrule\n",
       "\\textbf{0}  &       23.11  &       23.11  &   1.087e+10  &        23.11   \\\\\n",
       "\\textbf{1}  &       21.98  &       22.00  &   3.530e+09  &        21.99   \\\\\n",
       "\\textbf{2}  &       21.82  &       21.84  &   2.989e+09  &        21.83   \\\\\n",
       "\\textbf{3}  &       21.74  &       21.78  &   2.777e+09  &        21.76   \\\\\n",
       "\\textbf{4}  &       21.68  &       21.73  &   2.606e+09  &        21.70   \\\\\n",
       "\\textbf{5}  &       21.64  &       21.70  &   2.510e+09  &        21.66   \\\\\n",
       "\\textbf{6}  &       21.61  &       21.68  &   2.438e+09  &        21.64   \\\\\n",
       "\\textbf{7}  &       21.59  &       21.67  &   2.383e+09  &        21.62   \\\\\n",
       "\\textbf{8}  &       21.58  &       21.67  &   2.355e+09  &        21.61   \\\\\n",
       "\\textbf{9}  &       21.56  &      21.65*  &   2.302e+09  &        21.59   \\\\\n",
       "\\textbf{10} &       21.55  &       21.66  &   2.295e+09  &        21.59   \\\\\n",
       "\\textbf{11} &       21.54  &       21.66  &   2.271e+09  &        21.59   \\\\\n",
       "\\textbf{12} &      21.54*  &       21.67  &  2.260e+09*  &       21.59*   \\\\\n",
       "\\bottomrule\n",
       "\\end{tabular}\n",
       "%\\caption{VAR Order Selection (* highlights the minimums)}\n",
       "\\end{center}"
      ],
      "text/plain": [
       "<class 'statsmodels.iolib.table.SimpleTable'>"
      ]
     },
     "execution_count": 43,
     "metadata": {},
     "output_type": "execute_result"
    }
   ],
   "source": [
    "x = model.select_order(maxlags=12)\n",
    "x.summary()"
   ]
  },
  {
   "cell_type": "code",
   "execution_count": 44,
   "id": "e7300224",
   "metadata": {},
   "outputs": [
    {
     "data": {
      "text/plain": [
       "  Summary of Regression Results   \n",
       "==================================\n",
       "Model:                         VAR\n",
       "Method:                        OLS\n",
       "Date:           Sun, 31, Dec, 2023\n",
       "Time:                     00:51:37\n",
       "--------------------------------------------------------------------\n",
       "No. of Equations:         2.00000    BIC:                    21.6517\n",
       "Nobs:                     2234.00    HQIC:                   21.5900\n",
       "Log likelihood:          -30378.3    FPE:                2.29628e+09\n",
       "AIC:                      21.5546    Det(Omega_mle):     2.25771e+09\n",
       "--------------------------------------------------------------------\n",
       "Results for equation Price\n",
       "===========================================================================\n",
       "              coefficient       std. error           t-stat            prob\n",
       "---------------------------------------------------------------------------\n",
       "const            9.484803         6.108296            1.553           0.120\n",
       "L1.Price        -0.016992         0.021712           -0.783           0.434\n",
       "L1.Open          0.062181         0.036450            1.706           0.088\n",
       "L2.Price        -0.032652         0.044784           -0.729           0.466\n",
       "L2.Open          0.034838         0.048774            0.714           0.475\n",
       "L3.Price        -0.078332         0.054272           -1.443           0.149\n",
       "L3.Open         -0.088502         0.054744           -1.617           0.106\n",
       "L4.Price         0.097085         0.059656            1.627           0.104\n",
       "L4.Open         -0.068918         0.058115           -1.186           0.236\n",
       "L5.Price         0.014977         0.062929            0.238           0.812\n",
       "L5.Open         -0.023497         0.058593           -0.401           0.688\n",
       "L6.Price        -0.013661         0.063286           -0.216           0.829\n",
       "L6.Open         -0.073041         0.055995           -1.304           0.192\n",
       "L7.Price         0.094215         0.059717            1.578           0.115\n",
       "L7.Open         -0.025714         0.050946           -0.505           0.614\n",
       "L8.Price         0.040895         0.054335            0.753           0.452\n",
       "L8.Open         -0.049829         0.042002           -1.186           0.235\n",
       "L9.Price         0.021578         0.044694            0.483           0.629\n",
       "L9.Open         -0.012926         0.019813           -0.652           0.514\n",
       "===========================================================================\n",
       "\n",
       "Results for equation Open\n",
       "===========================================================================\n",
       "              coefficient       std. error           t-stat            prob\n",
       "---------------------------------------------------------------------------\n",
       "const            0.402954         3.592337            0.112           0.911\n",
       "L1.Price         1.072709         0.012769           84.010           0.000\n",
       "L1.Open         -0.906749         0.021437          -42.299           0.000\n",
       "L2.Price         0.869010         0.026338           32.995           0.000\n",
       "L2.Open         -0.762953         0.028685          -26.598           0.000\n",
       "L3.Price         0.778486         0.031918           24.390           0.000\n",
       "L3.Open         -0.727717         0.032196          -22.603           0.000\n",
       "L4.Price         0.757035         0.035084           21.578           0.000\n",
       "L4.Open         -0.638755         0.034178          -18.689           0.000\n",
       "L5.Price         0.633241         0.037009           17.110           0.000\n",
       "L5.Open         -0.533487         0.034459          -15.482           0.000\n",
       "L6.Price         0.524833         0.037219           14.101           0.000\n",
       "L6.Open         -0.421304         0.032931          -12.793           0.000\n",
       "L7.Price         0.411516         0.035120           11.717           0.000\n",
       "L7.Open         -0.290912         0.029962           -9.709           0.000\n",
       "L8.Price         0.280497         0.031955            8.778           0.000\n",
       "L8.Open         -0.200913         0.024702           -8.134           0.000\n",
       "L9.Price         0.181409         0.026285            6.902           0.000\n",
       "L9.Open         -0.070782         0.011652           -6.075           0.000\n",
       "===========================================================================\n",
       "\n",
       "Correlation matrix of residuals\n",
       "            Price      Open\n",
       "Price    1.000000  0.206517\n",
       "Open     0.206517  1.000000\n",
       "\n"
      ]
     },
     "execution_count": 44,
     "metadata": {},
     "output_type": "execute_result"
    }
   ],
   "source": [
    "result = model.fit(9)\n",
    "result.summary()"
   ]
  },
  {
   "cell_type": "code",
   "execution_count": 45,
   "id": "89c544e2",
   "metadata": {},
   "outputs": [],
   "source": [
    "# Get the lag order\n",
    "lag_order = result.k_ar\n",
    "lagged_Values = train.values[-lag_order:]\n",
    "\n",
    "# Forecast\n",
    "pred = result.forecast(y=lagged_Values, steps=len(test)+30) \n",
    "\n",
    "idx = pd.RangeIndex(start=len(train), stop=len(df)+29, step=1)\n",
    "df_forecast=pd.DataFrame(data=pred, index=idx, columns=['price_1d', 'open_1d'])"
   ]
  },
  {
   "cell_type": "code",
   "execution_count": 46,
   "id": "4cd764fd",
   "metadata": {},
   "outputs": [],
   "source": [
    "# Convert differenced values into original values\n",
    "df_forecast['PriceForecast'] = df['Price'].iloc[-train_size-1] + df_forecast['price_1d'].cumsum()\n",
    "df_forecast['OpenForecast'] = df['Open'].iloc[-train_size-1] + df_forecast['open_1d'].cumsum()\n",
    "df_forecast_30 = df_forecast[-30:]\n",
    "df_forecast = df_forecast[:-30]"
   ]
  },
  {
   "cell_type": "code",
   "execution_count": 47,
   "id": "c7f16300",
   "metadata": {},
   "outputs": [
    {
     "name": "stdout",
     "output_type": "stream",
     "text": [
      "RMSE trên tập test là: 1910.5774060001481\n",
      "MAPE trên tập test là: 7.798894609843831\n",
      "MSLE trên tập test là: 0.0066411081040617095\n"
     ]
    }
   ],
   "source": [
    "# Evaluating\n",
    "from sklearn.metrics import mean_squared_error, mean_absolute_percentage_error, mean_absolute_error, mean_squared_log_error\n",
    "test_score_rmse_lstm = np.sqrt(mean_squared_error(df[-train_size:]['Price'], df_forecast['PriceForecast']))\n",
    "test_score_mape_lstm = mean_absolute_percentage_error(df[-train_size:]['Price'], df_forecast['PriceForecast']) * 100\n",
    "test_score_msle_lstm = mean_squared_log_error(df[-train_size:]['Price'], df_forecast['PriceForecast'])\n",
    "\n",
    "print('RMSE trên tập test là:', test_score_rmse_lstm)\n",
    "print('MAPE trên tập test là:', test_score_mape_lstm)\n",
    "print('MSLE trên tập test là:', test_score_msle_lstm)"
   ]
  },
  {
   "cell_type": "code",
   "execution_count": 48,
   "id": "0ae9c56b",
   "metadata": {},
   "outputs": [
    {
     "data": {
      "image/png": "[encoded data removed]",
      "text/plain": [
       "<Figure size 640x480 with 1 Axes>"
      ]
     },
     "metadata": {},
     "output_type": "display_data"
    }
   ],
   "source": [
    "# Plot\n",
    "plt.plot(df[:-train_size].index, df[:-train_size]['Price'], label='Train')\n",
    "plt.plot(test.index, df[-train_size:]['Price'], label='Actual Test')\n",
    "plt.plot(df[-train_size:].index, df_forecast['PriceForecast'], label='Predicted Test')\n",
    "plt.plot(df_forecast_30.index, df_forecast_30['PriceForecast'], label='Next 30 days')\n",
    "plt.legend()\n",
    "plt.show()"
   ]
  },
  {
   "cell_type": "code",
   "execution_count": null,
   "id": "f6a75ff2",
   "metadata": {},
   "outputs": [],
   "source": []
  }
 ],
 "metadata": {
  "kernelspec": {
   "display_name": "Python 3 (ipykernel)",
   "language": "python",
   "name": "python3"
  },
  "language_info": {
   "codemirror_mode": {
    "name": "ipython",
    "version": 3
   },
   "file_extension": ".py",
   "mimetype": "text/x-python",
   "name": "python",
   "nbconvert_exporter": "python",
   "pygments_lexer": "ipython3",
   "version": "3.11.4"
  }
 },
 "nbformat": 4,
 "nbformat_minor": 5
}
