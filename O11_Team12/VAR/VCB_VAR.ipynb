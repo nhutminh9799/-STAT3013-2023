{
 "cells": [
  {
   "cell_type": "markdown",
   "id": "cace6a35",
   "metadata": {},
   "source": [
    "# 7:3 Train/Test Ratio"
   ]
  },
  {
   "cell_type": "code",
   "execution_count": 1,
   "id": "e3f4afad",
   "metadata": {},
   "outputs": [],
   "source": [
    "# import libraries\n",
    "import pandas as pd\n",
    "import numpy as np\n",
    "from statsmodels.tsa.api import VAR\n",
    "from sklearn.metrics import mean_squared_error, mean_absolute_percentage_error\n",
    "import matplotlib.pyplot as plt"
   ]
  },
  {
   "cell_type": "code",
   "execution_count": 2,
   "id": "32860b60",
   "metadata": {},
   "outputs": [],
   "source": [
    "# read data\n",
    "df = pd.read_csv('VCB.csv')\n",
    "df = df[['Price','Open','High']]"
   ]
  },
  {
   "cell_type": "code",
   "execution_count": 3,
   "id": "aa96819b",
   "metadata": {},
   "outputs": [
    {
     "name": "stderr",
     "output_type": "stream",
     "text": [
      "C:\\Users\\Manh Khuong\\anaconda3\\Lib\\site-packages\\statsmodels\\tsa\\stattools.py:1488: FutureWarning: verbose is deprecated since functions should not print results\n",
      "  warnings.warn(\n",
      "C:\\Users\\Manh Khuong\\anaconda3\\Lib\\site-packages\\statsmodels\\tsa\\stattools.py:1488: FutureWarning: verbose is deprecated since functions should not print results\n",
      "  warnings.warn(\n",
      "C:\\Users\\Manh Khuong\\anaconda3\\Lib\\site-packages\\statsmodels\\tsa\\stattools.py:1488: FutureWarning: verbose is deprecated since functions should not print results\n",
      "  warnings.warn(\n",
      "C:\\Users\\Manh Khuong\\anaconda3\\Lib\\site-packages\\statsmodels\\tsa\\stattools.py:1488: FutureWarning: verbose is deprecated since functions should not print results\n",
      "  warnings.warn(\n",
      "C:\\Users\\Manh Khuong\\anaconda3\\Lib\\site-packages\\statsmodels\\tsa\\stattools.py:1488: FutureWarning: verbose is deprecated since functions should not print results\n",
      "  warnings.warn(\n",
      "C:\\Users\\Manh Khuong\\anaconda3\\Lib\\site-packages\\statsmodels\\tsa\\stattools.py:1488: FutureWarning: verbose is deprecated since functions should not print results\n",
      "  warnings.warn(\n",
      "C:\\Users\\Manh Khuong\\anaconda3\\Lib\\site-packages\\statsmodels\\tsa\\stattools.py:1488: FutureWarning: verbose is deprecated since functions should not print results\n",
      "  warnings.warn(\n",
      "C:\\Users\\Manh Khuong\\anaconda3\\Lib\\site-packages\\statsmodels\\tsa\\stattools.py:1488: FutureWarning: verbose is deprecated since functions should not print results\n",
      "  warnings.warn(\n",
      "C:\\Users\\Manh Khuong\\anaconda3\\Lib\\site-packages\\statsmodels\\tsa\\stattools.py:1488: FutureWarning: verbose is deprecated since functions should not print results\n",
      "  warnings.warn(\n"
     ]
    },
    {
     "data": {
      "text/html": [
       "<div>\n",
       "<style scoped>\n",
       "    .dataframe tbody tr th:only-of-type {\n",
       "        vertical-align: middle;\n",
       "    }\n",
       "\n",
       "    .dataframe tbody tr th {\n",
       "        vertical-align: top;\n",
       "    }\n",
       "\n",
       "    .dataframe thead th {\n",
       "        text-align: right;\n",
       "    }\n",
       "</style>\n",
       "<table border=\"1\" class=\"dataframe\">\n",
       "  <thead>\n",
       "    <tr style=\"text-align: right;\">\n",
       "      <th></th>\n",
       "      <th>Price_x</th>\n",
       "      <th>Open_x</th>\n",
       "      <th>High_x</th>\n",
       "    </tr>\n",
       "  </thead>\n",
       "  <tbody>\n",
       "    <tr>\n",
       "      <th>Price_y</th>\n",
       "      <td>1.0</td>\n",
       "      <td>0.004</td>\n",
       "      <td>0.0</td>\n",
       "    </tr>\n",
       "    <tr>\n",
       "      <th>Open_y</th>\n",
       "      <td>0.0</td>\n",
       "      <td>1.000</td>\n",
       "      <td>0.0</td>\n",
       "    </tr>\n",
       "    <tr>\n",
       "      <th>High_y</th>\n",
       "      <td>0.0</td>\n",
       "      <td>0.000</td>\n",
       "      <td>1.0</td>\n",
       "    </tr>\n",
       "  </tbody>\n",
       "</table>\n",
       "</div>"
      ],
      "text/plain": [
       "         Price_x  Open_x  High_x\n",
       "Price_y      1.0   0.004     0.0\n",
       "Open_y       0.0   1.000     0.0\n",
       "High_y       0.0   0.000     1.0"
      ]
     },
     "execution_count": 3,
     "metadata": {},
     "output_type": "execute_result"
    }
   ],
   "source": [
    "# Testing Causation using Granger’s Causality Test\n",
    "from statsmodels.tsa.stattools import grangercausalitytests\n",
    "maxlag=12\n",
    "test = 'ssr_chi2test'\n",
    "def grangers_causation_matrix(data, variables, test='ssr_chi2test', verbose=False):    \n",
    "    df = pd.DataFrame(np.zeros((len(variables), len(variables))), columns=variables, index=variables)\n",
    "    for c in df.columns:\n",
    "        for r in df.index:\n",
    "            test_result = grangercausalitytests(data[[r, c]], maxlag=maxlag, verbose=False)\n",
    "            p_values = [round(test_result[i+1][0][test][1],4) for i in range(maxlag)]\n",
    "            if verbose: print(f'Y = {r}, X = {c}, P Values = {p_values}')\n",
    "            min_p_value = np.min(p_values)\n",
    "            df.loc[r, c] = min_p_value\n",
    "    df.columns = [var + '_x' for var in variables]\n",
    "    df.index = [var + '_y' for var in variables]\n",
    "    return df\n",
    "\n",
    "grangers_causation_matrix(df, variables = df.columns)    "
   ]
  },
  {
   "cell_type": "code",
   "execution_count": 4,
   "id": "1f43cb12",
   "metadata": {},
   "outputs": [
    {
     "name": "stdout",
     "output_type": "stream",
     "text": [
      "Name   ::  Test Stat > C(95%)    =>   Signif  \n",
      " ----------------------------------------\n",
      "Price  ::  514.32    > 24.2761   =>   True\n",
      "Open   ::  167.55    > 12.3212   =>   True\n",
      "High   ::  0.54      > 4.1296    =>   False\n"
     ]
    }
   ],
   "source": [
    "# Cointegration Test\n",
    "from statsmodels.tsa.vector_ar.vecm import coint_johansen\n",
    "def cointegration_test(df, alpha=0.05): \n",
    "    \"\"\"Perform Johanson's Cointegration Test and Report Summary\"\"\"\n",
    "    out = coint_johansen(df,-1,5)\n",
    "    d = {'0.90':0, '0.95':1, '0.99':2}\n",
    "    traces = out.lr1\n",
    "    cvts = out.cvt[:, d[str(1-alpha)]]\n",
    "    def adjust(val, length= 6): return str(val).ljust(length)\n",
    "\n",
    "    # Summary\n",
    "    print('Name   ::  Test Stat > C(95%)    =>   Signif  \\n', '--'*20)\n",
    "    for col, trace, cvt in zip(df.columns, traces, cvts):\n",
    "        print(adjust(col), ':: ', adjust(round(trace,2), 9), \">\", adjust(cvt, 8), ' =>  ' , trace > cvt)\n",
    "\n",
    "cointegration_test(df)"
   ]
  },
  {
   "cell_type": "code",
   "execution_count": 5,
   "id": "b29c7a9d",
   "metadata": {},
   "outputs": [],
   "source": [
    "df =  df[['Price','Open']]"
   ]
  },
  {
   "cell_type": "code",
   "execution_count": 6,
   "id": "b21e3f3e",
   "metadata": {},
   "outputs": [
    {
     "name": "stdout",
     "output_type": "stream",
     "text": [
      "ADF stat: -1.142023\n",
      "p-value: 0.698026\n",
      "\n",
      "\n"
     ]
    }
   ],
   "source": [
    "# check stationary\n",
    "from statsmodels.tsa.stattools import adfuller\n",
    "adf1 = adfuller(df['Price'], regression ='c', maxlag=30)\n",
    "print(\"ADF stat: %f\" % adf1[0])\n",
    "print(\"p-value: %f\" % adf1[1])\n",
    "print('\\n')"
   ]
  },
  {
   "cell_type": "code",
   "execution_count": 7,
   "id": "78684fc5",
   "metadata": {},
   "outputs": [
    {
     "name": "stdout",
     "output_type": "stream",
     "text": [
      "ADF stat: -30.674165\n",
      "p-value: 0.000000\n",
      "\n",
      "\n"
     ]
    }
   ],
   "source": [
    "# differencing\n",
    "from statsmodels.tsa.stattools import adfuller\n",
    "df_difference = df.diff().dropna()\n",
    "adf1 = adfuller(df_difference['Price'], regression ='c', maxlag=30)\n",
    "print(\"ADF stat: %f\" % adf1[0])\n",
    "print(\"p-value: %f\" % adf1[1])\n",
    "print('\\n')"
   ]
  },
  {
   "cell_type": "code",
   "execution_count": 8,
   "id": "f1bbf49a",
   "metadata": {},
   "outputs": [],
   "source": [
    "# Split train/test\n",
    "train_size = int(0.3 * len(df))\n",
    "train = df_difference[:-train_size]\n",
    "test = df_difference[-train_size:]"
   ]
  },
  {
   "cell_type": "code",
   "execution_count": 9,
   "id": "7b29d259",
   "metadata": {},
   "outputs": [
    {
     "name": "stdout",
     "output_type": "stream",
     "text": [
      "Order = 1\n",
      "AIC:  25.740602422700874\n",
      "BIC:  25.75938277574692\n",
      "\n",
      "Order = 2\n",
      "AIC:  25.568906121756708\n",
      "BIC:  25.600221364362074\n",
      "\n",
      "Order = 3\n",
      "AIC:  25.4261175018229\n",
      "BIC:  25.46997937823492\n",
      "\n",
      "Order = 4\n",
      "AIC:  25.348433473806086\n",
      "BIC:  25.404853746221097\n",
      "\n",
      "Order = 5\n",
      "AIC:  25.321169987957507\n",
      "BIC:  25.39016043655858\n",
      "\n",
      "Order = 6\n",
      "AIC:  25.300971018439906\n",
      "BIC:  25.382543441434724\n",
      "\n",
      "Order = 7\n",
      "AIC:  25.290341671777835\n",
      "BIC:  25.3845078854366\n",
      "\n",
      "Order = 8\n",
      "AIC:  25.276356857088427\n",
      "BIC:  25.383128695781956\n",
      "\n",
      "Order = 9\n",
      "AIC:  25.264663331693676\n",
      "BIC:  25.384052647931515\n",
      "\n",
      "Order = 10\n",
      "AIC:  25.245417755411516\n",
      "BIC:  25.377436419880212\n",
      "\n"
     ]
    },
    {
     "name": "stderr",
     "output_type": "stream",
     "text": [
      "C:\\Users\\Manh Khuong\\anaconda3\\Lib\\site-packages\\statsmodels\\tsa\\base\\tsa_model.py:473: ValueWarning: An unsupported index was provided and will be ignored when e.g. forecasting.\n",
      "  self._init_dates(dates, freq)\n",
      "C:\\Users\\Manh Khuong\\anaconda3\\Lib\\site-packages\\statsmodels\\tsa\\base\\tsa_model.py:473: ValueWarning: An unsupported index was provided and will be ignored when e.g. forecasting.\n",
      "  self._init_dates(dates, freq)\n",
      "C:\\Users\\Manh Khuong\\anaconda3\\Lib\\site-packages\\statsmodels\\tsa\\base\\tsa_model.py:473: ValueWarning: An unsupported index was provided and will be ignored when e.g. forecasting.\n",
      "  self._init_dates(dates, freq)\n",
      "C:\\Users\\Manh Khuong\\anaconda3\\Lib\\site-packages\\statsmodels\\tsa\\base\\tsa_model.py:473: ValueWarning: An unsupported index was provided and will be ignored when e.g. forecasting.\n",
      "  self._init_dates(dates, freq)\n",
      "C:\\Users\\Manh Khuong\\anaconda3\\Lib\\site-packages\\statsmodels\\tsa\\base\\tsa_model.py:473: ValueWarning: An unsupported index was provided and will be ignored when e.g. forecasting.\n",
      "  self._init_dates(dates, freq)\n",
      "C:\\Users\\Manh Khuong\\anaconda3\\Lib\\site-packages\\statsmodels\\tsa\\base\\tsa_model.py:473: ValueWarning: An unsupported index was provided and will be ignored when e.g. forecasting.\n",
      "  self._init_dates(dates, freq)\n",
      "C:\\Users\\Manh Khuong\\anaconda3\\Lib\\site-packages\\statsmodels\\tsa\\base\\tsa_model.py:473: ValueWarning: An unsupported index was provided and will be ignored when e.g. forecasting.\n",
      "  self._init_dates(dates, freq)\n",
      "C:\\Users\\Manh Khuong\\anaconda3\\Lib\\site-packages\\statsmodels\\tsa\\base\\tsa_model.py:473: ValueWarning: An unsupported index was provided and will be ignored when e.g. forecasting.\n",
      "  self._init_dates(dates, freq)\n",
      "C:\\Users\\Manh Khuong\\anaconda3\\Lib\\site-packages\\statsmodels\\tsa\\base\\tsa_model.py:473: ValueWarning: An unsupported index was provided and will be ignored when e.g. forecasting.\n",
      "  self._init_dates(dates, freq)\n",
      "C:\\Users\\Manh Khuong\\anaconda3\\Lib\\site-packages\\statsmodels\\tsa\\base\\tsa_model.py:473: ValueWarning: An unsupported index was provided and will be ignored when e.g. forecasting.\n",
      "  self._init_dates(dates, freq)\n"
     ]
    }
   ],
   "source": [
    "# find the best fit model\n",
    "for i in [1,2,3,4,5,6,7,8,9,10]:\n",
    "    model = VAR(train)\n",
    "    results = model.fit(i)\n",
    "    print('Order =', i)\n",
    "    print('AIC: ', results.aic)\n",
    "    print('BIC: ', results.bic)\n",
    "    print()"
   ]
  },
  {
   "cell_type": "code",
   "execution_count": 10,
   "id": "4578019e",
   "metadata": {},
   "outputs": [
    {
     "data": {
      "text/html": [
       "<table class=\"simpletable\">\n",
       "<caption>VAR Order Selection (* highlights the minimums)</caption>\n",
       "<tr>\n",
       "   <td></td>      <th>AIC</th>         <th>BIC</th>         <th>FPE</th>        <th>HQIC</th>    \n",
       "</tr>\n",
       "<tr>\n",
       "  <th>0</th>  <td>     26.86</td>  <td>     26.86</td>  <td> 4.610e+11</td>  <td>     26.86</td> \n",
       "</tr>\n",
       "<tr>\n",
       "  <th>1</th>  <td>     25.75</td>  <td>     25.77</td>  <td> 1.529e+11</td>  <td>     25.76</td> \n",
       "</tr>\n",
       "<tr>\n",
       "  <th>2</th>  <td>     25.58</td>  <td>     25.61</td>  <td> 1.286e+11</td>  <td>     25.59</td> \n",
       "</tr>\n",
       "<tr>\n",
       "  <th>3</th>  <td>     25.44</td>  <td>     25.48</td>  <td> 1.114e+11</td>  <td>     25.45</td> \n",
       "</tr>\n",
       "<tr>\n",
       "  <th>4</th>  <td>     25.36</td>  <td>     25.41</td>  <td> 1.029e+11</td>  <td>     25.38</td> \n",
       "</tr>\n",
       "<tr>\n",
       "  <th>5</th>  <td>     25.33</td>  <td>     25.40</td>  <td> 1.001e+11</td>  <td>     25.35</td> \n",
       "</tr>\n",
       "<tr>\n",
       "  <th>6</th>  <td>     25.31</td>  <td>     25.39</td>  <td> 9.796e+10</td>  <td>     25.34</td> \n",
       "</tr>\n",
       "<tr>\n",
       "  <th>7</th>  <td>     25.30</td>  <td>     25.39</td>  <td> 9.681e+10</td>  <td>     25.33</td> \n",
       "</tr>\n",
       "<tr>\n",
       "  <th>8</th>  <td>     25.28</td>  <td>     25.39</td>  <td> 9.536e+10</td>  <td>     25.32</td> \n",
       "</tr>\n",
       "<tr>\n",
       "  <th>9</th>  <td>     25.27</td>  <td>     25.39</td>  <td> 9.414e+10</td>  <td>     25.31</td> \n",
       "</tr>\n",
       "<tr>\n",
       "  <th>10</th> <td>     25.25</td>  <td>     25.38*</td> <td> 9.225e+10</td>  <td>     25.30*</td>\n",
       "</tr>\n",
       "<tr>\n",
       "  <th>11</th> <td>     25.25</td>  <td>     25.39</td>  <td> 9.221e+10</td>  <td>     25.30</td> \n",
       "</tr>\n",
       "<tr>\n",
       "  <th>12</th> <td>     25.24*</td> <td>     25.40</td>  <td> 9.176e+10*</td> <td>     25.30</td> \n",
       "</tr>\n",
       "</table>"
      ],
      "text/latex": [
       "\\begin{center}\n",
       "\\begin{tabular}{lcccc}\n",
       "\\toprule\n",
       "            & \\textbf{AIC} & \\textbf{BIC} & \\textbf{FPE} & \\textbf{HQIC}  \\\\\n",
       "\\midrule\n",
       "\\textbf{0}  &       26.86  &       26.86  &   4.610e+11  &        26.86   \\\\\n",
       "\\textbf{1}  &       25.75  &       25.77  &   1.529e+11  &        25.76   \\\\\n",
       "\\textbf{2}  &       25.58  &       25.61  &   1.286e+11  &        25.59   \\\\\n",
       "\\textbf{3}  &       25.44  &       25.48  &   1.114e+11  &        25.45   \\\\\n",
       "\\textbf{4}  &       25.36  &       25.41  &   1.029e+11  &        25.38   \\\\\n",
       "\\textbf{5}  &       25.33  &       25.40  &   1.001e+11  &        25.35   \\\\\n",
       "\\textbf{6}  &       25.31  &       25.39  &   9.796e+10  &        25.34   \\\\\n",
       "\\textbf{7}  &       25.30  &       25.39  &   9.681e+10  &        25.33   \\\\\n",
       "\\textbf{8}  &       25.28  &       25.39  &   9.536e+10  &        25.32   \\\\\n",
       "\\textbf{9}  &       25.27  &       25.39  &   9.414e+10  &        25.31   \\\\\n",
       "\\textbf{10} &       25.25  &      25.38*  &   9.225e+10  &       25.30*   \\\\\n",
       "\\textbf{11} &       25.25  &       25.39  &   9.221e+10  &        25.30   \\\\\n",
       "\\textbf{12} &      25.24*  &       25.40  &  9.176e+10*  &        25.30   \\\\\n",
       "\\bottomrule\n",
       "\\end{tabular}\n",
       "%\\caption{VAR Order Selection (* highlights the minimums)}\n",
       "\\end{center}"
      ],
      "text/plain": [
       "<class 'statsmodels.iolib.table.SimpleTable'>"
      ]
     },
     "execution_count": 10,
     "metadata": {},
     "output_type": "execute_result"
    }
   ],
   "source": [
    "x = model.select_order(maxlags=12)\n",
    "x.summary()"
   ]
  },
  {
   "cell_type": "code",
   "execution_count": 11,
   "id": "98109c83",
   "metadata": {
    "scrolled": true
   },
   "outputs": [
    {
     "data": {
      "text/plain": [
       "  Summary of Regression Results   \n",
       "==================================\n",
       "Model:                         VAR\n",
       "Method:                        OLS\n",
       "Date:           Sun, 31, Dec, 2023\n",
       "Time:                     00:57:05\n",
       "--------------------------------------------------------------------\n",
       "No. of Equations:         2.00000    BIC:                    25.3774\n",
       "Nobs:                     1737.00    HQIC:                   25.2942\n",
       "Log likelihood:          -26813.0    FPE:                9.20337e+10\n",
       "AIC:                      25.2454    Det(Omega_mle):     8.98480e+10\n",
       "--------------------------------------------------------------------\n",
       "Results for equation Price\n",
       "============================================================================\n",
       "               coefficient       std. error           t-stat            prob\n",
       "----------------------------------------------------------------------------\n",
       "const            34.542944        18.259859            1.892           0.059\n",
       "L1.Price         -0.000171         0.025902           -0.007           0.995\n",
       "L1.Open           0.008294         0.045107            0.184           0.854\n",
       "L2.Price          0.023421         0.055795            0.420           0.675\n",
       "L2.Open           0.096519         0.062612            1.542           0.123\n",
       "L3.Price         -0.127867         0.069316           -1.845           0.065\n",
       "L3.Open           0.185280         0.074543            2.486           0.013\n",
       "L4.Price         -0.197844         0.079366           -2.493           0.013\n",
       "L4.Open           0.102777         0.081236            1.265           0.206\n",
       "L5.Price         -0.041959         0.084440           -0.497           0.619\n",
       "L5.Open           0.117554         0.083331            1.411           0.158\n",
       "L6.Price         -0.071019         0.085633           -0.829           0.407\n",
       "L6.Open           0.030850         0.082652            0.373           0.709\n",
       "L7.Price         -0.019738         0.083622           -0.236           0.813\n",
       "L7.Open          -0.082937         0.078159           -1.061           0.289\n",
       "L8.Price          0.126845         0.078000            1.626           0.104\n",
       "L8.Open          -0.145548         0.068326           -2.130           0.033\n",
       "L9.Price          0.054541         0.068419            0.797           0.425\n",
       "L9.Open          -0.091650         0.054882           -1.670           0.095\n",
       "L10.Price         0.088041         0.053493            1.646           0.100\n",
       "L10.Open         -0.007000         0.025619           -0.273           0.785\n",
       "============================================================================\n",
       "\n",
       "Results for equation Open\n",
       "============================================================================\n",
       "               coefficient       std. error           t-stat            prob\n",
       "----------------------------------------------------------------------------\n",
       "const             7.388887        10.375579            0.712           0.476\n",
       "L1.Price          1.099682         0.014718           74.718           0.000\n",
       "L1.Open          -0.988601         0.025630          -38.571           0.000\n",
       "L2.Price          0.947762         0.031704           29.894           0.000\n",
       "L2.Open          -0.937146         0.035578          -26.341           0.000\n",
       "L3.Price          0.912865         0.039386           23.177           0.000\n",
       "L3.Open          -0.766960         0.042357          -18.107           0.000\n",
       "L4.Price          0.718014         0.045097           15.922           0.000\n",
       "L4.Open          -0.613312         0.046160          -13.287           0.000\n",
       "L5.Price          0.585962         0.047980           12.213           0.000\n",
       "L5.Open          -0.496506         0.047350          -10.486           0.000\n",
       "L6.Price          0.491770         0.048658           10.107           0.000\n",
       "L6.Open          -0.437617         0.046964           -9.318           0.000\n",
       "L7.Price          0.404926         0.047516            8.522           0.000\n",
       "L7.Open          -0.363619         0.044411           -8.188           0.000\n",
       "L8.Price          0.385312         0.044321            8.694           0.000\n",
       "L8.Open          -0.366101         0.038824           -9.430           0.000\n",
       "L9.Price          0.307538         0.038877            7.911           0.000\n",
       "L9.Open          -0.226635         0.031185           -7.267           0.000\n",
       "L10.Price         0.190946         0.030395            6.282           0.000\n",
       "L10.Open         -0.067987         0.014557           -4.670           0.000\n",
       "============================================================================\n",
       "\n",
       "Correlation matrix of residuals\n",
       "            Price      Open\n",
       "Price    1.000000  0.364005\n",
       "Open     0.364005  1.000000\n",
       "\n"
      ]
     },
     "execution_count": 11,
     "metadata": {},
     "output_type": "execute_result"
    }
   ],
   "source": [
    "result = model.fit(10)\n",
    "result.summary()"
   ]
  },
  {
   "cell_type": "code",
   "execution_count": 12,
   "id": "291658c7",
   "metadata": {},
   "outputs": [],
   "source": [
    "# Get the lag order\n",
    "lag_order = result.k_ar\n",
    "lagged_Values = train.values[-lag_order:]\n",
    "\n",
    "# Forecast\n",
    "pred = result.forecast(y=lagged_Values, steps=len(test)+30) \n",
    "\n",
    "idx = pd.RangeIndex(start=len(train), stop=len(df)+29, step=1)\n",
    "df_forecast=pd.DataFrame(data=pred, index=idx, columns=['price_1d', 'open_1d'])"
   ]
  },
  {
   "cell_type": "code",
   "execution_count": 13,
   "id": "2a6cc91d",
   "metadata": {},
   "outputs": [],
   "source": [
    "# Convert differenced values into original values\n",
    "df_forecast['PriceForecast'] = df['Price'].iloc[-train_size-1] + df_forecast['price_1d'].cumsum()\n",
    "df_forecast['OpenForecast'] = df['Open'].iloc[-train_size-1] + df_forecast['open_1d'].cumsum()\n",
    "df_forecast_30 = df_forecast[-30:]\n",
    "df_forecast = df_forecast[:-30]"
   ]
  },
  {
   "cell_type": "code",
   "execution_count": 14,
   "id": "ca738007",
   "metadata": {},
   "outputs": [
    {
     "name": "stdout",
     "output_type": "stream",
     "text": [
      "RMSE trên tập test là: 9684.298843023053\n",
      "MAPE trên tập test là: 9.829346491175981\n",
      "MSLE trên tập test là: 0.012989914273960653\n"
     ]
    }
   ],
   "source": [
    "# Evaluating\n",
    "from sklearn.metrics import mean_squared_error, mean_absolute_percentage_error, mean_absolute_error, mean_squared_log_error\n",
    "test_score_rmse_lstm = np.sqrt(mean_squared_error(df[-train_size:]['Price'], df_forecast['PriceForecast']))\n",
    "test_score_mape_lstm = mean_absolute_percentage_error(df[-train_size:]['Price'], df_forecast['PriceForecast']) * 100\n",
    "test_score_msle_lstm = mean_squared_log_error(df[-train_size:]['Price'], df_forecast['PriceForecast'])\n",
    "\n",
    "print('RMSE trên tập test là:', test_score_rmse_lstm)\n",
    "print('MAPE trên tập test là:', test_score_mape_lstm)\n",
    "print('MSLE trên tập test là:', test_score_msle_lstm)"
   ]
  },
  {
   "cell_type": "code",
   "execution_count": 15,
   "id": "a5e8b114",
   "metadata": {},
   "outputs": [
    {
     "data": {
      "image/png": "[encoded data removed]",
      "text/plain": [
       "<Figure size 640x480 with 1 Axes>"
      ]
     },
     "metadata": {},
     "output_type": "display_data"
    }
   ],
   "source": [
    "# Plot\n",
    "plt.plot(df[:-train_size].index, df[:-train_size]['Price'], label='Train')\n",
    "plt.plot(test.index, df[-train_size:]['Price'], label='Actual Test')\n",
    "plt.plot(df[-train_size:].index, df_forecast['PriceForecast'], label='Predicted Test')\n",
    "plt.plot(df_forecast_30.index, df_forecast_30['PriceForecast'], label='Next 30 days')\n",
    "plt.legend()\n",
    "plt.show()"
   ]
  },
  {
   "cell_type": "markdown",
   "id": "f47d4659",
   "metadata": {},
   "source": [
    "# 8:2 Tran/Test Ratio"
   ]
  },
  {
   "cell_type": "code",
   "execution_count": 16,
   "id": "155bbcdc",
   "metadata": {},
   "outputs": [],
   "source": [
    "# import libraries\n",
    "import pandas as pd\n",
    "import numpy as np\n",
    "from statsmodels.tsa.api import VAR\n",
    "from sklearn.metrics import mean_squared_error, mean_absolute_percentage_error\n",
    "import matplotlib.pyplot as plt"
   ]
  },
  {
   "cell_type": "code",
   "execution_count": 17,
   "id": "ffaac384",
   "metadata": {},
   "outputs": [],
   "source": [
    "# read data\n",
    "df = pd.read_csv('VCB.csv')\n",
    "df = df[['Price','Open','High']]"
   ]
  },
  {
   "cell_type": "code",
   "execution_count": 18,
   "id": "f7606009",
   "metadata": {},
   "outputs": [
    {
     "name": "stderr",
     "output_type": "stream",
     "text": [
      "C:\\Users\\Manh Khuong\\anaconda3\\Lib\\site-packages\\statsmodels\\tsa\\stattools.py:1488: FutureWarning: verbose is deprecated since functions should not print results\n",
      "  warnings.warn(\n",
      "C:\\Users\\Manh Khuong\\anaconda3\\Lib\\site-packages\\statsmodels\\tsa\\stattools.py:1488: FutureWarning: verbose is deprecated since functions should not print results\n",
      "  warnings.warn(\n",
      "C:\\Users\\Manh Khuong\\anaconda3\\Lib\\site-packages\\statsmodels\\tsa\\stattools.py:1488: FutureWarning: verbose is deprecated since functions should not print results\n",
      "  warnings.warn(\n",
      "C:\\Users\\Manh Khuong\\anaconda3\\Lib\\site-packages\\statsmodels\\tsa\\stattools.py:1488: FutureWarning: verbose is deprecated since functions should not print results\n",
      "  warnings.warn(\n",
      "C:\\Users\\Manh Khuong\\anaconda3\\Lib\\site-packages\\statsmodels\\tsa\\stattools.py:1488: FutureWarning: verbose is deprecated since functions should not print results\n",
      "  warnings.warn(\n",
      "C:\\Users\\Manh Khuong\\anaconda3\\Lib\\site-packages\\statsmodels\\tsa\\stattools.py:1488: FutureWarning: verbose is deprecated since functions should not print results\n",
      "  warnings.warn(\n",
      "C:\\Users\\Manh Khuong\\anaconda3\\Lib\\site-packages\\statsmodels\\tsa\\stattools.py:1488: FutureWarning: verbose is deprecated since functions should not print results\n",
      "  warnings.warn(\n",
      "C:\\Users\\Manh Khuong\\anaconda3\\Lib\\site-packages\\statsmodels\\tsa\\stattools.py:1488: FutureWarning: verbose is deprecated since functions should not print results\n",
      "  warnings.warn(\n",
      "C:\\Users\\Manh Khuong\\anaconda3\\Lib\\site-packages\\statsmodels\\tsa\\stattools.py:1488: FutureWarning: verbose is deprecated since functions should not print results\n",
      "  warnings.warn(\n"
     ]
    },
    {
     "data": {
      "text/html": [
       "<div>\n",
       "<style scoped>\n",
       "    .dataframe tbody tr th:only-of-type {\n",
       "        vertical-align: middle;\n",
       "    }\n",
       "\n",
       "    .dataframe tbody tr th {\n",
       "        vertical-align: top;\n",
       "    }\n",
       "\n",
       "    .dataframe thead th {\n",
       "        text-align: right;\n",
       "    }\n",
       "</style>\n",
       "<table border=\"1\" class=\"dataframe\">\n",
       "  <thead>\n",
       "    <tr style=\"text-align: right;\">\n",
       "      <th></th>\n",
       "      <th>Price_x</th>\n",
       "      <th>Open_x</th>\n",
       "      <th>High_x</th>\n",
       "    </tr>\n",
       "  </thead>\n",
       "  <tbody>\n",
       "    <tr>\n",
       "      <th>Price_y</th>\n",
       "      <td>1.0</td>\n",
       "      <td>0.004</td>\n",
       "      <td>0.0</td>\n",
       "    </tr>\n",
       "    <tr>\n",
       "      <th>Open_y</th>\n",
       "      <td>0.0</td>\n",
       "      <td>1.000</td>\n",
       "      <td>0.0</td>\n",
       "    </tr>\n",
       "    <tr>\n",
       "      <th>High_y</th>\n",
       "      <td>0.0</td>\n",
       "      <td>0.000</td>\n",
       "      <td>1.0</td>\n",
       "    </tr>\n",
       "  </tbody>\n",
       "</table>\n",
       "</div>"
      ],
      "text/plain": [
       "         Price_x  Open_x  High_x\n",
       "Price_y      1.0   0.004     0.0\n",
       "Open_y       0.0   1.000     0.0\n",
       "High_y       0.0   0.000     1.0"
      ]
     },
     "execution_count": 18,
     "metadata": {},
     "output_type": "execute_result"
    }
   ],
   "source": [
    "# Testing Causation using Granger’s Causality Test\n",
    "from statsmodels.tsa.stattools import grangercausalitytests\n",
    "maxlag=12\n",
    "test = 'ssr_chi2test'\n",
    "def grangers_causation_matrix(data, variables, test='ssr_chi2test', verbose=False):    \n",
    "    df = pd.DataFrame(np.zeros((len(variables), len(variables))), columns=variables, index=variables)\n",
    "    for c in df.columns:\n",
    "        for r in df.index:\n",
    "            test_result = grangercausalitytests(data[[r, c]], maxlag=maxlag, verbose=False)\n",
    "            p_values = [round(test_result[i+1][0][test][1],4) for i in range(maxlag)]\n",
    "            if verbose: print(f'Y = {r}, X = {c}, P Values = {p_values}')\n",
    "            min_p_value = np.min(p_values)\n",
    "            df.loc[r, c] = min_p_value\n",
    "    df.columns = [var + '_x' for var in variables]\n",
    "    df.index = [var + '_y' for var in variables]\n",
    "    return df\n",
    "\n",
    "grangers_causation_matrix(df, variables = df.columns)    "
   ]
  },
  {
   "cell_type": "code",
   "execution_count": 19,
   "id": "2662e8de",
   "metadata": {},
   "outputs": [
    {
     "name": "stdout",
     "output_type": "stream",
     "text": [
      "Name   ::  Test Stat > C(95%)    =>   Signif  \n",
      " ----------------------------------------\n",
      "Price  ::  514.32    > 24.2761   =>   True\n",
      "Open   ::  167.55    > 12.3212   =>   True\n",
      "High   ::  0.54      > 4.1296    =>   False\n"
     ]
    }
   ],
   "source": [
    "# Cointegration Test\n",
    "from statsmodels.tsa.vector_ar.vecm import coint_johansen\n",
    "def cointegration_test(df, alpha=0.05): \n",
    "    \"\"\"Perform Johanson's Cointegration Test and Report Summary\"\"\"\n",
    "    out = coint_johansen(df,-1,5)\n",
    "    d = {'0.90':0, '0.95':1, '0.99':2}\n",
    "    traces = out.lr1\n",
    "    cvts = out.cvt[:, d[str(1-alpha)]]\n",
    "    def adjust(val, length= 6): return str(val).ljust(length)\n",
    "\n",
    "    # Summary\n",
    "    print('Name   ::  Test Stat > C(95%)    =>   Signif  \\n', '--'*20)\n",
    "    for col, trace, cvt in zip(df.columns, traces, cvts):\n",
    "        print(adjust(col), ':: ', adjust(round(trace,2), 9), \">\", adjust(cvt, 8), ' =>  ' , trace > cvt)\n",
    "\n",
    "cointegration_test(df)"
   ]
  },
  {
   "cell_type": "code",
   "execution_count": 20,
   "id": "76d0e13b",
   "metadata": {},
   "outputs": [],
   "source": [
    "df =  df[['Price','Open']]"
   ]
  },
  {
   "cell_type": "code",
   "execution_count": 21,
   "id": "28ccab2d",
   "metadata": {},
   "outputs": [
    {
     "name": "stdout",
     "output_type": "stream",
     "text": [
      "ADF stat: -1.142023\n",
      "p-value: 0.698026\n",
      "\n",
      "\n"
     ]
    }
   ],
   "source": [
    "# check stationary\n",
    "from statsmodels.tsa.stattools import adfuller\n",
    "adf1 = adfuller(df['Price'], regression ='c', maxlag=30)\n",
    "print(\"ADF stat: %f\" % adf1[0])\n",
    "print(\"p-value: %f\" % adf1[1])\n",
    "print('\\n')"
   ]
  },
  {
   "cell_type": "code",
   "execution_count": 22,
   "id": "41582d78",
   "metadata": {},
   "outputs": [
    {
     "name": "stdout",
     "output_type": "stream",
     "text": [
      "ADF stat: -30.674165\n",
      "p-value: 0.000000\n",
      "\n",
      "\n"
     ]
    }
   ],
   "source": [
    "# differencing\n",
    "from statsmodels.tsa.stattools import adfuller\n",
    "df_difference = df.diff().dropna()\n",
    "adf1 = adfuller(df_difference['Price'], regression ='c', maxlag=30)\n",
    "print(\"ADF stat: %f\" % adf1[0])\n",
    "print(\"p-value: %f\" % adf1[1])\n",
    "print('\\n')"
   ]
  },
  {
   "cell_type": "code",
   "execution_count": 23,
   "id": "d9094c75",
   "metadata": {},
   "outputs": [],
   "source": [
    "# Split train/test\n",
    "train_size = int(0.2 * len(df))\n",
    "train = df_difference[:-train_size]\n",
    "test = df_difference[-train_size:]"
   ]
  },
  {
   "cell_type": "code",
   "execution_count": 24,
   "id": "1e9cf661",
   "metadata": {},
   "outputs": [
    {
     "name": "stdout",
     "output_type": "stream",
     "text": [
      "Order = 1\n",
      "AIC:  26.20853715009697\n",
      "BIC:  26.22537444131298\n",
      "\n",
      "Order = 2\n",
      "AIC:  26.0650494477752\n",
      "BIC:  26.09312315866046\n",
      "\n",
      "Order = 3\n",
      "AIC:  25.94436622449768\n",
      "BIC:  25.98368561661157\n",
      "\n",
      "Order = 4\n",
      "AIC:  25.856372879022146\n",
      "BIC:  25.906947226354777\n",
      "\n",
      "Order = 5\n",
      "AIC:  25.81904678180451\n",
      "BIC:  25.880885370799692\n",
      "\n",
      "Order = 6\n",
      "AIC:  25.806447251653122\n",
      "BIC:  25.879559381231353\n",
      "\n",
      "Order = 7\n",
      "AIC:  25.797652282705805\n",
      "BIC:  25.882047264287312\n",
      "\n",
      "Order = 8\n",
      "AIC:  25.78236466210186\n",
      "BIC:  25.878051819629707\n",
      "\n",
      "Order = 9\n",
      "AIC:  25.765106304349445\n",
      "BIC:  25.87209497431269\n",
      "\n",
      "Order = 10\n",
      "AIC:  25.741422506339084\n",
      "BIC:  25.85972203779599\n",
      "\n"
     ]
    },
    {
     "name": "stderr",
     "output_type": "stream",
     "text": [
      "C:\\Users\\Manh Khuong\\anaconda3\\Lib\\site-packages\\statsmodels\\tsa\\base\\tsa_model.py:473: ValueWarning: An unsupported index was provided and will be ignored when e.g. forecasting.\n",
      "  self._init_dates(dates, freq)\n",
      "C:\\Users\\Manh Khuong\\anaconda3\\Lib\\site-packages\\statsmodels\\tsa\\base\\tsa_model.py:473: ValueWarning: An unsupported index was provided and will be ignored when e.g. forecasting.\n",
      "  self._init_dates(dates, freq)\n",
      "C:\\Users\\Manh Khuong\\anaconda3\\Lib\\site-packages\\statsmodels\\tsa\\base\\tsa_model.py:473: ValueWarning: An unsupported index was provided and will be ignored when e.g. forecasting.\n",
      "  self._init_dates(dates, freq)\n",
      "C:\\Users\\Manh Khuong\\anaconda3\\Lib\\site-packages\\statsmodels\\tsa\\base\\tsa_model.py:473: ValueWarning: An unsupported index was provided and will be ignored when e.g. forecasting.\n",
      "  self._init_dates(dates, freq)\n",
      "C:\\Users\\Manh Khuong\\anaconda3\\Lib\\site-packages\\statsmodels\\tsa\\base\\tsa_model.py:473: ValueWarning: An unsupported index was provided and will be ignored when e.g. forecasting.\n",
      "  self._init_dates(dates, freq)\n",
      "C:\\Users\\Manh Khuong\\anaconda3\\Lib\\site-packages\\statsmodels\\tsa\\base\\tsa_model.py:473: ValueWarning: An unsupported index was provided and will be ignored when e.g. forecasting.\n",
      "  self._init_dates(dates, freq)\n",
      "C:\\Users\\Manh Khuong\\anaconda3\\Lib\\site-packages\\statsmodels\\tsa\\base\\tsa_model.py:473: ValueWarning: An unsupported index was provided and will be ignored when e.g. forecasting.\n",
      "  self._init_dates(dates, freq)\n",
      "C:\\Users\\Manh Khuong\\anaconda3\\Lib\\site-packages\\statsmodels\\tsa\\base\\tsa_model.py:473: ValueWarning: An unsupported index was provided and will be ignored when e.g. forecasting.\n",
      "  self._init_dates(dates, freq)\n",
      "C:\\Users\\Manh Khuong\\anaconda3\\Lib\\site-packages\\statsmodels\\tsa\\base\\tsa_model.py:473: ValueWarning: An unsupported index was provided and will be ignored when e.g. forecasting.\n",
      "  self._init_dates(dates, freq)\n",
      "C:\\Users\\Manh Khuong\\anaconda3\\Lib\\site-packages\\statsmodels\\tsa\\base\\tsa_model.py:473: ValueWarning: An unsupported index was provided and will be ignored when e.g. forecasting.\n",
      "  self._init_dates(dates, freq)\n"
     ]
    }
   ],
   "source": [
    "# find the best fit model\n",
    "for i in [1,2,3,4,5,6,7,8,9,10]:\n",
    "    model = VAR(train)\n",
    "    results = model.fit(i)\n",
    "    print('Order =', i)\n",
    "    print('AIC: ', results.aic)\n",
    "    print('BIC: ', results.bic)\n",
    "    print()"
   ]
  },
  {
   "cell_type": "code",
   "execution_count": 25,
   "id": "09693248",
   "metadata": {},
   "outputs": [
    {
     "data": {
      "text/html": [
       "<table class=\"simpletable\">\n",
       "<caption>VAR Order Selection (* highlights the minimums)</caption>\n",
       "<tr>\n",
       "   <td></td>      <th>AIC</th>         <th>BIC</th>         <th>FPE</th>        <th>HQIC</th>    \n",
       "</tr>\n",
       "<tr>\n",
       "  <th>0</th>  <td>     27.32</td>  <td>     27.32</td>  <td> 7.296e+11</td>  <td>     27.32</td> \n",
       "</tr>\n",
       "<tr>\n",
       "  <th>1</th>  <td>     26.22</td>  <td>     26.24</td>  <td> 2.438e+11</td>  <td>     26.23</td> \n",
       "</tr>\n",
       "<tr>\n",
       "  <th>2</th>  <td>     26.07</td>  <td>     26.10</td>  <td> 2.110e+11</td>  <td>     26.09</td> \n",
       "</tr>\n",
       "<tr>\n",
       "  <th>3</th>  <td>     25.95</td>  <td>     25.99</td>  <td> 1.868e+11</td>  <td>     25.97</td> \n",
       "</tr>\n",
       "<tr>\n",
       "  <th>4</th>  <td>     25.86</td>  <td>     25.92</td>  <td> 1.709e+11</td>  <td>     25.88</td> \n",
       "</tr>\n",
       "<tr>\n",
       "  <th>5</th>  <td>     25.83</td>  <td>     25.89</td>  <td> 1.645e+11</td>  <td>     25.85</td> \n",
       "</tr>\n",
       "<tr>\n",
       "  <th>6</th>  <td>     25.81</td>  <td>     25.89</td>  <td> 1.623e+11</td>  <td>     25.84</td> \n",
       "</tr>\n",
       "<tr>\n",
       "  <th>7</th>  <td>     25.80</td>  <td>     25.89</td>  <td> 1.607e+11</td>  <td>     25.83</td> \n",
       "</tr>\n",
       "<tr>\n",
       "  <th>8</th>  <td>     25.79</td>  <td>     25.88</td>  <td> 1.581e+11</td>  <td>     25.82</td> \n",
       "</tr>\n",
       "<tr>\n",
       "  <th>9</th>  <td>     25.77</td>  <td>     25.88</td>  <td> 1.552e+11</td>  <td>     25.81</td> \n",
       "</tr>\n",
       "<tr>\n",
       "  <th>10</th> <td>     25.74</td>  <td>     25.86*</td> <td> 1.514e+11</td>  <td>     25.79*</td>\n",
       "</tr>\n",
       "<tr>\n",
       "  <th>11</th> <td>     25.74</td>  <td>     25.87</td>  <td> 1.508e+11</td>  <td>     25.79</td> \n",
       "</tr>\n",
       "<tr>\n",
       "  <th>12</th> <td>     25.74*</td> <td>     25.88</td>  <td> 1.503e+11*</td> <td>     25.79</td> \n",
       "</tr>\n",
       "</table>"
      ],
      "text/latex": [
       "\\begin{center}\n",
       "\\begin{tabular}{lcccc}\n",
       "\\toprule\n",
       "            & \\textbf{AIC} & \\textbf{BIC} & \\textbf{FPE} & \\textbf{HQIC}  \\\\\n",
       "\\midrule\n",
       "\\textbf{0}  &       27.32  &       27.32  &   7.296e+11  &        27.32   \\\\\n",
       "\\textbf{1}  &       26.22  &       26.24  &   2.438e+11  &        26.23   \\\\\n",
       "\\textbf{2}  &       26.07  &       26.10  &   2.110e+11  &        26.09   \\\\\n",
       "\\textbf{3}  &       25.95  &       25.99  &   1.868e+11  &        25.97   \\\\\n",
       "\\textbf{4}  &       25.86  &       25.92  &   1.709e+11  &        25.88   \\\\\n",
       "\\textbf{5}  &       25.83  &       25.89  &   1.645e+11  &        25.85   \\\\\n",
       "\\textbf{6}  &       25.81  &       25.89  &   1.623e+11  &        25.84   \\\\\n",
       "\\textbf{7}  &       25.80  &       25.89  &   1.607e+11  &        25.83   \\\\\n",
       "\\textbf{8}  &       25.79  &       25.88  &   1.581e+11  &        25.82   \\\\\n",
       "\\textbf{9}  &       25.77  &       25.88  &   1.552e+11  &        25.81   \\\\\n",
       "\\textbf{10} &       25.74  &      25.86*  &   1.514e+11  &       25.79*   \\\\\n",
       "\\textbf{11} &       25.74  &       25.87  &   1.508e+11  &        25.79   \\\\\n",
       "\\textbf{12} &      25.74*  &       25.88  &  1.503e+11*  &        25.79   \\\\\n",
       "\\bottomrule\n",
       "\\end{tabular}\n",
       "%\\caption{VAR Order Selection (* highlights the minimums)}\n",
       "\\end{center}"
      ],
      "text/plain": [
       "<class 'statsmodels.iolib.table.SimpleTable'>"
      ]
     },
     "execution_count": 25,
     "metadata": {},
     "output_type": "execute_result"
    }
   ],
   "source": [
    "x = model.select_order(maxlags=12)\n",
    "x.summary()"
   ]
  },
  {
   "cell_type": "code",
   "execution_count": 26,
   "id": "88f57863",
   "metadata": {},
   "outputs": [
    {
     "data": {
      "text/plain": [
       "  Summary of Regression Results   \n",
       "==================================\n",
       "Model:                         VAR\n",
       "Method:                        OLS\n",
       "Date:           Sun, 31, Dec, 2023\n",
       "Time:                     00:57:40\n",
       "--------------------------------------------------------------------\n",
       "No. of Equations:         2.00000    BIC:                    25.8597\n",
       "Nobs:                     1986.00    HQIC:                   25.7849\n",
       "Log likelihood:          -31155.3    FPE:                1.51133e+11\n",
       "AIC:                      25.7414    Det(Omega_mle):     1.47987e+11\n",
       "--------------------------------------------------------------------\n",
       "Results for equation Price\n",
       "============================================================================\n",
       "               coefficient       std. error           t-stat            prob\n",
       "----------------------------------------------------------------------------\n",
       "const            33.256726        19.419023            1.713           0.087\n",
       "L1.Price         -0.019272         0.024083           -0.800           0.424\n",
       "L1.Open           0.060014         0.042658            1.407           0.159\n",
       "L2.Price         -0.035424         0.050893           -0.696           0.486\n",
       "L2.Open           0.179980         0.057508            3.130           0.002\n",
       "L3.Price         -0.241102         0.061999           -3.889           0.000\n",
       "L3.Open           0.216102         0.067197            3.216           0.001\n",
       "L4.Price         -0.255181         0.070689           -3.610           0.000\n",
       "L4.Open           0.154856         0.073035            2.120           0.034\n",
       "L5.Price         -0.127999         0.075915           -1.686           0.092\n",
       "L5.Open           0.184793         0.075200            2.457           0.014\n",
       "L6.Price         -0.146964         0.077186           -1.904           0.057\n",
       "L6.Open           0.177776         0.074289            2.393           0.017\n",
       "L7.Price         -0.152062         0.074794           -2.033           0.042\n",
       "L7.Open           0.084979         0.069674            1.220           0.223\n",
       "L8.Price         -0.055043         0.069220           -0.795           0.427\n",
       "L8.Open          -0.035536         0.061158           -0.581           0.561\n",
       "L9.Price         -0.025292         0.061284           -0.413           0.680\n",
       "L9.Open          -0.062483         0.049927           -1.251           0.211\n",
       "L10.Price         0.054339         0.048797            1.114           0.265\n",
       "L10.Open          0.010086         0.023495            0.429           0.668\n",
       "============================================================================\n",
       "\n",
       "Results for equation Open\n",
       "============================================================================\n",
       "               coefficient       std. error           t-stat            prob\n",
       "----------------------------------------------------------------------------\n",
       "const             9.552316        10.827021            0.882           0.378\n",
       "L1.Price          1.054618         0.013428           78.541           0.000\n",
       "L1.Open          -0.925189         0.023784          -38.900           0.000\n",
       "L2.Price          0.869298         0.028375           30.636           0.000\n",
       "L2.Open          -0.845951         0.032063          -26.384           0.000\n",
       "L3.Price          0.828790         0.034567           23.976           0.000\n",
       "L3.Open          -0.731659         0.037465          -19.529           0.000\n",
       "L4.Price          0.715030         0.039413           18.142           0.000\n",
       "L4.Open          -0.602341         0.040720          -14.792           0.000\n",
       "L5.Price          0.579325         0.042326           13.687           0.000\n",
       "L5.Open          -0.484143         0.041927          -11.547           0.000\n",
       "L6.Price          0.461870         0.043035           10.733           0.000\n",
       "L6.Open          -0.398887         0.041419           -9.630           0.000\n",
       "L7.Price          0.392536         0.041701            9.413           0.000\n",
       "L7.Open          -0.350968         0.038846           -9.035           0.000\n",
       "L8.Price          0.350529         0.038593            9.083           0.000\n",
       "L8.Open          -0.349975         0.034098          -10.264           0.000\n",
       "L9.Price          0.293432         0.034169            8.588           0.000\n",
       "L9.Open          -0.240327         0.027836           -8.634           0.000\n",
       "L10.Price         0.196634         0.027207            7.227           0.000\n",
       "L10.Open         -0.056186         0.013100           -4.289           0.000\n",
       "============================================================================\n",
       "\n",
       "Correlation matrix of residuals\n",
       "            Price      Open\n",
       "Price    1.000000  0.352967\n",
       "Open     0.352967  1.000000\n",
       "\n"
      ]
     },
     "execution_count": 26,
     "metadata": {},
     "output_type": "execute_result"
    }
   ],
   "source": [
    "result = model.fit(10)\n",
    "result.summary()"
   ]
  },
  {
   "cell_type": "code",
   "execution_count": 27,
   "id": "89b84872",
   "metadata": {},
   "outputs": [],
   "source": [
    "# Get the lag order\n",
    "lag_order = result.k_ar\n",
    "lagged_Values = train.values[-lag_order:]\n",
    "\n",
    "# Forecast\n",
    "pred = result.forecast(y=lagged_Values, steps=len(test)+30) \n",
    "\n",
    "idx = pd.RangeIndex(start=len(train), stop=len(df)+29, step=1)\n",
    "df_forecast=pd.DataFrame(data=pred, index=idx, columns=['price_1d', 'open_1d'])"
   ]
  },
  {
   "cell_type": "code",
   "execution_count": 28,
   "id": "56c14b3c",
   "metadata": {},
   "outputs": [],
   "source": [
    "# Convert differenced values into original values\n",
    "df_forecast['PriceForecast'] = df['Price'].iloc[-train_size-1] + df_forecast['price_1d'].cumsum()\n",
    "df_forecast['OpenForecast'] = df['Open'].iloc[-train_size-1] + df_forecast['open_1d'].cumsum()\n",
    "df_forecast_30 = df_forecast[-30:]\n",
    "df_forecast = df_forecast[:-30]"
   ]
  },
  {
   "cell_type": "code",
   "execution_count": 29,
   "id": "f7231cdc",
   "metadata": {},
   "outputs": [
    {
     "name": "stdout",
     "output_type": "stream",
     "text": [
      "RMSE trên tập test là: 7200.996660367288\n",
      "MAPE trên tập test là: 6.9631637099416706\n",
      "MSLE trên tập test là: 0.0073538145135593706\n"
     ]
    }
   ],
   "source": [
    "# Evaluating\n",
    "from sklearn.metrics import mean_squared_error, mean_absolute_percentage_error, mean_absolute_error, mean_squared_log_error\n",
    "test_score_rmse_lstm = np.sqrt(mean_squared_error(df[-train_size:]['Price'], df_forecast['PriceForecast']))\n",
    "test_score_mape_lstm = mean_absolute_percentage_error(df[-train_size:]['Price'], df_forecast['PriceForecast']) * 100\n",
    "test_score_msle_lstm = mean_squared_log_error(df[-train_size:]['Price'], df_forecast['PriceForecast'])\n",
    "\n",
    "print('RMSE trên tập test là:', test_score_rmse_lstm)\n",
    "print('MAPE trên tập test là:', test_score_mape_lstm)\n",
    "print('MSLE trên tập test là:', test_score_msle_lstm)"
   ]
  },
  {
   "cell_type": "code",
   "execution_count": 30,
   "id": "b3da9ae6",
   "metadata": {},
   "outputs": [
    {
     "data": {
      "image/png": "[encoded data removed]",
      "text/plain": [
       "<Figure size 640x480 with 1 Axes>"
      ]
     },
     "metadata": {},
     "output_type": "display_data"
    }
   ],
   "source": [
    "# Plot\n",
    "plt.plot(df[:-train_size].index, df[:-train_size]['Price'], label='Train')\n",
    "plt.plot(test.index, df[-train_size:]['Price'], label='Actual Test')\n",
    "plt.plot(df[-train_size:].index, df_forecast['PriceForecast'], label='Predicted Test')\n",
    "plt.plot(df_forecast_30.index, df_forecast_30['PriceForecast'], label='Next 30 days')\n",
    "plt.legend()\n",
    "plt.show()"
   ]
  },
  {
   "cell_type": "markdown",
   "id": "9cc56f90",
   "metadata": {},
   "source": [
    "# 9:1 Train/Test Ratio"
   ]
  },
  {
   "cell_type": "code",
   "execution_count": 31,
   "id": "e7739706",
   "metadata": {},
   "outputs": [],
   "source": [
    "# import libraries\n",
    "import pandas as pd\n",
    "import numpy as np\n",
    "from statsmodels.tsa.api import VAR\n",
    "from sklearn.metrics import mean_squared_error, mean_absolute_percentage_error\n",
    "import matplotlib.pyplot as plt\n",
    "\n",
    "#read data\n",
    "df = pd.read_csv('VCB.csv')\n",
    "df = df[['Price','Open','High']]"
   ]
  },
  {
   "cell_type": "code",
   "execution_count": 32,
   "id": "74dc4e79",
   "metadata": {},
   "outputs": [
    {
     "name": "stderr",
     "output_type": "stream",
     "text": [
      "C:\\Users\\Manh Khuong\\anaconda3\\Lib\\site-packages\\statsmodels\\tsa\\stattools.py:1488: FutureWarning: verbose is deprecated since functions should not print results\n",
      "  warnings.warn(\n",
      "C:\\Users\\Manh Khuong\\anaconda3\\Lib\\site-packages\\statsmodels\\tsa\\stattools.py:1488: FutureWarning: verbose is deprecated since functions should not print results\n",
      "  warnings.warn(\n",
      "C:\\Users\\Manh Khuong\\anaconda3\\Lib\\site-packages\\statsmodels\\tsa\\stattools.py:1488: FutureWarning: verbose is deprecated since functions should not print results\n",
      "  warnings.warn(\n",
      "C:\\Users\\Manh Khuong\\anaconda3\\Lib\\site-packages\\statsmodels\\tsa\\stattools.py:1488: FutureWarning: verbose is deprecated since functions should not print results\n",
      "  warnings.warn(\n",
      "C:\\Users\\Manh Khuong\\anaconda3\\Lib\\site-packages\\statsmodels\\tsa\\stattools.py:1488: FutureWarning: verbose is deprecated since functions should not print results\n",
      "  warnings.warn(\n",
      "C:\\Users\\Manh Khuong\\anaconda3\\Lib\\site-packages\\statsmodels\\tsa\\stattools.py:1488: FutureWarning: verbose is deprecated since functions should not print results\n",
      "  warnings.warn(\n",
      "C:\\Users\\Manh Khuong\\anaconda3\\Lib\\site-packages\\statsmodels\\tsa\\stattools.py:1488: FutureWarning: verbose is deprecated since functions should not print results\n",
      "  warnings.warn(\n",
      "C:\\Users\\Manh Khuong\\anaconda3\\Lib\\site-packages\\statsmodels\\tsa\\stattools.py:1488: FutureWarning: verbose is deprecated since functions should not print results\n",
      "  warnings.warn(\n",
      "C:\\Users\\Manh Khuong\\anaconda3\\Lib\\site-packages\\statsmodels\\tsa\\stattools.py:1488: FutureWarning: verbose is deprecated since functions should not print results\n",
      "  warnings.warn(\n"
     ]
    },
    {
     "data": {
      "text/html": [
       "<div>\n",
       "<style scoped>\n",
       "    .dataframe tbody tr th:only-of-type {\n",
       "        vertical-align: middle;\n",
       "    }\n",
       "\n",
       "    .dataframe tbody tr th {\n",
       "        vertical-align: top;\n",
       "    }\n",
       "\n",
       "    .dataframe thead th {\n",
       "        text-align: right;\n",
       "    }\n",
       "</style>\n",
       "<table border=\"1\" class=\"dataframe\">\n",
       "  <thead>\n",
       "    <tr style=\"text-align: right;\">\n",
       "      <th></th>\n",
       "      <th>Price_x</th>\n",
       "      <th>Open_x</th>\n",
       "      <th>High_x</th>\n",
       "    </tr>\n",
       "  </thead>\n",
       "  <tbody>\n",
       "    <tr>\n",
       "      <th>Price_y</th>\n",
       "      <td>1.0</td>\n",
       "      <td>0.004</td>\n",
       "      <td>0.0</td>\n",
       "    </tr>\n",
       "    <tr>\n",
       "      <th>Open_y</th>\n",
       "      <td>0.0</td>\n",
       "      <td>1.000</td>\n",
       "      <td>0.0</td>\n",
       "    </tr>\n",
       "    <tr>\n",
       "      <th>High_y</th>\n",
       "      <td>0.0</td>\n",
       "      <td>0.000</td>\n",
       "      <td>1.0</td>\n",
       "    </tr>\n",
       "  </tbody>\n",
       "</table>\n",
       "</div>"
      ],
      "text/plain": [
       "         Price_x  Open_x  High_x\n",
       "Price_y      1.0   0.004     0.0\n",
       "Open_y       0.0   1.000     0.0\n",
       "High_y       0.0   0.000     1.0"
      ]
     },
     "execution_count": 32,
     "metadata": {},
     "output_type": "execute_result"
    }
   ],
   "source": [
    "# Testing Causation using Granger’s Causality Test\n",
    "from statsmodels.tsa.stattools import grangercausalitytests\n",
    "maxlag=12\n",
    "test = 'ssr_chi2test'\n",
    "def grangers_causation_matrix(data, variables, test='ssr_chi2test', verbose=False):    \n",
    "    df = pd.DataFrame(np.zeros((len(variables), len(variables))), columns=variables, index=variables)\n",
    "    for c in df.columns:\n",
    "        for r in df.index:\n",
    "            test_result = grangercausalitytests(data[[r, c]], maxlag=maxlag, verbose=False)\n",
    "            p_values = [round(test_result[i+1][0][test][1],4) for i in range(maxlag)]\n",
    "            if verbose: print(f'Y = {r}, X = {c}, P Values = {p_values}')\n",
    "            min_p_value = np.min(p_values)\n",
    "            df.loc[r, c] = min_p_value\n",
    "    df.columns = [var + '_x' for var in variables]\n",
    "    df.index = [var + '_y' for var in variables]\n",
    "    return df\n",
    "\n",
    "grangers_causation_matrix(df, variables = df.columns)    "
   ]
  },
  {
   "cell_type": "code",
   "execution_count": 33,
   "id": "0e7b0257",
   "metadata": {},
   "outputs": [
    {
     "name": "stdout",
     "output_type": "stream",
     "text": [
      "Name   ::  Test Stat > C(95%)    =>   Signif  \n",
      " ----------------------------------------\n",
      "Price  ::  514.32    > 24.2761   =>   True\n",
      "Open   ::  167.55    > 12.3212   =>   True\n",
      "High   ::  0.54      > 4.1296    =>   False\n"
     ]
    }
   ],
   "source": [
    "# Cointegration Test\n",
    "from statsmodels.tsa.vector_ar.vecm import coint_johansen\n",
    "def cointegration_test(df, alpha=0.05): \n",
    "    \"\"\"Perform Johanson's Cointegration Test and Report Summary\"\"\"\n",
    "    out = coint_johansen(df,-1,5)\n",
    "    d = {'0.90':0, '0.95':1, '0.99':2}\n",
    "    traces = out.lr1\n",
    "    cvts = out.cvt[:, d[str(1-alpha)]]\n",
    "    def adjust(val, length= 6): return str(val).ljust(length)\n",
    "\n",
    "    # Summary\n",
    "    print('Name   ::  Test Stat > C(95%)    =>   Signif  \\n', '--'*20)\n",
    "    for col, trace, cvt in zip(df.columns, traces, cvts):\n",
    "        print(adjust(col), ':: ', adjust(round(trace,2), 9), \">\", adjust(cvt, 8), ' =>  ' , trace > cvt)\n",
    "\n",
    "cointegration_test(df)"
   ]
  },
  {
   "cell_type": "code",
   "execution_count": 34,
   "id": "9f538df2",
   "metadata": {},
   "outputs": [],
   "source": [
    "df =  df[['Price','Open']]"
   ]
  },
  {
   "cell_type": "code",
   "execution_count": 35,
   "id": "5a824c93",
   "metadata": {},
   "outputs": [
    {
     "name": "stdout",
     "output_type": "stream",
     "text": [
      "ADF stat: -1.142023\n",
      "p-value: 0.698026\n",
      "\n",
      "\n"
     ]
    }
   ],
   "source": [
    "# check stationary\n",
    "from statsmodels.tsa.stattools import adfuller\n",
    "adf1 = adfuller(df['Price'], regression ='c', maxlag=30)\n",
    "print(\"ADF stat: %f\" % adf1[0])\n",
    "print(\"p-value: %f\" % adf1[1])\n",
    "print('\\n')"
   ]
  },
  {
   "cell_type": "code",
   "execution_count": 36,
   "id": "9a61ed04",
   "metadata": {},
   "outputs": [
    {
     "name": "stdout",
     "output_type": "stream",
     "text": [
      "ADF stat: -30.674165\n",
      "p-value: 0.000000\n",
      "\n",
      "\n"
     ]
    }
   ],
   "source": [
    "# differencing\n",
    "from statsmodels.tsa.stattools import adfuller\n",
    "df_difference = df.diff().dropna()\n",
    "adf1 = adfuller(df_difference['Price'], regression ='c', maxlag=30)\n",
    "print(\"ADF stat: %f\" % adf1[0])\n",
    "print(\"p-value: %f\" % adf1[1])\n",
    "print('\\n')"
   ]
  },
  {
   "cell_type": "code",
   "execution_count": 37,
   "id": "2909c32d",
   "metadata": {},
   "outputs": [],
   "source": [
    "# Split train/test\n",
    "train_size = int(0.1 * len(df))\n",
    "train = df_difference[:-train_size]\n",
    "test = df_difference[-train_size:]"
   ]
  },
  {
   "cell_type": "code",
   "execution_count": 38,
   "id": "cbfcc73f",
   "metadata": {},
   "outputs": [
    {
     "name": "stdout",
     "output_type": "stream",
     "text": [
      "Order = 1\n",
      "AIC:  26.594253934963515\n",
      "BIC:  26.609531781200065\n",
      "\n",
      "Order = 2\n",
      "AIC:  26.41882563064619\n",
      "BIC:  26.444298069445846\n",
      "\n",
      "Order = 3\n",
      "AIC:  26.33117472964943\n",
      "BIC:  26.36684926085018\n",
      "\n",
      "Order = 4\n",
      "AIC:  26.256356780312483\n",
      "BIC:  26.302240912723445\n",
      "\n",
      "Order = 5\n",
      "AIC:  26.228781883154475\n",
      "BIC:  26.284883134570638\n",
      "\n",
      "Order = 6\n",
      "AIC:  26.206361227103173\n",
      "BIC:  26.27268712432017\n",
      "\n",
      "Order = 7\n",
      "AIC:  26.193463261409423\n",
      "BIC:  26.270021340238348\n",
      "\n",
      "Order = 8\n",
      "AIC:  26.17077678953403\n",
      "BIC:  26.257574594816266\n",
      "\n",
      "Order = 9\n",
      "AIC:  26.15918157826235\n",
      "BIC:  26.256226663884444\n",
      "\n",
      "Order = 10\n",
      "AIC:  26.1377336443373\n",
      "BIC:  26.245033573245863\n",
      "\n"
     ]
    },
    {
     "name": "stderr",
     "output_type": "stream",
     "text": [
      "C:\\Users\\Manh Khuong\\anaconda3\\Lib\\site-packages\\statsmodels\\tsa\\base\\tsa_model.py:473: ValueWarning: An unsupported index was provided and will be ignored when e.g. forecasting.\n",
      "  self._init_dates(dates, freq)\n",
      "C:\\Users\\Manh Khuong\\anaconda3\\Lib\\site-packages\\statsmodels\\tsa\\base\\tsa_model.py:473: ValueWarning: An unsupported index was provided and will be ignored when e.g. forecasting.\n",
      "  self._init_dates(dates, freq)\n",
      "C:\\Users\\Manh Khuong\\anaconda3\\Lib\\site-packages\\statsmodels\\tsa\\base\\tsa_model.py:473: ValueWarning: An unsupported index was provided and will be ignored when e.g. forecasting.\n",
      "  self._init_dates(dates, freq)\n",
      "C:\\Users\\Manh Khuong\\anaconda3\\Lib\\site-packages\\statsmodels\\tsa\\base\\tsa_model.py:473: ValueWarning: An unsupported index was provided and will be ignored when e.g. forecasting.\n",
      "  self._init_dates(dates, freq)\n",
      "C:\\Users\\Manh Khuong\\anaconda3\\Lib\\site-packages\\statsmodels\\tsa\\base\\tsa_model.py:473: ValueWarning: An unsupported index was provided and will be ignored when e.g. forecasting.\n",
      "  self._init_dates(dates, freq)\n",
      "C:\\Users\\Manh Khuong\\anaconda3\\Lib\\site-packages\\statsmodels\\tsa\\base\\tsa_model.py:473: ValueWarning: An unsupported index was provided and will be ignored when e.g. forecasting.\n",
      "  self._init_dates(dates, freq)\n",
      "C:\\Users\\Manh Khuong\\anaconda3\\Lib\\site-packages\\statsmodels\\tsa\\base\\tsa_model.py:473: ValueWarning: An unsupported index was provided and will be ignored when e.g. forecasting.\n",
      "  self._init_dates(dates, freq)\n",
      "C:\\Users\\Manh Khuong\\anaconda3\\Lib\\site-packages\\statsmodels\\tsa\\base\\tsa_model.py:473: ValueWarning: An unsupported index was provided and will be ignored when e.g. forecasting.\n",
      "  self._init_dates(dates, freq)\n",
      "C:\\Users\\Manh Khuong\\anaconda3\\Lib\\site-packages\\statsmodels\\tsa\\base\\tsa_model.py:473: ValueWarning: An unsupported index was provided and will be ignored when e.g. forecasting.\n",
      "  self._init_dates(dates, freq)\n",
      "C:\\Users\\Manh Khuong\\anaconda3\\Lib\\site-packages\\statsmodels\\tsa\\base\\tsa_model.py:473: ValueWarning: An unsupported index was provided and will be ignored when e.g. forecasting.\n",
      "  self._init_dates(dates, freq)\n"
     ]
    }
   ],
   "source": [
    "# find the best fit model\n",
    "for i in [1,2,3,4,5,6,7,8,9,10]:\n",
    "    model = VAR(train)\n",
    "    results = model.fit(i)\n",
    "    print('Order =', i)\n",
    "    print('AIC: ', results.aic)\n",
    "    print('BIC: ', results.bic)\n",
    "    print()"
   ]
  },
  {
   "cell_type": "code",
   "execution_count": 39,
   "id": "3a96a37a",
   "metadata": {},
   "outputs": [
    {
     "data": {
      "text/html": [
       "<table class=\"simpletable\">\n",
       "<caption>VAR Order Selection (* highlights the minimums)</caption>\n",
       "<tr>\n",
       "   <td></td>      <th>AIC</th>         <th>BIC</th>         <th>FPE</th>        <th>HQIC</th>    \n",
       "</tr>\n",
       "<tr>\n",
       "  <th>0</th>  <td>     27.65</td>  <td>     27.66</td>  <td> 1.019e+12</td>  <td>     27.65</td> \n",
       "</tr>\n",
       "<tr>\n",
       "  <th>1</th>  <td>     26.60</td>  <td>     26.62</td>  <td> 3.581e+11</td>  <td>     26.61</td> \n",
       "</tr>\n",
       "<tr>\n",
       "  <th>2</th>  <td>     26.43</td>  <td>     26.45</td>  <td> 3.002e+11</td>  <td>     26.44</td> \n",
       "</tr>\n",
       "<tr>\n",
       "  <th>3</th>  <td>     26.34</td>  <td>     26.37</td>  <td> 2.747e+11</td>  <td>     26.35</td> \n",
       "</tr>\n",
       "<tr>\n",
       "  <th>4</th>  <td>     26.26</td>  <td>     26.31</td>  <td> 2.547e+11</td>  <td>     26.28</td> \n",
       "</tr>\n",
       "<tr>\n",
       "  <th>5</th>  <td>     26.23</td>  <td>     26.29</td>  <td> 2.476e+11</td>  <td>     26.26</td> \n",
       "</tr>\n",
       "<tr>\n",
       "  <th>6</th>  <td>     26.21</td>  <td>     26.28</td>  <td> 2.419e+11</td>  <td>     26.24</td> \n",
       "</tr>\n",
       "<tr>\n",
       "  <th>7</th>  <td>     26.20</td>  <td>     26.27</td>  <td> 2.386e+11</td>  <td>     26.23</td> \n",
       "</tr>\n",
       "<tr>\n",
       "  <th>8</th>  <td>     26.17</td>  <td>     26.26</td>  <td> 2.330e+11</td>  <td>     26.21</td> \n",
       "</tr>\n",
       "<tr>\n",
       "  <th>9</th>  <td>     26.16</td>  <td>     26.26</td>  <td> 2.301e+11</td>  <td>     26.20</td> \n",
       "</tr>\n",
       "<tr>\n",
       "  <th>10</th> <td>     26.14</td>  <td>     26.25*</td> <td> 2.250e+11</td>  <td>     26.18*</td>\n",
       "</tr>\n",
       "<tr>\n",
       "  <th>11</th> <td>     26.14</td>  <td>     26.26</td>  <td> 2.247e+11</td>  <td>     26.18</td> \n",
       "</tr>\n",
       "<tr>\n",
       "  <th>12</th> <td>     26.14*</td> <td>     26.27</td>  <td> 2.246e+11*</td> <td>     26.18</td> \n",
       "</tr>\n",
       "</table>"
      ],
      "text/latex": [
       "\\begin{center}\n",
       "\\begin{tabular}{lcccc}\n",
       "\\toprule\n",
       "            & \\textbf{AIC} & \\textbf{BIC} & \\textbf{FPE} & \\textbf{HQIC}  \\\\\n",
       "\\midrule\n",
       "\\textbf{0}  &       27.65  &       27.66  &   1.019e+12  &        27.65   \\\\\n",
       "\\textbf{1}  &       26.60  &       26.62  &   3.581e+11  &        26.61   \\\\\n",
       "\\textbf{2}  &       26.43  &       26.45  &   3.002e+11  &        26.44   \\\\\n",
       "\\textbf{3}  &       26.34  &       26.37  &   2.747e+11  &        26.35   \\\\\n",
       "\\textbf{4}  &       26.26  &       26.31  &   2.547e+11  &        26.28   \\\\\n",
       "\\textbf{5}  &       26.23  &       26.29  &   2.476e+11  &        26.26   \\\\\n",
       "\\textbf{6}  &       26.21  &       26.28  &   2.419e+11  &        26.24   \\\\\n",
       "\\textbf{7}  &       26.20  &       26.27  &   2.386e+11  &        26.23   \\\\\n",
       "\\textbf{8}  &       26.17  &       26.26  &   2.330e+11  &        26.21   \\\\\n",
       "\\textbf{9}  &       26.16  &       26.26  &   2.301e+11  &        26.20   \\\\\n",
       "\\textbf{10} &       26.14  &      26.25*  &   2.250e+11  &       26.18*   \\\\\n",
       "\\textbf{11} &       26.14  &       26.26  &   2.247e+11  &        26.18   \\\\\n",
       "\\textbf{12} &      26.14*  &       26.27  &  2.246e+11*  &        26.18   \\\\\n",
       "\\bottomrule\n",
       "\\end{tabular}\n",
       "%\\caption{VAR Order Selection (* highlights the minimums)}\n",
       "\\end{center}"
      ],
      "text/plain": [
       "<class 'statsmodels.iolib.table.SimpleTable'>"
      ]
     },
     "execution_count": 39,
     "metadata": {},
     "output_type": "execute_result"
    }
   ],
   "source": [
    "x = model.select_order(maxlags=12)\n",
    "x.summary()"
   ]
  },
  {
   "cell_type": "code",
   "execution_count": 40,
   "id": "e7300224",
   "metadata": {},
   "outputs": [
    {
     "data": {
      "text/plain": [
       "  Summary of Regression Results   \n",
       "==================================\n",
       "Model:                         VAR\n",
       "Method:                        OLS\n",
       "Date:           Sun, 31, Dec, 2023\n",
       "Time:                     00:58:12\n",
       "--------------------------------------------------------------------\n",
       "No. of Equations:         2.00000    BIC:                    26.2450\n",
       "Nobs:                     2236.00    HQIC:                   26.1769\n",
       "Log likelihood:          -35525.5    FPE:                2.24633e+11\n",
       "AIC:                      26.1377    Det(Omega_mle):     2.20473e+11\n",
       "--------------------------------------------------------------------\n",
       "Results for equation Price\n",
       "============================================================================\n",
       "               coefficient       std. error           t-stat            prob\n",
       "----------------------------------------------------------------------------\n",
       "const            30.471425        20.069211            1.518           0.129\n",
       "L1.Price          0.006774         0.022378            0.303           0.762\n",
       "L1.Open           0.076422         0.039821            1.919           0.055\n",
       "L2.Price         -0.080429         0.046149           -1.743           0.081\n",
       "L2.Open           0.146494         0.053727            2.727           0.006\n",
       "L3.Price         -0.189351         0.056604           -3.345           0.001\n",
       "L3.Open           0.164999         0.061910            2.665           0.008\n",
       "L4.Price         -0.180535         0.063409           -2.847           0.004\n",
       "L4.Open           0.125760         0.066619            1.888           0.059\n",
       "L5.Price         -0.113291         0.067833           -1.670           0.095\n",
       "L5.Open           0.163631         0.068260            2.397           0.017\n",
       "L6.Price         -0.145518         0.068848           -2.114           0.035\n",
       "L6.Open           0.171704         0.067500            2.544           0.011\n",
       "L7.Price         -0.136859         0.067279           -2.034           0.042\n",
       "L7.Open           0.095046         0.063367            1.500           0.134\n",
       "L8.Price         -0.069871         0.062652           -1.115           0.265\n",
       "L8.Open          -0.049468         0.056373           -0.877           0.380\n",
       "L9.Price         -0.027545         0.055798           -0.494           0.622\n",
       "L9.Open          -0.058856         0.045714           -1.287           0.198\n",
       "L10.Price         0.064393         0.044740            1.439           0.150\n",
       "L10.Open          0.008793         0.021911            0.401           0.688\n",
       "============================================================================\n",
       "\n",
       "Results for equation Open\n",
       "============================================================================\n",
       "               coefficient       std. error           t-stat            prob\n",
       "----------------------------------------------------------------------------\n",
       "const             9.733608        11.149719            0.873           0.383\n",
       "L1.Price          1.021523         0.012433           82.165           0.000\n",
       "L1.Open          -0.916976         0.022123          -41.448           0.000\n",
       "L2.Price          0.846859         0.025639           33.030           0.000\n",
       "L2.Open          -0.811612         0.029849          -27.191           0.000\n",
       "L3.Price          0.765175         0.031447           24.332           0.000\n",
       "L3.Open          -0.706379         0.034395          -20.537           0.000\n",
       "L4.Price          0.701973         0.035228           19.927           0.000\n",
       "L4.Open          -0.605557         0.037011          -16.361           0.000\n",
       "L5.Price          0.572439         0.037686           15.190           0.000\n",
       "L5.Open          -0.500821         0.037923          -13.206           0.000\n",
       "L6.Price          0.486447         0.038249           12.718           0.000\n",
       "L6.Open          -0.396966         0.037501          -10.586           0.000\n",
       "L7.Price          0.403453         0.037377           10.794           0.000\n",
       "L7.Open          -0.342076         0.035205           -9.717           0.000\n",
       "L8.Price          0.345193         0.034807            9.917           0.000\n",
       "L8.Open          -0.313153         0.031319           -9.999           0.000\n",
       "L9.Price          0.259177         0.030999            8.361           0.000\n",
       "L9.Open          -0.198587         0.025397           -7.819           0.000\n",
       "L10.Price         0.184262         0.024856            7.413           0.000\n",
       "L10.Open         -0.047773         0.012173           -3.924           0.000\n",
       "============================================================================\n",
       "\n",
       "Correlation matrix of residuals\n",
       "            Price      Open\n",
       "Price    1.000000  0.315681\n",
       "Open     0.315681  1.000000\n",
       "\n"
      ]
     },
     "execution_count": 40,
     "metadata": {},
     "output_type": "execute_result"
    }
   ],
   "source": [
    "result = model.fit(10)\n",
    "result.summary()"
   ]
  },
  {
   "cell_type": "code",
   "execution_count": 41,
   "id": "89c544e2",
   "metadata": {},
   "outputs": [],
   "source": [
    "# Get the lag order\n",
    "lag_order = result.k_ar\n",
    "lagged_Values = train.values[-lag_order:]\n",
    "\n",
    "# Forecast\n",
    "pred = result.forecast(y=lagged_Values, steps=len(test)+30) \n",
    "\n",
    "idx = pd.RangeIndex(start=len(train), stop=len(df)+29, step=1)\n",
    "df_forecast=pd.DataFrame(data=pred, index=idx, columns=['price_1d', 'open_1d'])"
   ]
  },
  {
   "cell_type": "code",
   "execution_count": 42,
   "id": "4cd764fd",
   "metadata": {},
   "outputs": [],
   "source": [
    "# Convert differenced values into original values\n",
    "df_forecast['PriceForecast'] = df['Price'].iloc[-train_size-1] + df_forecast['price_1d'].cumsum()\n",
    "df_forecast['OpenForecast'] = df['Open'].iloc[-train_size-1] + df_forecast['open_1d'].cumsum()\n",
    "df_forecast_30 = df_forecast[-30:]\n",
    "df_forecast = df_forecast[:-30]"
   ]
  },
  {
   "cell_type": "code",
   "execution_count": 43,
   "id": "c7f16300",
   "metadata": {},
   "outputs": [
    {
     "name": "stdout",
     "output_type": "stream",
     "text": [
      "RMSE trên tập test là: 10112.090967050424\n",
      "MAPE trên tập test là: 8.643756198249706\n",
      "MSLE trên tập test là: 0.012846916716436849\n"
     ]
    }
   ],
   "source": [
    "# Evaluating\n",
    "from sklearn.metrics import mean_squared_error, mean_absolute_percentage_error, mean_absolute_error, mean_squared_log_error\n",
    "test_score_rmse_lstm = np.sqrt(mean_squared_error(df[-train_size:]['Price'], df_forecast['PriceForecast']))\n",
    "test_score_mape_lstm = mean_absolute_percentage_error(df[-train_size:]['Price'], df_forecast['PriceForecast']) * 100\n",
    "test_score_msle_lstm = mean_squared_log_error(df[-train_size:]['Price'], df_forecast['PriceForecast'])\n",
    "\n",
    "print('RMSE trên tập test là:', test_score_rmse_lstm)\n",
    "print('MAPE trên tập test là:', test_score_mape_lstm)\n",
    "print('MSLE trên tập test là:', test_score_msle_lstm)"
   ]
  },
  {
   "cell_type": "code",
   "execution_count": 44,
   "id": "0ae9c56b",
   "metadata": {},
   "outputs": [
    {
     "data": {
      "image/png": "[encoded data removed]",
      "text/plain": [
       "<Figure size 640x480 with 1 Axes>"
      ]
     },
     "metadata": {},
     "output_type": "display_data"
    }
   ],
   "source": [
    "# Plot\n",
    "plt.plot(df[:-train_size].index, df[:-train_size]['Price'], label='Train')\n",
    "plt.plot(test.index, df[-train_size:]['Price'], label='Actual Test')\n",
    "plt.plot(df[-train_size:].index, df_forecast['PriceForecast'], label='Predicted Test')\n",
    "plt.plot(df_forecast_30.index, df_forecast_30['PriceForecast'], label='Next 30 days')\n",
    "plt.legend()\n",
    "plt.show()"
   ]
  },
  {
   "cell_type": "code",
   "execution_count": null,
   "id": "6ea12170",
   "metadata": {},
   "outputs": [],
   "source": []
  }
 ],
 "metadata": {
  "kernelspec": {
   "display_name": "Python 3 (ipykernel)",
   "language": "python",
   "name": "python3"
  },
  "language_info": {
   "codemirror_mode": {
    "name": "ipython",
    "version": 3
   },
   "file_extension": ".py",
   "mimetype": "text/x-python",
   "name": "python",
   "nbconvert_exporter": "python",
   "pygments_lexer": "ipython3",
   "version": "3.11.4"
  }
 },
 "nbformat": 4,
 "nbformat_minor": 5
}
