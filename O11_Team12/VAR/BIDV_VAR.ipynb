{
 "cells": [
  {
   "cell_type": "markdown",
   "id": "cace6a35",
   "metadata": {},
   "source": [
    "# 7:3 Train/Test Ratio"
   ]
  },
  {
   "cell_type": "code",
   "execution_count": 1,
   "id": "e3f4afad",
   "metadata": {},
   "outputs": [],
   "source": [
    "# import libraries\n",
    "import pandas as pd\n",
    "import numpy as np\n",
    "from statsmodels.tsa.api import VAR\n",
    "from sklearn.metrics import mean_squared_error, mean_absolute_percentage_error\n",
    "import matplotlib.pyplot as plt"
   ]
  },
  {
   "cell_type": "code",
   "execution_count": 2,
   "id": "32860b60",
   "metadata": {},
   "outputs": [],
   "source": [
    "# read data\n",
    "df = pd.read_csv('BIDV.csv')\n",
    "df = df[['Price','Open','High']]"
   ]
  },
  {
   "cell_type": "code",
   "execution_count": 3,
   "id": "aa96819b",
   "metadata": {},
   "outputs": [
    {
     "name": "stderr",
     "output_type": "stream",
     "text": [
      "C:\\Users\\Manh Khuong\\anaconda3\\Lib\\site-packages\\statsmodels\\tsa\\stattools.py:1488: FutureWarning: verbose is deprecated since functions should not print results\n",
      "  warnings.warn(\n",
      "C:\\Users\\Manh Khuong\\anaconda3\\Lib\\site-packages\\statsmodels\\tsa\\stattools.py:1488: FutureWarning: verbose is deprecated since functions should not print results\n",
      "  warnings.warn(\n",
      "C:\\Users\\Manh Khuong\\anaconda3\\Lib\\site-packages\\statsmodels\\tsa\\stattools.py:1488: FutureWarning: verbose is deprecated since functions should not print results\n",
      "  warnings.warn(\n",
      "C:\\Users\\Manh Khuong\\anaconda3\\Lib\\site-packages\\statsmodels\\tsa\\stattools.py:1488: FutureWarning: verbose is deprecated since functions should not print results\n",
      "  warnings.warn(\n",
      "C:\\Users\\Manh Khuong\\anaconda3\\Lib\\site-packages\\statsmodels\\tsa\\stattools.py:1488: FutureWarning: verbose is deprecated since functions should not print results\n",
      "  warnings.warn(\n",
      "C:\\Users\\Manh Khuong\\anaconda3\\Lib\\site-packages\\statsmodels\\tsa\\stattools.py:1488: FutureWarning: verbose is deprecated since functions should not print results\n",
      "  warnings.warn(\n",
      "C:\\Users\\Manh Khuong\\anaconda3\\Lib\\site-packages\\statsmodels\\tsa\\stattools.py:1488: FutureWarning: verbose is deprecated since functions should not print results\n",
      "  warnings.warn(\n",
      "C:\\Users\\Manh Khuong\\anaconda3\\Lib\\site-packages\\statsmodels\\tsa\\stattools.py:1488: FutureWarning: verbose is deprecated since functions should not print results\n",
      "  warnings.warn(\n",
      "C:\\Users\\Manh Khuong\\anaconda3\\Lib\\site-packages\\statsmodels\\tsa\\stattools.py:1488: FutureWarning: verbose is deprecated since functions should not print results\n",
      "  warnings.warn(\n"
     ]
    },
    {
     "data": {
      "text/html": [
       "<div>\n",
       "<style scoped>\n",
       "    .dataframe tbody tr th:only-of-type {\n",
       "        vertical-align: middle;\n",
       "    }\n",
       "\n",
       "    .dataframe tbody tr th {\n",
       "        vertical-align: top;\n",
       "    }\n",
       "\n",
       "    .dataframe thead th {\n",
       "        text-align: right;\n",
       "    }\n",
       "</style>\n",
       "<table border=\"1\" class=\"dataframe\">\n",
       "  <thead>\n",
       "    <tr style=\"text-align: right;\">\n",
       "      <th></th>\n",
       "      <th>Price_x</th>\n",
       "      <th>Open_x</th>\n",
       "      <th>High_x</th>\n",
       "    </tr>\n",
       "  </thead>\n",
       "  <tbody>\n",
       "    <tr>\n",
       "      <th>Price_y</th>\n",
       "      <td>1.0</td>\n",
       "      <td>0.0002</td>\n",
       "      <td>0.0</td>\n",
       "    </tr>\n",
       "    <tr>\n",
       "      <th>Open_y</th>\n",
       "      <td>0.0</td>\n",
       "      <td>1.0000</td>\n",
       "      <td>0.0</td>\n",
       "    </tr>\n",
       "    <tr>\n",
       "      <th>High_y</th>\n",
       "      <td>0.0</td>\n",
       "      <td>0.0000</td>\n",
       "      <td>1.0</td>\n",
       "    </tr>\n",
       "  </tbody>\n",
       "</table>\n",
       "</div>"
      ],
      "text/plain": [
       "         Price_x  Open_x  High_x\n",
       "Price_y      1.0  0.0002     0.0\n",
       "Open_y       0.0  1.0000     0.0\n",
       "High_y       0.0  0.0000     1.0"
      ]
     },
     "execution_count": 3,
     "metadata": {},
     "output_type": "execute_result"
    }
   ],
   "source": [
    "# Testing Causation using Granger’s Causality Test\n",
    "from statsmodels.tsa.stattools import grangercausalitytests\n",
    "maxlag=12\n",
    "test = 'ssr_chi2test'\n",
    "def grangers_causation_matrix(data, variables, test='ssr_chi2test', verbose=False):    \n",
    "    df = pd.DataFrame(np.zeros((len(variables), len(variables))), columns=variables, index=variables)\n",
    "    for c in df.columns:\n",
    "        for r in df.index:\n",
    "            test_result = grangercausalitytests(data[[r, c]], maxlag=maxlag, verbose=False)\n",
    "            p_values = [round(test_result[i+1][0][test][1],4) for i in range(maxlag)]\n",
    "            if verbose: print(f'Y = {r}, X = {c}, P Values = {p_values}')\n",
    "            min_p_value = np.min(p_values)\n",
    "            df.loc[r, c] = min_p_value\n",
    "    df.columns = [var + '_x' for var in variables]\n",
    "    df.index = [var + '_y' for var in variables]\n",
    "    return df\n",
    "\n",
    "grangers_causation_matrix(df, variables = df.columns)    "
   ]
  },
  {
   "cell_type": "code",
   "execution_count": 4,
   "id": "1f43cb12",
   "metadata": {},
   "outputs": [
    {
     "name": "stdout",
     "output_type": "stream",
     "text": [
      "Name   ::  Test Stat > C(95%)    =>   Signif  \n",
      " ----------------------------------------\n",
      "Price  ::  515.39    > 24.2761   =>   True\n",
      "Open   ::  134.98    > 12.3212   =>   True\n",
      "High   ::  0.12      > 4.1296    =>   False\n"
     ]
    }
   ],
   "source": [
    "# Cointegration Test\n",
    "from statsmodels.tsa.vector_ar.vecm import coint_johansen\n",
    "def cointegration_test(df, alpha=0.05): \n",
    "    \"\"\"Perform Johanson's Cointegration Test and Report Summary\"\"\"\n",
    "    out = coint_johansen(df,-1,5)\n",
    "    d = {'0.90':0, '0.95':1, '0.99':2}\n",
    "    traces = out.lr1\n",
    "    cvts = out.cvt[:, d[str(1-alpha)]]\n",
    "    def adjust(val, length= 6): return str(val).ljust(length)\n",
    "\n",
    "    # Summary\n",
    "    print('Name   ::  Test Stat > C(95%)    =>   Signif  \\n', '--'*20)\n",
    "    for col, trace, cvt in zip(df.columns, traces, cvts):\n",
    "        print(adjust(col), ':: ', adjust(round(trace,2), 9), \">\", adjust(cvt, 8), ' =>  ' , trace > cvt)\n",
    "\n",
    "cointegration_test(df)"
   ]
  },
  {
   "cell_type": "code",
   "execution_count": 5,
   "id": "b29c7a9d",
   "metadata": {},
   "outputs": [],
   "source": [
    "df =  df[['Price','Open']]"
   ]
  },
  {
   "cell_type": "code",
   "execution_count": 6,
   "id": "b21e3f3e",
   "metadata": {},
   "outputs": [
    {
     "name": "stdout",
     "output_type": "stream",
     "text": [
      "ADF stat: -1.199824\n",
      "p-value: 0.673672\n",
      "\n",
      "\n"
     ]
    }
   ],
   "source": [
    "# check stationary\n",
    "from statsmodels.tsa.stattools import adfuller\n",
    "adf1 = adfuller(df['Price'], regression ='c', maxlag=30)\n",
    "print(\"ADF stat: %f\" % adf1[0])\n",
    "print(\"p-value: %f\" % adf1[1])\n",
    "print('\\n')"
   ]
  },
  {
   "cell_type": "code",
   "execution_count": 7,
   "id": "78684fc5",
   "metadata": {},
   "outputs": [
    {
     "name": "stdout",
     "output_type": "stream",
     "text": [
      "ADF stat: -51.369229\n",
      "p-value: 0.000000\n",
      "\n",
      "\n"
     ]
    }
   ],
   "source": [
    "# differencing\n",
    "from statsmodels.tsa.stattools import adfuller\n",
    "df_difference = df.diff().dropna()\n",
    "adf1 = adfuller(df_difference['Price'], regression ='c', maxlag=30)\n",
    "print(\"ADF stat: %f\" % adf1[0])\n",
    "print(\"p-value: %f\" % adf1[1])\n",
    "print('\\n')"
   ]
  },
  {
   "cell_type": "code",
   "execution_count": 8,
   "id": "f1bbf49a",
   "metadata": {},
   "outputs": [],
   "source": [
    "# Split train/test\n",
    "train_size = int(0.3 * len(df))\n",
    "train = df_difference[:-train_size]\n",
    "test = df_difference[-train_size:]"
   ]
  },
  {
   "cell_type": "code",
   "execution_count": 9,
   "id": "7b29d259",
   "metadata": {},
   "outputs": [
    {
     "name": "stdout",
     "output_type": "stream",
     "text": [
      "Order = 1\n",
      "AIC:  24.167456824646585\n",
      "BIC:  24.18638787780685\n",
      "\n",
      "Order = 2\n",
      "AIC:  23.983758126068988\n",
      "BIC:  24.015324792442623\n",
      "\n",
      "Order = 3\n",
      "AIC:  23.85297337816792\n",
      "BIC:  23.897187608100783\n",
      "\n",
      "Order = 4\n",
      "AIC:  23.790355478763118\n",
      "BIC:  23.847229241039816\n",
      "\n",
      "Order = 5\n",
      "AIC:  23.75348700284551\n",
      "BIC:  23.823032284728548\n",
      "\n",
      "Order = 6\n",
      "AIC:  23.719055326168654\n",
      "BIC:  23.801284133437687\n",
      "\n",
      "Order = 7\n",
      "AIC:  23.704032641427634\n",
      "BIC:  23.798956998418834\n",
      "\n",
      "Order = 8\n",
      "AIC:  23.667566783060895\n",
      "BIC:  23.77519873270641\n",
      "\n",
      "Order = 9\n",
      "AIC:  23.661592967236114\n",
      "BIC:  23.781944571103654\n",
      "\n",
      "Order = 10\n",
      "AIC:  23.65262125346848\n",
      "BIC:  23.78570459180099\n",
      "\n"
     ]
    },
    {
     "name": "stderr",
     "output_type": "stream",
     "text": [
      "C:\\Users\\Manh Khuong\\anaconda3\\Lib\\site-packages\\statsmodels\\tsa\\base\\tsa_model.py:473: ValueWarning: An unsupported index was provided and will be ignored when e.g. forecasting.\n",
      "  self._init_dates(dates, freq)\n",
      "C:\\Users\\Manh Khuong\\anaconda3\\Lib\\site-packages\\statsmodels\\tsa\\base\\tsa_model.py:473: ValueWarning: An unsupported index was provided and will be ignored when e.g. forecasting.\n",
      "  self._init_dates(dates, freq)\n",
      "C:\\Users\\Manh Khuong\\anaconda3\\Lib\\site-packages\\statsmodels\\tsa\\base\\tsa_model.py:473: ValueWarning: An unsupported index was provided and will be ignored when e.g. forecasting.\n",
      "  self._init_dates(dates, freq)\n",
      "C:\\Users\\Manh Khuong\\anaconda3\\Lib\\site-packages\\statsmodels\\tsa\\base\\tsa_model.py:473: ValueWarning: An unsupported index was provided and will be ignored when e.g. forecasting.\n",
      "  self._init_dates(dates, freq)\n",
      "C:\\Users\\Manh Khuong\\anaconda3\\Lib\\site-packages\\statsmodels\\tsa\\base\\tsa_model.py:473: ValueWarning: An unsupported index was provided and will be ignored when e.g. forecasting.\n",
      "  self._init_dates(dates, freq)\n",
      "C:\\Users\\Manh Khuong\\anaconda3\\Lib\\site-packages\\statsmodels\\tsa\\base\\tsa_model.py:473: ValueWarning: An unsupported index was provided and will be ignored when e.g. forecasting.\n",
      "  self._init_dates(dates, freq)\n",
      "C:\\Users\\Manh Khuong\\anaconda3\\Lib\\site-packages\\statsmodels\\tsa\\base\\tsa_model.py:473: ValueWarning: An unsupported index was provided and will be ignored when e.g. forecasting.\n",
      "  self._init_dates(dates, freq)\n",
      "C:\\Users\\Manh Khuong\\anaconda3\\Lib\\site-packages\\statsmodels\\tsa\\base\\tsa_model.py:473: ValueWarning: An unsupported index was provided and will be ignored when e.g. forecasting.\n",
      "  self._init_dates(dates, freq)\n",
      "C:\\Users\\Manh Khuong\\anaconda3\\Lib\\site-packages\\statsmodels\\tsa\\base\\tsa_model.py:473: ValueWarning: An unsupported index was provided and will be ignored when e.g. forecasting.\n",
      "  self._init_dates(dates, freq)\n",
      "C:\\Users\\Manh Khuong\\anaconda3\\Lib\\site-packages\\statsmodels\\tsa\\base\\tsa_model.py:473: ValueWarning: An unsupported index was provided and will be ignored when e.g. forecasting.\n",
      "  self._init_dates(dates, freq)\n"
     ]
    }
   ],
   "source": [
    "# find the best fit model\n",
    "for i in [1,2,3,4,5,6,7,8,9,10]:\n",
    "    model = VAR(train)\n",
    "    results = model.fit(i)\n",
    "    print('Order =', i)\n",
    "    print('AIC: ', results.aic)\n",
    "    print('BIC: ', results.bic)\n",
    "    print()"
   ]
  },
  {
   "cell_type": "code",
   "execution_count": 10,
   "id": "4578019e",
   "metadata": {},
   "outputs": [
    {
     "data": {
      "text/html": [
       "<table class=\"simpletable\">\n",
       "<caption>VAR Order Selection (* highlights the minimums)</caption>\n",
       "<tr>\n",
       "   <td></td>      <th>AIC</th>         <th>BIC</th>         <th>FPE</th>        <th>HQIC</th>    \n",
       "</tr>\n",
       "<tr>\n",
       "  <th>0</th>  <td>     25.34</td>  <td>     25.35</td>  <td> 1.011e+11</td>  <td>     25.34</td> \n",
       "</tr>\n",
       "<tr>\n",
       "  <th>1</th>  <td>     24.18</td>  <td>     24.20</td>  <td> 3.168e+10</td>  <td>     24.19</td> \n",
       "</tr>\n",
       "<tr>\n",
       "  <th>2</th>  <td>     23.99</td>  <td>     24.03</td>  <td> 2.635e+10</td>  <td>     24.01</td> \n",
       "</tr>\n",
       "<tr>\n",
       "  <th>3</th>  <td>     23.86</td>  <td>     23.91</td>  <td> 2.310e+10</td>  <td>     23.88</td> \n",
       "</tr>\n",
       "<tr>\n",
       "  <th>4</th>  <td>     23.80</td>  <td>     23.86</td>  <td> 2.167e+10</td>  <td>     23.82</td> \n",
       "</tr>\n",
       "<tr>\n",
       "  <th>5</th>  <td>     23.76</td>  <td>     23.83</td>  <td> 2.087e+10</td>  <td>     23.79</td> \n",
       "</tr>\n",
       "<tr>\n",
       "  <th>6</th>  <td>     23.73</td>  <td>     23.81</td>  <td> 2.014e+10</td>  <td>     23.76</td> \n",
       "</tr>\n",
       "<tr>\n",
       "  <th>7</th>  <td>     23.71</td>  <td>     23.80</td>  <td> 1.982e+10</td>  <td>     23.74</td> \n",
       "</tr>\n",
       "<tr>\n",
       "  <th>8</th>  <td>     23.67</td>  <td>     23.78*</td> <td> 1.908e+10</td>  <td>     23.71</td> \n",
       "</tr>\n",
       "<tr>\n",
       "  <th>9</th>  <td>     23.67</td>  <td>     23.79</td>  <td> 1.895e+10</td>  <td>     23.71</td> \n",
       "</tr>\n",
       "<tr>\n",
       "  <th>10</th> <td>     23.65</td>  <td>     23.79</td>  <td> 1.876e+10</td>  <td>     23.70</td> \n",
       "</tr>\n",
       "<tr>\n",
       "  <th>11</th> <td>     23.64</td>  <td>     23.79</td>  <td> 1.854e+10</td>  <td>     23.70</td> \n",
       "</tr>\n",
       "<tr>\n",
       "  <th>12</th> <td>     23.64*</td> <td>     23.80</td>  <td> 1.843e+10*</td> <td>     23.70*</td>\n",
       "</tr>\n",
       "</table>"
      ],
      "text/latex": [
       "\\begin{center}\n",
       "\\begin{tabular}{lcccc}\n",
       "\\toprule\n",
       "            & \\textbf{AIC} & \\textbf{BIC} & \\textbf{FPE} & \\textbf{HQIC}  \\\\\n",
       "\\midrule\n",
       "\\textbf{0}  &       25.34  &       25.35  &   1.011e+11  &        25.34   \\\\\n",
       "\\textbf{1}  &       24.18  &       24.20  &   3.168e+10  &        24.19   \\\\\n",
       "\\textbf{2}  &       23.99  &       24.03  &   2.635e+10  &        24.01   \\\\\n",
       "\\textbf{3}  &       23.86  &       23.91  &   2.310e+10  &        23.88   \\\\\n",
       "\\textbf{4}  &       23.80  &       23.86  &   2.167e+10  &        23.82   \\\\\n",
       "\\textbf{5}  &       23.76  &       23.83  &   2.087e+10  &        23.79   \\\\\n",
       "\\textbf{6}  &       23.73  &       23.81  &   2.014e+10  &        23.76   \\\\\n",
       "\\textbf{7}  &       23.71  &       23.80  &   1.982e+10  &        23.74   \\\\\n",
       "\\textbf{8}  &       23.67  &      23.78*  &   1.908e+10  &        23.71   \\\\\n",
       "\\textbf{9}  &       23.67  &       23.79  &   1.895e+10  &        23.71   \\\\\n",
       "\\textbf{10} &       23.65  &       23.79  &   1.876e+10  &        23.70   \\\\\n",
       "\\textbf{11} &       23.64  &       23.79  &   1.854e+10  &        23.70   \\\\\n",
       "\\textbf{12} &      23.64*  &       23.80  &  1.843e+10*  &       23.70*   \\\\\n",
       "\\bottomrule\n",
       "\\end{tabular}\n",
       "%\\caption{VAR Order Selection (* highlights the minimums)}\n",
       "\\end{center}"
      ],
      "text/plain": [
       "<class 'statsmodels.iolib.table.SimpleTable'>"
      ]
     },
     "execution_count": 10,
     "metadata": {},
     "output_type": "execute_result"
    }
   ],
   "source": [
    "x = model.select_order(maxlags=12)\n",
    "x.summary()"
   ]
  },
  {
   "cell_type": "code",
   "execution_count": 11,
   "id": "98109c83",
   "metadata": {
    "scrolled": true
   },
   "outputs": [
    {
     "data": {
      "text/plain": [
       "  Summary of Regression Results   \n",
       "==================================\n",
       "Model:                         VAR\n",
       "Method:                        OLS\n",
       "Date:           Sun, 31, Dec, 2023\n",
       "Time:                     00:53:38\n",
       "--------------------------------------------------------------------\n",
       "No. of Equations:         2.00000    BIC:                    23.7752\n",
       "Nobs:                     1722.00    HQIC:                   23.7074\n",
       "Log likelihood:          -25230.6    FPE:                1.89974e+10\n",
       "AIC:                      23.6676    Det(Omega_mle):     1.86278e+10\n",
       "--------------------------------------------------------------------\n",
       "Results for equation Price\n",
       "===========================================================================\n",
       "              coefficient       std. error           t-stat            prob\n",
       "---------------------------------------------------------------------------\n",
       "const           15.834962        12.392881            1.278           0.201\n",
       "L1.Price        -0.017026         0.025746           -0.661           0.508\n",
       "L1.Open          0.104843         0.045735            2.292           0.022\n",
       "L2.Price        -0.073254         0.056887           -1.288           0.198\n",
       "L2.Open          0.136250         0.062701            2.173           0.030\n",
       "L3.Price        -0.139268         0.068808           -2.024           0.043\n",
       "L3.Open          0.122040         0.074129            1.646           0.100\n",
       "L4.Price        -0.088463         0.077264           -1.145           0.252\n",
       "L4.Open          0.137414         0.077956            1.763           0.078\n",
       "L5.Price        -0.154476         0.079788           -1.936           0.053\n",
       "L5.Open          0.227885         0.076123            2.994           0.003\n",
       "L6.Price        -0.228727         0.076480           -2.991           0.003\n",
       "L6.Open          0.030023         0.068282            0.440           0.660\n",
       "L7.Price         0.024936         0.067858            0.367           0.713\n",
       "L7.Open         -0.021464         0.055391           -0.387           0.698\n",
       "L8.Price         0.023095         0.053477            0.432           0.666\n",
       "L8.Open         -0.062956         0.025291           -2.489           0.013\n",
       "===========================================================================\n",
       "\n",
       "Results for equation Open\n",
       "===========================================================================\n",
       "              coefficient       std. error           t-stat            prob\n",
       "---------------------------------------------------------------------------\n",
       "const            4.010936         6.856582            0.585           0.559\n",
       "L1.Price         1.111115         0.014244           78.004           0.000\n",
       "L1.Open         -0.945966         0.025304          -37.384           0.000\n",
       "L2.Price         0.900366         0.031473           28.607           0.000\n",
       "L2.Open         -0.931093         0.034691          -26.840           0.000\n",
       "L3.Price         0.864555         0.038069           22.710           0.000\n",
       "L3.Open         -0.755847         0.041013          -18.429           0.000\n",
       "L4.Price         0.716763         0.042748           16.767           0.000\n",
       "L4.Open         -0.596371         0.043131          -13.827           0.000\n",
       "L5.Price         0.569847         0.044144           12.909           0.000\n",
       "L5.Open         -0.437140         0.042116          -10.379           0.000\n",
       "L6.Price         0.397496         0.042314            9.394           0.000\n",
       "L6.Open         -0.373415         0.037778           -9.884           0.000\n",
       "L7.Price         0.334368         0.037544            8.906           0.000\n",
       "L7.Open         -0.221769         0.030646           -7.236           0.000\n",
       "L8.Price         0.192400         0.029587            6.503           0.000\n",
       "L8.Open         -0.111101         0.013993           -7.940           0.000\n",
       "===========================================================================\n",
       "\n",
       "Correlation matrix of residuals\n",
       "            Price      Open\n",
       "Price    1.000000  0.342908\n",
       "Open     0.342908  1.000000\n",
       "\n"
      ]
     },
     "execution_count": 11,
     "metadata": {},
     "output_type": "execute_result"
    }
   ],
   "source": [
    "result = model.fit(8)\n",
    "result.summary()"
   ]
  },
  {
   "cell_type": "code",
   "execution_count": 12,
   "id": "291658c7",
   "metadata": {},
   "outputs": [],
   "source": [
    "# Get the lag order\n",
    "lag_order = result.k_ar\n",
    "lagged_Values = train.values[-lag_order:]\n",
    "\n",
    "# Forecast\n",
    "pred = result.forecast(y=lagged_Values, steps=len(test)+30) \n",
    "\n",
    "idx = pd.RangeIndex(start=len(train), stop=len(df)+29, step=1)\n",
    "df_forecast=pd.DataFrame(data=pred, index=idx, columns=['price_1d', 'open_1d'])"
   ]
  },
  {
   "cell_type": "code",
   "execution_count": 13,
   "id": "2a6cc91d",
   "metadata": {},
   "outputs": [],
   "source": [
    "# Convert differenced values into original values\n",
    "df_forecast['PriceForecast'] = df['Price'].iloc[-train_size-1] + df_forecast['price_1d'].cumsum()\n",
    "df_forecast['OpenForecast'] = df['Open'].iloc[-train_size-1] + df_forecast['open_1d'].cumsum()\n",
    "df_forecast_30 = df_forecast[-30:]\n",
    "df_forecast = df_forecast[:-30]"
   ]
  },
  {
   "cell_type": "code",
   "execution_count": 14,
   "id": "ca738007",
   "metadata": {},
   "outputs": [
    {
     "name": "stdout",
     "output_type": "stream",
     "text": [
      "RMSE trên tập test là: 6386.942559129581\n",
      "MAPE trên tập test là: 15.203541982372428\n",
      "MSLE trên tập test là: 0.027009330271389808\n"
     ]
    }
   ],
   "source": [
    "# Evaluating\n",
    "from sklearn.metrics import mean_squared_error, mean_absolute_percentage_error, mean_absolute_error, mean_squared_log_error\n",
    "test_score_rmse_lstm = np.sqrt(mean_squared_error(df[-train_size:]['Price'], df_forecast['PriceForecast']))\n",
    "test_score_mape_lstm = mean_absolute_percentage_error(df[-train_size:]['Price'], df_forecast['PriceForecast']) * 100\n",
    "test_score_msle_lstm = mean_squared_log_error(df[-train_size:]['Price'], df_forecast['PriceForecast'])\n",
    "\n",
    "print('RMSE trên tập test là:', test_score_rmse_lstm)\n",
    "print('MAPE trên tập test là:', test_score_mape_lstm)\n",
    "print('MSLE trên tập test là:', test_score_msle_lstm)"
   ]
  },
  {
   "cell_type": "code",
   "execution_count": 92,
   "id": "a5e8b114",
   "metadata": {},
   "outputs": [
    {
     "data": {
      "image/png": "[encoded data removed]",
      "text/plain": [
       "<Figure size 640x480 with 1 Axes>"
      ]
     },
     "metadata": {},
     "output_type": "display_data"
    }
   ],
   "source": [
    "# Plot\n",
    "plt.plot(df[:-train_size].index, df[:-train_size]['Price'], label='Train')\n",
    "plt.plot(test.index, df[-train_size:]['Price'], label='Actual Test')\n",
    "plt.plot(df[-train_size:].index, df_forecast['PriceForecast'], label='Predicted Test')\n",
    "plt.plot(df_forecast_30.index, df_forecast_30['PriceForecast'], label='Next 30 days')\n",
    "plt.legend()\n",
    "plt.show()"
   ]
  },
  {
   "cell_type": "markdown",
   "id": "f47d4659",
   "metadata": {},
   "source": [
    "# 8:2 Tran/Test Ratio"
   ]
  },
  {
   "cell_type": "code",
   "execution_count": 15,
   "id": "155bbcdc",
   "metadata": {},
   "outputs": [],
   "source": [
    "# import libraries\n",
    "import pandas as pd\n",
    "import numpy as np\n",
    "from statsmodels.tsa.api import VAR\n",
    "from sklearn.metrics import mean_squared_error, mean_absolute_percentage_error\n",
    "import matplotlib.pyplot as plt"
   ]
  },
  {
   "cell_type": "code",
   "execution_count": 16,
   "id": "ffaac384",
   "metadata": {},
   "outputs": [],
   "source": [
    "# read data\n",
    "df = pd.read_csv('BIDV.csv')\n",
    "df = df[['Price','Open','High']]"
   ]
  },
  {
   "cell_type": "code",
   "execution_count": 17,
   "id": "f7606009",
   "metadata": {},
   "outputs": [
    {
     "name": "stderr",
     "output_type": "stream",
     "text": [
      "C:\\Users\\Manh Khuong\\anaconda3\\Lib\\site-packages\\statsmodels\\tsa\\stattools.py:1488: FutureWarning: verbose is deprecated since functions should not print results\n",
      "  warnings.warn(\n",
      "C:\\Users\\Manh Khuong\\anaconda3\\Lib\\site-packages\\statsmodels\\tsa\\stattools.py:1488: FutureWarning: verbose is deprecated since functions should not print results\n",
      "  warnings.warn(\n",
      "C:\\Users\\Manh Khuong\\anaconda3\\Lib\\site-packages\\statsmodels\\tsa\\stattools.py:1488: FutureWarning: verbose is deprecated since functions should not print results\n",
      "  warnings.warn(\n",
      "C:\\Users\\Manh Khuong\\anaconda3\\Lib\\site-packages\\statsmodels\\tsa\\stattools.py:1488: FutureWarning: verbose is deprecated since functions should not print results\n",
      "  warnings.warn(\n",
      "C:\\Users\\Manh Khuong\\anaconda3\\Lib\\site-packages\\statsmodels\\tsa\\stattools.py:1488: FutureWarning: verbose is deprecated since functions should not print results\n",
      "  warnings.warn(\n",
      "C:\\Users\\Manh Khuong\\anaconda3\\Lib\\site-packages\\statsmodels\\tsa\\stattools.py:1488: FutureWarning: verbose is deprecated since functions should not print results\n",
      "  warnings.warn(\n",
      "C:\\Users\\Manh Khuong\\anaconda3\\Lib\\site-packages\\statsmodels\\tsa\\stattools.py:1488: FutureWarning: verbose is deprecated since functions should not print results\n",
      "  warnings.warn(\n",
      "C:\\Users\\Manh Khuong\\anaconda3\\Lib\\site-packages\\statsmodels\\tsa\\stattools.py:1488: FutureWarning: verbose is deprecated since functions should not print results\n",
      "  warnings.warn(\n",
      "C:\\Users\\Manh Khuong\\anaconda3\\Lib\\site-packages\\statsmodels\\tsa\\stattools.py:1488: FutureWarning: verbose is deprecated since functions should not print results\n",
      "  warnings.warn(\n"
     ]
    },
    {
     "data": {
      "text/html": [
       "<div>\n",
       "<style scoped>\n",
       "    .dataframe tbody tr th:only-of-type {\n",
       "        vertical-align: middle;\n",
       "    }\n",
       "\n",
       "    .dataframe tbody tr th {\n",
       "        vertical-align: top;\n",
       "    }\n",
       "\n",
       "    .dataframe thead th {\n",
       "        text-align: right;\n",
       "    }\n",
       "</style>\n",
       "<table border=\"1\" class=\"dataframe\">\n",
       "  <thead>\n",
       "    <tr style=\"text-align: right;\">\n",
       "      <th></th>\n",
       "      <th>Price_x</th>\n",
       "      <th>Open_x</th>\n",
       "      <th>High_x</th>\n",
       "    </tr>\n",
       "  </thead>\n",
       "  <tbody>\n",
       "    <tr>\n",
       "      <th>Price_y</th>\n",
       "      <td>1.0</td>\n",
       "      <td>0.0002</td>\n",
       "      <td>0.0</td>\n",
       "    </tr>\n",
       "    <tr>\n",
       "      <th>Open_y</th>\n",
       "      <td>0.0</td>\n",
       "      <td>1.0000</td>\n",
       "      <td>0.0</td>\n",
       "    </tr>\n",
       "    <tr>\n",
       "      <th>High_y</th>\n",
       "      <td>0.0</td>\n",
       "      <td>0.0000</td>\n",
       "      <td>1.0</td>\n",
       "    </tr>\n",
       "  </tbody>\n",
       "</table>\n",
       "</div>"
      ],
      "text/plain": [
       "         Price_x  Open_x  High_x\n",
       "Price_y      1.0  0.0002     0.0\n",
       "Open_y       0.0  1.0000     0.0\n",
       "High_y       0.0  0.0000     1.0"
      ]
     },
     "execution_count": 17,
     "metadata": {},
     "output_type": "execute_result"
    }
   ],
   "source": [
    "# Testing Causation using Granger’s Causality Test\n",
    "from statsmodels.tsa.stattools import grangercausalitytests\n",
    "maxlag=12\n",
    "test = 'ssr_chi2test'\n",
    "def grangers_causation_matrix(data, variables, test='ssr_chi2test', verbose=False):    \n",
    "    df = pd.DataFrame(np.zeros((len(variables), len(variables))), columns=variables, index=variables)\n",
    "    for c in df.columns:\n",
    "        for r in df.index:\n",
    "            test_result = grangercausalitytests(data[[r, c]], maxlag=maxlag, verbose=False)\n",
    "            p_values = [round(test_result[i+1][0][test][1],4) for i in range(maxlag)]\n",
    "            if verbose: print(f'Y = {r}, X = {c}, P Values = {p_values}')\n",
    "            min_p_value = np.min(p_values)\n",
    "            df.loc[r, c] = min_p_value\n",
    "    df.columns = [var + '_x' for var in variables]\n",
    "    df.index = [var + '_y' for var in variables]\n",
    "    return df\n",
    "\n",
    "grangers_causation_matrix(df, variables = df.columns)    "
   ]
  },
  {
   "cell_type": "code",
   "execution_count": 18,
   "id": "2662e8de",
   "metadata": {},
   "outputs": [
    {
     "name": "stdout",
     "output_type": "stream",
     "text": [
      "Name   ::  Test Stat > C(95%)    =>   Signif  \n",
      " ----------------------------------------\n",
      "Price  ::  515.39    > 24.2761   =>   True\n",
      "Open   ::  134.98    > 12.3212   =>   True\n",
      "High   ::  0.12      > 4.1296    =>   False\n"
     ]
    }
   ],
   "source": [
    "# Cointegration Test\n",
    "from statsmodels.tsa.vector_ar.vecm import coint_johansen\n",
    "def cointegration_test(df, alpha=0.05): \n",
    "    \"\"\"Perform Johanson's Cointegration Test and Report Summary\"\"\"\n",
    "    out = coint_johansen(df,-1,5)\n",
    "    d = {'0.90':0, '0.95':1, '0.99':2}\n",
    "    traces = out.lr1\n",
    "    cvts = out.cvt[:, d[str(1-alpha)]]\n",
    "    def adjust(val, length= 6): return str(val).ljust(length)\n",
    "\n",
    "    # Summary\n",
    "    print('Name   ::  Test Stat > C(95%)    =>   Signif  \\n', '--'*20)\n",
    "    for col, trace, cvt in zip(df.columns, traces, cvts):\n",
    "        print(adjust(col), ':: ', adjust(round(trace,2), 9), \">\", adjust(cvt, 8), ' =>  ' , trace > cvt)\n",
    "\n",
    "cointegration_test(df)"
   ]
  },
  {
   "cell_type": "code",
   "execution_count": 19,
   "id": "76d0e13b",
   "metadata": {},
   "outputs": [],
   "source": [
    "df =  df[['Price','Open']]"
   ]
  },
  {
   "cell_type": "code",
   "execution_count": 20,
   "id": "28ccab2d",
   "metadata": {},
   "outputs": [
    {
     "name": "stdout",
     "output_type": "stream",
     "text": [
      "ADF stat: -1.199824\n",
      "p-value: 0.673672\n",
      "\n",
      "\n"
     ]
    }
   ],
   "source": [
    "# check stationary\n",
    "from statsmodels.tsa.stattools import adfuller\n",
    "adf1 = adfuller(df['Price'], regression ='c', maxlag=30)\n",
    "print(\"ADF stat: %f\" % adf1[0])\n",
    "print(\"p-value: %f\" % adf1[1])\n",
    "print('\\n')"
   ]
  },
  {
   "cell_type": "code",
   "execution_count": 21,
   "id": "41582d78",
   "metadata": {},
   "outputs": [
    {
     "name": "stdout",
     "output_type": "stream",
     "text": [
      "ADF stat: -51.369229\n",
      "p-value: 0.000000\n",
      "\n",
      "\n"
     ]
    }
   ],
   "source": [
    "# differencing\n",
    "from statsmodels.tsa.stattools import adfuller\n",
    "df_difference = df.diff().dropna()\n",
    "adf1 = adfuller(df_difference['Price'], regression ='c', maxlag=30)\n",
    "print(\"ADF stat: %f\" % adf1[0])\n",
    "print(\"p-value: %f\" % adf1[1])\n",
    "print('\\n')"
   ]
  },
  {
   "cell_type": "code",
   "execution_count": 22,
   "id": "d9094c75",
   "metadata": {},
   "outputs": [],
   "source": [
    "# Split train/test\n",
    "train_size = int(0.2 * len(df))\n",
    "train = df_difference[:-train_size]\n",
    "test = df_difference[-train_size:]"
   ]
  },
  {
   "cell_type": "code",
   "execution_count": 23,
   "id": "1e9cf661",
   "metadata": {},
   "outputs": [
    {
     "name": "stdout",
     "output_type": "stream",
     "text": [
      "Order = 1\n",
      "AIC:  24.269327426563102\n",
      "BIC:  24.28629755777254\n",
      "\n",
      "Order = 2\n",
      "AIC:  24.09884479126592\n",
      "BIC:  24.127140101024576\n",
      "\n",
      "Order = 3\n",
      "AIC:  23.965956496602615\n",
      "BIC:  24.00558640596427\n",
      "\n",
      "Order = 4\n",
      "AIC:  23.900603820931316\n",
      "BIC:  23.951577763713075\n",
      "\n",
      "Order = 5\n",
      "AIC:  23.861777330703198\n",
      "BIC:  23.924104753509273\n",
      "\n",
      "Order = 6\n",
      "AIC:  23.833862634857717\n",
      "BIC:  23.907552997103263\n",
      "\n",
      "Order = 7\n",
      "AIC:  23.818442792303237\n",
      "BIC:  23.90350556623824\n",
      "\n",
      "Order = 8\n",
      "AIC:  23.793337299341133\n",
      "BIC:  23.889781970074363\n",
      "\n",
      "Order = 9\n",
      "AIC:  23.78930001746777\n",
      "BIC:  23.89713608299077\n",
      "\n",
      "Order = 10\n",
      "AIC:  23.78206911849457\n",
      "BIC:  23.901306089705724\n",
      "\n"
     ]
    },
    {
     "name": "stderr",
     "output_type": "stream",
     "text": [
      "C:\\Users\\Manh Khuong\\anaconda3\\Lib\\site-packages\\statsmodels\\tsa\\base\\tsa_model.py:473: ValueWarning: An unsupported index was provided and will be ignored when e.g. forecasting.\n",
      "  self._init_dates(dates, freq)\n",
      "C:\\Users\\Manh Khuong\\anaconda3\\Lib\\site-packages\\statsmodels\\tsa\\base\\tsa_model.py:473: ValueWarning: An unsupported index was provided and will be ignored when e.g. forecasting.\n",
      "  self._init_dates(dates, freq)\n",
      "C:\\Users\\Manh Khuong\\anaconda3\\Lib\\site-packages\\statsmodels\\tsa\\base\\tsa_model.py:473: ValueWarning: An unsupported index was provided and will be ignored when e.g. forecasting.\n",
      "  self._init_dates(dates, freq)\n",
      "C:\\Users\\Manh Khuong\\anaconda3\\Lib\\site-packages\\statsmodels\\tsa\\base\\tsa_model.py:473: ValueWarning: An unsupported index was provided and will be ignored when e.g. forecasting.\n",
      "  self._init_dates(dates, freq)\n",
      "C:\\Users\\Manh Khuong\\anaconda3\\Lib\\site-packages\\statsmodels\\tsa\\base\\tsa_model.py:473: ValueWarning: An unsupported index was provided and will be ignored when e.g. forecasting.\n",
      "  self._init_dates(dates, freq)\n",
      "C:\\Users\\Manh Khuong\\anaconda3\\Lib\\site-packages\\statsmodels\\tsa\\base\\tsa_model.py:473: ValueWarning: An unsupported index was provided and will be ignored when e.g. forecasting.\n",
      "  self._init_dates(dates, freq)\n",
      "C:\\Users\\Manh Khuong\\anaconda3\\Lib\\site-packages\\statsmodels\\tsa\\base\\tsa_model.py:473: ValueWarning: An unsupported index was provided and will be ignored when e.g. forecasting.\n",
      "  self._init_dates(dates, freq)\n",
      "C:\\Users\\Manh Khuong\\anaconda3\\Lib\\site-packages\\statsmodels\\tsa\\base\\tsa_model.py:473: ValueWarning: An unsupported index was provided and will be ignored when e.g. forecasting.\n",
      "  self._init_dates(dates, freq)\n",
      "C:\\Users\\Manh Khuong\\anaconda3\\Lib\\site-packages\\statsmodels\\tsa\\base\\tsa_model.py:473: ValueWarning: An unsupported index was provided and will be ignored when e.g. forecasting.\n",
      "  self._init_dates(dates, freq)\n",
      "C:\\Users\\Manh Khuong\\anaconda3\\Lib\\site-packages\\statsmodels\\tsa\\base\\tsa_model.py:473: ValueWarning: An unsupported index was provided and will be ignored when e.g. forecasting.\n",
      "  self._init_dates(dates, freq)\n"
     ]
    }
   ],
   "source": [
    "# find the best fit model\n",
    "for i in [1,2,3,4,5,6,7,8,9,10]:\n",
    "    model = VAR(train)\n",
    "    results = model.fit(i)\n",
    "    print('Order =', i)\n",
    "    print('AIC: ', results.aic)\n",
    "    print('BIC: ', results.bic)\n",
    "    print()"
   ]
  },
  {
   "cell_type": "code",
   "execution_count": 24,
   "id": "09693248",
   "metadata": {},
   "outputs": [
    {
     "data": {
      "text/html": [
       "<table class=\"simpletable\">\n",
       "<caption>VAR Order Selection (* highlights the minimums)</caption>\n",
       "<tr>\n",
       "   <td></td>      <th>AIC</th>         <th>BIC</th>         <th>FPE</th>        <th>HQIC</th>    \n",
       "</tr>\n",
       "<tr>\n",
       "  <th>0</th>  <td>     25.48</td>  <td>     25.49</td>  <td> 1.166e+11</td>  <td>     25.48</td> \n",
       "</tr>\n",
       "<tr>\n",
       "  <th>1</th>  <td>     24.28</td>  <td>     24.30</td>  <td> 3.503e+10</td>  <td>     24.29</td> \n",
       "</tr>\n",
       "<tr>\n",
       "  <th>2</th>  <td>     24.11</td>  <td>     24.14</td>  <td> 2.953e+10</td>  <td>     24.12</td> \n",
       "</tr>\n",
       "<tr>\n",
       "  <th>3</th>  <td>     23.97</td>  <td>     24.01</td>  <td> 2.583e+10</td>  <td>     23.99</td> \n",
       "</tr>\n",
       "<tr>\n",
       "  <th>4</th>  <td>     23.91</td>  <td>     23.96</td>  <td> 2.417e+10</td>  <td>     23.93</td> \n",
       "</tr>\n",
       "<tr>\n",
       "  <th>5</th>  <td>     23.87</td>  <td>     23.93</td>  <td> 2.323e+10</td>  <td>     23.89</td> \n",
       "</tr>\n",
       "<tr>\n",
       "  <th>6</th>  <td>     23.84</td>  <td>     23.91</td>  <td> 2.257e+10</td>  <td>     23.87</td> \n",
       "</tr>\n",
       "<tr>\n",
       "  <th>7</th>  <td>     23.82</td>  <td>     23.91</td>  <td> 2.220e+10</td>  <td>     23.85</td> \n",
       "</tr>\n",
       "<tr>\n",
       "  <th>8</th>  <td>     23.80</td>  <td>     23.89*</td> <td> 2.163e+10</td>  <td>     23.83</td> \n",
       "</tr>\n",
       "<tr>\n",
       "  <th>9</th>  <td>     23.79</td>  <td>     23.90</td>  <td> 2.152e+10</td>  <td>     23.83</td> \n",
       "</tr>\n",
       "<tr>\n",
       "  <th>10</th> <td>     23.78</td>  <td>     23.90</td>  <td> 2.134e+10</td>  <td>     23.83</td> \n",
       "</tr>\n",
       "<tr>\n",
       "  <th>11</th> <td>     23.77</td>  <td>     23.90</td>  <td> 2.109e+10</td>  <td>     23.82*</td>\n",
       "</tr>\n",
       "<tr>\n",
       "  <th>12</th> <td>     23.77*</td> <td>     23.91</td>  <td> 2.101e+10*</td> <td>     23.82</td> \n",
       "</tr>\n",
       "</table>"
      ],
      "text/latex": [
       "\\begin{center}\n",
       "\\begin{tabular}{lcccc}\n",
       "\\toprule\n",
       "            & \\textbf{AIC} & \\textbf{BIC} & \\textbf{FPE} & \\textbf{HQIC}  \\\\\n",
       "\\midrule\n",
       "\\textbf{0}  &       25.48  &       25.49  &   1.166e+11  &        25.48   \\\\\n",
       "\\textbf{1}  &       24.28  &       24.30  &   3.503e+10  &        24.29   \\\\\n",
       "\\textbf{2}  &       24.11  &       24.14  &   2.953e+10  &        24.12   \\\\\n",
       "\\textbf{3}  &       23.97  &       24.01  &   2.583e+10  &        23.99   \\\\\n",
       "\\textbf{4}  &       23.91  &       23.96  &   2.417e+10  &        23.93   \\\\\n",
       "\\textbf{5}  &       23.87  &       23.93  &   2.323e+10  &        23.89   \\\\\n",
       "\\textbf{6}  &       23.84  &       23.91  &   2.257e+10  &        23.87   \\\\\n",
       "\\textbf{7}  &       23.82  &       23.91  &   2.220e+10  &        23.85   \\\\\n",
       "\\textbf{8}  &       23.80  &      23.89*  &   2.163e+10  &        23.83   \\\\\n",
       "\\textbf{9}  &       23.79  &       23.90  &   2.152e+10  &        23.83   \\\\\n",
       "\\textbf{10} &       23.78  &       23.90  &   2.134e+10  &        23.83   \\\\\n",
       "\\textbf{11} &       23.77  &       23.90  &   2.109e+10  &       23.82*   \\\\\n",
       "\\textbf{12} &      23.77*  &       23.91  &  2.101e+10*  &        23.82   \\\\\n",
       "\\bottomrule\n",
       "\\end{tabular}\n",
       "%\\caption{VAR Order Selection (* highlights the minimums)}\n",
       "\\end{center}"
      ],
      "text/plain": [
       "<class 'statsmodels.iolib.table.SimpleTable'>"
      ]
     },
     "execution_count": 24,
     "metadata": {},
     "output_type": "execute_result"
    }
   ],
   "source": [
    "x = model.select_order(maxlags=12)\n",
    "x.summary()"
   ]
  },
  {
   "cell_type": "code",
   "execution_count": 25,
   "id": "88f57863",
   "metadata": {},
   "outputs": [
    {
     "data": {
      "text/plain": [
       "  Summary of Regression Results   \n",
       "==================================\n",
       "Model:                         VAR\n",
       "Method:                        OLS\n",
       "Date:           Sun, 31, Dec, 2023\n",
       "Time:                     00:54:11\n",
       "--------------------------------------------------------------------\n",
       "No. of Equations:         2.00000    BIC:                    23.8898\n",
       "Nobs:                     1969.00    HQIC:                   23.8288\n",
       "Log likelihood:          -28978.3    FPE:                2.15435e+10\n",
       "AIC:                      23.7933    Det(Omega_mle):     2.11762e+10\n",
       "--------------------------------------------------------------------\n",
       "Results for equation Price\n",
       "===========================================================================\n",
       "              coefficient       std. error           t-stat            prob\n",
       "---------------------------------------------------------------------------\n",
       "const           12.531187        12.142758            1.032           0.302\n",
       "L1.Price        -0.002170         0.024018           -0.090           0.928\n",
       "L1.Open          0.094319         0.044349            2.127           0.033\n",
       "L2.Price        -0.082971         0.054100           -1.534           0.125\n",
       "L2.Open          0.161796         0.059986            2.697           0.007\n",
       "L3.Price        -0.177753         0.065436           -2.716           0.007\n",
       "L3.Open          0.124845         0.070515            1.770           0.077\n",
       "L4.Price        -0.085448         0.073757           -1.159           0.247\n",
       "L4.Open          0.149604         0.074061            2.020           0.043\n",
       "L5.Price        -0.165753         0.076267           -2.173           0.030\n",
       "L5.Open          0.243253         0.072249            3.367           0.001\n",
       "L6.Price        -0.246106         0.072842           -3.379           0.001\n",
       "L6.Open          0.058973         0.064745            0.911           0.362\n",
       "L7.Price        -0.006028         0.064596           -0.093           0.926\n",
       "L7.Open          0.018068         0.052672            0.343           0.732\n",
       "L8.Price        -0.031643         0.051439           -0.615           0.538\n",
       "L8.Open         -0.034276         0.023466           -1.461           0.144\n",
       "===========================================================================\n",
       "\n",
       "Results for equation Open\n",
       "===========================================================================\n",
       "              coefficient       std. error           t-stat            prob\n",
       "---------------------------------------------------------------------------\n",
       "const            3.375544         6.499721            0.519           0.604\n",
       "L1.Price         1.096214         0.012856           85.268           0.000\n",
       "L1.Open         -0.922076         0.023739          -38.843           0.000\n",
       "L2.Price         0.877591         0.028959           30.305           0.000\n",
       "L2.Open         -0.885848         0.032109          -27.589           0.000\n",
       "L3.Price         0.836828         0.035026           23.892           0.000\n",
       "L3.Open         -0.723198         0.037745          -19.160           0.000\n",
       "L4.Price         0.700720         0.039480           17.749           0.000\n",
       "L4.Open         -0.566667         0.039643          -14.294           0.000\n",
       "L5.Price         0.538848         0.040824           13.199           0.000\n",
       "L5.Open         -0.408136         0.038673          -10.554           0.000\n",
       "L6.Price         0.361140         0.038991            9.262           0.000\n",
       "L6.Open         -0.327189         0.034656           -9.441           0.000\n",
       "L7.Price         0.301103         0.034577            8.708           0.000\n",
       "L7.Open         -0.189881         0.028194           -6.735           0.000\n",
       "L8.Price         0.161758         0.027534            5.875           0.000\n",
       "L8.Open         -0.083766         0.012561           -6.669           0.000\n",
       "===========================================================================\n",
       "\n",
       "Correlation matrix of residuals\n",
       "            Price      Open\n",
       "Price    1.000000  0.340080\n",
       "Open     0.340080  1.000000\n",
       "\n"
      ]
     },
     "execution_count": 25,
     "metadata": {},
     "output_type": "execute_result"
    }
   ],
   "source": [
    "result = model.fit(8)\n",
    "result.summary()"
   ]
  },
  {
   "cell_type": "code",
   "execution_count": 26,
   "id": "89b84872",
   "metadata": {},
   "outputs": [],
   "source": [
    "# Get the lag order\n",
    "lag_order = result.k_ar\n",
    "lagged_Values = train.values[-lag_order:]\n",
    "\n",
    "# Forecast\n",
    "pred = result.forecast(y=lagged_Values, steps=len(test)+30) \n",
    "\n",
    "idx = pd.RangeIndex(start=len(train), stop=len(df)+29, step=1)\n",
    "df_forecast=pd.DataFrame(data=pred, index=idx, columns=['price_1d', 'open_1d'])"
   ]
  },
  {
   "cell_type": "code",
   "execution_count": 27,
   "id": "56c14b3c",
   "metadata": {},
   "outputs": [],
   "source": [
    "# Convert differenced values into original values\n",
    "df_forecast['PriceForecast'] = df['Price'].iloc[-train_size-1] + df_forecast['price_1d'].cumsum()\n",
    "df_forecast['OpenForecast'] = df['Open'].iloc[-train_size-1] + df_forecast['open_1d'].cumsum()\n",
    "df_forecast_30 = df_forecast[-30:]\n",
    "df_forecast = df_forecast[:-30]"
   ]
  },
  {
   "cell_type": "code",
   "execution_count": 28,
   "id": "f7231cdc",
   "metadata": {},
   "outputs": [
    {
     "name": "stdout",
     "output_type": "stream",
     "text": [
      "RMSE trên tập test là: 4998.594276858441\n",
      "MAPE trên tập test là: 9.926849269500888\n",
      "MSLE trên tập test là: 0.015354713752271789\n"
     ]
    }
   ],
   "source": [
    "# Evaluating\n",
    "from sklearn.metrics import mean_squared_error, mean_absolute_percentage_error, mean_absolute_error, mean_squared_log_error\n",
    "test_score_rmse_lstm = np.sqrt(mean_squared_error(df[-train_size:]['Price'], df_forecast['PriceForecast']))\n",
    "test_score_mape_lstm = mean_absolute_percentage_error(df[-train_size:]['Price'], df_forecast['PriceForecast']) * 100\n",
    "test_score_msle_lstm = mean_squared_log_error(df[-train_size:]['Price'], df_forecast['PriceForecast'])\n",
    "\n",
    "print('RMSE trên tập test là:', test_score_rmse_lstm)\n",
    "print('MAPE trên tập test là:', test_score_mape_lstm)\n",
    "print('MSLE trên tập test là:', test_score_msle_lstm)"
   ]
  },
  {
   "cell_type": "code",
   "execution_count": 29,
   "id": "b3da9ae6",
   "metadata": {},
   "outputs": [
    {
     "data": {
      "image/png": "[encoded data removed]",
      "text/plain": [
       "<Figure size 640x480 with 1 Axes>"
      ]
     },
     "metadata": {},
     "output_type": "display_data"
    }
   ],
   "source": [
    "# Plot\n",
    "plt.plot(df[:-train_size].index, df[:-train_size]['Price'], label='Train')\n",
    "plt.plot(test.index, df[-train_size:]['Price'], label='Actual Test')\n",
    "plt.plot(df[-train_size:].index, df_forecast['PriceForecast'], label='Predicted Test')\n",
    "plt.plot(df_forecast_30.index, df_forecast_30['PriceForecast'], label='Next 30 days')\n",
    "plt.legend()\n",
    "plt.show()"
   ]
  },
  {
   "cell_type": "markdown",
   "id": "9cc56f90",
   "metadata": {},
   "source": [
    "# 9:1 Train/Test Ratio"
   ]
  },
  {
   "cell_type": "code",
   "execution_count": 30,
   "id": "e7739706",
   "metadata": {},
   "outputs": [],
   "source": [
    "# import libraries\n",
    "import pandas as pd\n",
    "import numpy as np\n",
    "from statsmodels.tsa.api import VAR\n",
    "from sklearn.metrics import mean_squared_error, mean_absolute_percentage_error\n",
    "import matplotlib.pyplot as plt\n",
    "\n",
    "#read data\n",
    "df = pd.read_csv('BIDV.csv')\n",
    "df = df[['Price','Open','High']]"
   ]
  },
  {
   "cell_type": "code",
   "execution_count": 31,
   "id": "74dc4e79",
   "metadata": {},
   "outputs": [
    {
     "name": "stderr",
     "output_type": "stream",
     "text": [
      "C:\\Users\\Manh Khuong\\anaconda3\\Lib\\site-packages\\statsmodels\\tsa\\stattools.py:1488: FutureWarning: verbose is deprecated since functions should not print results\n",
      "  warnings.warn(\n",
      "C:\\Users\\Manh Khuong\\anaconda3\\Lib\\site-packages\\statsmodels\\tsa\\stattools.py:1488: FutureWarning: verbose is deprecated since functions should not print results\n",
      "  warnings.warn(\n",
      "C:\\Users\\Manh Khuong\\anaconda3\\Lib\\site-packages\\statsmodels\\tsa\\stattools.py:1488: FutureWarning: verbose is deprecated since functions should not print results\n",
      "  warnings.warn(\n",
      "C:\\Users\\Manh Khuong\\anaconda3\\Lib\\site-packages\\statsmodels\\tsa\\stattools.py:1488: FutureWarning: verbose is deprecated since functions should not print results\n",
      "  warnings.warn(\n",
      "C:\\Users\\Manh Khuong\\anaconda3\\Lib\\site-packages\\statsmodels\\tsa\\stattools.py:1488: FutureWarning: verbose is deprecated since functions should not print results\n",
      "  warnings.warn(\n",
      "C:\\Users\\Manh Khuong\\anaconda3\\Lib\\site-packages\\statsmodels\\tsa\\stattools.py:1488: FutureWarning: verbose is deprecated since functions should not print results\n",
      "  warnings.warn(\n",
      "C:\\Users\\Manh Khuong\\anaconda3\\Lib\\site-packages\\statsmodels\\tsa\\stattools.py:1488: FutureWarning: verbose is deprecated since functions should not print results\n",
      "  warnings.warn(\n",
      "C:\\Users\\Manh Khuong\\anaconda3\\Lib\\site-packages\\statsmodels\\tsa\\stattools.py:1488: FutureWarning: verbose is deprecated since functions should not print results\n",
      "  warnings.warn(\n",
      "C:\\Users\\Manh Khuong\\anaconda3\\Lib\\site-packages\\statsmodels\\tsa\\stattools.py:1488: FutureWarning: verbose is deprecated since functions should not print results\n",
      "  warnings.warn(\n"
     ]
    },
    {
     "data": {
      "text/html": [
       "<div>\n",
       "<style scoped>\n",
       "    .dataframe tbody tr th:only-of-type {\n",
       "        vertical-align: middle;\n",
       "    }\n",
       "\n",
       "    .dataframe tbody tr th {\n",
       "        vertical-align: top;\n",
       "    }\n",
       "\n",
       "    .dataframe thead th {\n",
       "        text-align: right;\n",
       "    }\n",
       "</style>\n",
       "<table border=\"1\" class=\"dataframe\">\n",
       "  <thead>\n",
       "    <tr style=\"text-align: right;\">\n",
       "      <th></th>\n",
       "      <th>Price_x</th>\n",
       "      <th>Open_x</th>\n",
       "      <th>High_x</th>\n",
       "    </tr>\n",
       "  </thead>\n",
       "  <tbody>\n",
       "    <tr>\n",
       "      <th>Price_y</th>\n",
       "      <td>1.0</td>\n",
       "      <td>0.0002</td>\n",
       "      <td>0.0</td>\n",
       "    </tr>\n",
       "    <tr>\n",
       "      <th>Open_y</th>\n",
       "      <td>0.0</td>\n",
       "      <td>1.0000</td>\n",
       "      <td>0.0</td>\n",
       "    </tr>\n",
       "    <tr>\n",
       "      <th>High_y</th>\n",
       "      <td>0.0</td>\n",
       "      <td>0.0000</td>\n",
       "      <td>1.0</td>\n",
       "    </tr>\n",
       "  </tbody>\n",
       "</table>\n",
       "</div>"
      ],
      "text/plain": [
       "         Price_x  Open_x  High_x\n",
       "Price_y      1.0  0.0002     0.0\n",
       "Open_y       0.0  1.0000     0.0\n",
       "High_y       0.0  0.0000     1.0"
      ]
     },
     "execution_count": 31,
     "metadata": {},
     "output_type": "execute_result"
    }
   ],
   "source": [
    "# Testing Causation using Granger’s Causality Test\n",
    "from statsmodels.tsa.stattools import grangercausalitytests\n",
    "maxlag=12\n",
    "test = 'ssr_chi2test'\n",
    "def grangers_causation_matrix(data, variables, test='ssr_chi2test', verbose=False):    \n",
    "    df = pd.DataFrame(np.zeros((len(variables), len(variables))), columns=variables, index=variables)\n",
    "    for c in df.columns:\n",
    "        for r in df.index:\n",
    "            test_result = grangercausalitytests(data[[r, c]], maxlag=maxlag, verbose=False)\n",
    "            p_values = [round(test_result[i+1][0][test][1],4) for i in range(maxlag)]\n",
    "            if verbose: print(f'Y = {r}, X = {c}, P Values = {p_values}')\n",
    "            min_p_value = np.min(p_values)\n",
    "            df.loc[r, c] = min_p_value\n",
    "    df.columns = [var + '_x' for var in variables]\n",
    "    df.index = [var + '_y' for var in variables]\n",
    "    return df\n",
    "\n",
    "grangers_causation_matrix(df, variables = df.columns)    "
   ]
  },
  {
   "cell_type": "code",
   "execution_count": 32,
   "id": "0e7b0257",
   "metadata": {},
   "outputs": [
    {
     "name": "stdout",
     "output_type": "stream",
     "text": [
      "Name   ::  Test Stat > C(95%)    =>   Signif  \n",
      " ----------------------------------------\n",
      "Price  ::  515.39    > 24.2761   =>   True\n",
      "Open   ::  134.98    > 12.3212   =>   True\n",
      "High   ::  0.12      > 4.1296    =>   False\n"
     ]
    }
   ],
   "source": [
    "# Cointegration Test\n",
    "from statsmodels.tsa.vector_ar.vecm import coint_johansen\n",
    "def cointegration_test(df, alpha=0.05): \n",
    "    \"\"\"Perform Johanson's Cointegration Test and Report Summary\"\"\"\n",
    "    out = coint_johansen(df,-1,5)\n",
    "    d = {'0.90':0, '0.95':1, '0.99':2}\n",
    "    traces = out.lr1\n",
    "    cvts = out.cvt[:, d[str(1-alpha)]]\n",
    "    def adjust(val, length= 6): return str(val).ljust(length)\n",
    "\n",
    "    # Summary\n",
    "    print('Name   ::  Test Stat > C(95%)    =>   Signif  \\n', '--'*20)\n",
    "    for col, trace, cvt in zip(df.columns, traces, cvts):\n",
    "        print(adjust(col), ':: ', adjust(round(trace,2), 9), \">\", adjust(cvt, 8), ' =>  ' , trace > cvt)\n",
    "\n",
    "cointegration_test(df)"
   ]
  },
  {
   "cell_type": "code",
   "execution_count": 33,
   "id": "9f538df2",
   "metadata": {},
   "outputs": [],
   "source": [
    "df =  df[['Price','Open']]"
   ]
  },
  {
   "cell_type": "code",
   "execution_count": 34,
   "id": "5a824c93",
   "metadata": {},
   "outputs": [
    {
     "name": "stdout",
     "output_type": "stream",
     "text": [
      "ADF stat: -1.199824\n",
      "p-value: 0.673672\n",
      "\n",
      "\n"
     ]
    }
   ],
   "source": [
    "# check stationary\n",
    "from statsmodels.tsa.stattools import adfuller\n",
    "adf1 = adfuller(df['Price'], regression ='c', maxlag=30)\n",
    "print(\"ADF stat: %f\" % adf1[0])\n",
    "print(\"p-value: %f\" % adf1[1])\n",
    "print('\\n')"
   ]
  },
  {
   "cell_type": "code",
   "execution_count": 35,
   "id": "9a61ed04",
   "metadata": {},
   "outputs": [
    {
     "name": "stdout",
     "output_type": "stream",
     "text": [
      "ADF stat: -51.369229\n",
      "p-value: 0.000000\n",
      "\n",
      "\n"
     ]
    }
   ],
   "source": [
    "# differencing\n",
    "from statsmodels.tsa.stattools import adfuller\n",
    "df_difference = df.diff().dropna()\n",
    "adf1 = adfuller(df_difference['Price'], regression ='c', maxlag=30)\n",
    "print(\"ADF stat: %f\" % adf1[0])\n",
    "print(\"p-value: %f\" % adf1[1])\n",
    "print('\\n')"
   ]
  },
  {
   "cell_type": "code",
   "execution_count": 36,
   "id": "2909c32d",
   "metadata": {},
   "outputs": [],
   "source": [
    "# Split train/test\n",
    "train_size = int(0.1 * len(df))\n",
    "train = df_difference[:-train_size]\n",
    "test = df_difference[-train_size:]"
   ]
  },
  {
   "cell_type": "code",
   "execution_count": 37,
   "id": "cbfcc73f",
   "metadata": {},
   "outputs": [
    {
     "name": "stdout",
     "output_type": "stream",
     "text": [
      "Order = 1\n",
      "AIC:  24.64810569908363\n",
      "BIC:  24.66350816308893\n",
      "\n",
      "Order = 2\n",
      "AIC:  24.476278984471968\n",
      "BIC:  24.501959285868008\n",
      "\n",
      "Order = 3\n",
      "AIC:  24.375974772862225\n",
      "BIC:  24.411940544827342\n",
      "\n",
      "Order = 4\n",
      "AIC:  24.285861505553946\n",
      "BIC:  24.332120390485297\n",
      "\n",
      "Order = 5\n",
      "AIC:  24.24436405896263\n",
      "BIC:  24.30092370849148\n",
      "\n",
      "Order = 6\n",
      "AIC:  24.22186009586361\n",
      "BIC:  24.288728170870677\n",
      "\n",
      "Order = 7\n",
      "AIC:  24.20631682973488\n",
      "BIC:  24.283501000365682\n",
      "\n",
      "Order = 8\n",
      "AIC:  24.182557256659695\n",
      "BIC:  24.270065202339968\n",
      "\n",
      "Order = 9\n",
      "AIC:  24.17855145192586\n",
      "BIC:  24.27639086137697\n",
      "\n",
      "Order = 10\n",
      "AIC:  24.16829239028277\n",
      "BIC:  24.27647096153719\n",
      "\n"
     ]
    },
    {
     "name": "stderr",
     "output_type": "stream",
     "text": [
      "C:\\Users\\Manh Khuong\\anaconda3\\Lib\\site-packages\\statsmodels\\tsa\\base\\tsa_model.py:473: ValueWarning: An unsupported index was provided and will be ignored when e.g. forecasting.\n",
      "  self._init_dates(dates, freq)\n",
      "C:\\Users\\Manh Khuong\\anaconda3\\Lib\\site-packages\\statsmodels\\tsa\\base\\tsa_model.py:473: ValueWarning: An unsupported index was provided and will be ignored when e.g. forecasting.\n",
      "  self._init_dates(dates, freq)\n",
      "C:\\Users\\Manh Khuong\\anaconda3\\Lib\\site-packages\\statsmodels\\tsa\\base\\tsa_model.py:473: ValueWarning: An unsupported index was provided and will be ignored when e.g. forecasting.\n",
      "  self._init_dates(dates, freq)\n",
      "C:\\Users\\Manh Khuong\\anaconda3\\Lib\\site-packages\\statsmodels\\tsa\\base\\tsa_model.py:473: ValueWarning: An unsupported index was provided and will be ignored when e.g. forecasting.\n",
      "  self._init_dates(dates, freq)\n",
      "C:\\Users\\Manh Khuong\\anaconda3\\Lib\\site-packages\\statsmodels\\tsa\\base\\tsa_model.py:473: ValueWarning: An unsupported index was provided and will be ignored when e.g. forecasting.\n",
      "  self._init_dates(dates, freq)\n",
      "C:\\Users\\Manh Khuong\\anaconda3\\Lib\\site-packages\\statsmodels\\tsa\\base\\tsa_model.py:473: ValueWarning: An unsupported index was provided and will be ignored when e.g. forecasting.\n",
      "  self._init_dates(dates, freq)\n",
      "C:\\Users\\Manh Khuong\\anaconda3\\Lib\\site-packages\\statsmodels\\tsa\\base\\tsa_model.py:473: ValueWarning: An unsupported index was provided and will be ignored when e.g. forecasting.\n",
      "  self._init_dates(dates, freq)\n",
      "C:\\Users\\Manh Khuong\\anaconda3\\Lib\\site-packages\\statsmodels\\tsa\\base\\tsa_model.py:473: ValueWarning: An unsupported index was provided and will be ignored when e.g. forecasting.\n",
      "  self._init_dates(dates, freq)\n",
      "C:\\Users\\Manh Khuong\\anaconda3\\Lib\\site-packages\\statsmodels\\tsa\\base\\tsa_model.py:473: ValueWarning: An unsupported index was provided and will be ignored when e.g. forecasting.\n",
      "  self._init_dates(dates, freq)\n",
      "C:\\Users\\Manh Khuong\\anaconda3\\Lib\\site-packages\\statsmodels\\tsa\\base\\tsa_model.py:473: ValueWarning: An unsupported index was provided and will be ignored when e.g. forecasting.\n",
      "  self._init_dates(dates, freq)\n"
     ]
    }
   ],
   "source": [
    "# find the best fit model\n",
    "for i in [1,2,3,4,5,6,7,8,9,10]:\n",
    "    model = VAR(train)\n",
    "    results = model.fit(i)\n",
    "    print('Order =', i)\n",
    "    print('AIC: ', results.aic)\n",
    "    print('BIC: ', results.bic)\n",
    "    print()"
   ]
  },
  {
   "cell_type": "code",
   "execution_count": 38,
   "id": "3a96a37a",
   "metadata": {},
   "outputs": [
    {
     "data": {
      "text/html": [
       "<table class=\"simpletable\">\n",
       "<caption>VAR Order Selection (* highlights the minimums)</caption>\n",
       "<tr>\n",
       "   <td></td>      <th>AIC</th>         <th>BIC</th>         <th>FPE</th>        <th>HQIC</th>    \n",
       "</tr>\n",
       "<tr>\n",
       "  <th>0</th>  <td>     25.97</td>  <td>     25.97</td>  <td> 1.892e+11</td>  <td>     25.97</td> \n",
       "</tr>\n",
       "<tr>\n",
       "  <th>1</th>  <td>     24.66</td>  <td>     24.67</td>  <td> 5.111e+10</td>  <td>     24.66</td> \n",
       "</tr>\n",
       "<tr>\n",
       "  <th>2</th>  <td>     24.48</td>  <td>     24.51</td>  <td> 4.302e+10</td>  <td>     24.49</td> \n",
       "</tr>\n",
       "<tr>\n",
       "  <th>3</th>  <td>     24.38</td>  <td>     24.42</td>  <td> 3.889e+10</td>  <td>     24.40</td> \n",
       "</tr>\n",
       "<tr>\n",
       "  <th>4</th>  <td>     24.29</td>  <td>     24.34</td>  <td> 3.550e+10</td>  <td>     24.31</td> \n",
       "</tr>\n",
       "<tr>\n",
       "  <th>5</th>  <td>     24.25</td>  <td>     24.31</td>  <td> 3.403e+10</td>  <td>     24.27</td> \n",
       "</tr>\n",
       "<tr>\n",
       "  <th>6</th>  <td>     24.23</td>  <td>     24.29</td>  <td> 3.324e+10</td>  <td>     24.25</td> \n",
       "</tr>\n",
       "<tr>\n",
       "  <th>7</th>  <td>     24.21</td>  <td>     24.29</td>  <td> 3.270e+10</td>  <td>     24.24</td> \n",
       "</tr>\n",
       "<tr>\n",
       "  <th>8</th>  <td>     24.19</td>  <td>     24.27*</td> <td> 3.191e+10</td>  <td>     24.22</td> \n",
       "</tr>\n",
       "<tr>\n",
       "  <th>9</th>  <td>     24.18</td>  <td>     24.28</td>  <td> 3.175e+10</td>  <td>     24.22</td> \n",
       "</tr>\n",
       "<tr>\n",
       "  <th>10</th> <td>     24.17</td>  <td>     24.28</td>  <td> 3.140e+10</td>  <td>     24.21</td> \n",
       "</tr>\n",
       "<tr>\n",
       "  <th>11</th> <td>     24.16</td>  <td>     24.28</td>  <td> 3.118e+10</td>  <td>     24.21*</td>\n",
       "</tr>\n",
       "<tr>\n",
       "  <th>12</th> <td>     24.16*</td> <td>     24.29</td>  <td> 3.107e+10*</td> <td>     24.21</td> \n",
       "</tr>\n",
       "</table>"
      ],
      "text/latex": [
       "\\begin{center}\n",
       "\\begin{tabular}{lcccc}\n",
       "\\toprule\n",
       "            & \\textbf{AIC} & \\textbf{BIC} & \\textbf{FPE} & \\textbf{HQIC}  \\\\\n",
       "\\midrule\n",
       "\\textbf{0}  &       25.97  &       25.97  &   1.892e+11  &        25.97   \\\\\n",
       "\\textbf{1}  &       24.66  &       24.67  &   5.111e+10  &        24.66   \\\\\n",
       "\\textbf{2}  &       24.48  &       24.51  &   4.302e+10  &        24.49   \\\\\n",
       "\\textbf{3}  &       24.38  &       24.42  &   3.889e+10  &        24.40   \\\\\n",
       "\\textbf{4}  &       24.29  &       24.34  &   3.550e+10  &        24.31   \\\\\n",
       "\\textbf{5}  &       24.25  &       24.31  &   3.403e+10  &        24.27   \\\\\n",
       "\\textbf{6}  &       24.23  &       24.29  &   3.324e+10  &        24.25   \\\\\n",
       "\\textbf{7}  &       24.21  &       24.29  &   3.270e+10  &        24.24   \\\\\n",
       "\\textbf{8}  &       24.19  &      24.27*  &   3.191e+10  &        24.22   \\\\\n",
       "\\textbf{9}  &       24.18  &       24.28  &   3.175e+10  &        24.22   \\\\\n",
       "\\textbf{10} &       24.17  &       24.28  &   3.140e+10  &        24.21   \\\\\n",
       "\\textbf{11} &       24.16  &       24.28  &   3.118e+10  &       24.21*   \\\\\n",
       "\\textbf{12} &      24.16*  &       24.29  &  3.107e+10*  &        24.21   \\\\\n",
       "\\bottomrule\n",
       "\\end{tabular}\n",
       "%\\caption{VAR Order Selection (* highlights the minimums)}\n",
       "\\end{center}"
      ],
      "text/plain": [
       "<class 'statsmodels.iolib.table.SimpleTable'>"
      ]
     },
     "execution_count": 38,
     "metadata": {},
     "output_type": "execute_result"
    }
   ],
   "source": [
    "x = model.select_order(maxlags=12)\n",
    "x.summary()"
   ]
  },
  {
   "cell_type": "code",
   "execution_count": 39,
   "id": "e7300224",
   "metadata": {},
   "outputs": [
    {
     "data": {
      "text/plain": [
       "  Summary of Regression Results   \n",
       "==================================\n",
       "Model:                         VAR\n",
       "Method:                        OLS\n",
       "Date:           Sun, 31, Dec, 2023\n",
       "Time:                     00:54:56\n",
       "--------------------------------------------------------------------\n",
       "No. of Equations:         2.00000    BIC:                    24.2701\n",
       "Nobs:                     2216.00    HQIC:                   24.2145\n",
       "Log likelihood:          -33049.0    FPE:                3.17945e+10\n",
       "AIC:                      24.1826    Det(Omega_mle):     3.13122e+10\n",
       "--------------------------------------------------------------------\n",
       "Results for equation Price\n",
       "===========================================================================\n",
       "              coefficient       std. error           t-stat            prob\n",
       "---------------------------------------------------------------------------\n",
       "const           12.875221        13.008087            0.990           0.322\n",
       "L1.Price        -0.039244         0.022296           -1.760           0.078\n",
       "L1.Open          0.152519         0.044423            3.433           0.001\n",
       "L2.Price        -0.169038         0.052762           -3.204           0.001\n",
       "L2.Open          0.220567         0.059916            3.681           0.000\n",
       "L3.Price        -0.203513         0.064311           -3.165           0.002\n",
       "L3.Open          0.177128         0.069581            2.546           0.011\n",
       "L4.Price        -0.139330         0.072156           -1.931           0.053\n",
       "L4.Open          0.141528         0.073654            1.922           0.055\n",
       "L5.Price        -0.115051         0.075191           -1.530           0.126\n",
       "L5.Open          0.211476         0.071195            2.970           0.003\n",
       "L6.Price        -0.211228         0.071318           -2.962           0.003\n",
       "L6.Open          0.084238         0.063903            1.318           0.187\n",
       "L7.Price        -0.056476         0.063244           -0.893           0.372\n",
       "L7.Open          0.034645         0.051797            0.669           0.504\n",
       "L8.Price        -0.020177         0.050643           -0.398           0.690\n",
       "L8.Open         -0.024109         0.021919           -1.100           0.271\n",
       "===========================================================================\n",
       "\n",
       "Results for equation Open\n",
       "===========================================================================\n",
       "              coefficient       std. error           t-stat            prob\n",
       "---------------------------------------------------------------------------\n",
       "const            2.938066         6.445605            0.456           0.649\n",
       "L1.Price         1.075506         0.011048           97.350           0.000\n",
       "L1.Open         -0.909243         0.022012          -41.307           0.000\n",
       "L2.Price         0.851944         0.026144           32.587           0.000\n",
       "L2.Open         -0.842052         0.029689          -28.363           0.000\n",
       "L3.Price         0.800818         0.031866           25.130           0.000\n",
       "L3.Open         -0.741614         0.034478          -21.510           0.000\n",
       "L4.Price         0.734500         0.035754           20.543           0.000\n",
       "L4.Open         -0.581071         0.036496          -15.921           0.000\n",
       "L5.Price         0.547417         0.037258           14.693           0.000\n",
       "L5.Open         -0.417677         0.035278          -11.840           0.000\n",
       "L6.Price         0.371250         0.035339           10.506           0.000\n",
       "L6.Open         -0.304098         0.031665           -9.604           0.000\n",
       "L7.Price         0.283585         0.031338            9.049           0.000\n",
       "L7.Open         -0.182931         0.025666           -7.127           0.000\n",
       "L8.Price         0.171754         0.025094            6.844           0.000\n",
       "L8.Open         -0.066972         0.010861           -6.166           0.000\n",
       "===========================================================================\n",
       "\n",
       "Correlation matrix of residuals\n",
       "            Price      Open\n",
       "Price    1.000000  0.293826\n",
       "Open     0.293826  1.000000\n",
       "\n"
      ]
     },
     "execution_count": 39,
     "metadata": {},
     "output_type": "execute_result"
    }
   ],
   "source": [
    "result = model.fit(8)\n",
    "result.summary()"
   ]
  },
  {
   "cell_type": "code",
   "execution_count": 40,
   "id": "89c544e2",
   "metadata": {},
   "outputs": [],
   "source": [
    "# Get the lag order\n",
    "lag_order = result.k_ar\n",
    "lagged_Values = train.values[-lag_order:]\n",
    "\n",
    "# Forecast\n",
    "pred = result.forecast(y=lagged_Values, steps=len(test)+30) \n",
    "\n",
    "idx = pd.RangeIndex(start=len(train), stop=len(df)+29, step=1)\n",
    "df_forecast=pd.DataFrame(data=pred, index=idx, columns=['price_1d', 'open_1d'])"
   ]
  },
  {
   "cell_type": "code",
   "execution_count": 41,
   "id": "4cd764fd",
   "metadata": {},
   "outputs": [],
   "source": [
    "# Convert differenced values into original values\n",
    "df_forecast['PriceForecast'] = df['Price'].iloc[-train_size-1] + df_forecast['price_1d'].cumsum()\n",
    "df_forecast['OpenForecast'] = df['Open'].iloc[-train_size-1] + df_forecast['open_1d'].cumsum()\n",
    "df_forecast_30 = df_forecast[-30:]\n",
    "df_forecast = df_forecast[:-30]"
   ]
  },
  {
   "cell_type": "code",
   "execution_count": 42,
   "id": "c7f16300",
   "metadata": {},
   "outputs": [
    {
     "name": "stdout",
     "output_type": "stream",
     "text": [
      "RMSE trên tập test là: 3705.5914400960364\n",
      "MAPE trên tập test là: 7.290469000734848\n",
      "MSLE trên tập test là: 0.007272520840070935\n"
     ]
    }
   ],
   "source": [
    "# Evaluating\n",
    "from sklearn.metrics import mean_squared_error, mean_absolute_percentage_error, mean_absolute_error, mean_squared_log_error\n",
    "test_score_rmse_lstm = np.sqrt(mean_squared_error(df[-train_size:]['Price'], df_forecast['PriceForecast']))\n",
    "test_score_mape_lstm = mean_absolute_percentage_error(df[-train_size:]['Price'], df_forecast['PriceForecast']) * 100\n",
    "test_score_msle_lstm = mean_squared_log_error(df[-train_size:]['Price'], df_forecast['PriceForecast'])\n",
    "\n",
    "print('RMSE trên tập test là:', test_score_rmse_lstm)\n",
    "print('MAPE trên tập test là:', test_score_mape_lstm)\n",
    "print('MSLE trên tập test là:', test_score_msle_lstm)"
   ]
  },
  {
   "cell_type": "code",
   "execution_count": 43,
   "id": "0ae9c56b",
   "metadata": {},
   "outputs": [
    {
     "data": {
      "image/png": "[encoded data removed]",
      "text/plain": [
       "<Figure size 640x480 with 1 Axes>"
      ]
     },
     "metadata": {},
     "output_type": "display_data"
    }
   ],
   "source": [
    "# Plot\n",
    "plt.plot(df[:-train_size].index, df[:-train_size]['Price'], label='Train')\n",
    "plt.plot(test.index, df[-train_size:]['Price'], label='Actual Test')\n",
    "plt.plot(df[-train_size:].index, df_forecast['PriceForecast'], label='Predicted Test')\n",
    "plt.plot(df_forecast_30.index, df_forecast_30['PriceForecast'], label='Next 30 days')\n",
    "plt.legend()\n",
    "plt.show()"
   ]
  },
  {
   "cell_type": "code",
   "execution_count": null,
   "id": "e1a75da6",
   "metadata": {},
   "outputs": [],
   "source": []
  }
 ],
 "metadata": {
  "kernelspec": {
   "display_name": "Python 3 (ipykernel)",
   "language": "python",
   "name": "python3"
  },
  "language_info": {
   "codemirror_mode": {
    "name": "ipython",
    "version": 3
   },
   "file_extension": ".py",
   "mimetype": "text/x-python",
   "name": "python",
   "nbconvert_exporter": "python",
   "pygments_lexer": "ipython3",
   "version": "3.11.4"
  }
 },
 "nbformat": 4,
 "nbformat_minor": 5
}
