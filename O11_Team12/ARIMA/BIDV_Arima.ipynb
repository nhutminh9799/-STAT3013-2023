{
 "cells": [
  {
   "cell_type": "markdown",
   "id": "97e3cec3",
   "metadata": {},
   "source": [
    "# 7:3 Train/Test Ratio"
   ]
  },
  {
   "cell_type": "code",
   "execution_count": 2,
   "id": "4d685a78",
   "metadata": {},
   "outputs": [],
   "source": [
    "#import libraries\n",
    "import numpy as np\n",
    "import pandas as pd\n",
    "import matplotlib.pyplot as plt\n",
    "from sklearn.preprocessing import MinMaxScaler\n",
    "from sklearn.linear_model import LinearRegression\n",
    "import statsmodels.api as sm"
   ]
  },
  {
   "cell_type": "code",
   "execution_count": 3,
   "id": "62f15a9a",
   "metadata": {},
   "outputs": [
    {
     "data": {
      "text/html": [
       "<div>\n",
       "<style scoped>\n",
       "    .dataframe tbody tr th:only-of-type {\n",
       "        vertical-align: middle;\n",
       "    }\n",
       "\n",
       "    .dataframe tbody tr th {\n",
       "        vertical-align: top;\n",
       "    }\n",
       "\n",
       "    .dataframe thead th {\n",
       "        text-align: right;\n",
       "    }\n",
       "</style>\n",
       "<table border=\"1\" class=\"dataframe\">\n",
       "  <thead>\n",
       "    <tr style=\"text-align: right;\">\n",
       "      <th></th>\n",
       "      <th>Date</th>\n",
       "      <th>Price</th>\n",
       "      <th>Open</th>\n",
       "      <th>High</th>\n",
       "      <th>Low</th>\n",
       "      <th>Vol.</th>\n",
       "      <th>Change %</th>\n",
       "    </tr>\n",
       "  </thead>\n",
       "  <tbody>\n",
       "    <tr>\n",
       "      <th>0</th>\n",
       "      <td>27/01/2014</td>\n",
       "      <td>11054.8</td>\n",
       "      <td>11235.1</td>\n",
       "      <td>11295.2</td>\n",
       "      <td>10874.6</td>\n",
       "      <td>4.27M</td>\n",
       "      <td>-0.02</td>\n",
       "    </tr>\n",
       "    <tr>\n",
       "      <th>1</th>\n",
       "      <td>06/02/2014</td>\n",
       "      <td>10574.2</td>\n",
       "      <td>10934.7</td>\n",
       "      <td>10994.8</td>\n",
       "      <td>10574.2</td>\n",
       "      <td>1.26M</td>\n",
       "      <td>-0.04</td>\n",
       "    </tr>\n",
       "    <tr>\n",
       "      <th>2</th>\n",
       "      <td>07/02/2014</td>\n",
       "      <td>9973.4</td>\n",
       "      <td>10454.0</td>\n",
       "      <td>10514.1</td>\n",
       "      <td>9913.3</td>\n",
       "      <td>3.93M</td>\n",
       "      <td>-0.06</td>\n",
       "    </tr>\n",
       "    <tr>\n",
       "      <th>3</th>\n",
       "      <td>10/02/2014</td>\n",
       "      <td>10213.7</td>\n",
       "      <td>9913.3</td>\n",
       "      <td>10333.9</td>\n",
       "      <td>9733.1</td>\n",
       "      <td>5.33M</td>\n",
       "      <td>0.02</td>\n",
       "    </tr>\n",
       "    <tr>\n",
       "      <th>4</th>\n",
       "      <td>11/02/2014</td>\n",
       "      <td>10153.6</td>\n",
       "      <td>10333.9</td>\n",
       "      <td>10333.9</td>\n",
       "      <td>10153.6</td>\n",
       "      <td>2.55M</td>\n",
       "      <td>-0.01</td>\n",
       "    </tr>\n",
       "    <tr>\n",
       "      <th>...</th>\n",
       "      <td>...</td>\n",
       "      <td>...</td>\n",
       "      <td>...</td>\n",
       "      <td>...</td>\n",
       "      <td>...</td>\n",
       "      <td>...</td>\n",
       "      <td>...</td>\n",
       "    </tr>\n",
       "    <tr>\n",
       "      <th>2467</th>\n",
       "      <td>18/12/2023</td>\n",
       "      <td>41000.0</td>\n",
       "      <td>41050.0</td>\n",
       "      <td>41500.0</td>\n",
       "      <td>40500.0</td>\n",
       "      <td>678.40K</td>\n",
       "      <td>-0.01</td>\n",
       "    </tr>\n",
       "    <tr>\n",
       "      <th>2468</th>\n",
       "      <td>19/12/2023</td>\n",
       "      <td>41200.0</td>\n",
       "      <td>41000.0</td>\n",
       "      <td>41500.0</td>\n",
       "      <td>40550.0</td>\n",
       "      <td>823.30K</td>\n",
       "      <td>0.00</td>\n",
       "    </tr>\n",
       "    <tr>\n",
       "      <th>2469</th>\n",
       "      <td>20/12/2023</td>\n",
       "      <td>41300.0</td>\n",
       "      <td>41900.0</td>\n",
       "      <td>42000.0</td>\n",
       "      <td>40800.0</td>\n",
       "      <td>1.02M</td>\n",
       "      <td>0.00</td>\n",
       "    </tr>\n",
       "    <tr>\n",
       "      <th>2470</th>\n",
       "      <td>21/12/2023</td>\n",
       "      <td>41800.0</td>\n",
       "      <td>40900.0</td>\n",
       "      <td>41900.0</td>\n",
       "      <td>40900.0</td>\n",
       "      <td>1.14M</td>\n",
       "      <td>0.01</td>\n",
       "    </tr>\n",
       "    <tr>\n",
       "      <th>2471</th>\n",
       "      <td>22/12/2023</td>\n",
       "      <td>42050.0</td>\n",
       "      <td>41800.0</td>\n",
       "      <td>42050.0</td>\n",
       "      <td>41050.0</td>\n",
       "      <td>470.70K</td>\n",
       "      <td>0.01</td>\n",
       "    </tr>\n",
       "  </tbody>\n",
       "</table>\n",
       "<p>2472 rows × 7 columns</p>\n",
       "</div>"
      ],
      "text/plain": [
       "            Date    Price     Open     High      Low     Vol.  Change %\n",
       "0     27/01/2014  11054.8  11235.1  11295.2  10874.6    4.27M     -0.02\n",
       "1     06/02/2014  10574.2  10934.7  10994.8  10574.2    1.26M     -0.04\n",
       "2     07/02/2014   9973.4  10454.0  10514.1   9913.3    3.93M     -0.06\n",
       "3     10/02/2014  10213.7   9913.3  10333.9   9733.1    5.33M      0.02\n",
       "4     11/02/2014  10153.6  10333.9  10333.9  10153.6    2.55M     -0.01\n",
       "...          ...      ...      ...      ...      ...      ...       ...\n",
       "2467  18/12/2023  41000.0  41050.0  41500.0  40500.0  678.40K     -0.01\n",
       "2468  19/12/2023  41200.0  41000.0  41500.0  40550.0  823.30K      0.00\n",
       "2469  20/12/2023  41300.0  41900.0  42000.0  40800.0    1.02M      0.00\n",
       "2470  21/12/2023  41800.0  40900.0  41900.0  40900.0    1.14M      0.01\n",
       "2471  22/12/2023  42050.0  41800.0  42050.0  41050.0  470.70K      0.01\n",
       "\n",
       "[2472 rows x 7 columns]"
      ]
     },
     "execution_count": 3,
     "metadata": {},
     "output_type": "execute_result"
    }
   ],
   "source": [
    "#read data\n",
    "df = pd.read_csv('BIDV.csv')\n",
    "df = df.dropna() \n",
    "df = df.reset_index(drop=True) \n",
    "df"
   ]
  },
  {
   "cell_type": "code",
   "execution_count": 4,
   "id": "4b5a58b1",
   "metadata": {},
   "outputs": [],
   "source": [
    "#1. Split the data into training, testing, and validation sets\n",
    "train_size = int(0.7 * len(df))\n",
    "test_size = len(df) - train_size\n",
    "\n",
    "train_data = (df[:train_size])\n",
    "test_data = df[train_size:]"
   ]
  },
  {
   "cell_type": "code",
   "execution_count": 5,
   "id": "f7f02cb8",
   "metadata": {},
   "outputs": [
    {
     "name": "stdout",
     "output_type": "stream",
     "text": [
      "Performing stepwise search to minimize aic\n",
      " ARIMA(2,1,2)(0,0,0)[0] intercept   : AIC=26509.412, Time=0.53 sec\n",
      " ARIMA(0,1,0)(0,0,0)[0] intercept   : AIC=26505.484, Time=0.02 sec\n",
      " ARIMA(1,1,0)(0,0,0)[0] intercept   : AIC=26507.478, Time=0.05 sec\n",
      " ARIMA(0,1,1)(0,0,0)[0] intercept   : AIC=26507.480, Time=0.10 sec\n",
      " ARIMA(0,1,0)(0,0,0)[0]             : AIC=26505.086, Time=0.02 sec\n",
      " ARIMA(1,1,1)(0,0,0)[0] intercept   : AIC=26506.921, Time=0.68 sec\n",
      "\n",
      "Best model:  ARIMA(0,1,0)(0,0,0)[0]          \n",
      "Total fit time: 1.415 seconds\n"
     ]
    }
   ],
   "source": [
    "# 2. Training data\n",
    "x_train = np.array(train_data.index).reshape(-1, 1)\n",
    "y_train = np.array(train_data['Price'])\n",
    "\n",
    "# Find the best ARIMA model using auto_arima\n",
    "from pmdarima.arima import auto_arima\n",
    "from statsmodels.tsa.arima.model import ARIMA\n",
    "\n",
    "model = auto_arima(y_train, trace=True, error_action='ignore', suppress_warnings=True)\n",
    "\n",
    "# Fit the model\n",
    "model_fit = model.fit(y_train)"
   ]
  },
  {
   "cell_type": "code",
   "execution_count": 25,
   "id": "c449272f",
   "metadata": {},
   "outputs": [],
   "source": [
    "# 3. Testing process\n",
    "x_test = np.array(test_data.index).reshape(-1, 1)\n",
    "y_test = np.array(test_data['Price'])\n",
    "y_pred = model.predict(n_periods=len(y_test)+30)"
   ]
  },
  {
   "cell_type": "code",
   "execution_count": 27,
   "id": "34b5af79",
   "metadata": {},
   "outputs": [
    {
     "name": "stdout",
     "output_type": "stream",
     "text": [
      "Predicted closing prices for the next 30 days:\n",
      "[38186.5 38186.5 38186.5 38186.5 38186.5 38186.5 38186.5 38186.5 38186.5\n",
      " 38186.5 38186.5 38186.5 38186.5 38186.5 38186.5 38186.5 38186.5 38186.5\n",
      " 38186.5 38186.5 38186.5 38186.5 38186.5 38186.5 38186.5 38186.5 38186.5\n",
      " 38186.5 38186.5 38186.5]\n"
     ]
    }
   ],
   "source": [
    "# 4. Predict the next 30 days\n",
    "last_index =  df.index[-1]\n",
    "last_data = pd.RangeIndex(start=last_index, stop=last_index+30, step=1)\n",
    "\n",
    "# # Predict the closing prices for the next 30 days\n",
    "y_next_30_days = y_pred[-30:]\n",
    "y_pred = y_pred[:-30]\n",
    "\n",
    "# Print the predicted closing prices for the next 30 days\n",
    "print('Predicted closing prices for the next 30 days:')\n",
    "print(y_next_30_days)"
   ]
  },
  {
   "cell_type": "code",
   "execution_count": 28,
   "id": "059a419b",
   "metadata": {
    "scrolled": true
   },
   "outputs": [
    {
     "name": "stdout",
     "output_type": "stream",
     "text": [
      "RMSE: 5273.64447502633\n",
      "MAPE: 12.038282860765674\n",
      "MSLE: 0.018423145688921762\n"
     ]
    }
   ],
   "source": [
    "# 5. Evaluate accuracy\n",
    "#RMSE\n",
    "test_rmse = np.sqrt(np.mean((y_pred - y_test)**2))\n",
    "print('RMSE:', test_rmse)\n",
    "\n",
    "#MAPE\n",
    "test_mape = np.mean(np.abs((y_test - y_pred) / y_test)) * 100\n",
    "print('MAPE:', test_mape)\n",
    "\n",
    "#MSLE\n",
    "from sklearn.metrics import mean_squared_log_error\n",
    "msle = mean_squared_log_error(y_test, y_pred)\n",
    "print(f\"MSLE: {msle}\")"
   ]
  },
  {
   "cell_type": "code",
   "execution_count": 29,
   "id": "0d863152",
   "metadata": {},
   "outputs": [
    {
     "data": {
      "image/png": "[encoded data removed]",
      "text/plain": [
       "<Figure size 640x480 with 1 Axes>"
      ]
     },
     "metadata": {},
     "output_type": "display_data"
    }
   ],
   "source": [
    "# 6.Show plot\n",
    "plt.plot(train_data.index, train_data['Price'])\n",
    "plt.plot(test_data.index, test_data['Price'])\n",
    "plt.plot(test_data.index, y_pred)\n",
    "plt.plot(last_data,y_next_30_days)\n",
    "plt.legend(['Train', 'Test', 'Predictions','Next30Day'])\n",
    "plt.show()"
   ]
  },
  {
   "cell_type": "code",
   "execution_count": 16,
   "id": "57bdc560",
   "metadata": {},
   "outputs": [
    {
     "name": "stdout",
     "output_type": "stream",
     "text": [
      "                               SARIMAX Results                                \n",
      "==============================================================================\n",
      "Dep. Variable:                      y   No. Observations:                 1730\n",
      "Model:               SARIMAX(0, 1, 0)   Log Likelihood              -13251.543\n",
      "Date:                Sat, 30 Dec 2023   AIC                          26505.086\n",
      "Time:                        10:56:18   BIC                          26510.542\n",
      "Sample:                             0   HQIC                         26507.104\n",
      "                               - 1730                                         \n",
      "Covariance Type:                  opg                                         \n",
      "==============================================================================\n",
      "                 coef    std err          z      P>|z|      [0.025      0.975]\n",
      "------------------------------------------------------------------------------\n",
      "sigma2      2.657e+05   5083.653     52.265      0.000    2.56e+05    2.76e+05\n",
      "===================================================================================\n",
      "Ljung-Box (L1) (Q):                   0.00   Jarque-Bera (JB):              1386.80\n",
      "Prob(Q):                              0.98   Prob(JB):                         0.00\n",
      "Heteroskedasticity (H):               5.16   Skew:                            -0.27\n",
      "Prob(H) (two-sided):                  0.00   Kurtosis:                         7.35\n",
      "===================================================================================\n",
      "\n",
      "Warnings:\n",
      "[1] Covariance matrix calculated using the outer product of gradients (complex-step).\n"
     ]
    }
   ],
   "source": [
    "print(model.summary())"
   ]
  },
  {
   "cell_type": "code",
   "execution_count": 17,
   "id": "2a8862c0",
   "metadata": {},
   "outputs": [
    {
     "data": {
      "text/html": [
       "<table class=\"simpletable\">\n",
       "<caption>SARIMAX Results</caption>\n",
       "<tr>\n",
       "  <th>Dep. Variable:</th>           <td>y</td>        <th>  No. Observations:  </th>    <td>1730</td>   \n",
       "</tr>\n",
       "<tr>\n",
       "  <th>Model:</th>           <td>SARIMAX(0, 1, 0)</td> <th>  Log Likelihood     </th> <td>-13251.543</td>\n",
       "</tr>\n",
       "<tr>\n",
       "  <th>Date:</th>            <td>Sat, 30 Dec 2023</td> <th>  AIC                </th>  <td>26505.086</td>\n",
       "</tr>\n",
       "<tr>\n",
       "  <th>Time:</th>                <td>10:56:18</td>     <th>  BIC                </th>  <td>26510.542</td>\n",
       "</tr>\n",
       "<tr>\n",
       "  <th>Sample:</th>                  <td>0</td>        <th>  HQIC               </th>  <td>26507.104</td>\n",
       "</tr>\n",
       "<tr>\n",
       "  <th></th>                      <td> - 1730</td>     <th>                     </th>      <td> </td>    \n",
       "</tr>\n",
       "<tr>\n",
       "  <th>Covariance Type:</th>        <td>opg</td>       <th>                     </th>      <td> </td>    \n",
       "</tr>\n",
       "</table>\n",
       "<table class=\"simpletable\">\n",
       "<tr>\n",
       "     <td></td>       <th>coef</th>     <th>std err</th>      <th>z</th>      <th>P>|z|</th>  <th>[0.025</th>    <th>0.975]</th>  \n",
       "</tr>\n",
       "<tr>\n",
       "  <th>sigma2</th> <td> 2.657e+05</td> <td> 5083.653</td> <td>   52.265</td> <td> 0.000</td> <td> 2.56e+05</td> <td> 2.76e+05</td>\n",
       "</tr>\n",
       "</table>\n",
       "<table class=\"simpletable\">\n",
       "<tr>\n",
       "  <th>Ljung-Box (L1) (Q):</th>     <td>0.00</td> <th>  Jarque-Bera (JB):  </th> <td>1386.80</td>\n",
       "</tr>\n",
       "<tr>\n",
       "  <th>Prob(Q):</th>                <td>0.98</td> <th>  Prob(JB):          </th>  <td>0.00</td>  \n",
       "</tr>\n",
       "<tr>\n",
       "  <th>Heteroskedasticity (H):</th> <td>5.16</td> <th>  Skew:              </th>  <td>-0.27</td> \n",
       "</tr>\n",
       "<tr>\n",
       "  <th>Prob(H) (two-sided):</th>    <td>0.00</td> <th>  Kurtosis:          </th>  <td>7.35</td>  \n",
       "</tr>\n",
       "</table><br/><br/>Warnings:<br/>[1] Covariance matrix calculated using the outer product of gradients (complex-step)."
      ],
      "text/latex": [
       "\\begin{center}\n",
       "\\begin{tabular}{lclc}\n",
       "\\toprule\n",
       "\\textbf{Dep. Variable:}          &        y         & \\textbf{  No. Observations:  } &    1730     \\\\\n",
       "\\textbf{Model:}                  & SARIMAX(0, 1, 0) & \\textbf{  Log Likelihood     } & -13251.543  \\\\\n",
       "\\textbf{Date:}                   & Sat, 30 Dec 2023 & \\textbf{  AIC                } & 26505.086   \\\\\n",
       "\\textbf{Time:}                   &     10:56:18     & \\textbf{  BIC                } & 26510.542   \\\\\n",
       "\\textbf{Sample:}                 &        0         & \\textbf{  HQIC               } & 26507.104   \\\\\n",
       "\\textbf{}                        &      - 1730      & \\textbf{                     } &             \\\\\n",
       "\\textbf{Covariance Type:}        &       opg        & \\textbf{                     } &             \\\\\n",
       "\\bottomrule\n",
       "\\end{tabular}\n",
       "\\begin{tabular}{lcccccc}\n",
       "                & \\textbf{coef} & \\textbf{std err} & \\textbf{z} & \\textbf{P$> |$z$|$} & \\textbf{[0.025} & \\textbf{0.975]}  \\\\\n",
       "\\midrule\n",
       "\\textbf{sigma2} &    2.657e+05  &     5083.653     &    52.265  &         0.000        &     2.56e+05    &     2.76e+05     \\\\\n",
       "\\bottomrule\n",
       "\\end{tabular}\n",
       "\\begin{tabular}{lclc}\n",
       "\\textbf{Ljung-Box (L1) (Q):}     & 0.00 & \\textbf{  Jarque-Bera (JB):  } & 1386.80  \\\\\n",
       "\\textbf{Prob(Q):}                & 0.98 & \\textbf{  Prob(JB):          } &   0.00   \\\\\n",
       "\\textbf{Heteroskedasticity (H):} & 5.16 & \\textbf{  Skew:              } &  -0.27   \\\\\n",
       "\\textbf{Prob(H) (two-sided):}    & 0.00 & \\textbf{  Kurtosis:          } &   7.35   \\\\\n",
       "\\bottomrule\n",
       "\\end{tabular}\n",
       "%\\caption{SARIMAX Results}\n",
       "\\end{center}\n",
       "\n",
       "Warnings: \\newline\n",
       " [1] Covariance matrix calculated using the outer product of gradients (complex-step)."
      ],
      "text/plain": [
       "<class 'statsmodels.iolib.summary.Summary'>\n",
       "\"\"\"\n",
       "                               SARIMAX Results                                \n",
       "==============================================================================\n",
       "Dep. Variable:                      y   No. Observations:                 1730\n",
       "Model:               SARIMAX(0, 1, 0)   Log Likelihood              -13251.543\n",
       "Date:                Sat, 30 Dec 2023   AIC                          26505.086\n",
       "Time:                        10:56:18   BIC                          26510.542\n",
       "Sample:                             0   HQIC                         26507.104\n",
       "                               - 1730                                         \n",
       "Covariance Type:                  opg                                         \n",
       "==============================================================================\n",
       "                 coef    std err          z      P>|z|      [0.025      0.975]\n",
       "------------------------------------------------------------------------------\n",
       "sigma2      2.657e+05   5083.653     52.265      0.000    2.56e+05    2.76e+05\n",
       "===================================================================================\n",
       "Ljung-Box (L1) (Q):                   0.00   Jarque-Bera (JB):              1386.80\n",
       "Prob(Q):                              0.98   Prob(JB):                         0.00\n",
       "Heteroskedasticity (H):               5.16   Skew:                            -0.27\n",
       "Prob(H) (two-sided):                  0.00   Kurtosis:                         7.35\n",
       "===================================================================================\n",
       "\n",
       "Warnings:\n",
       "[1] Covariance matrix calculated using the outer product of gradients (complex-step).\n",
       "\"\"\""
      ]
     },
     "execution_count": 17,
     "metadata": {},
     "output_type": "execute_result"
    }
   ],
   "source": [
    "model_fit.summary()"
   ]
  },
  {
   "cell_type": "markdown",
   "id": "6236a8a4",
   "metadata": {},
   "source": [
    "# 8:2 Train/Test Ratio"
   ]
  },
  {
   "cell_type": "code",
   "execution_count": 30,
   "id": "26722a57",
   "metadata": {},
   "outputs": [],
   "source": [
    "#import libraries\n",
    "import numpy as np\n",
    "import pandas as pd\n",
    "import matplotlib.pyplot as plt\n",
    "from sklearn.preprocessing import MinMaxScaler\n",
    "from sklearn.linear_model import LinearRegression\n",
    "import statsmodels.api as sm"
   ]
  },
  {
   "cell_type": "code",
   "execution_count": 31,
   "id": "01b879a3",
   "metadata": {},
   "outputs": [
    {
     "data": {
      "text/html": [
       "<div>\n",
       "<style scoped>\n",
       "    .dataframe tbody tr th:only-of-type {\n",
       "        vertical-align: middle;\n",
       "    }\n",
       "\n",
       "    .dataframe tbody tr th {\n",
       "        vertical-align: top;\n",
       "    }\n",
       "\n",
       "    .dataframe thead th {\n",
       "        text-align: right;\n",
       "    }\n",
       "</style>\n",
       "<table border=\"1\" class=\"dataframe\">\n",
       "  <thead>\n",
       "    <tr style=\"text-align: right;\">\n",
       "      <th></th>\n",
       "      <th>Date</th>\n",
       "      <th>Price</th>\n",
       "      <th>Open</th>\n",
       "      <th>High</th>\n",
       "      <th>Low</th>\n",
       "      <th>Vol.</th>\n",
       "      <th>Change %</th>\n",
       "    </tr>\n",
       "  </thead>\n",
       "  <tbody>\n",
       "    <tr>\n",
       "      <th>0</th>\n",
       "      <td>27/01/2014</td>\n",
       "      <td>11054.8</td>\n",
       "      <td>11235.1</td>\n",
       "      <td>11295.2</td>\n",
       "      <td>10874.6</td>\n",
       "      <td>4.27M</td>\n",
       "      <td>-0.02</td>\n",
       "    </tr>\n",
       "    <tr>\n",
       "      <th>1</th>\n",
       "      <td>06/02/2014</td>\n",
       "      <td>10574.2</td>\n",
       "      <td>10934.7</td>\n",
       "      <td>10994.8</td>\n",
       "      <td>10574.2</td>\n",
       "      <td>1.26M</td>\n",
       "      <td>-0.04</td>\n",
       "    </tr>\n",
       "    <tr>\n",
       "      <th>2</th>\n",
       "      <td>07/02/2014</td>\n",
       "      <td>9973.4</td>\n",
       "      <td>10454.0</td>\n",
       "      <td>10514.1</td>\n",
       "      <td>9913.3</td>\n",
       "      <td>3.93M</td>\n",
       "      <td>-0.06</td>\n",
       "    </tr>\n",
       "    <tr>\n",
       "      <th>3</th>\n",
       "      <td>10/02/2014</td>\n",
       "      <td>10213.7</td>\n",
       "      <td>9913.3</td>\n",
       "      <td>10333.9</td>\n",
       "      <td>9733.1</td>\n",
       "      <td>5.33M</td>\n",
       "      <td>0.02</td>\n",
       "    </tr>\n",
       "    <tr>\n",
       "      <th>4</th>\n",
       "      <td>11/02/2014</td>\n",
       "      <td>10153.6</td>\n",
       "      <td>10333.9</td>\n",
       "      <td>10333.9</td>\n",
       "      <td>10153.6</td>\n",
       "      <td>2.55M</td>\n",
       "      <td>-0.01</td>\n",
       "    </tr>\n",
       "    <tr>\n",
       "      <th>...</th>\n",
       "      <td>...</td>\n",
       "      <td>...</td>\n",
       "      <td>...</td>\n",
       "      <td>...</td>\n",
       "      <td>...</td>\n",
       "      <td>...</td>\n",
       "      <td>...</td>\n",
       "    </tr>\n",
       "    <tr>\n",
       "      <th>2467</th>\n",
       "      <td>18/12/2023</td>\n",
       "      <td>41000.0</td>\n",
       "      <td>41050.0</td>\n",
       "      <td>41500.0</td>\n",
       "      <td>40500.0</td>\n",
       "      <td>678.40K</td>\n",
       "      <td>-0.01</td>\n",
       "    </tr>\n",
       "    <tr>\n",
       "      <th>2468</th>\n",
       "      <td>19/12/2023</td>\n",
       "      <td>41200.0</td>\n",
       "      <td>41000.0</td>\n",
       "      <td>41500.0</td>\n",
       "      <td>40550.0</td>\n",
       "      <td>823.30K</td>\n",
       "      <td>0.00</td>\n",
       "    </tr>\n",
       "    <tr>\n",
       "      <th>2469</th>\n",
       "      <td>20/12/2023</td>\n",
       "      <td>41300.0</td>\n",
       "      <td>41900.0</td>\n",
       "      <td>42000.0</td>\n",
       "      <td>40800.0</td>\n",
       "      <td>1.02M</td>\n",
       "      <td>0.00</td>\n",
       "    </tr>\n",
       "    <tr>\n",
       "      <th>2470</th>\n",
       "      <td>21/12/2023</td>\n",
       "      <td>41800.0</td>\n",
       "      <td>40900.0</td>\n",
       "      <td>41900.0</td>\n",
       "      <td>40900.0</td>\n",
       "      <td>1.14M</td>\n",
       "      <td>0.01</td>\n",
       "    </tr>\n",
       "    <tr>\n",
       "      <th>2471</th>\n",
       "      <td>22/12/2023</td>\n",
       "      <td>42050.0</td>\n",
       "      <td>41800.0</td>\n",
       "      <td>42050.0</td>\n",
       "      <td>41050.0</td>\n",
       "      <td>470.70K</td>\n",
       "      <td>0.01</td>\n",
       "    </tr>\n",
       "  </tbody>\n",
       "</table>\n",
       "<p>2472 rows × 7 columns</p>\n",
       "</div>"
      ],
      "text/plain": [
       "            Date    Price     Open     High      Low     Vol.  Change %\n",
       "0     27/01/2014  11054.8  11235.1  11295.2  10874.6    4.27M     -0.02\n",
       "1     06/02/2014  10574.2  10934.7  10994.8  10574.2    1.26M     -0.04\n",
       "2     07/02/2014   9973.4  10454.0  10514.1   9913.3    3.93M     -0.06\n",
       "3     10/02/2014  10213.7   9913.3  10333.9   9733.1    5.33M      0.02\n",
       "4     11/02/2014  10153.6  10333.9  10333.9  10153.6    2.55M     -0.01\n",
       "...          ...      ...      ...      ...      ...      ...       ...\n",
       "2467  18/12/2023  41000.0  41050.0  41500.0  40500.0  678.40K     -0.01\n",
       "2468  19/12/2023  41200.0  41000.0  41500.0  40550.0  823.30K      0.00\n",
       "2469  20/12/2023  41300.0  41900.0  42000.0  40800.0    1.02M      0.00\n",
       "2470  21/12/2023  41800.0  40900.0  41900.0  40900.0    1.14M      0.01\n",
       "2471  22/12/2023  42050.0  41800.0  42050.0  41050.0  470.70K      0.01\n",
       "\n",
       "[2472 rows x 7 columns]"
      ]
     },
     "execution_count": 31,
     "metadata": {},
     "output_type": "execute_result"
    }
   ],
   "source": [
    "#read data\n",
    "df = pd.read_csv('BIDV.csv')\n",
    "df = df.dropna() \n",
    "df = df.reset_index(drop=True) \n",
    "df"
   ]
  },
  {
   "cell_type": "code",
   "execution_count": 32,
   "id": "be93bf42",
   "metadata": {},
   "outputs": [],
   "source": [
    "#1. Split the data into training, testing, and validation sets\n",
    "train_size = int(0.8 * len(df))\n",
    "test_size = len(df) - train_size\n",
    "\n",
    "train_data = (df[:train_size])\n",
    "test_data = df[train_size:]"
   ]
  },
  {
   "cell_type": "code",
   "execution_count": 33,
   "id": "e0503105",
   "metadata": {},
   "outputs": [
    {
     "name": "stdout",
     "output_type": "stream",
     "text": [
      "Performing stepwise search to minimize aic\n",
      " ARIMA(2,1,2)(0,0,0)[0] intercept   : AIC=30481.978, Time=0.33 sec\n",
      " ARIMA(0,1,0)(0,0,0)[0] intercept   : AIC=30476.601, Time=0.03 sec\n",
      " ARIMA(1,1,0)(0,0,0)[0] intercept   : AIC=30478.387, Time=0.07 sec\n",
      " ARIMA(0,1,1)(0,0,0)[0] intercept   : AIC=30478.400, Time=0.08 sec\n",
      " ARIMA(0,1,0)(0,0,0)[0]             : AIC=30475.612, Time=0.02 sec\n",
      " ARIMA(1,1,1)(0,0,0)[0] intercept   : AIC=30480.213, Time=0.47 sec\n",
      "\n",
      "Best model:  ARIMA(0,1,0)(0,0,0)[0]          \n",
      "Total fit time: 1.010 seconds\n"
     ]
    }
   ],
   "source": [
    "# 2. Training data\n",
    "x_train = np.array(train_data.index).reshape(-1, 1)\n",
    "y_train = np.array(train_data['Price'])\n",
    "\n",
    "# Find the best ARIMA model using auto_arima\n",
    "from pmdarima.arima import auto_arima\n",
    "from statsmodels.tsa.arima.model import ARIMA\n",
    "\n",
    "model = auto_arima(y_train, trace=True, error_action='ignore', suppress_warnings=True)\n",
    "\n",
    "# Fit the model\n",
    "model_fit = model.fit(y_train)"
   ]
  },
  {
   "cell_type": "code",
   "execution_count": 38,
   "id": "730aa61d",
   "metadata": {},
   "outputs": [],
   "source": [
    "# 3. Testing process\n",
    "x_test = np.array(test_data.index).reshape(-1, 1)\n",
    "y_test = np.array(test_data['Price'])\n",
    "y_pred = model.predict(n_periods=len(y_test)+30)"
   ]
  },
  {
   "cell_type": "code",
   "execution_count": 39,
   "id": "302b31dc",
   "metadata": {},
   "outputs": [
    {
     "name": "stdout",
     "output_type": "stream",
     "text": [
      "Predicted closing prices for the next 30 days:\n",
      "[35200. 35200. 35200. 35200. 35200. 35200. 35200. 35200. 35200. 35200.\n",
      " 35200. 35200. 35200. 35200. 35200. 35200. 35200. 35200. 35200. 35200.\n",
      " 35200. 35200. 35200. 35200. 35200. 35200. 35200. 35200. 35200. 35200.]\n"
     ]
    }
   ],
   "source": [
    "# 4. Predict the next 30 days\n",
    "last_index =  df.index[-1]\n",
    "last_data = pd.RangeIndex(start=last_index, stop=last_index+30, step=1)\n",
    "\n",
    "# # Predict the closing prices for the next 30 days\n",
    "y_next_30_days = y_pred[-30:]\n",
    "y_pred = y_pred[:-30]\n",
    "\n",
    "# Print the predicted closing prices for the next 30 days\n",
    "print('Predicted closing prices for the next 30 days:')\n",
    "print(y_next_30_days)"
   ]
  },
  {
   "cell_type": "code",
   "execution_count": 40,
   "id": "71783862",
   "metadata": {},
   "outputs": [
    {
     "name": "stdout",
     "output_type": "stream",
     "text": [
      "RMSE: 7547.18992457297\n",
      "MAPE: 15.11521245335072\n",
      "MSLE: 0.03618282440018551\n"
     ]
    }
   ],
   "source": [
    "# 5. Evaluate accuracy\n",
    "#RMSE\n",
    "test_rmse = np.sqrt(np.mean((y_pred - y_test)**2))\n",
    "print('RMSE:', test_rmse)\n",
    "\n",
    "#MAPE\n",
    "test_mape = np.mean(np.abs((y_test - y_pred) / y_test)) * 100\n",
    "print('MAPE:', test_mape)\n",
    "\n",
    "#MSLE\n",
    "from sklearn.metrics import mean_squared_log_error\n",
    "msle = mean_squared_log_error(y_test, y_pred)\n",
    "print(f\"MSLE: {msle}\")"
   ]
  },
  {
   "cell_type": "code",
   "execution_count": 41,
   "id": "6df50a89",
   "metadata": {},
   "outputs": [
    {
     "data": {
      "image/png": "[encoded data removed]",
      "text/plain": [
       "<Figure size 640x480 with 1 Axes>"
      ]
     },
     "metadata": {},
     "output_type": "display_data"
    }
   ],
   "source": [
    "# 6.Show plot\n",
    "plt.plot(train_data.index, train_data['Price'])\n",
    "plt.plot(test_data.index, test_data['Price'])\n",
    "plt.plot(test_data.index, y_pred)\n",
    "plt.plot(last_data,y_next_30_days)\n",
    "plt.legend(['Train', 'Test', 'Predictions','Next30Day'])\n",
    "plt.show()"
   ]
  },
  {
   "cell_type": "markdown",
   "id": "dfae1a64",
   "metadata": {},
   "source": [
    "# 9:1 Train/Test Ratio"
   ]
  },
  {
   "cell_type": "code",
   "execution_count": 42,
   "id": "c08cfd85",
   "metadata": {},
   "outputs": [],
   "source": [
    "#import libraries\n",
    "import numpy as np\n",
    "import pandas as pd\n",
    "import matplotlib.pyplot as plt\n",
    "from sklearn.preprocessing import MinMaxScaler\n",
    "from sklearn.linear_model import LinearRegression\n",
    "import statsmodels.api as sm"
   ]
  },
  {
   "cell_type": "code",
   "execution_count": 43,
   "id": "5eb258a7",
   "metadata": {},
   "outputs": [
    {
     "data": {
      "text/html": [
       "<div>\n",
       "<style scoped>\n",
       "    .dataframe tbody tr th:only-of-type {\n",
       "        vertical-align: middle;\n",
       "    }\n",
       "\n",
       "    .dataframe tbody tr th {\n",
       "        vertical-align: top;\n",
       "    }\n",
       "\n",
       "    .dataframe thead th {\n",
       "        text-align: right;\n",
       "    }\n",
       "</style>\n",
       "<table border=\"1\" class=\"dataframe\">\n",
       "  <thead>\n",
       "    <tr style=\"text-align: right;\">\n",
       "      <th></th>\n",
       "      <th>Date</th>\n",
       "      <th>Price</th>\n",
       "      <th>Open</th>\n",
       "      <th>High</th>\n",
       "      <th>Low</th>\n",
       "      <th>Vol.</th>\n",
       "      <th>Change %</th>\n",
       "    </tr>\n",
       "  </thead>\n",
       "  <tbody>\n",
       "    <tr>\n",
       "      <th>0</th>\n",
       "      <td>27/01/2014</td>\n",
       "      <td>11054.8</td>\n",
       "      <td>11235.1</td>\n",
       "      <td>11295.2</td>\n",
       "      <td>10874.6</td>\n",
       "      <td>4.27M</td>\n",
       "      <td>-0.02</td>\n",
       "    </tr>\n",
       "    <tr>\n",
       "      <th>1</th>\n",
       "      <td>06/02/2014</td>\n",
       "      <td>10574.2</td>\n",
       "      <td>10934.7</td>\n",
       "      <td>10994.8</td>\n",
       "      <td>10574.2</td>\n",
       "      <td>1.26M</td>\n",
       "      <td>-0.04</td>\n",
       "    </tr>\n",
       "    <tr>\n",
       "      <th>2</th>\n",
       "      <td>07/02/2014</td>\n",
       "      <td>9973.4</td>\n",
       "      <td>10454.0</td>\n",
       "      <td>10514.1</td>\n",
       "      <td>9913.3</td>\n",
       "      <td>3.93M</td>\n",
       "      <td>-0.06</td>\n",
       "    </tr>\n",
       "    <tr>\n",
       "      <th>3</th>\n",
       "      <td>10/02/2014</td>\n",
       "      <td>10213.7</td>\n",
       "      <td>9913.3</td>\n",
       "      <td>10333.9</td>\n",
       "      <td>9733.1</td>\n",
       "      <td>5.33M</td>\n",
       "      <td>0.02</td>\n",
       "    </tr>\n",
       "    <tr>\n",
       "      <th>4</th>\n",
       "      <td>11/02/2014</td>\n",
       "      <td>10153.6</td>\n",
       "      <td>10333.9</td>\n",
       "      <td>10333.9</td>\n",
       "      <td>10153.6</td>\n",
       "      <td>2.55M</td>\n",
       "      <td>-0.01</td>\n",
       "    </tr>\n",
       "    <tr>\n",
       "      <th>...</th>\n",
       "      <td>...</td>\n",
       "      <td>...</td>\n",
       "      <td>...</td>\n",
       "      <td>...</td>\n",
       "      <td>...</td>\n",
       "      <td>...</td>\n",
       "      <td>...</td>\n",
       "    </tr>\n",
       "    <tr>\n",
       "      <th>2467</th>\n",
       "      <td>18/12/2023</td>\n",
       "      <td>41000.0</td>\n",
       "      <td>41050.0</td>\n",
       "      <td>41500.0</td>\n",
       "      <td>40500.0</td>\n",
       "      <td>678.40K</td>\n",
       "      <td>-0.01</td>\n",
       "    </tr>\n",
       "    <tr>\n",
       "      <th>2468</th>\n",
       "      <td>19/12/2023</td>\n",
       "      <td>41200.0</td>\n",
       "      <td>41000.0</td>\n",
       "      <td>41500.0</td>\n",
       "      <td>40550.0</td>\n",
       "      <td>823.30K</td>\n",
       "      <td>0.00</td>\n",
       "    </tr>\n",
       "    <tr>\n",
       "      <th>2469</th>\n",
       "      <td>20/12/2023</td>\n",
       "      <td>41300.0</td>\n",
       "      <td>41900.0</td>\n",
       "      <td>42000.0</td>\n",
       "      <td>40800.0</td>\n",
       "      <td>1.02M</td>\n",
       "      <td>0.00</td>\n",
       "    </tr>\n",
       "    <tr>\n",
       "      <th>2470</th>\n",
       "      <td>21/12/2023</td>\n",
       "      <td>41800.0</td>\n",
       "      <td>40900.0</td>\n",
       "      <td>41900.0</td>\n",
       "      <td>40900.0</td>\n",
       "      <td>1.14M</td>\n",
       "      <td>0.01</td>\n",
       "    </tr>\n",
       "    <tr>\n",
       "      <th>2471</th>\n",
       "      <td>22/12/2023</td>\n",
       "      <td>42050.0</td>\n",
       "      <td>41800.0</td>\n",
       "      <td>42050.0</td>\n",
       "      <td>41050.0</td>\n",
       "      <td>470.70K</td>\n",
       "      <td>0.01</td>\n",
       "    </tr>\n",
       "  </tbody>\n",
       "</table>\n",
       "<p>2472 rows × 7 columns</p>\n",
       "</div>"
      ],
      "text/plain": [
       "            Date    Price     Open     High      Low     Vol.  Change %\n",
       "0     27/01/2014  11054.8  11235.1  11295.2  10874.6    4.27M     -0.02\n",
       "1     06/02/2014  10574.2  10934.7  10994.8  10574.2    1.26M     -0.04\n",
       "2     07/02/2014   9973.4  10454.0  10514.1   9913.3    3.93M     -0.06\n",
       "3     10/02/2014  10213.7   9913.3  10333.9   9733.1    5.33M      0.02\n",
       "4     11/02/2014  10153.6  10333.9  10333.9  10153.6    2.55M     -0.01\n",
       "...          ...      ...      ...      ...      ...      ...       ...\n",
       "2467  18/12/2023  41000.0  41050.0  41500.0  40500.0  678.40K     -0.01\n",
       "2468  19/12/2023  41200.0  41000.0  41500.0  40550.0  823.30K      0.00\n",
       "2469  20/12/2023  41300.0  41900.0  42000.0  40800.0    1.02M      0.00\n",
       "2470  21/12/2023  41800.0  40900.0  41900.0  40900.0    1.14M      0.01\n",
       "2471  22/12/2023  42050.0  41800.0  42050.0  41050.0  470.70K      0.01\n",
       "\n",
       "[2472 rows x 7 columns]"
      ]
     },
     "execution_count": 43,
     "metadata": {},
     "output_type": "execute_result"
    }
   ],
   "source": [
    "#read data\n",
    "df = pd.read_csv('BIDV.csv')\n",
    "df = df.dropna() \n",
    "df = df.reset_index(drop=True) \n",
    "df"
   ]
  },
  {
   "cell_type": "code",
   "execution_count": 44,
   "id": "6b02a065",
   "metadata": {},
   "outputs": [],
   "source": [
    "#1. Split the data into training, testing, and validation sets\n",
    "train_size = int(0.9 * len(df))\n",
    "test_size = len(df) - train_size\n",
    "\n",
    "train_data = (df[:train_size])\n",
    "test_data = df[train_size:]"
   ]
  },
  {
   "cell_type": "code",
   "execution_count": 45,
   "id": "17b98cb1",
   "metadata": {},
   "outputs": [
    {
     "name": "stdout",
     "output_type": "stream",
     "text": [
      "Performing stepwise search to minimize aic\n",
      " ARIMA(2,1,2)(0,0,0)[0] intercept   : AIC=34849.146, Time=0.25 sec\n",
      " ARIMA(0,1,0)(0,0,0)[0] intercept   : AIC=34841.835, Time=0.04 sec\n",
      " ARIMA(1,1,0)(0,0,0)[0] intercept   : AIC=34843.170, Time=0.11 sec\n",
      " ARIMA(0,1,1)(0,0,0)[0] intercept   : AIC=34843.178, Time=0.09 sec\n",
      " ARIMA(0,1,0)(0,0,0)[0]             : AIC=34840.759, Time=0.02 sec\n",
      " ARIMA(1,1,1)(0,0,0)[0] intercept   : AIC=34845.163, Time=0.12 sec\n",
      "\n",
      "Best model:  ARIMA(0,1,0)(0,0,0)[0]          \n",
      "Total fit time: 0.634 seconds\n"
     ]
    }
   ],
   "source": [
    "# 2. Training data\n",
    "x_train = np.array(train_data.index).reshape(-1, 1)\n",
    "y_train = np.array(train_data['Price'])\n",
    "\n",
    "# Find the best ARIMA model using auto_arima\n",
    "from pmdarima.arima import auto_arima\n",
    "from statsmodels.tsa.arima.model import ARIMA\n",
    "\n",
    "model = auto_arima(y_train, trace=True, error_action='ignore', suppress_warnings=True)\n",
    "\n",
    "# Fit the model\n",
    "model_fit = model.fit(y_train)"
   ]
  },
  {
   "cell_type": "code",
   "execution_count": 46,
   "id": "131b875b",
   "metadata": {},
   "outputs": [],
   "source": [
    "# 3. Testing process\n",
    "x_test = np.array(test_data.index).reshape(-1, 1)\n",
    "y_test = np.array(test_data['Price'])\n",
    "y_pred = model.predict(n_periods=len(y_test)+30)"
   ]
  },
  {
   "cell_type": "code",
   "execution_count": 47,
   "id": "a3cfc3f4",
   "metadata": {},
   "outputs": [
    {
     "name": "stdout",
     "output_type": "stream",
     "text": [
      "Predicted closing prices for the next 30 days:\n",
      "[38800. 38800. 38800. 38800. 38800. 38800. 38800. 38800. 38800. 38800.\n",
      " 38800. 38800. 38800. 38800. 38800. 38800. 38800. 38800. 38800. 38800.\n",
      " 38800. 38800. 38800. 38800. 38800. 38800. 38800. 38800. 38800. 38800.]\n"
     ]
    }
   ],
   "source": [
    "# 4. Predict the next 30 days\n",
    "last_index =  df.index[-1]\n",
    "last_data = pd.RangeIndex(start=last_index, stop=last_index+30, step=1)\n",
    "\n",
    "# # Predict the closing prices for the next 30 days\n",
    "y_next_30_days = y_pred[-30:]\n",
    "y_pred = y_pred[:-30]\n",
    "\n",
    "# Print the predicted closing prices for the next 30 days\n",
    "print('Predicted closing prices for the next 30 days:')\n",
    "print(y_next_30_days)"
   ]
  },
  {
   "cell_type": "code",
   "execution_count": 48,
   "id": "4208b3b6",
   "metadata": {},
   "outputs": [
    {
     "name": "stdout",
     "output_type": "stream",
     "text": [
      "RMSE: 5854.336516496733\n",
      "MAPE: 12.034324642123648\n",
      "MSLE: 0.01932251940232176\n"
     ]
    }
   ],
   "source": [
    "# 5. Evaluate accuracy\n",
    "#RMSE\n",
    "test_rmse = np.sqrt(np.mean((y_pred - y_test)**2))\n",
    "print('RMSE:', test_rmse)\n",
    "\n",
    "#MAPE\n",
    "test_mape = np.mean(np.abs((y_test - y_pred) / y_test)) * 100\n",
    "print('MAPE:', test_mape)\n",
    "\n",
    "#MSLE\n",
    "from sklearn.metrics import mean_squared_log_error\n",
    "msle = mean_squared_log_error(y_test, y_pred)\n",
    "print(f\"MSLE: {msle}\")"
   ]
  },
  {
   "cell_type": "code",
   "execution_count": 49,
   "id": "f2e5d77c",
   "metadata": {},
   "outputs": [
    {
     "data": {
      "image/png": "[encoded data removed]",
      "text/plain": [
       "<Figure size 640x480 with 1 Axes>"
      ]
     },
     "metadata": {},
     "output_type": "display_data"
    }
   ],
   "source": [
    "# 6.Show plot\n",
    "plt.plot(train_data.index, train_data['Price'])\n",
    "plt.plot(test_data.index, test_data['Price'])\n",
    "plt.plot(test_data.index, y_pred)\n",
    "plt.plot(last_data,y_next_30_days)\n",
    "plt.legend(['Train', 'Test', 'Predictions','Next30Day'])\n",
    "plt.show()"
   ]
  }
 ],
 "metadata": {
  "kernelspec": {
   "display_name": "Python 3 (ipykernel)",
   "language": "python",
   "name": "python3"
  },
  "language_info": {
   "codemirror_mode": {
    "name": "ipython",
    "version": 3
   },
   "file_extension": ".py",
   "mimetype": "text/x-python",
   "name": "python",
   "nbconvert_exporter": "python",
   "pygments_lexer": "ipython3",
   "version": "3.11.4"
  }
 },
 "nbformat": 4,
 "nbformat_minor": 5
}
