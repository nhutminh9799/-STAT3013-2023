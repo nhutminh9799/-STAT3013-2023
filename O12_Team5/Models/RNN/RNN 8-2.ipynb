{
 "cells": [
  {
   "cell_type": "code",
   "execution_count": 1,
   "id": "e85ae103",
   "metadata": {},
   "outputs": [],
   "source": [
    "import numpy as np\n",
    "import pandas as pd"
   ]
  },
  {
   "cell_type": "code",
   "execution_count": 2,
   "id": "227a1575",
   "metadata": {},
   "outputs": [],
   "source": [
    "df = pd.read_csv('MBB Historical Data.csv')\n",
    "df1=df.reset_index()['Price']"
   ]
  },
  {
   "cell_type": "code",
   "execution_count": 3,
   "id": "f7693456",
   "metadata": {},
   "outputs": [
    {
     "name": "stdout",
     "output_type": "stream",
     "text": [
      "WARNING:tensorflow:From C:\\Users\\Dell\\anaconda3\\Lib\\site-packages\\keras\\src\\losses.py:2976: The name tf.losses.sparse_softmax_cross_entropy is deprecated. Please use tf.compat.v1.losses.sparse_softmax_cross_entropy instead.\n",
      "\n"
     ]
    }
   ],
   "source": [
    "import matplotlib.pyplot as plt\n",
    "from sklearn.preprocessing import MinMaxScaler\n",
    "from keras.models import Sequential\n",
    "from keras.layers import Dense, SimpleRNN"
   ]
  },
  {
   "cell_type": "code",
   "execution_count": 4,
   "id": "fdf6e5f8",
   "metadata": {},
   "outputs": [],
   "source": [
    "# 3. Scaler data\n",
    "scaler=MinMaxScaler(feature_range=(0,1))\n",
    "df1=scaler.fit_transform(np.array(df1).reshape(-1,1))"
   ]
  },
  {
   "cell_type": "code",
   "execution_count": 5,
   "id": "f79e62f4",
   "metadata": {},
   "outputs": [],
   "source": [
    "# 4. Chia train test\n",
    "train_size = int(0.8 * len(df1))\n",
    "test_size = len(df1)-train_size\n",
    "\n",
    "train_data = df1[:train_size]\n",
    "test_data = df1[train_size:]"
   ]
  },
  {
   "cell_type": "code",
   "execution_count": 6,
   "id": "7bf6b85c",
   "metadata": {},
   "outputs": [],
   "source": [
    "# 5. Create Dataset\n",
    "def create_dataset(dataset, time_step=1):\n",
    "    dataX, dataY = [], []\n",
    "    for i in range(len(dataset) - time_step - 1):\n",
    "        a = dataset[i:(i + time_step), 0]\n",
    "        dataX.append(a)\n",
    "        dataY.append(dataset[i + time_step, 0])\n",
    "    return np.array(dataX), np.array(dataY)\n",
    "\n",
    "time_step = 100\n",
    "X_train, y_train = create_dataset(train_data, time_step)\n",
    "X_test, y_test = create_dataset(test_data, time_step)\n"
   ]
  },
  {
   "cell_type": "code",
   "execution_count": 7,
   "id": "9541b32e",
   "metadata": {},
   "outputs": [],
   "source": [
    "# 6. Reshape Input to Fit RNN\n",
    "X_train = X_train.reshape(X_train.shape[0], X_train.shape[1], 1)\n",
    "X_test = X_test.reshape(X_test.shape[0], X_test.shape[1], 1)"
   ]
  },
  {
   "cell_type": "code",
   "execution_count": 8,
   "id": "96d146de",
   "metadata": {},
   "outputs": [
    {
     "name": "stdout",
     "output_type": "stream",
     "text": [
      "WARNING:tensorflow:From C:\\Users\\Dell\\anaconda3\\Lib\\site-packages\\keras\\src\\backend.py:873: The name tf.get_default_graph is deprecated. Please use tf.compat.v1.get_default_graph instead.\n",
      "\n",
      "WARNING:tensorflow:From C:\\Users\\Dell\\anaconda3\\Lib\\site-packages\\keras\\src\\optimizers\\__init__.py:309: The name tf.train.Optimizer is deprecated. Please use tf.compat.v1.train.Optimizer instead.\n",
      "\n"
     ]
    }
   ],
   "source": [
    "# 7. Define RNN Model\n",
    "model = Sequential()\n",
    "model.add(SimpleRNN(50, input_shape=(time_step, 1)))\n",
    "model.add(Dense(1))\n",
    "model.compile(loss='mean_squared_error', optimizer='adam')"
   ]
  },
  {
   "cell_type": "code",
   "execution_count": 9,
   "id": "3b05818a",
   "metadata": {},
   "outputs": [
    {
     "name": "stdout",
     "output_type": "stream",
     "text": [
      "Epoch 1/100\n",
      "WARNING:tensorflow:From C:\\Users\\Dell\\anaconda3\\Lib\\site-packages\\keras\\src\\utils\\tf_utils.py:492: The name tf.ragged.RaggedTensorValue is deprecated. Please use tf.compat.v1.ragged.RaggedTensorValue instead.\n",
      "\n",
      "15/15 [==============================] - 1s 9ms/step - loss: 0.1254\n",
      "Epoch 2/100\n",
      "15/15 [==============================] - 0s 9ms/step - loss: 0.0116\n",
      "Epoch 3/100\n",
      "15/15 [==============================] - 0s 9ms/step - loss: 0.0032\n",
      "Epoch 4/100\n",
      "15/15 [==============================] - 0s 10ms/step - loss: 0.0023\n",
      "Epoch 5/100\n",
      "15/15 [==============================] - 0s 10ms/step - loss: 0.0019\n",
      "Epoch 6/100\n",
      "15/15 [==============================] - 0s 10ms/step - loss: 0.0018\n",
      "Epoch 7/100\n",
      "15/15 [==============================] - 0s 10ms/step - loss: 0.0017\n",
      "Epoch 8/100\n",
      "15/15 [==============================] - 0s 9ms/step - loss: 0.0016\n",
      "Epoch 9/100\n",
      "15/15 [==============================] - 0s 9ms/step - loss: 0.0016\n",
      "Epoch 10/100\n",
      "15/15 [==============================] - 0s 9ms/step - loss: 0.0015\n",
      "Epoch 11/100\n",
      "15/15 [==============================] - 0s 9ms/step - loss: 0.0016\n",
      "Epoch 12/100\n",
      "15/15 [==============================] - 0s 9ms/step - loss: 0.0013\n",
      "Epoch 13/100\n",
      "15/15 [==============================] - 0s 12ms/step - loss: 0.0013\n",
      "Epoch 14/100\n",
      "15/15 [==============================] - 0s 9ms/step - loss: 0.0013\n",
      "Epoch 15/100\n",
      "15/15 [==============================] - 0s 9ms/step - loss: 0.0012\n",
      "Epoch 16/100\n",
      "15/15 [==============================] - 0s 10ms/step - loss: 0.0011\n",
      "Epoch 17/100\n",
      "15/15 [==============================] - 0s 9ms/step - loss: 0.0011\n",
      "Epoch 18/100\n",
      "15/15 [==============================] - 0s 9ms/step - loss: 0.0011\n",
      "Epoch 19/100\n",
      "15/15 [==============================] - 0s 9ms/step - loss: 0.0011\n",
      "Epoch 20/100\n",
      "15/15 [==============================] - 0s 9ms/step - loss: 0.0011\n",
      "Epoch 21/100\n",
      "15/15 [==============================] - 0s 9ms/step - loss: 0.0011\n",
      "Epoch 22/100\n",
      "15/15 [==============================] - 0s 9ms/step - loss: 9.7610e-04\n",
      "Epoch 23/100\n",
      "15/15 [==============================] - 0s 10ms/step - loss: 0.0011\n",
      "Epoch 24/100\n",
      "15/15 [==============================] - 0s 9ms/step - loss: 0.0011\n",
      "Epoch 25/100\n",
      "15/15 [==============================] - 0s 9ms/step - loss: 9.0956e-04\n",
      "Epoch 26/100\n",
      "15/15 [==============================] - 0s 9ms/step - loss: 9.5764e-04\n",
      "Epoch 27/100\n",
      "15/15 [==============================] - 0s 10ms/step - loss: 9.2015e-04\n",
      "Epoch 28/100\n",
      "15/15 [==============================] - 0s 9ms/step - loss: 8.7191e-04\n",
      "Epoch 29/100\n",
      "15/15 [==============================] - 0s 9ms/step - loss: 8.4330e-04\n",
      "Epoch 30/100\n",
      "15/15 [==============================] - 0s 9ms/step - loss: 8.8004e-04\n",
      "Epoch 31/100\n",
      "15/15 [==============================] - 0s 9ms/step - loss: 8.1835e-04\n",
      "Epoch 32/100\n",
      "15/15 [==============================] - 0s 9ms/step - loss: 8.2474e-04\n",
      "Epoch 33/100\n",
      "15/15 [==============================] - 0s 9ms/step - loss: 7.9618e-04\n",
      "Epoch 34/100\n",
      "15/15 [==============================] - 0s 9ms/step - loss: 7.9153e-04\n",
      "Epoch 35/100\n",
      "15/15 [==============================] - 0s 10ms/step - loss: 7.5935e-04\n",
      "Epoch 36/100\n",
      "15/15 [==============================] - 0s 9ms/step - loss: 7.8840e-04\n",
      "Epoch 37/100\n",
      "15/15 [==============================] - 0s 11ms/step - loss: 7.3712e-04\n",
      "Epoch 38/100\n",
      "15/15 [==============================] - 0s 9ms/step - loss: 8.0007e-04\n",
      "Epoch 39/100\n",
      "15/15 [==============================] - 0s 9ms/step - loss: 8.7638e-04\n",
      "Epoch 40/100\n",
      "15/15 [==============================] - 0s 9ms/step - loss: 8.2809e-04\n",
      "Epoch 41/100\n",
      "15/15 [==============================] - 0s 9ms/step - loss: 7.3698e-04\n",
      "Epoch 42/100\n",
      "15/15 [==============================] - 0s 9ms/step - loss: 6.9021e-04\n",
      "Epoch 43/100\n",
      "15/15 [==============================] - 0s 9ms/step - loss: 6.8630e-04\n",
      "Epoch 44/100\n",
      "15/15 [==============================] - 0s 9ms/step - loss: 6.7586e-04\n",
      "Epoch 45/100\n",
      "15/15 [==============================] - 0s 9ms/step - loss: 6.6848e-04\n",
      "Epoch 46/100\n",
      "15/15 [==============================] - 0s 9ms/step - loss: 7.3309e-04\n",
      "Epoch 47/100\n",
      "15/15 [==============================] - 0s 9ms/step - loss: 6.6030e-04\n",
      "Epoch 48/100\n",
      "15/15 [==============================] - 0s 9ms/step - loss: 8.6143e-04\n",
      "Epoch 49/100\n",
      "15/15 [==============================] - 0s 9ms/step - loss: 6.9086e-04\n",
      "Epoch 50/100\n",
      "15/15 [==============================] - 0s 9ms/step - loss: 7.5947e-04\n",
      "Epoch 51/100\n",
      "15/15 [==============================] - 0s 9ms/step - loss: 7.0692e-04\n",
      "Epoch 52/100\n",
      "15/15 [==============================] - 0s 9ms/step - loss: 6.3438e-04\n",
      "Epoch 53/100\n",
      "15/15 [==============================] - 0s 9ms/step - loss: 6.5908e-04\n",
      "Epoch 54/100\n",
      "15/15 [==============================] - 0s 9ms/step - loss: 6.1869e-04\n",
      "Epoch 55/100\n",
      "15/15 [==============================] - 0s 9ms/step - loss: 6.1718e-04\n",
      "Epoch 56/100\n",
      "15/15 [==============================] - 0s 9ms/step - loss: 6.1937e-04\n",
      "Epoch 57/100\n",
      "15/15 [==============================] - 0s 9ms/step - loss: 6.9055e-04\n",
      "Epoch 58/100\n",
      "15/15 [==============================] - 0s 10ms/step - loss: 7.2960e-04\n",
      "Epoch 59/100\n",
      "15/15 [==============================] - 0s 11ms/step - loss: 6.0623e-04\n",
      "Epoch 60/100\n",
      "15/15 [==============================] - 0s 11ms/step - loss: 5.9718e-04\n",
      "Epoch 61/100\n",
      "15/15 [==============================] - 0s 11ms/step - loss: 6.5252e-04\n",
      "Epoch 62/100\n",
      "15/15 [==============================] - 0s 9ms/step - loss: 6.0384e-04\n",
      "Epoch 63/100\n",
      "15/15 [==============================] - 0s 9ms/step - loss: 5.9363e-04\n",
      "Epoch 64/100\n",
      "15/15 [==============================] - 0s 9ms/step - loss: 6.1332e-04\n",
      "Epoch 65/100\n",
      "15/15 [==============================] - 0s 10ms/step - loss: 6.1170e-04\n",
      "Epoch 66/100\n",
      "15/15 [==============================] - 0s 10ms/step - loss: 6.4342e-04\n",
      "Epoch 67/100\n",
      "15/15 [==============================] - 0s 9ms/step - loss: 7.3611e-04\n",
      "Epoch 68/100\n",
      "15/15 [==============================] - 0s 9ms/step - loss: 6.0953e-04\n",
      "Epoch 69/100\n",
      "15/15 [==============================] - 0s 15ms/step - loss: 6.3801e-04\n",
      "Epoch 70/100\n",
      "15/15 [==============================] - 0s 12ms/step - loss: 5.9549e-04\n",
      "Epoch 71/100\n",
      "15/15 [==============================] - 0s 12ms/step - loss: 6.1841e-04\n",
      "Epoch 72/100\n",
      "15/15 [==============================] - 0s 12ms/step - loss: 8.7143e-04\n",
      "Epoch 73/100\n",
      "15/15 [==============================] - 0s 12ms/step - loss: 6.6383e-04\n",
      "Epoch 74/100\n",
      "15/15 [==============================] - 0s 11ms/step - loss: 5.6268e-04\n",
      "Epoch 75/100\n",
      "15/15 [==============================] - 0s 11ms/step - loss: 5.8472e-04\n",
      "Epoch 76/100\n",
      "15/15 [==============================] - 0s 15ms/step - loss: 5.3464e-04\n",
      "Epoch 77/100\n",
      "15/15 [==============================] - 0s 11ms/step - loss: 6.1472e-04\n",
      "Epoch 78/100\n",
      "15/15 [==============================] - 0s 11ms/step - loss: 5.4551e-04\n",
      "Epoch 79/100\n",
      "15/15 [==============================] - 0s 11ms/step - loss: 6.6884e-04\n",
      "Epoch 80/100\n",
      "15/15 [==============================] - 0s 13ms/step - loss: 5.4036e-04\n",
      "Epoch 81/100\n",
      "15/15 [==============================] - 0s 12ms/step - loss: 5.4517e-04\n",
      "Epoch 82/100\n",
      "15/15 [==============================] - 0s 10ms/step - loss: 5.3563e-04\n",
      "Epoch 83/100\n",
      "15/15 [==============================] - 0s 11ms/step - loss: 5.4351e-04\n",
      "Epoch 84/100\n",
      "15/15 [==============================] - 0s 12ms/step - loss: 5.6399e-04\n",
      "Epoch 85/100\n",
      "15/15 [==============================] - 0s 12ms/step - loss: 6.2016e-04\n",
      "Epoch 86/100\n",
      "15/15 [==============================] - 0s 12ms/step - loss: 5.4138e-04\n",
      "Epoch 87/100\n",
      "15/15 [==============================] - 0s 11ms/step - loss: 5.1758e-04\n",
      "Epoch 88/100\n",
      "15/15 [==============================] - 0s 11ms/step - loss: 5.2754e-04\n",
      "Epoch 89/100\n",
      "15/15 [==============================] - 0s 12ms/step - loss: 5.1415e-04\n",
      "Epoch 90/100\n",
      "15/15 [==============================] - 0s 13ms/step - loss: 5.1230e-04\n",
      "Epoch 91/100\n",
      "15/15 [==============================] - 0s 12ms/step - loss: 5.1373e-04\n",
      "Epoch 92/100\n",
      "15/15 [==============================] - 0s 21ms/step - loss: 5.0290e-04\n",
      "Epoch 93/100\n",
      "15/15 [==============================] - 0s 13ms/step - loss: 5.4252e-04\n",
      "Epoch 94/100\n",
      "15/15 [==============================] - 0s 11ms/step - loss: 5.0524e-04\n",
      "Epoch 95/100\n"
     ]
    },
    {
     "name": "stdout",
     "output_type": "stream",
     "text": [
      "15/15 [==============================] - 0s 13ms/step - loss: 5.1810e-04\n",
      "Epoch 96/100\n",
      "15/15 [==============================] - 0s 12ms/step - loss: 5.1008e-04\n",
      "Epoch 97/100\n",
      "15/15 [==============================] - 0s 12ms/step - loss: 5.1823e-04\n",
      "Epoch 98/100\n",
      "15/15 [==============================] - 0s 15ms/step - loss: 4.9956e-04\n",
      "Epoch 99/100\n",
      "15/15 [==============================] - 0s 13ms/step - loss: 4.9579e-04\n",
      "Epoch 100/100\n",
      "15/15 [==============================] - 0s 13ms/step - loss: 5.3758e-04\n"
     ]
    },
    {
     "data": {
      "text/plain": [
       "<keras.src.callbacks.History at 0x15e66d4d350>"
      ]
     },
     "execution_count": 9,
     "metadata": {},
     "output_type": "execute_result"
    }
   ],
   "source": [
    "# 8. Fit Model with Training Data\n",
    "model.fit(X_train, y_train, epochs=100, batch_size=64, verbose=1)"
   ]
  },
  {
   "cell_type": "code",
   "execution_count": 10,
   "id": "f0bf54ee",
   "metadata": {},
   "outputs": [
    {
     "name": "stdout",
     "output_type": "stream",
     "text": [
      "29/29 [==============================] - 0s 5ms/step\n",
      "5/5 [==============================] - 0s 5ms/step\n"
     ]
    }
   ],
   "source": [
    "# 9. Make Predictions\n",
    "train_predict = model.predict(X_train)\n",
    "test_predict = model.predict(X_test)"
   ]
  },
  {
   "cell_type": "code",
   "execution_count": 11,
   "id": "58f28084",
   "metadata": {},
   "outputs": [],
   "source": [
    "# 10. Inverse Transform Predictions\n",
    "train_predict = scaler.inverse_transform(train_predict)\n",
    "test_predict = scaler.inverse_transform(test_predict)"
   ]
  },
  {
   "cell_type": "code",
   "execution_count": 12,
   "id": "7b0f6ebe",
   "metadata": {},
   "outputs": [
    {
     "name": "stdout",
     "output_type": "stream",
     "text": [
      "Testing RMSE: 530.8548124641939\n"
     ]
    }
   ],
   "source": [
    "# 11. Evaluate Model with RMSE\n",
    "test_rmse = np.sqrt(np.mean((test_predict - scaler.inverse_transform(y_test.reshape(-1, 1))) ** 2))\n",
    "print('Testing RMSE:', test_rmse)"
   ]
  },
  {
   "cell_type": "code",
   "execution_count": 13,
   "id": "0296e50d",
   "metadata": {},
   "outputs": [],
   "source": [
    "# 12. Forecast Next 30 Days\n",
    "last_input = test_data[-time_step:].reshape(1, -1)\n",
    "temp_input = list(last_input)\n",
    "temp_input = temp_input[0].tolist()\n",
    "\n",
    "lst_output = []\n",
    "i = 0\n",
    "while i < 30:\n",
    "    if len(temp_input) > time_step:\n",
    "        x_input = np.array(temp_input[1:])\n",
    "        x_input = x_input.reshape(1, -1)\n",
    "        x_input = x_input.reshape((1,100, 1))\n",
    "        yhat = model.predict(x_input, verbose=0)\n",
    "        temp_input.extend(yhat[0].tolist())\n",
    "        temp_input = temp_input[1:]\n",
    "        lst_output.extend(yhat.tolist())\n",
    "        i += 1\n",
    "    else:\n",
    "        x_input = last_input.reshape((1, time_step, 1))\n",
    "        yhat = model.predict(x_input, verbose=0)\n",
    "        temp_input.extend(yhat[0].tolist())\n",
    "        lst_output.extend(yhat.tolist())\n",
    "        i += 1"
   ]
  },
  {
   "cell_type": "code",
   "execution_count": 14,
   "id": "e56af10e",
   "metadata": {},
   "outputs": [
    {
     "name": "stdout",
     "output_type": "stream",
     "text": [
      "Testing RMSE: 530.8548124641939\n",
      "Testing MAE: 390.60460885067204\n",
      "Testing MAPE: 2.09960852677472\n"
     ]
    }
   ],
   "source": [
    "from sklearn.metrics import mean_squared_error, mean_absolute_error\n",
    "\n",
    "# Function to calculate MAPE\n",
    "def mean_absolute_percentage_error(y_true, y_pred):\n",
    "    y_true, y_pred = np.array(y_true), np.array(y_pred)\n",
    "    return np.mean(np.abs((y_true - y_pred) / y_true)) * 100\n",
    "\n",
    "# Inverse transform the actual test labels\n",
    "y_test_actual = scaler.inverse_transform(y_test.reshape(-1, 1))\n",
    "\n",
    "# Compute RMSE\n",
    "test_rmse = np.sqrt(mean_squared_error(y_test_actual, test_predict))\n",
    "print('Testing RMSE:', test_rmse)\n",
    "\n",
    "# Compute MAE\n",
    "test_mae = mean_absolute_error(y_test_actual, test_predict)\n",
    "print('Testing MAE:', test_mae)\n",
    "\n",
    "# Compute MAPE\n",
    "test_mape = mean_absolute_percentage_error(y_test_actual, test_predict)\n",
    "print('Testing MAPE:', test_mape)"
   ]
  },
  {
   "cell_type": "code",
   "execution_count": 16,
   "id": "f6320df8",
   "metadata": {},
   "outputs": [
    {
     "data": {
      "image/png": "[encoded data removed]",
      "text/plain": [
       "<Figure size 640x480 with 1 Axes>"
      ]
     },
     "metadata": {},
     "output_type": "display_data"
    }
   ],
   "source": [
    "# Step 12: Plot Results with Train and Test Predictions\n",
    "\n",
    "train_data_index = pd.RangeIndex(start=0, stop=train_size, step=1)\n",
    "plt.plot(scaler.inverse_transform(train_data))\n",
    "test_data_index = pd.RangeIndex(start=train_size, stop=train_size+test_size, step=1)\n",
    "plt.plot(test_data_index,scaler.inverse_transform(test_data))\n",
    "test_data_index = pd.RangeIndex(start=train_size+101, stop=train_size+test_size, step=1)\n",
    "plt.plot(test_data_index,(test_predict))\n",
    "prediect_data_index = pd.RangeIndex(start=len(df1)-1, stop=len(df1)+29, step=1)\n",
    "plt.plot(prediect_data_index,scaler.inverse_transform(lst_output))\n",
    "plt.title('Stock Price on MBB')\n",
    "plt.legend(['Train','Test','Predict','Predict30days'])\n",
    "plt.show()"
   ]
  },
  {
   "cell_type": "code",
   "execution_count": null,
   "id": "e100bc4e",
   "metadata": {},
   "outputs": [],
   "source": []
  }
 ],
 "metadata": {
  "kernelspec": {
   "display_name": "Python 3 (ipykernel)",
   "language": "python",
   "name": "python3"
  },
  "language_info": {
   "codemirror_mode": {
    "name": "ipython",
    "version": 3
   },
   "file_extension": ".py",
   "mimetype": "text/x-python",
   "name": "python",
   "nbconvert_exporter": "python",
   "pygments_lexer": "ipython3",
   "version": "3.11.5"
  }
 },
 "nbformat": 4,
 "nbformat_minor": 5
}
