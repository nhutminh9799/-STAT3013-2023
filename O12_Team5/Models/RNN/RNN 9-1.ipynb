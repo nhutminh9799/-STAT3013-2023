{
 "cells": [
  {
   "cell_type": "code",
   "execution_count": 1,
   "id": "77cda125",
   "metadata": {},
   "outputs": [],
   "source": [
    "import numpy as np\n",
    "import pandas as pd"
   ]
  },
  {
   "cell_type": "code",
   "execution_count": 2,
   "id": "367cadcc",
   "metadata": {},
   "outputs": [],
   "source": [
    "df = pd.read_csv('MBB Historical Data.csv')\n",
    "df1=df.reset_index()['Price']"
   ]
  },
  {
   "cell_type": "code",
   "execution_count": 3,
   "id": "7236f6e4",
   "metadata": {},
   "outputs": [
    {
     "name": "stdout",
     "output_type": "stream",
     "text": [
      "WARNING:tensorflow:From C:\\Users\\Dell\\anaconda3\\Lib\\site-packages\\keras\\src\\losses.py:2976: The name tf.losses.sparse_softmax_cross_entropy is deprecated. Please use tf.compat.v1.losses.sparse_softmax_cross_entropy instead.\n",
      "\n"
     ]
    }
   ],
   "source": [
    "import matplotlib.pyplot as plt\n",
    "from sklearn.preprocessing import MinMaxScaler\n",
    "from keras.models import Sequential\n",
    "from keras.layers import Dense, SimpleRNN"
   ]
  },
  {
   "cell_type": "code",
   "execution_count": 4,
   "id": "20687511",
   "metadata": {},
   "outputs": [],
   "source": [
    "# 3. Scaler data\n",
    "scaler=MinMaxScaler(feature_range=(0,1))\n",
    "df1=scaler.fit_transform(np.array(df1).reshape(-1,1))"
   ]
  },
  {
   "cell_type": "code",
   "execution_count": 5,
   "id": "f7c3f7ef",
   "metadata": {},
   "outputs": [],
   "source": [
    "# 4. Chia train test\n",
    "train_size = int(0.9 * len(df1))\n",
    "test_size = len(df1)- train_size\n",
    "\n",
    "train_data = df1[:train_size]\n",
    "test_data = df1[train_size:]"
   ]
  },
  {
   "cell_type": "code",
   "execution_count": 6,
   "id": "473316dc",
   "metadata": {},
   "outputs": [],
   "source": [
    "# 5. Create Dataset\n",
    "def create_dataset(dataset, time_step=1):\n",
    "    dataX, dataY = [], []\n",
    "    for i in range(len(dataset) - time_step - 1):\n",
    "        a = dataset[i:(i + time_step), 0]\n",
    "        dataX.append(a)\n",
    "        dataY.append(dataset[i + time_step, 0])\n",
    "    return np.array(dataX), np.array(dataY)\n",
    "\n",
    "time_step = 100\n",
    "X_train, y_train = create_dataset(train_data, time_step)\n",
    "X_test, y_test = create_dataset(test_data, time_step)\n"
   ]
  },
  {
   "cell_type": "code",
   "execution_count": 7,
   "id": "d8a9613e",
   "metadata": {},
   "outputs": [],
   "source": [
    "# 6. Reshape Input to Fit RNN\n",
    "X_train = X_train.reshape(X_train.shape[0], X_train.shape[1], 1)\n",
    "X_test = X_test.reshape(X_test.shape[0], X_test.shape[1], 1)"
   ]
  },
  {
   "cell_type": "code",
   "execution_count": 8,
   "id": "53b312f6",
   "metadata": {},
   "outputs": [
    {
     "name": "stdout",
     "output_type": "stream",
     "text": [
      "WARNING:tensorflow:From C:\\Users\\Dell\\anaconda3\\Lib\\site-packages\\keras\\src\\backend.py:873: The name tf.get_default_graph is deprecated. Please use tf.compat.v1.get_default_graph instead.\n",
      "\n",
      "WARNING:tensorflow:From C:\\Users\\Dell\\anaconda3\\Lib\\site-packages\\keras\\src\\optimizers\\__init__.py:309: The name tf.train.Optimizer is deprecated. Please use tf.compat.v1.train.Optimizer instead.\n",
      "\n"
     ]
    }
   ],
   "source": [
    "# 7. Define RNN Model\n",
    "model = Sequential()\n",
    "model.add(SimpleRNN(50, input_shape=(time_step, 1)))\n",
    "model.add(Dense(1))\n",
    "model.compile(loss='mean_squared_error', optimizer='adam')"
   ]
  },
  {
   "cell_type": "code",
   "execution_count": 9,
   "id": "deb953c2",
   "metadata": {},
   "outputs": [
    {
     "name": "stdout",
     "output_type": "stream",
     "text": [
      "Epoch 1/100\n",
      "WARNING:tensorflow:From C:\\Users\\Dell\\anaconda3\\Lib\\site-packages\\keras\\src\\utils\\tf_utils.py:492: The name tf.ragged.RaggedTensorValue is deprecated. Please use tf.compat.v1.ragged.RaggedTensorValue instead.\n",
      "\n",
      "16/16 [==============================] - 1s 21ms/step - loss: 0.0385\n",
      "Epoch 2/100\n",
      "16/16 [==============================] - 0s 21ms/step - loss: 0.0027\n",
      "Epoch 3/100\n",
      "16/16 [==============================] - 0s 25ms/step - loss: 0.0018\n",
      "Epoch 4/100\n",
      "16/16 [==============================] - 0s 18ms/step - loss: 0.0016\n",
      "Epoch 5/100\n",
      "16/16 [==============================] - 0s 16ms/step - loss: 0.0015\n",
      "Epoch 6/100\n",
      "16/16 [==============================] - 0s 14ms/step - loss: 0.0014\n",
      "Epoch 7/100\n",
      "16/16 [==============================] - 0s 13ms/step - loss: 0.0013\n",
      "Epoch 8/100\n",
      "16/16 [==============================] - 0s 12ms/step - loss: 0.0013\n",
      "Epoch 9/100\n",
      "16/16 [==============================] - 0s 11ms/step - loss: 0.0012\n",
      "Epoch 10/100\n",
      "16/16 [==============================] - 0s 11ms/step - loss: 0.0011\n",
      "Epoch 11/100\n",
      "16/16 [==============================] - 0s 12ms/step - loss: 0.0011\n",
      "Epoch 12/100\n",
      "16/16 [==============================] - 0s 9ms/step - loss: 0.0011\n",
      "Epoch 13/100\n",
      "16/16 [==============================] - 0s 10ms/step - loss: 0.0010\n",
      "Epoch 14/100\n",
      "16/16 [==============================] - 0s 11ms/step - loss: 9.7130e-04\n",
      "Epoch 15/100\n",
      "16/16 [==============================] - 0s 9ms/step - loss: 9.5072e-04\n",
      "Epoch 16/100\n",
      "16/16 [==============================] - 0s 11ms/step - loss: 9.0810e-04\n",
      "Epoch 17/100\n",
      "16/16 [==============================] - 0s 11ms/step - loss: 9.4322e-04\n",
      "Epoch 18/100\n",
      "16/16 [==============================] - 0s 10ms/step - loss: 9.2391e-04\n",
      "Epoch 19/100\n",
      "16/16 [==============================] - 0s 12ms/step - loss: 8.3800e-04\n",
      "Epoch 20/100\n",
      "16/16 [==============================] - 0s 10ms/step - loss: 8.3723e-04\n",
      "Epoch 21/100\n",
      "16/16 [==============================] - 0s 9ms/step - loss: 8.1955e-04\n",
      "Epoch 22/100\n",
      "16/16 [==============================] - 0s 14ms/step - loss: 7.9646e-04\n",
      "Epoch 23/100\n",
      "16/16 [==============================] - 0s 12ms/step - loss: 8.2373e-04\n",
      "Epoch 24/100\n",
      "16/16 [==============================] - 0s 13ms/step - loss: 9.6183e-04\n",
      "Epoch 25/100\n",
      "16/16 [==============================] - 0s 13ms/step - loss: 8.2513e-04\n",
      "Epoch 26/100\n",
      "16/16 [==============================] - 0s 9ms/step - loss: 7.3946e-04\n",
      "Epoch 27/100\n",
      "16/16 [==============================] - 0s 10ms/step - loss: 7.0184e-04\n",
      "Epoch 28/100\n",
      "16/16 [==============================] - 0s 11ms/step - loss: 7.1630e-04\n",
      "Epoch 29/100\n",
      "16/16 [==============================] - 0s 10ms/step - loss: 7.2097e-04\n",
      "Epoch 30/100\n",
      "16/16 [==============================] - 0s 11ms/step - loss: 6.7021e-04\n",
      "Epoch 31/100\n",
      "16/16 [==============================] - 0s 10ms/step - loss: 6.8247e-04\n",
      "Epoch 32/100\n",
      "16/16 [==============================] - 0s 10ms/step - loss: 6.7726e-04\n",
      "Epoch 33/100\n",
      "16/16 [==============================] - 0s 10ms/step - loss: 7.5217e-04\n",
      "Epoch 34/100\n",
      "16/16 [==============================] - 0s 10ms/step - loss: 6.8474e-04\n",
      "Epoch 35/100\n",
      "16/16 [==============================] - 0s 10ms/step - loss: 7.6114e-04\n",
      "Epoch 36/100\n",
      "16/16 [==============================] - 0s 10ms/step - loss: 6.5332e-04\n",
      "Epoch 37/100\n",
      "16/16 [==============================] - 0s 10ms/step - loss: 6.2335e-04\n",
      "Epoch 38/100\n",
      "16/16 [==============================] - 0s 11ms/step - loss: 6.1927e-04\n",
      "Epoch 39/100\n",
      "16/16 [==============================] - 0s 10ms/step - loss: 6.0283e-04\n",
      "Epoch 40/100\n",
      "16/16 [==============================] - 0s 10ms/step - loss: 5.8766e-04\n",
      "Epoch 41/100\n",
      "16/16 [==============================] - 0s 10ms/step - loss: 5.8587e-04\n",
      "Epoch 42/100\n",
      "16/16 [==============================] - 0s 10ms/step - loss: 5.8676e-04\n",
      "Epoch 43/100\n",
      "16/16 [==============================] - 0s 10ms/step - loss: 6.2599e-04\n",
      "Epoch 44/100\n",
      "16/16 [==============================] - 0s 10ms/step - loss: 6.0910e-04\n",
      "Epoch 45/100\n",
      "16/16 [==============================] - 0s 10ms/step - loss: 6.1023e-04\n",
      "Epoch 46/100\n",
      "16/16 [==============================] - 0s 10ms/step - loss: 5.7267e-04\n",
      "Epoch 47/100\n",
      "16/16 [==============================] - 0s 10ms/step - loss: 6.1563e-04\n",
      "Epoch 48/100\n",
      "16/16 [==============================] - 0s 15ms/step - loss: 5.6888e-04\n",
      "Epoch 49/100\n",
      "16/16 [==============================] - 0s 19ms/step - loss: 6.0546e-04\n",
      "Epoch 50/100\n",
      "16/16 [==============================] - 0s 26ms/step - loss: 5.5568e-04\n",
      "Epoch 51/100\n",
      "16/16 [==============================] - 0s 15ms/step - loss: 5.4993e-04\n",
      "Epoch 52/100\n",
      "16/16 [==============================] - 0s 12ms/step - loss: 5.3040e-04\n",
      "Epoch 53/100\n",
      "16/16 [==============================] - 0s 11ms/step - loss: 5.3058e-04\n",
      "Epoch 54/100\n",
      "16/16 [==============================] - 0s 11ms/step - loss: 5.2889e-04\n",
      "Epoch 55/100\n",
      "16/16 [==============================] - 0s 15ms/step - loss: 5.2082e-04\n",
      "Epoch 56/100\n",
      "16/16 [==============================] - 0s 15ms/step - loss: 5.1720e-04\n",
      "Epoch 57/100\n",
      "16/16 [==============================] - 0s 25ms/step - loss: 5.0694e-04\n",
      "Epoch 58/100\n",
      "16/16 [==============================] - 0s 18ms/step - loss: 4.9860e-04\n",
      "Epoch 59/100\n",
      "16/16 [==============================] - 0s 12ms/step - loss: 5.0960e-04\n",
      "Epoch 60/100\n",
      "16/16 [==============================] - 0s 12ms/step - loss: 5.0460e-04\n",
      "Epoch 61/100\n",
      "16/16 [==============================] - 0s 12ms/step - loss: 4.9132e-04\n",
      "Epoch 62/100\n",
      "16/16 [==============================] - 0s 12ms/step - loss: 5.2347e-04\n",
      "Epoch 63/100\n",
      "16/16 [==============================] - 0s 12ms/step - loss: 5.0402e-04\n",
      "Epoch 64/100\n",
      "16/16 [==============================] - 0s 12ms/step - loss: 5.1862e-04\n",
      "Epoch 65/100\n",
      "16/16 [==============================] - 0s 11ms/step - loss: 5.0954e-04\n",
      "Epoch 66/100\n",
      "16/16 [==============================] - 0s 12ms/step - loss: 4.8793e-04\n",
      "Epoch 67/100\n",
      "16/16 [==============================] - 0s 11ms/step - loss: 4.7003e-04\n",
      "Epoch 68/100\n",
      "16/16 [==============================] - 0s 11ms/step - loss: 4.7912e-04\n",
      "Epoch 69/100\n",
      "16/16 [==============================] - 0s 11ms/step - loss: 4.6736e-04\n",
      "Epoch 70/100\n",
      "16/16 [==============================] - 0s 12ms/step - loss: 4.7039e-04\n",
      "Epoch 71/100\n",
      "16/16 [==============================] - 0s 10ms/step - loss: 4.6777e-04\n",
      "Epoch 72/100\n",
      "16/16 [==============================] - 0s 10ms/step - loss: 4.5359e-04\n",
      "Epoch 73/100\n",
      "16/16 [==============================] - 0s 10ms/step - loss: 4.6132e-04\n",
      "Epoch 74/100\n",
      "16/16 [==============================] - 0s 10ms/step - loss: 4.5905e-04\n",
      "Epoch 75/100\n",
      "16/16 [==============================] - 0s 10ms/step - loss: 4.5946e-04\n",
      "Epoch 76/100\n",
      "16/16 [==============================] - 0s 16ms/step - loss: 4.7354e-04\n",
      "Epoch 77/100\n",
      "16/16 [==============================] - 0s 10ms/step - loss: 4.7362e-04\n",
      "Epoch 78/100\n",
      "16/16 [==============================] - 0s 10ms/step - loss: 4.5820e-04\n",
      "Epoch 79/100\n",
      "16/16 [==============================] - 0s 10ms/step - loss: 4.3799e-04\n",
      "Epoch 80/100\n",
      "16/16 [==============================] - 0s 10ms/step - loss: 5.3755e-04\n",
      "Epoch 81/100\n",
      "16/16 [==============================] - 0s 10ms/step - loss: 4.2781e-04\n",
      "Epoch 82/100\n",
      "16/16 [==============================] - 0s 9ms/step - loss: 4.3879e-04\n",
      "Epoch 83/100\n",
      "16/16 [==============================] - 0s 10ms/step - loss: 5.0597e-04\n",
      "Epoch 84/100\n",
      "16/16 [==============================] - 0s 10ms/step - loss: 4.9980e-04\n",
      "Epoch 85/100\n",
      "16/16 [==============================] - 0s 10ms/step - loss: 4.6193e-04\n",
      "Epoch 86/100\n",
      "16/16 [==============================] - 0s 10ms/step - loss: 4.1480e-04\n",
      "Epoch 87/100\n",
      "16/16 [==============================] - 0s 10ms/step - loss: 4.1212e-04\n",
      "Epoch 88/100\n",
      "16/16 [==============================] - 0s 10ms/step - loss: 4.1979e-04\n",
      "Epoch 89/100\n",
      "16/16 [==============================] - 0s 10ms/step - loss: 4.1349e-04\n",
      "Epoch 90/100\n",
      "16/16 [==============================] - 0s 10ms/step - loss: 4.1256e-04\n",
      "Epoch 91/100\n",
      "16/16 [==============================] - 0s 9ms/step - loss: 4.2129e-04\n",
      "Epoch 92/100\n",
      "16/16 [==============================] - 0s 9ms/step - loss: 4.7231e-04\n",
      "Epoch 93/100\n",
      "16/16 [==============================] - 0s 10ms/step - loss: 4.5027e-04\n",
      "Epoch 94/100\n"
     ]
    },
    {
     "name": "stdout",
     "output_type": "stream",
     "text": [
      "16/16 [==============================] - 0s 10ms/step - loss: 4.2304e-04\n",
      "Epoch 95/100\n",
      "16/16 [==============================] - 0s 9ms/step - loss: 4.0520e-04\n",
      "Epoch 96/100\n",
      "16/16 [==============================] - 0s 10ms/step - loss: 4.2929e-04\n",
      "Epoch 97/100\n",
      "16/16 [==============================] - 0s 10ms/step - loss: 4.0006e-04\n",
      "Epoch 98/100\n",
      "16/16 [==============================] - 0s 10ms/step - loss: 3.9550e-04\n",
      "Epoch 99/100\n",
      "16/16 [==============================] - 0s 10ms/step - loss: 4.0488e-04\n",
      "Epoch 100/100\n",
      "16/16 [==============================] - 0s 10ms/step - loss: 4.0516e-04\n"
     ]
    },
    {
     "data": {
      "text/plain": [
       "<keras.src.callbacks.History at 0x159ff222c10>"
      ]
     },
     "execution_count": 9,
     "metadata": {},
     "output_type": "execute_result"
    }
   ],
   "source": [
    "# 8. Fit Model with Training Data\n",
    "model.fit(X_train, y_train, epochs=100, batch_size=64, verbose=1)"
   ]
  },
  {
   "cell_type": "code",
   "execution_count": 10,
   "id": "75711092",
   "metadata": {},
   "outputs": [
    {
     "name": "stdout",
     "output_type": "stream",
     "text": [
      "32/32 [==============================] - 0s 5ms/step\n",
      "1/1 [==============================] - 0s 134ms/step\n"
     ]
    }
   ],
   "source": [
    "# 9. Make Predictions\n",
    "train_predict = model.predict(X_train)\n",
    "test_predict = model.predict(X_test)"
   ]
  },
  {
   "cell_type": "code",
   "execution_count": 11,
   "id": "62d5b3da",
   "metadata": {},
   "outputs": [],
   "source": [
    "# 10. Inverse Transform Predictions\n",
    "train_predict = scaler.inverse_transform(train_predict)\n",
    "test_predict = scaler.inverse_transform(test_predict)"
   ]
  },
  {
   "cell_type": "code",
   "execution_count": 12,
   "id": "b2dabfaf",
   "metadata": {},
   "outputs": [
    {
     "name": "stdout",
     "output_type": "stream",
     "text": [
      "Testing RMSE: 164.16102946990011\n"
     ]
    }
   ],
   "source": [
    "# 11. Evaluate Model with RMSE\n",
    "test_rmse = np.sqrt(np.mean((test_predict - scaler.inverse_transform(y_test.reshape(-1, 1))) ** 2))\n",
    "print('Testing RMSE:', test_rmse)"
   ]
  },
  {
   "cell_type": "code",
   "execution_count": 13,
   "id": "e06a96c6",
   "metadata": {},
   "outputs": [],
   "source": [
    "# 12. Forecast Next 30 Days\n",
    "last_input = test_data[-time_step:].reshape(1, -1)\n",
    "temp_input = list(last_input)\n",
    "temp_input = temp_input[0].tolist()\n",
    "\n",
    "lst_output = []\n",
    "i = 0\n",
    "while i < 30:\n",
    "    if len(temp_input) > time_step:\n",
    "        x_input = np.array(temp_input[1:])\n",
    "        x_input = x_input.reshape(1, -1)\n",
    "        x_input = x_input.reshape((1,100, 1))\n",
    "        yhat = model.predict(x_input, verbose=0)\n",
    "        temp_input.extend(yhat[0].tolist())\n",
    "        temp_input = temp_input[1:]\n",
    "        lst_output.extend(yhat.tolist())\n",
    "        i += 1\n",
    "    else:\n",
    "        x_input = last_input.reshape((1, time_step, 1))\n",
    "        yhat = model.predict(x_input, verbose=0)\n",
    "        temp_input.extend(yhat[0].tolist())\n",
    "        lst_output.extend(yhat.tolist())\n",
    "        i += 1"
   ]
  },
  {
   "cell_type": "code",
   "execution_count": 14,
   "id": "8272a641",
   "metadata": {},
   "outputs": [
    {
     "name": "stdout",
     "output_type": "stream",
     "text": [
      "Testing RMSE: 164.16102946990011\n",
      "Testing MAE: 115.80509440104197\n",
      "Testing MAPE: 0.644517237835002\n"
     ]
    }
   ],
   "source": [
    "from sklearn.metrics import mean_squared_error, mean_absolute_error\n",
    "\n",
    "# Function to calculate MAPE\n",
    "def mean_absolute_percentage_error(y_true, y_pred):\n",
    "    y_true, y_pred = np.array(y_true), np.array(y_pred)\n",
    "    return np.mean(np.abs((y_true - y_pred) / y_true)) * 100\n",
    "\n",
    "# Inverse transform the actual test labels\n",
    "y_test_actual = scaler.inverse_transform(y_test.reshape(-1, 1))\n",
    "\n",
    "# Compute RMSE\n",
    "test_rmse = np.sqrt(mean_squared_error(y_test_actual, test_predict))\n",
    "print('Testing RMSE:', test_rmse)\n",
    "\n",
    "# Compute MAE\n",
    "test_mae = mean_absolute_error(y_test_actual, test_predict)\n",
    "print('Testing MAE:', test_mae)\n",
    "\n",
    "# Compute MAPE\n",
    "test_mape = mean_absolute_percentage_error(y_test_actual, test_predict)\n",
    "print('Testing MAPE:', test_mape)\n"
   ]
  },
  {
   "cell_type": "code",
   "execution_count": 16,
   "id": "f452eaed",
   "metadata": {},
   "outputs": [
    {
     "data": {
      "image/png": "[encoded data removed]",
      "text/plain": [
       "<Figure size 640x480 with 1 Axes>"
      ]
     },
     "metadata": {},
     "output_type": "display_data"
    }
   ],
   "source": [
    "# Step 12: Plot Results with Train and Test Predictions\n",
    "\n",
    "train_data_index = pd.RangeIndex(start=0, stop=train_size, step=1)\n",
    "plt.plot(scaler.inverse_transform(train_data))\n",
    "test_data_index = pd.RangeIndex(start=train_size, stop=train_size+test_size, step=1)\n",
    "plt.plot(test_data_index,scaler.inverse_transform(test_data))\n",
    "test_data_index = pd.RangeIndex(start=train_size+101, stop=train_size+test_size, step=1)\n",
    "plt.plot(test_data_index,(test_predict))\n",
    "prediect_data_index = pd.RangeIndex(start=len(df1)-1, stop=len(df1)+29, step=1)\n",
    "plt.plot(prediect_data_index,scaler.inverse_transform(lst_output))\n",
    "\n",
    "# Adding legends and labels\n",
    "plt.title ('Stock Price on MBB')\n",
    "plt.legend(['Train', 'Test', 'Predictions','Next30Day'])\n",
    "plt.show()"
   ]
  },
  {
   "cell_type": "code",
   "execution_count": null,
   "id": "bde314d0",
   "metadata": {},
   "outputs": [],
   "source": []
  }
 ],
 "metadata": {
  "kernelspec": {
   "display_name": "Python 3 (ipykernel)",
   "language": "python",
   "name": "python3"
  },
  "language_info": {
   "codemirror_mode": {
    "name": "ipython",
    "version": 3
   },
   "file_extension": ".py",
   "mimetype": "text/x-python",
   "name": "python",
   "nbconvert_exporter": "python",
   "pygments_lexer": "ipython3",
   "version": "3.11.5"
  }
 },
 "nbformat": 4,
 "nbformat_minor": 5
}
