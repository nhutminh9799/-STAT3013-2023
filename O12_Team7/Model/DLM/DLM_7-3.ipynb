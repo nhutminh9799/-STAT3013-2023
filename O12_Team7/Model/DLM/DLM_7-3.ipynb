{
 "cells": [
  {
   "cell_type": "code",
   "execution_count": 1,
   "id": "ac406726",
   "metadata": {},
   "outputs": [
    {
     "ename": "ModuleNotFoundError",
     "evalue": "No module named 'pydlm'",
     "output_type": "error",
     "traceback": [
      "\u001b[1;31m---------------------------------------------------------------------------\u001b[0m",
      "\u001b[1;31mModuleNotFoundError\u001b[0m                       Traceback (most recent call last)",
      "Cell \u001b[1;32mIn[1], line 3\u001b[0m\n\u001b[0;32m      1\u001b[0m \u001b[38;5;28;01mimport\u001b[39;00m \u001b[38;5;21;01mpandas\u001b[39;00m \u001b[38;5;28;01mas\u001b[39;00m \u001b[38;5;21;01mpd\u001b[39;00m\n\u001b[0;32m      2\u001b[0m \u001b[38;5;28;01mimport\u001b[39;00m \u001b[38;5;21;01mnumpy\u001b[39;00m \u001b[38;5;28;01mas\u001b[39;00m \u001b[38;5;21;01mnp\u001b[39;00m\n\u001b[1;32m----> 3\u001b[0m \u001b[38;5;28;01mfrom\u001b[39;00m \u001b[38;5;21;01mpydlm\u001b[39;00m \u001b[38;5;28;01mimport\u001b[39;00m dlm, trend, seasonality, dynamic, autoReg, longSeason\n\u001b[0;32m      4\u001b[0m \u001b[38;5;28;01mimport\u001b[39;00m \u001b[38;5;21;01mmatplotlib\u001b[39;00m\u001b[38;5;21;01m.\u001b[39;00m\u001b[38;5;21;01mpyplot\u001b[39;00m \u001b[38;5;28;01mas\u001b[39;00m \u001b[38;5;21;01mplt\u001b[39;00m\n",
      "\u001b[1;31mModuleNotFoundError\u001b[0m: No module named 'pydlm'"
     ]
    }
   ],
   "source": [
    "import pandas as pd\n",
    "import numpy as np\n",
    "from pydlm import dlm, trend, seasonality, dynamic, autoReg, longSeason\n",
    "import matplotlib.pyplot as plt\n",
    "\n"
   ]
  },
  {
   "cell_type": "code",
   "execution_count": null,
   "id": "e4f271cc",
   "metadata": {},
   "outputs": [
    {
     "data": {
      "text/html": [
       "<div>\n",
       "<style scoped>\n",
       "    .dataframe tbody tr th:only-of-type {\n",
       "        vertical-align: middle;\n",
       "    }\n",
       "\n",
       "    .dataframe tbody tr th {\n",
       "        vertical-align: top;\n",
       "    }\n",
       "\n",
       "    .dataframe thead th {\n",
       "        text-align: right;\n",
       "    }\n",
       "</style>\n",
       "<table border=\"1\" class=\"dataframe\">\n",
       "  <thead>\n",
       "    <tr style=\"text-align: right;\">\n",
       "      <th></th>\n",
       "      <th>Date</th>\n",
       "      <th>Close</th>\n",
       "      <th>Open</th>\n",
       "      <th>High</th>\n",
       "      <th>Low</th>\n",
       "      <th>Volume</th>\n",
       "      <th>% Change</th>\n",
       "    </tr>\n",
       "  </thead>\n",
       "  <tbody>\n",
       "    <tr>\n",
       "      <th>0</th>\n",
       "      <td>25/12/2023</td>\n",
       "      <td>23,350.00</td>\n",
       "      <td>23,250.00</td>\n",
       "      <td>23,450.00</td>\n",
       "      <td>23,200.00</td>\n",
       "      <td>758,000,000.00</td>\n",
       "      <td>0.65%</td>\n",
       "    </tr>\n",
       "    <tr>\n",
       "      <th>1</th>\n",
       "      <td>22/12/2023</td>\n",
       "      <td>23,200.00</td>\n",
       "      <td>23,200.00</td>\n",
       "      <td>23,300.00</td>\n",
       "      <td>23,200.00</td>\n",
       "      <td>451,000,000.00</td>\n",
       "      <td>-0.22%</td>\n",
       "    </tr>\n",
       "    <tr>\n",
       "      <th>2</th>\n",
       "      <td>21/12/2023</td>\n",
       "      <td>23,250.00</td>\n",
       "      <td>23,200.00</td>\n",
       "      <td>23,250.00</td>\n",
       "      <td>23,050.00</td>\n",
       "      <td>708,000,000.00</td>\n",
       "      <td>0.22%</td>\n",
       "    </tr>\n",
       "    <tr>\n",
       "      <th>3</th>\n",
       "      <td>20/12/2023</td>\n",
       "      <td>23,200.00</td>\n",
       "      <td>23,050.00</td>\n",
       "      <td>23,250.00</td>\n",
       "      <td>23,050.00</td>\n",
       "      <td>886,000,000.00</td>\n",
       "      <td>0.65%</td>\n",
       "    </tr>\n",
       "    <tr>\n",
       "      <th>4</th>\n",
       "      <td>19/12/2023</td>\n",
       "      <td>23,050.00</td>\n",
       "      <td>22,800.00</td>\n",
       "      <td>23,100.00</td>\n",
       "      <td>22,800.00</td>\n",
       "      <td>1,147,000,000.00</td>\n",
       "      <td>1.10%</td>\n",
       "    </tr>\n",
       "    <tr>\n",
       "      <th>...</th>\n",
       "      <td>...</td>\n",
       "      <td>...</td>\n",
       "      <td>...</td>\n",
       "      <td>...</td>\n",
       "      <td>...</td>\n",
       "      <td>...</td>\n",
       "      <td>...</td>\n",
       "    </tr>\n",
       "    <tr>\n",
       "      <th>1486</th>\n",
       "      <td>8/1/2018</td>\n",
       "      <td>12,004.60</td>\n",
       "      <td>11,615.40</td>\n",
       "      <td>12,004.60</td>\n",
       "      <td>11,615.40</td>\n",
       "      <td>1,296,000,000.00</td>\n",
       "      <td>3.35%</td>\n",
       "    </tr>\n",
       "    <tr>\n",
       "      <th>1487</th>\n",
       "      <td>5/1/2018</td>\n",
       "      <td>11,615.40</td>\n",
       "      <td>11,675.30</td>\n",
       "      <td>11,825.00</td>\n",
       "      <td>11,495.70</td>\n",
       "      <td>2,156,000,000.00</td>\n",
       "      <td>0.00%</td>\n",
       "    </tr>\n",
       "    <tr>\n",
       "      <th>1488</th>\n",
       "      <td>4/1/2018</td>\n",
       "      <td>11,615.40</td>\n",
       "      <td>11,585.50</td>\n",
       "      <td>11,645.30</td>\n",
       "      <td>11,495.70</td>\n",
       "      <td>2,126,000,000.00</td>\n",
       "      <td>0.26%</td>\n",
       "    </tr>\n",
       "    <tr>\n",
       "      <th>1489</th>\n",
       "      <td>3/1/2018</td>\n",
       "      <td>11,585.50</td>\n",
       "      <td>11,615.40</td>\n",
       "      <td>11,705.20</td>\n",
       "      <td>11,375.90</td>\n",
       "      <td>1,689,000,000.00</td>\n",
       "      <td>-0.26%</td>\n",
       "    </tr>\n",
       "    <tr>\n",
       "      <th>1490</th>\n",
       "      <td>2/1/2018</td>\n",
       "      <td>11,615.40</td>\n",
       "      <td>11,076.60</td>\n",
       "      <td>11,645.30</td>\n",
       "      <td>11,016.70</td>\n",
       "      <td>1,222,000,000.00</td>\n",
       "      <td>5.15%</td>\n",
       "    </tr>\n",
       "  </tbody>\n",
       "</table>\n",
       "<p>1491 rows × 7 columns</p>\n",
       "</div>"
      ],
      "text/plain": [
       "            Date      Close       Open       High        Low  \\\n",
       "0     25/12/2023  23,350.00  23,250.00  23,450.00  23,200.00   \n",
       "1     22/12/2023  23,200.00  23,200.00  23,300.00  23,200.00   \n",
       "2     21/12/2023  23,250.00  23,200.00  23,250.00  23,050.00   \n",
       "3     20/12/2023  23,200.00  23,050.00  23,250.00  23,050.00   \n",
       "4     19/12/2023  23,050.00  22,800.00  23,100.00  22,800.00   \n",
       "...          ...        ...        ...        ...        ...   \n",
       "1486    8/1/2018  12,004.60  11,615.40  12,004.60  11,615.40   \n",
       "1487    5/1/2018  11,615.40  11,675.30  11,825.00  11,495.70   \n",
       "1488    4/1/2018  11,615.40  11,585.50  11,645.30  11,495.70   \n",
       "1489    3/1/2018  11,585.50  11,615.40  11,705.20  11,375.90   \n",
       "1490    2/1/2018  11,615.40  11,076.60  11,645.30  11,016.70   \n",
       "\n",
       "                Volume % Change  \n",
       "0       758,000,000.00    0.65%  \n",
       "1       451,000,000.00   -0.22%  \n",
       "2       708,000,000.00    0.22%  \n",
       "3       886,000,000.00    0.65%  \n",
       "4     1,147,000,000.00    1.10%  \n",
       "...                ...      ...  \n",
       "1486  1,296,000,000.00    3.35%  \n",
       "1487  2,156,000,000.00    0.00%  \n",
       "1488  2,126,000,000.00    0.26%  \n",
       "1489  1,689,000,000.00   -0.26%  \n",
       "1490  1,222,000,000.00    5.15%  \n",
       "\n",
       "[1491 rows x 7 columns]"
      ]
     },
     "execution_count": 2,
     "metadata": {},
     "output_type": "execute_result"
    }
   ],
   "source": [
    "df = pd.read_csv('C:\\\\Users\\\\Admin\\\\Downloads\\\\ACB.csv')\n",
    "df"
   ]
  },
  {
   "cell_type": "code",
   "execution_count": null,
   "id": "ece54507",
   "metadata": {},
   "outputs": [],
   "source": [
    "\n",
    "df['Date'] = pd.to_datetime(df['Date'], format='%d/%m/%Y')\n",
    "df.sort_values('Date', inplace=True)"
   ]
  },
  {
   "cell_type": "code",
   "execution_count": null,
   "id": "9bdcd81a",
   "metadata": {},
   "outputs": [],
   "source": [
    "\n",
    "df['Close'] = df['Close'].str.replace(',', '').astype(float)\n"
   ]
  },
  {
   "cell_type": "code",
   "execution_count": null,
   "id": "d5fdfce3",
   "metadata": {},
   "outputs": [],
   "source": [
    "\n",
    "train_size = int(len(df) * 0.7)\n",
    "train_data, test_data = df[:train_size], df[train_size:]"
   ]
  },
  {
   "cell_type": "code",
   "execution_count": null,
   "id": "14d96bed",
   "metadata": {},
   "outputs": [],
   "source": [
    "y_train = train_data['Close'].values\n"
   ]
  },
  {
   "cell_type": "code",
   "execution_count": null,
   "id": "31f5c28b",
   "metadata": {},
   "outputs": [],
   "source": [
    "myDLM = dlm(y_train)\n",
    "# Thêm mô hình linear trend\n",
    "myDLM = myDLM + trend(degree=1, discount=0.99, name='linear_trend')\n",
    "# Thêm mô hình seasonality với chu kỳ 7 ngày\n",
    "myDLM = myDLM + seasonality(7, name='7day_seasonality')\n",
    "myDLM = myDLM + autoReg(degree=1, w=1)\n"
   ]
  },
  {
   "cell_type": "code",
   "execution_count": null,
   "id": "379c6a2a",
   "metadata": {},
   "outputs": [
    {
     "name": "stdout",
     "output_type": "stream",
     "text": [
      "Initializing models...\n",
      "Initialization finished.\n",
      "Starting forward filtering...\n",
      "Forward filtering completed.\n",
      "Starting backward smoothing...\n",
      "Backward smoothing completed.\n"
     ]
    }
   ],
   "source": [
    "myDLM.fit()"
   ]
  },
  {
   "cell_type": "code",
   "execution_count": null,
   "id": "adb993db",
   "metadata": {},
   "outputs": [],
   "source": [
    "(predictTrainMean, _) = myDLM.predictN(N=train_size)\n",
    "(predictTestMean, _) = myDLM.predictN(N=len(test_data))\n",
    "(predictNext30Mean, _) = myDLM.predictN(N=len(df) + 30)"
   ]
  },
  {
   "cell_type": "code",
   "execution_count": null,
   "id": "d7ece7fe",
   "metadata": {},
   "outputs": [
    {
     "name": "stdout",
     "output_type": "stream",
     "text": [
      "MAE: 7565.44\n",
      "MAPE: 33.34%\n",
      "RMSE: 8441.15\n"
     ]
    }
   ],
   "source": [
    "(predictMean, predictVar) = myDLM.predictN(N=len(test_data))\n",
    "test_dates = test_data['Date']\n",
    "y_test = test_data['Close'].values\n",
    "mae = np.mean(np.abs(predictMean - y_test))\n",
    "mape = np.mean(np.abs((predictMean - y_test) / y_test)) * 100\n",
    "rmse = np.sqrt(np.mean((predictMean - y_test) ** 2))\n",
    "print(f'MAE: {mae:.2f}')\n",
    "print(f'MAPE: {mape:.2f}%')\n",
    "print(f'RMSE: {rmse:.2f}')"
   ]
  },
  {
   "cell_type": "code",
   "execution_count": null,
   "id": "2a54d4c5",
   "metadata": {},
   "outputs": [
    {
     "data": {
      "image/png": "[encoded data removed]",
      "text/plain": [
       "<Figure size 1200x600 with 1 Axes>"
      ]
     },
     "metadata": {},
     "output_type": "display_data"
    }
   ],
   "source": [
    "plt.figure(figsize=(12, 6))\n",
    "all_dates = df['Date']\n",
    "\n",
    "plt.plot(all_dates[:train_size], df['Close'][:train_size], label='Train', linewidth=2, color='blue')\n",
    "\n",
    "# Vẽ phần test\n",
    "plt.plot(all_dates[train_size:], df['Close'][train_size:], label='Test', linewidth=2, color='green')\n",
    "\n",
    "# Vẽ dự đoán cho phần test\n",
    "plt.plot(all_dates[train_size:], predictTestMean, label='Test Prediction', linewidth=2, color='orange')\n",
    "\n",
    "# Vẽ dự đoán cho next 30 days\n",
    "next_30_dates = pd.date_range(start=df['Date'].max() + pd.DateOffset(days=1), periods=30, freq='D')\n",
    "plt.plot(next_30_dates, predictNext30Mean[-30:], label='Next 30 Days Prediction', linewidth=2, color='red')\n",
    "\n",
    "plt.title('DLM Prediction for Stock Price')\n",
    "plt.xlabel('Date')\n",
    "plt.ylabel('Stock Price')\n",
    "plt.legend()\n",
    "plt.show()"
   ]
  },
  {
   "cell_type": "code",
   "execution_count": null,
   "id": "05796b06",
   "metadata": {},
   "outputs": [],
   "source": []
  }
 ],
 "metadata": {
  "kernelspec": {
   "display_name": "Python 3 (ipykernel)",
   "language": "python",
   "name": "python3"
  },
  "language_info": {
   "codemirror_mode": {
    "name": "ipython",
    "version": 3
   },
   "file_extension": ".py",
   "mimetype": "text/x-python",
   "name": "python",
   "nbconvert_exporter": "python",
   "pygments_lexer": "ipython3",
   "version": "3.11.5"
  }
 },
 "nbformat": 4,
 "nbformat_minor": 5
}
