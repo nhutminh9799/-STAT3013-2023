{
 "cells": [
  {
   "cell_type": "code",
   "execution_count": 1,
   "metadata": {
    "colab": {
     "base_uri": "https://localhost:8080/"
    },
    "id": "FMDKda-XIUAK",
    "outputId": "d40d0dc9-f0e0-435c-e282-e214356488f0"
   },
   "outputs": [
    {
     "name": "stdout",
     "output_type": "stream",
     "text": [
      "WARNING:tensorflow:From c:\\Users\\Admin\\AppData\\Local\\Programs\\Python\\Python311\\Lib\\site-packages\\keras\\src\\losses.py:2976: The name tf.losses.sparse_softmax_cross_entropy is deprecated. Please use tf.compat.v1.losses.sparse_softmax_cross_entropy instead.\n",
      "\n"
     ]
    }
   ],
   "source": [
    "# 1. Import thư viện cần thiết\n",
    "import numpy as np\n",
    "import pandas as pd\n",
    "import matplotlib.pyplot as plt\n",
    "from sklearn.preprocessing import MinMaxScaler\n",
    "from keras.models import Sequential\n",
    "from keras.layers import Dense, SimpleRNN"
   ]
  },
  {
   "cell_type": "code",
   "execution_count": 2,
   "metadata": {
    "id": "aRm9GQ8KJJ5N"
   },
   "outputs": [],
   "source": [
    "# 2. Đọc file csv và gắng index với giá Close\n",
    "df = pd.read_csv('C:\\\\Users\\\\Admin\\\\Downloads\\\\ACB.csv')\n",
    "df1=df.reset_index()['Close']\n",
    "df1 = df[['Close']]"
   ]
  },
  {
   "cell_type": "code",
   "execution_count": 3,
   "metadata": {
    "id": "RdVpDho2JgL5"
   },
   "outputs": [
    {
     "name": "stderr",
     "output_type": "stream",
     "text": [
      "C:\\Users\\Admin\\AppData\\Local\\Temp\\ipykernel_6988\\3126230850.py:2: SettingWithCopyWarning: \n",
      "A value is trying to be set on a copy of a slice from a DataFrame.\n",
      "Try using .loc[row_indexer,col_indexer] = value instead\n",
      "\n",
      "See the caveats in the documentation: https://pandas.pydata.org/pandas-docs/stable/user_guide/indexing.html#returning-a-view-versus-a-copy\n",
      "  df1['Close'] = df1['Close'].str.replace(',', '')\n",
      "C:\\Users\\Admin\\AppData\\Local\\Temp\\ipykernel_6988\\3126230850.py:3: SettingWithCopyWarning: \n",
      "A value is trying to be set on a copy of a slice from a DataFrame.\n",
      "Try using .loc[row_indexer,col_indexer] = value instead\n",
      "\n",
      "See the caveats in the documentation: https://pandas.pydata.org/pandas-docs/stable/user_guide/indexing.html#returning-a-view-versus-a-copy\n",
      "  df1['Close'] = df1['Close'].astype(float)\n"
     ]
    }
   ],
   "source": [
    "# 3. Scaler data\n",
    "df1['Close'] = df1['Close'].str.replace(',', '')\n",
    "df1['Close'] = df1['Close'].astype(float)\n",
    "scaler=MinMaxScaler(feature_range=(0,1))\n",
    "df1 = scaler.fit_transform(df1.values.reshape(-1, 1))"
   ]
  },
  {
   "cell_type": "code",
   "execution_count": 4,
   "metadata": {
    "id": "B5JXpenzJoR3"
   },
   "outputs": [],
   "source": [
    "# 4. Chia train test\n",
    "train_size = int(0.7 * len(df1))\n",
    "test_size = int(0.3 * len(df1))\n",
    "val_size = len(df1) - train_size - test_size\n",
    "\n",
    "train_data = df1[:train_size]\n",
    "test_data = df1[train_size:train_size+test_size]\n",
    "val_data = df1[train_size+test_size:]"
   ]
  },
  {
   "cell_type": "code",
   "execution_count": 5,
   "metadata": {
    "id": "yJfmuBORLSfC"
   },
   "outputs": [],
   "source": [
    "# 5. Hàm Create Dataset\n",
    "import numpy\n",
    "# convert an array of values into a dataset matrix\n",
    "def create_dataset(dataset, time_step=1):\n",
    "\tdataX, dataY = [], []\n",
    "\tfor i in range(len(dataset)-time_step-1):\n",
    "\t\ta = dataset[i:(i+time_step), 0]   ###i=0, X=0,1,2,3-----99   Y=100 \n",
    "\t\tdataX.append(a)\n",
    "\t\tdataY.append(dataset[i + time_step, 0])\n",
    "\treturn numpy.array(dataX), numpy.array(dataY)"
   ]
  },
  {
   "cell_type": "code",
   "execution_count": 6,
   "metadata": {
    "id": "e81cKq03LXFB"
   },
   "outputs": [],
   "source": [
    "#6. Reshape into X=t,t+1,t+2..t+99 and Y=t+100\n",
    "\n",
    "time_step = 100\n",
    "X_train, y_train = create_dataset(train_data, time_step)\n",
    "X_val, yval = create_dataset(val_data, time_step)\n",
    "X_test, ytest = create_dataset(test_data, time_step)"
   ]
  },
  {
   "cell_type": "code",
   "execution_count": 7,
   "metadata": {
    "id": "RdBVfku7O2qb"
   },
   "outputs": [
    {
     "ename": "IndexError",
     "evalue": "tuple index out of range",
     "output_type": "error",
     "traceback": [
      "\u001b[1;31m---------------------------------------------------------------------------\u001b[0m",
      "\u001b[1;31mIndexError\u001b[0m                                Traceback (most recent call last)",
      "Cell \u001b[1;32mIn[7], line 4\u001b[0m\n\u001b[0;32m      2\u001b[0m X_train \u001b[38;5;241m=\u001b[39mX_train\u001b[38;5;241m.\u001b[39mreshape(X_train\u001b[38;5;241m.\u001b[39mshape[\u001b[38;5;241m0\u001b[39m],X_train\u001b[38;5;241m.\u001b[39mshape[\u001b[38;5;241m1\u001b[39m] , \u001b[38;5;241m1\u001b[39m)\n\u001b[0;32m      3\u001b[0m X_test \u001b[38;5;241m=\u001b[39m X_test\u001b[38;5;241m.\u001b[39mreshape(X_test\u001b[38;5;241m.\u001b[39mshape[\u001b[38;5;241m0\u001b[39m],X_test\u001b[38;5;241m.\u001b[39mshape[\u001b[38;5;241m1\u001b[39m] , \u001b[38;5;241m1\u001b[39m)\n\u001b[1;32m----> 4\u001b[0m X_val \u001b[38;5;241m=\u001b[39m X_val\u001b[38;5;241m.\u001b[39mreshape(X_val\u001b[38;5;241m.\u001b[39mshape[\u001b[38;5;241m0\u001b[39m],\u001b[43mX_val\u001b[49m\u001b[38;5;241;43m.\u001b[39;49m\u001b[43mshape\u001b[49m\u001b[43m[\u001b[49m\u001b[38;5;241;43m1\u001b[39;49m\u001b[43m]\u001b[49m , \u001b[38;5;241m1\u001b[39m)\n",
      "\u001b[1;31mIndexError\u001b[0m: tuple index out of range"
     ]
    }
   ],
   "source": [
    "# 7. Reshape input to be [samples, time steps, features] which is required for LSTM\n",
    "X_train =X_train.reshape(X_train.shape[0],X_train.shape[1] , 1)\n",
    "X_test = X_test.reshape(X_test.shape[0],X_test.shape[1] , 1)\n",
    "X_val = X_val.reshape(X_val.shape[0],X_val.shape[1] , 1)"
   ]
  },
  {
   "cell_type": "code",
   "execution_count": 8,
   "metadata": {
    "id": "sSfxrE7BO9vX"
   },
   "outputs": [
    {
     "name": "stdout",
     "output_type": "stream",
     "text": [
      "WARNING:tensorflow:From c:\\Users\\Admin\\AppData\\Local\\Programs\\Python\\Python311\\Lib\\site-packages\\keras\\src\\backend.py:873: The name tf.get_default_graph is deprecated. Please use tf.compat.v1.get_default_graph instead.\n",
      "\n",
      "WARNING:tensorflow:From c:\\Users\\Admin\\AppData\\Local\\Programs\\Python\\Python311\\Lib\\site-packages\\keras\\src\\optimizers\\__init__.py:309: The name tf.train.Optimizer is deprecated. Please use tf.compat.v1.train.Optimizer instead.\n",
      "\n"
     ]
    }
   ],
   "source": [
    "# 8. Define RNN Model\n",
    "\n",
    "model = Sequential()\n",
    "model.add(SimpleRNN(50, input_shape=(time_step, 1)))\n",
    "model.add(Dense(1))\n",
    "model.compile(loss='mean_squared_error',optimizer='adam')"
   ]
  },
  {
   "cell_type": "code",
   "execution_count": 9,
   "metadata": {
    "colab": {
     "base_uri": "https://localhost:8080/"
    },
    "id": "zgfeujZSPEKr",
    "outputId": "c3779b92-f127-487b-a438-0b2a274645fc"
   },
   "outputs": [
    {
     "name": "stdout",
     "output_type": "stream",
     "text": [
      "Epoch 1/100\n",
      "WARNING:tensorflow:From c:\\Users\\Admin\\AppData\\Local\\Programs\\Python\\Python311\\Lib\\site-packages\\keras\\src\\utils\\tf_utils.py:492: The name tf.ragged.RaggedTensorValue is deprecated. Please use tf.compat.v1.ragged.RaggedTensorValue instead.\n",
      "\n",
      "15/15 [==============================] - 5s 100ms/step - loss: 0.2898 - val_loss: 0.0069\n",
      "Epoch 2/100\n",
      "15/15 [==============================] - 1s 42ms/step - loss: 0.0100 - val_loss: 0.0042\n",
      "Epoch 3/100\n",
      "15/15 [==============================] - 1s 41ms/step - loss: 0.0039 - val_loss: 0.0018\n",
      "Epoch 4/100\n",
      "15/15 [==============================] - 1s 41ms/step - loss: 0.0024 - val_loss: 0.0018\n",
      "Epoch 5/100\n",
      "15/15 [==============================] - 1s 40ms/step - loss: 0.0019 - val_loss: 0.0016\n",
      "Epoch 6/100\n",
      "15/15 [==============================] - 1s 36ms/step - loss: 0.0017 - val_loss: 0.0014\n",
      "Epoch 7/100\n",
      "15/15 [==============================] - 1s 38ms/step - loss: 0.0017 - val_loss: 0.0014\n",
      "Epoch 8/100\n",
      "15/15 [==============================] - 1s 37ms/step - loss: 0.0016 - val_loss: 0.0012\n",
      "Epoch 9/100\n",
      "15/15 [==============================] - 0s 33ms/step - loss: 0.0016 - val_loss: 0.0012\n",
      "Epoch 10/100\n",
      "15/15 [==============================] - 1s 42ms/step - loss: 0.0015 - val_loss: 0.0011\n",
      "Epoch 11/100\n",
      "15/15 [==============================] - 1s 37ms/step - loss: 0.0015 - val_loss: 0.0010\n",
      "Epoch 12/100\n",
      "15/15 [==============================] - 1s 37ms/step - loss: 0.0015 - val_loss: 9.9683e-04\n",
      "Epoch 13/100\n",
      "15/15 [==============================] - 0s 32ms/step - loss: 0.0015 - val_loss: 9.5459e-04\n",
      "Epoch 14/100\n",
      "15/15 [==============================] - 1s 38ms/step - loss: 0.0014 - val_loss: 9.8611e-04\n",
      "Epoch 15/100\n",
      "15/15 [==============================] - 1s 41ms/step - loss: 0.0014 - val_loss: 9.0164e-04\n",
      "Epoch 16/100\n",
      "15/15 [==============================] - 0s 32ms/step - loss: 0.0014 - val_loss: 8.5272e-04\n",
      "Epoch 17/100\n",
      "15/15 [==============================] - 1s 40ms/step - loss: 0.0013 - val_loss: 8.5619e-04\n",
      "Epoch 18/100\n",
      "15/15 [==============================] - 0s 33ms/step - loss: 0.0013 - val_loss: 8.1669e-04\n",
      "Epoch 19/100\n",
      "15/15 [==============================] - 1s 37ms/step - loss: 0.0013 - val_loss: 8.2993e-04\n",
      "Epoch 20/100\n",
      "15/15 [==============================] - 1s 36ms/step - loss: 0.0013 - val_loss: 7.7245e-04\n",
      "Epoch 21/100\n",
      "15/15 [==============================] - 1s 34ms/step - loss: 0.0013 - val_loss: 7.4397e-04\n",
      "Epoch 22/100\n",
      "15/15 [==============================] - 1s 72ms/step - loss: 0.0013 - val_loss: 7.0628e-04\n",
      "Epoch 23/100\n",
      "15/15 [==============================] - 1s 47ms/step - loss: 0.0013 - val_loss: 6.9217e-04\n",
      "Epoch 24/100\n",
      "15/15 [==============================] - 1s 36ms/step - loss: 0.0012 - val_loss: 6.5877e-04\n",
      "Epoch 25/100\n",
      "15/15 [==============================] - 1s 38ms/step - loss: 0.0013 - val_loss: 6.8564e-04\n",
      "Epoch 26/100\n",
      "15/15 [==============================] - 1s 42ms/step - loss: 0.0012 - val_loss: 6.8128e-04\n",
      "Epoch 27/100\n",
      "15/15 [==============================] - 1s 36ms/step - loss: 0.0012 - val_loss: 6.1051e-04\n",
      "Epoch 28/100\n",
      "15/15 [==============================] - 0s 33ms/step - loss: 0.0012 - val_loss: 6.1653e-04\n",
      "Epoch 29/100\n",
      "15/15 [==============================] - 1s 38ms/step - loss: 0.0012 - val_loss: 6.5729e-04\n",
      "Epoch 30/100\n",
      "15/15 [==============================] - 1s 42ms/step - loss: 0.0011 - val_loss: 5.8645e-04\n",
      "Epoch 31/100\n",
      "15/15 [==============================] - 1s 42ms/step - loss: 0.0011 - val_loss: 5.9620e-04\n",
      "Epoch 32/100\n",
      "15/15 [==============================] - 1s 48ms/step - loss: 0.0011 - val_loss: 6.1838e-04\n",
      "Epoch 33/100\n",
      "15/15 [==============================] - 1s 41ms/step - loss: 0.0011 - val_loss: 5.5382e-04\n",
      "Epoch 34/100\n",
      "15/15 [==============================] - 1s 38ms/step - loss: 0.0011 - val_loss: 5.5616e-04\n",
      "Epoch 35/100\n",
      "15/15 [==============================] - 1s 40ms/step - loss: 0.0011 - val_loss: 5.3751e-04\n",
      "Epoch 36/100\n",
      "15/15 [==============================] - 1s 37ms/step - loss: 0.0011 - val_loss: 5.1523e-04\n",
      "Epoch 37/100\n",
      "15/15 [==============================] - 1s 34ms/step - loss: 0.0011 - val_loss: 5.2399e-04\n",
      "Epoch 38/100\n",
      "15/15 [==============================] - 1s 39ms/step - loss: 0.0010 - val_loss: 5.4729e-04\n",
      "Epoch 39/100\n",
      "15/15 [==============================] - 1s 40ms/step - loss: 0.0010 - val_loss: 5.0288e-04\n",
      "Epoch 40/100\n",
      "15/15 [==============================] - 1s 41ms/step - loss: 0.0010 - val_loss: 4.9257e-04\n",
      "Epoch 41/100\n",
      "15/15 [==============================] - 1s 42ms/step - loss: 9.9687e-04 - val_loss: 5.1647e-04\n",
      "Epoch 42/100\n",
      "15/15 [==============================] - 1s 55ms/step - loss: 9.8668e-04 - val_loss: 4.6549e-04\n",
      "Epoch 43/100\n",
      "15/15 [==============================] - 1s 74ms/step - loss: 9.9231e-04 - val_loss: 4.7004e-04\n",
      "Epoch 44/100\n",
      "15/15 [==============================] - 1s 69ms/step - loss: 9.5843e-04 - val_loss: 4.7852e-04\n",
      "Epoch 45/100\n",
      "15/15 [==============================] - 1s 59ms/step - loss: 9.5009e-04 - val_loss: 4.5254e-04\n",
      "Epoch 46/100\n",
      "15/15 [==============================] - 1s 51ms/step - loss: 9.5889e-04 - val_loss: 4.4025e-04\n",
      "Epoch 47/100\n",
      "15/15 [==============================] - 1s 53ms/step - loss: 9.3697e-04 - val_loss: 4.4263e-04\n",
      "Epoch 48/100\n",
      "15/15 [==============================] - 1s 46ms/step - loss: 9.3541e-04 - val_loss: 4.3527e-04\n",
      "Epoch 49/100\n",
      "15/15 [==============================] - 1s 64ms/step - loss: 9.2436e-04 - val_loss: 4.4389e-04\n",
      "Epoch 50/100\n",
      "15/15 [==============================] - 1s 63ms/step - loss: 9.5402e-04 - val_loss: 4.5420e-04\n",
      "Epoch 51/100\n",
      "15/15 [==============================] - 1s 50ms/step - loss: 9.2692e-04 - val_loss: 4.0657e-04\n",
      "Epoch 52/100\n",
      "15/15 [==============================] - 1s 37ms/step - loss: 0.0010 - val_loss: 4.3307e-04\n",
      "Epoch 53/100\n",
      "15/15 [==============================] - 1s 45ms/step - loss: 0.0012 - val_loss: 3.8968e-04\n",
      "Epoch 54/100\n",
      "15/15 [==============================] - 1s 37ms/step - loss: 0.0010 - val_loss: 4.1359e-04\n",
      "Epoch 55/100\n",
      "15/15 [==============================] - 1s 43ms/step - loss: 9.2153e-04 - val_loss: 3.8991e-04\n",
      "Epoch 56/100\n",
      "15/15 [==============================] - 1s 42ms/step - loss: 9.2197e-04 - val_loss: 3.9766e-04\n",
      "Epoch 57/100\n",
      "15/15 [==============================] - 0s 33ms/step - loss: 8.7843e-04 - val_loss: 4.3000e-04\n",
      "Epoch 58/100\n",
      "15/15 [==============================] - 0s 33ms/step - loss: 8.9047e-04 - val_loss: 3.8080e-04\n",
      "Epoch 59/100\n",
      "15/15 [==============================] - 0s 32ms/step - loss: 8.7449e-04 - val_loss: 3.6392e-04\n",
      "Epoch 60/100\n",
      "15/15 [==============================] - 1s 36ms/step - loss: 8.5755e-04 - val_loss: 3.7488e-04\n",
      "Epoch 61/100\n",
      "15/15 [==============================] - 1s 47ms/step - loss: 8.4164e-04 - val_loss: 3.7445e-04\n",
      "Epoch 62/100\n",
      "15/15 [==============================] - 1s 35ms/step - loss: 8.4015e-04 - val_loss: 3.6311e-04\n",
      "Epoch 63/100\n",
      "15/15 [==============================] - 0s 32ms/step - loss: 8.2318e-04 - val_loss: 3.6628e-04\n",
      "Epoch 64/100\n",
      "15/15 [==============================] - 1s 38ms/step - loss: 8.3516e-04 - val_loss: 3.5184e-04\n",
      "Epoch 65/100\n",
      "15/15 [==============================] - 1s 41ms/step - loss: 8.0927e-04 - val_loss: 3.4106e-04\n",
      "Epoch 66/100\n",
      "15/15 [==============================] - 1s 39ms/step - loss: 8.1356e-04 - val_loss: 3.4334e-04\n",
      "Epoch 67/100\n",
      "15/15 [==============================] - 1s 40ms/step - loss: 9.0682e-04 - val_loss: 3.4047e-04\n",
      "Epoch 68/100\n",
      "15/15 [==============================] - 1s 39ms/step - loss: 8.2147e-04 - val_loss: 3.5720e-04\n",
      "Epoch 69/100\n",
      "15/15 [==============================] - 1s 37ms/step - loss: 8.4417e-04 - val_loss: 3.4507e-04\n",
      "Epoch 70/100\n",
      "15/15 [==============================] - 0s 32ms/step - loss: 8.0462e-04 - val_loss: 3.5650e-04\n",
      "Epoch 71/100\n",
      "15/15 [==============================] - 1s 39ms/step - loss: 8.2516e-04 - val_loss: 4.0233e-04\n",
      "Epoch 72/100\n",
      "15/15 [==============================] - 1s 57ms/step - loss: 7.9981e-04 - val_loss: 3.7437e-04\n",
      "Epoch 73/100\n",
      "15/15 [==============================] - 1s 38ms/step - loss: 8.1773e-04 - val_loss: 4.1120e-04\n",
      "Epoch 74/100\n",
      "15/15 [==============================] - 1s 35ms/step - loss: 8.8300e-04 - val_loss: 3.1680e-04\n",
      "Epoch 75/100\n",
      "15/15 [==============================] - 1s 42ms/step - loss: 8.4687e-04 - val_loss: 3.3316e-04\n",
      "Epoch 76/100\n",
      "15/15 [==============================] - 1s 51ms/step - loss: 7.5120e-04 - val_loss: 3.2856e-04\n",
      "Epoch 77/100\n",
      "15/15 [==============================] - 1s 35ms/step - loss: 8.1527e-04 - val_loss: 3.3522e-04\n",
      "Epoch 78/100\n",
      "15/15 [==============================] - 0s 32ms/step - loss: 9.4213e-04 - val_loss: 3.1932e-04\n",
      "Epoch 79/100\n",
      "15/15 [==============================] - 1s 44ms/step - loss: 8.7339e-04 - val_loss: 4.5670e-04\n",
      "Epoch 80/100\n",
      "15/15 [==============================] - 1s 46ms/step - loss: 9.2051e-04 - val_loss: 3.3284e-04\n",
      "Epoch 81/100\n",
      "15/15 [==============================] - 1s 35ms/step - loss: 7.6222e-04 - val_loss: 3.1152e-04\n",
      "Epoch 82/100\n",
      "15/15 [==============================] - 0s 31ms/step - loss: 7.6971e-04 - val_loss: 3.0308e-04\n",
      "Epoch 83/100\n",
      "15/15 [==============================] - 1s 38ms/step - loss: 7.3488e-04 - val_loss: 3.8979e-04\n",
      "Epoch 84/100\n",
      "15/15 [==============================] - 0s 31ms/step - loss: 8.1773e-04 - val_loss: 3.4480e-04\n",
      "Epoch 85/100\n",
      "15/15 [==============================] - 0s 33ms/step - loss: 7.3928e-04 - val_loss: 2.9506e-04\n",
      "Epoch 86/100\n",
      "15/15 [==============================] - 0s 32ms/step - loss: 7.3254e-04 - val_loss: 2.9583e-04\n",
      "Epoch 87/100\n",
      "15/15 [==============================] - 0s 32ms/step - loss: 7.6797e-04 - val_loss: 2.9378e-04\n",
      "Epoch 88/100\n",
      "15/15 [==============================] - 0s 31ms/step - loss: 7.3872e-04 - val_loss: 3.0879e-04\n",
      "Epoch 89/100\n",
      "15/15 [==============================] - 0s 33ms/step - loss: 7.6673e-04 - val_loss: 2.9155e-04\n",
      "Epoch 90/100\n",
      "15/15 [==============================] - 1s 39ms/step - loss: 6.8905e-04 - val_loss: 3.0032e-04\n",
      "Epoch 91/100\n",
      "15/15 [==============================] - 0s 32ms/step - loss: 7.1699e-04 - val_loss: 2.8719e-04\n",
      "Epoch 92/100\n",
      "15/15 [==============================] - 0s 30ms/step - loss: 6.8544e-04 - val_loss: 2.9768e-04\n",
      "Epoch 93/100\n",
      "15/15 [==============================] - 0s 32ms/step - loss: 7.0810e-04 - val_loss: 2.8677e-04\n",
      "Epoch 94/100\n",
      "15/15 [==============================] - 1s 40ms/step - loss: 7.2166e-04 - val_loss: 3.1807e-04\n",
      "Epoch 95/100\n",
      "15/15 [==============================] - 1s 38ms/step - loss: 6.9603e-04 - val_loss: 2.8241e-04\n",
      "Epoch 96/100\n",
      "15/15 [==============================] - 1s 40ms/step - loss: 7.2096e-04 - val_loss: 2.9995e-04\n",
      "Epoch 97/100\n",
      "15/15 [==============================] - 1s 53ms/step - loss: 7.0455e-04 - val_loss: 2.9327e-04\n",
      "Epoch 98/100\n",
      "15/15 [==============================] - 1s 36ms/step - loss: 6.6898e-04 - val_loss: 2.7820e-04\n",
      "Epoch 99/100\n",
      "15/15 [==============================] - 1s 34ms/step - loss: 6.5298e-04 - val_loss: 2.7317e-04\n",
      "Epoch 100/100\n",
      "15/15 [==============================] - 0s 31ms/step - loss: 6.9465e-04 - val_loss: 2.7584e-04\n"
     ]
    },
    {
     "data": {
      "text/plain": [
       "<keras.src.callbacks.History at 0x221425e3ed0>"
      ]
     },
     "execution_count": 9,
     "metadata": {},
     "output_type": "execute_result"
    }
   ],
   "source": [
    "# 9. Fit mô hình với dữ liệu train\n",
    "model.fit(X_train,y_train,validation_data=(X_test,ytest),epochs=100,batch_size=64,verbose=1)"
   ]
  },
  {
   "cell_type": "code",
   "execution_count": 10,
   "metadata": {
    "colab": {
     "base_uri": "https://localhost:8080/"
    },
    "id": "Rxx_KQSkQpBG",
    "outputId": "0df24e91-aa54-4a9f-bd68-726fab1f58fd"
   },
   "outputs": [
    {
     "name": "stdout",
     "output_type": "stream",
     "text": [
      "30/30 [==============================] - 1s 10ms/step\n",
      "11/11 [==============================] - 0s 9ms/step\n"
     ]
    },
    {
     "ename": "ValueError",
     "evalue": "Expected input data to be non-empty.",
     "output_type": "error",
     "traceback": [
      "\u001b[1;31m---------------------------------------------------------------------------\u001b[0m",
      "\u001b[1;31mValueError\u001b[0m                                Traceback (most recent call last)",
      "Cell \u001b[1;32mIn[10], line 4\u001b[0m\n\u001b[0;32m      2\u001b[0m train_predict\u001b[38;5;241m=\u001b[39mmodel\u001b[38;5;241m.\u001b[39mpredict(X_train)\n\u001b[0;32m      3\u001b[0m y_pred\u001b[38;5;241m=\u001b[39mmodel\u001b[38;5;241m.\u001b[39mpredict(X_test)\n\u001b[1;32m----> 4\u001b[0m y_pred_val\u001b[38;5;241m=\u001b[39m\u001b[43mmodel\u001b[49m\u001b[38;5;241;43m.\u001b[39;49m\u001b[43mpredict\u001b[49m\u001b[43m(\u001b[49m\u001b[43mX_val\u001b[49m\u001b[43m)\u001b[49m\n",
      "File \u001b[1;32mc:\\Users\\Admin\\AppData\\Local\\Programs\\Python\\Python311\\Lib\\site-packages\\keras\\src\\utils\\traceback_utils.py:70\u001b[0m, in \u001b[0;36mfilter_traceback.<locals>.error_handler\u001b[1;34m(*args, **kwargs)\u001b[0m\n\u001b[0;32m     67\u001b[0m     filtered_tb \u001b[38;5;241m=\u001b[39m _process_traceback_frames(e\u001b[38;5;241m.\u001b[39m__traceback__)\n\u001b[0;32m     68\u001b[0m     \u001b[38;5;66;03m# To get the full stack trace, call:\u001b[39;00m\n\u001b[0;32m     69\u001b[0m     \u001b[38;5;66;03m# `tf.debugging.disable_traceback_filtering()`\u001b[39;00m\n\u001b[1;32m---> 70\u001b[0m     \u001b[38;5;28;01mraise\u001b[39;00m e\u001b[38;5;241m.\u001b[39mwith_traceback(filtered_tb) \u001b[38;5;28;01mfrom\u001b[39;00m \u001b[38;5;28;01mNone\u001b[39;00m\n\u001b[0;32m     71\u001b[0m \u001b[38;5;28;01mfinally\u001b[39;00m:\n\u001b[0;32m     72\u001b[0m     \u001b[38;5;28;01mdel\u001b[39;00m filtered_tb\n",
      "File \u001b[1;32mc:\\Users\\Admin\\AppData\\Local\\Programs\\Python\\Python311\\Lib\\site-packages\\keras\\src\\engine\\data_adapter.py:1319\u001b[0m, in \u001b[0;36mDataHandler.__init__\u001b[1;34m(self, x, y, sample_weight, batch_size, steps_per_epoch, initial_epoch, epochs, shuffle, class_weight, max_queue_size, workers, use_multiprocessing, model, steps_per_execution, distribute, pss_evaluation_shards)\u001b[0m\n\u001b[0;32m   1314\u001b[0m \u001b[38;5;28mself\u001b[39m\u001b[38;5;241m.\u001b[39m_configure_dataset_and_inferred_steps(\n\u001b[0;32m   1315\u001b[0m     strategy, x, steps_per_epoch, class_weight, distribute\n\u001b[0;32m   1316\u001b[0m )\n\u001b[0;32m   1318\u001b[0m \u001b[38;5;28;01mif\u001b[39;00m \u001b[38;5;28mself\u001b[39m\u001b[38;5;241m.\u001b[39m_inferred_steps \u001b[38;5;241m==\u001b[39m \u001b[38;5;241m0\u001b[39m:\n\u001b[1;32m-> 1319\u001b[0m     \u001b[38;5;28;01mraise\u001b[39;00m \u001b[38;5;167;01mValueError\u001b[39;00m(\u001b[38;5;124m\"\u001b[39m\u001b[38;5;124mExpected input data to be non-empty.\u001b[39m\u001b[38;5;124m\"\u001b[39m)\n",
      "\u001b[1;31mValueError\u001b[0m: Expected input data to be non-empty."
     ]
    }
   ],
   "source": [
    "# 10. Dự báo dữ liệu test, val\n",
    "train_predict=model.predict(X_train)\n",
    "y_pred=model.predict(X_test)\n",
    "y_pred_val=model.predict(X_val)"
   ]
  },
  {
   "cell_type": "code",
   "execution_count": null,
   "metadata": {
    "id": "5rwTN10LQ7rj"
   },
   "outputs": [],
   "source": [
    "# 11. Chuẩn hóa dữ liệu y_pred, y_pred_val\n",
    "train_predict=scaler.inverse_transform(train_predict)\n",
    "y_pred=scaler.inverse_transform(y_pred)\n",
    "y_pred_val=scaler.inverse_transform(y_pred_val)"
   ]
  },
  {
   "cell_type": "code",
   "execution_count": null,
   "metadata": {
    "colab": {
     "base_uri": "https://localhost:8080/"
    },
    "id": "wu_9j94kRonD",
    "outputId": "8da934dd-5814-417e-ba82-455854690d92"
   },
   "outputs": [
    {
     "name": "stdout",
     "output_type": "stream",
     "text": [
      "Validation RMSE: 13049.486468710187\n",
      "Testing RMSE: 11624.011301595356\n"
     ]
    }
   ],
   "source": [
    "# 12. Đánh giá độ chính xác thuật toán bằng RMSE\n",
    "valid_rmse = np.sqrt(np.mean((y_pred_val - yval)**2))\n",
    "test_rmse = np.sqrt(np.mean((y_pred - ytest)**2))\n",
    "print('Validation RMSE:', valid_rmse)\n",
    "print('Testing RMSE:', test_rmse)"
   ]
  },
  {
   "cell_type": "code",
   "execution_count": null,
   "metadata": {
    "colab": {
     "base_uri": "https://localhost:8080/"
    },
    "id": "izQZ1iQyYl6N",
    "outputId": "da89916c-d28c-486b-ed14-b64d0463058c"
   },
   "outputs": [
    {
     "name": "stdout",
     "output_type": "stream",
     "text": [
      "[0.13438883]\n",
      "91\n",
      "[0.13438883]\n",
      "92\n",
      "[0.13438883]\n",
      "93\n",
      "[0.13438883]\n",
      "94\n",
      "[0.13438883]\n",
      "95\n",
      "[0.13438883]\n",
      "96\n",
      "[0.13438883]\n",
      "97\n",
      "[0.13438883]\n",
      "98\n",
      "[0.13438883]\n",
      "99\n",
      "[0.13438883]\n",
      "100\n",
      "[0.13438883]\n",
      "101\n",
      "11 day input [0.24989235 0.272766   0.26971463 0.2651399  0.24074288 0.271238\n",
      " 0.28649019 0.29563502 0.25904181 0.25751844 0.23464479 0.24074288\n",
      " 0.21329913 0.271238   0.272766   0.32765814 0.32155541 0.33985433\n",
      " 0.34900379 0.3352796  0.33375623 0.35510189 0.33833096 0.36425135\n",
      " 0.37340081 0.37034945 0.35357852 0.34290569 0.3413777  0.34442906\n",
      " 0.30630785 0.30478448 0.30935921 0.31850867 0.31545731 0.29563502\n",
      " 0.31088258 0.32460677 0.33223287 0.31088258 0.29286611 0.27900301\n",
      " 0.27622946 0.27622946 0.26791345 0.2429608  0.22217077 0.22078632\n",
      " 0.23048678 0.20414967 0.23880279 0.23187587 0.24573434 0.23741833\n",
      " 0.22217077 0.21385477 0.20692322 0.21108122 0.19999167 0.1764281\n",
      " 0.14731744 0.14177498 0.15840699 0.13345434 0.14870653 0.16949655\n",
      " 0.162565   0.17227009 0.17088101 0.1764281  0.17781256 0.17365455\n",
      " 0.16395409 0.16811209 0.15147544 0.14177498 0.14177498 0.13484343\n",
      " 0.13206988 0.13484343 0.13622788 0.14870653 0.14593298 0.15286453\n",
      " 0.15009099 0.13206988 0.13206988 0.13068542 0.13206988 0.13438883\n",
      " 0.13438883 0.13438883 0.13438883 0.13438883 0.13438883 0.13438883\n",
      " 0.13438883 0.13438883 0.13438883 0.13438883]\n"
     ]
    },
    {
     "ename": "ValueError",
     "evalue": "cannot reshape array of size 100 into shape (1,90,1)",
     "output_type": "error",
     "traceback": [
      "\u001b[1;31m---------------------------------------------------------------------------\u001b[0m",
      "\u001b[1;31mValueError\u001b[0m                                Traceback (most recent call last)",
      "Cell \u001b[1;32mIn[14], line 20\u001b[0m\n\u001b[0;32m     18\u001b[0m \u001b[38;5;28mprint\u001b[39m(\u001b[38;5;124m\"\u001b[39m\u001b[38;5;132;01m{}\u001b[39;00m\u001b[38;5;124m day input \u001b[39m\u001b[38;5;132;01m{}\u001b[39;00m\u001b[38;5;124m\"\u001b[39m\u001b[38;5;241m.\u001b[39mformat(i,x_input))\n\u001b[0;32m     19\u001b[0m x_input\u001b[38;5;241m=\u001b[39mx_input\u001b[38;5;241m.\u001b[39mreshape(\u001b[38;5;241m1\u001b[39m,\u001b[38;5;241m-\u001b[39m\u001b[38;5;241m1\u001b[39m)\n\u001b[1;32m---> 20\u001b[0m x_input \u001b[38;5;241m=\u001b[39m \u001b[43mx_input\u001b[49m\u001b[38;5;241;43m.\u001b[39;49m\u001b[43mreshape\u001b[49m\u001b[43m(\u001b[49m\u001b[43m(\u001b[49m\u001b[38;5;241;43m1\u001b[39;49m\u001b[43m,\u001b[49m\u001b[43m \u001b[49m\u001b[43mn_steps\u001b[49m\u001b[43m,\u001b[49m\u001b[43m \u001b[49m\u001b[38;5;241;43m1\u001b[39;49m\u001b[43m)\u001b[49m\u001b[43m)\u001b[49m\n\u001b[0;32m     21\u001b[0m \u001b[38;5;66;03m#print(x_input)\u001b[39;00m\n\u001b[0;32m     22\u001b[0m yhat \u001b[38;5;241m=\u001b[39m model\u001b[38;5;241m.\u001b[39mpredict(x_input, verbose\u001b[38;5;241m=\u001b[39m\u001b[38;5;241m0\u001b[39m)\n",
      "\u001b[1;31mValueError\u001b[0m: cannot reshape array of size 100 into shape (1,90,1)"
     ]
    }
   ],
   "source": [
    "# 13. Dự báo 30 ngày tiếp theo\n",
    "x_input=val_data[60:].reshape(1,-1)\n",
    "x_input.shape\n",
    "\n",
    "temp_input=list(x_input)\n",
    "temp_input=temp_input[0].tolist()\n",
    "\n",
    "from numpy import array\n",
    "\n",
    "lst_output=[]\n",
    "n_steps=90\n",
    "i=0\n",
    "while(i<30):\n",
    "    \n",
    "    if(len(temp_input)>100):\n",
    "        #print(temp_input)\n",
    "        x_input=np.array(temp_input[1:])\n",
    "        print(\"{} day input {}\".format(i,x_input))\n",
    "        x_input=x_input.reshape(1,-1)\n",
    "        x_input = x_input.reshape((1, n_steps, 1))\n",
    "        #print(x_input)\n",
    "        yhat = model.predict(x_input, verbose=0)\n",
    "        print(\"{} day output {}\".format(i,yhat))\n",
    "        temp_input.extend(yhat[0].tolist())\n",
    "        temp_input=temp_input[1:]\n",
    "        #print(temp_input)\n",
    "        lst_output.extend(yhat.tolist())\n",
    "        i=i+1\n",
    "    else:\n",
    "        x_input = x_input.reshape((1, n_steps,1))\n",
    "        yhat = model.predict(x_input, verbose=0)\n",
    "        print(yhat[0])\n",
    "        temp_input.extend(yhat[0].tolist())\n",
    "        print(len(temp_input))\n",
    "        lst_output.extend(yhat.tolist())\n",
    "        i=i+1\n"
   ]
  },
  {
   "cell_type": "code",
   "execution_count": null,
   "metadata": {
    "colab": {
     "base_uri": "https://localhost:8080/",
     "height": 430
    },
    "id": "KSa_mX51a654",
    "outputId": "60c3f172-2b6b-4e2f-970a-0a019c68e551"
   },
   "outputs": [
    {
     "ename": "ValueError",
     "evalue": "x and y must have same first dimension, but have shapes (30,) and (11, 1)",
     "output_type": "error",
     "traceback": [
      "\u001b[1;31m---------------------------------------------------------------------------\u001b[0m",
      "\u001b[1;31mValueError\u001b[0m                                Traceback (most recent call last)",
      "Cell \u001b[1;32mIn[15], line 10\u001b[0m\n\u001b[0;32m      8\u001b[0m plt\u001b[38;5;241m.\u001b[39mplot(test_data_index, (y_pred))\n\u001b[0;32m      9\u001b[0m prediect_data_index \u001b[38;5;241m=\u001b[39m pd\u001b[38;5;241m.\u001b[39mRangeIndex(start\u001b[38;5;241m=\u001b[39m\u001b[38;5;28mlen\u001b[39m(df1)\u001b[38;5;241m-\u001b[39m\u001b[38;5;241m1\u001b[39m, stop\u001b[38;5;241m=\u001b[39m\u001b[38;5;28mlen\u001b[39m(df1)\u001b[38;5;241m+\u001b[39m\u001b[38;5;241m29\u001b[39m, step\u001b[38;5;241m=\u001b[39m\u001b[38;5;241m1\u001b[39m)\n\u001b[1;32m---> 10\u001b[0m \u001b[43mplt\u001b[49m\u001b[38;5;241;43m.\u001b[39;49m\u001b[43mplot\u001b[49m\u001b[43m(\u001b[49m\u001b[43mprediect_data_index\u001b[49m\u001b[43m,\u001b[49m\u001b[43m \u001b[49m\u001b[43mscaler\u001b[49m\u001b[38;5;241;43m.\u001b[39;49m\u001b[43minverse_transform\u001b[49m\u001b[43m(\u001b[49m\u001b[43mlst_output\u001b[49m\u001b[43m)\u001b[49m\u001b[43m)\u001b[49m\n\u001b[0;32m     11\u001b[0m plt\u001b[38;5;241m.\u001b[39mlegend([\u001b[38;5;124m'\u001b[39m\u001b[38;5;124mTrain\u001b[39m\u001b[38;5;124m'\u001b[39m, \u001b[38;5;124m'\u001b[39m\u001b[38;5;124mTest\u001b[39m\u001b[38;5;124m'\u001b[39m, \u001b[38;5;124m'\u001b[39m\u001b[38;5;124mPredict\u001b[39m\u001b[38;5;124m'\u001b[39m, \u001b[38;5;124m'\u001b[39m\u001b[38;5;124mPredict30days\u001b[39m\u001b[38;5;124m'\u001b[39m])\n\u001b[0;32m     12\u001b[0m plt\u001b[38;5;241m.\u001b[39mshow()\n",
      "File \u001b[1;32m~\\AppData\\Local\\Programs\\Python\\Python311\\Lib\\site-packages\\matplotlib\\pyplot.py:3575\u001b[0m, in \u001b[0;36mplot\u001b[1;34m(scalex, scaley, data, *args, **kwargs)\u001b[0m\n\u001b[0;32m   3567\u001b[0m \u001b[38;5;129m@_copy_docstring_and_deprecators\u001b[39m(Axes\u001b[38;5;241m.\u001b[39mplot)\n\u001b[0;32m   3568\u001b[0m \u001b[38;5;28;01mdef\u001b[39;00m \u001b[38;5;21mplot\u001b[39m(\n\u001b[0;32m   3569\u001b[0m     \u001b[38;5;241m*\u001b[39margs: \u001b[38;5;28mfloat\u001b[39m \u001b[38;5;241m|\u001b[39m ArrayLike \u001b[38;5;241m|\u001b[39m \u001b[38;5;28mstr\u001b[39m,\n\u001b[1;32m   (...)\u001b[0m\n\u001b[0;32m   3573\u001b[0m     \u001b[38;5;241m*\u001b[39m\u001b[38;5;241m*\u001b[39mkwargs,\n\u001b[0;32m   3574\u001b[0m ) \u001b[38;5;241m-\u001b[39m\u001b[38;5;241m>\u001b[39m \u001b[38;5;28mlist\u001b[39m[Line2D]:\n\u001b[1;32m-> 3575\u001b[0m     \u001b[38;5;28;01mreturn\u001b[39;00m \u001b[43mgca\u001b[49m\u001b[43m(\u001b[49m\u001b[43m)\u001b[49m\u001b[38;5;241;43m.\u001b[39;49m\u001b[43mplot\u001b[49m\u001b[43m(\u001b[49m\n\u001b[0;32m   3576\u001b[0m \u001b[43m        \u001b[49m\u001b[38;5;241;43m*\u001b[39;49m\u001b[43margs\u001b[49m\u001b[43m,\u001b[49m\n\u001b[0;32m   3577\u001b[0m \u001b[43m        \u001b[49m\u001b[43mscalex\u001b[49m\u001b[38;5;241;43m=\u001b[39;49m\u001b[43mscalex\u001b[49m\u001b[43m,\u001b[49m\n\u001b[0;32m   3578\u001b[0m \u001b[43m        \u001b[49m\u001b[43mscaley\u001b[49m\u001b[38;5;241;43m=\u001b[39;49m\u001b[43mscaley\u001b[49m\u001b[43m,\u001b[49m\n\u001b[0;32m   3579\u001b[0m \u001b[43m        \u001b[49m\u001b[38;5;241;43m*\u001b[39;49m\u001b[38;5;241;43m*\u001b[39;49m\u001b[43m(\u001b[49m\u001b[43m{\u001b[49m\u001b[38;5;124;43m\"\u001b[39;49m\u001b[38;5;124;43mdata\u001b[39;49m\u001b[38;5;124;43m\"\u001b[39;49m\u001b[43m:\u001b[49m\u001b[43m \u001b[49m\u001b[43mdata\u001b[49m\u001b[43m}\u001b[49m\u001b[43m \u001b[49m\u001b[38;5;28;43;01mif\u001b[39;49;00m\u001b[43m \u001b[49m\u001b[43mdata\u001b[49m\u001b[43m \u001b[49m\u001b[38;5;129;43;01mis\u001b[39;49;00m\u001b[43m \u001b[49m\u001b[38;5;129;43;01mnot\u001b[39;49;00m\u001b[43m \u001b[49m\u001b[38;5;28;43;01mNone\u001b[39;49;00m\u001b[43m \u001b[49m\u001b[38;5;28;43;01melse\u001b[39;49;00m\u001b[43m \u001b[49m\u001b[43m{\u001b[49m\u001b[43m}\u001b[49m\u001b[43m)\u001b[49m\u001b[43m,\u001b[49m\n\u001b[0;32m   3580\u001b[0m \u001b[43m        \u001b[49m\u001b[38;5;241;43m*\u001b[39;49m\u001b[38;5;241;43m*\u001b[39;49m\u001b[43mkwargs\u001b[49m\u001b[43m,\u001b[49m\n\u001b[0;32m   3581\u001b[0m \u001b[43m    \u001b[49m\u001b[43m)\u001b[49m\n",
      "File \u001b[1;32m~\\AppData\\Local\\Programs\\Python\\Python311\\Lib\\site-packages\\matplotlib\\axes\\_axes.py:1721\u001b[0m, in \u001b[0;36mAxes.plot\u001b[1;34m(self, scalex, scaley, data, *args, **kwargs)\u001b[0m\n\u001b[0;32m   1478\u001b[0m \u001b[38;5;250m\u001b[39m\u001b[38;5;124;03m\"\"\"\u001b[39;00m\n\u001b[0;32m   1479\u001b[0m \u001b[38;5;124;03mPlot y versus x as lines and/or markers.\u001b[39;00m\n\u001b[0;32m   1480\u001b[0m \n\u001b[1;32m   (...)\u001b[0m\n\u001b[0;32m   1718\u001b[0m \u001b[38;5;124;03m(``'green'``) or hex strings (``'#008000'``).\u001b[39;00m\n\u001b[0;32m   1719\u001b[0m \u001b[38;5;124;03m\"\"\"\u001b[39;00m\n\u001b[0;32m   1720\u001b[0m kwargs \u001b[38;5;241m=\u001b[39m cbook\u001b[38;5;241m.\u001b[39mnormalize_kwargs(kwargs, mlines\u001b[38;5;241m.\u001b[39mLine2D)\n\u001b[1;32m-> 1721\u001b[0m lines \u001b[38;5;241m=\u001b[39m [\u001b[38;5;241m*\u001b[39m\u001b[38;5;28mself\u001b[39m\u001b[38;5;241m.\u001b[39m_get_lines(\u001b[38;5;28mself\u001b[39m, \u001b[38;5;241m*\u001b[39margs, data\u001b[38;5;241m=\u001b[39mdata, \u001b[38;5;241m*\u001b[39m\u001b[38;5;241m*\u001b[39mkwargs)]\n\u001b[0;32m   1722\u001b[0m \u001b[38;5;28;01mfor\u001b[39;00m line \u001b[38;5;129;01min\u001b[39;00m lines:\n\u001b[0;32m   1723\u001b[0m     \u001b[38;5;28mself\u001b[39m\u001b[38;5;241m.\u001b[39madd_line(line)\n",
      "File \u001b[1;32m~\\AppData\\Local\\Programs\\Python\\Python311\\Lib\\site-packages\\matplotlib\\axes\\_base.py:303\u001b[0m, in \u001b[0;36m_process_plot_var_args.__call__\u001b[1;34m(self, axes, data, *args, **kwargs)\u001b[0m\n\u001b[0;32m    301\u001b[0m     this \u001b[38;5;241m+\u001b[39m\u001b[38;5;241m=\u001b[39m args[\u001b[38;5;241m0\u001b[39m],\n\u001b[0;32m    302\u001b[0m     args \u001b[38;5;241m=\u001b[39m args[\u001b[38;5;241m1\u001b[39m:]\n\u001b[1;32m--> 303\u001b[0m \u001b[38;5;28;01myield from\u001b[39;00m \u001b[38;5;28;43mself\u001b[39;49m\u001b[38;5;241;43m.\u001b[39;49m\u001b[43m_plot_args\u001b[49m\u001b[43m(\u001b[49m\n\u001b[0;32m    304\u001b[0m \u001b[43m    \u001b[49m\u001b[43maxes\u001b[49m\u001b[43m,\u001b[49m\u001b[43m \u001b[49m\u001b[43mthis\u001b[49m\u001b[43m,\u001b[49m\u001b[43m \u001b[49m\u001b[43mkwargs\u001b[49m\u001b[43m,\u001b[49m\u001b[43m \u001b[49m\u001b[43mambiguous_fmt_datakey\u001b[49m\u001b[38;5;241;43m=\u001b[39;49m\u001b[43mambiguous_fmt_datakey\u001b[49m\u001b[43m)\u001b[49m\n",
      "File \u001b[1;32m~\\AppData\\Local\\Programs\\Python\\Python311\\Lib\\site-packages\\matplotlib\\axes\\_base.py:499\u001b[0m, in \u001b[0;36m_process_plot_var_args._plot_args\u001b[1;34m(self, axes, tup, kwargs, return_kwargs, ambiguous_fmt_datakey)\u001b[0m\n\u001b[0;32m    496\u001b[0m     axes\u001b[38;5;241m.\u001b[39myaxis\u001b[38;5;241m.\u001b[39mupdate_units(y)\n\u001b[0;32m    498\u001b[0m \u001b[38;5;28;01mif\u001b[39;00m x\u001b[38;5;241m.\u001b[39mshape[\u001b[38;5;241m0\u001b[39m] \u001b[38;5;241m!=\u001b[39m y\u001b[38;5;241m.\u001b[39mshape[\u001b[38;5;241m0\u001b[39m]:\n\u001b[1;32m--> 499\u001b[0m     \u001b[38;5;28;01mraise\u001b[39;00m \u001b[38;5;167;01mValueError\u001b[39;00m(\u001b[38;5;124mf\u001b[39m\u001b[38;5;124m\"\u001b[39m\u001b[38;5;124mx and y must have same first dimension, but \u001b[39m\u001b[38;5;124m\"\u001b[39m\n\u001b[0;32m    500\u001b[0m                      \u001b[38;5;124mf\u001b[39m\u001b[38;5;124m\"\u001b[39m\u001b[38;5;124mhave shapes \u001b[39m\u001b[38;5;132;01m{\u001b[39;00mx\u001b[38;5;241m.\u001b[39mshape\u001b[38;5;132;01m}\u001b[39;00m\u001b[38;5;124m and \u001b[39m\u001b[38;5;132;01m{\u001b[39;00my\u001b[38;5;241m.\u001b[39mshape\u001b[38;5;132;01m}\u001b[39;00m\u001b[38;5;124m\"\u001b[39m)\n\u001b[0;32m    501\u001b[0m \u001b[38;5;28;01mif\u001b[39;00m x\u001b[38;5;241m.\u001b[39mndim \u001b[38;5;241m>\u001b[39m \u001b[38;5;241m2\u001b[39m \u001b[38;5;129;01mor\u001b[39;00m y\u001b[38;5;241m.\u001b[39mndim \u001b[38;5;241m>\u001b[39m \u001b[38;5;241m2\u001b[39m:\n\u001b[0;32m    502\u001b[0m     \u001b[38;5;28;01mraise\u001b[39;00m \u001b[38;5;167;01mValueError\u001b[39;00m(\u001b[38;5;124mf\u001b[39m\u001b[38;5;124m\"\u001b[39m\u001b[38;5;124mx and y can be no greater than 2D, but have \u001b[39m\u001b[38;5;124m\"\u001b[39m\n\u001b[0;32m    503\u001b[0m                      \u001b[38;5;124mf\u001b[39m\u001b[38;5;124m\"\u001b[39m\u001b[38;5;124mshapes \u001b[39m\u001b[38;5;132;01m{\u001b[39;00mx\u001b[38;5;241m.\u001b[39mshape\u001b[38;5;132;01m}\u001b[39;00m\u001b[38;5;124m and \u001b[39m\u001b[38;5;132;01m{\u001b[39;00my\u001b[38;5;241m.\u001b[39mshape\u001b[38;5;132;01m}\u001b[39;00m\u001b[38;5;124m\"\u001b[39m)\n",
      "\u001b[1;31mValueError\u001b[0m: x and y must have same first dimension, but have shapes (30,) and (11, 1)"
     ]
    },
    {
     "data": {
      "image/png": "[encoded data removed]",
      "text/plain": [
       "<Figure size 640x480 with 1 Axes>"
      ]
     },
     "metadata": {},
     "output_type": "display_data"
    }
   ],
   "source": [
    "# 14.Vẽ hình\n",
    "\n",
    "train_data_index = pd.RangeIndex(start=0, stop=train_size, step=1)\n",
    "plt.plot(scaler.inverse_transform(train_data))\n",
    "test_data_index = pd.RangeIndex(start=train_size, stop=train_size+test_size, step=1)\n",
    "plt.plot(test_data_index, scaler.inverse_transform(test_data))\n",
    "test_data_index = pd.RangeIndex(start=train_size+101, stop=train_size+test_size, step=1)\n",
    "plt.plot(test_data_index, (y_pred))\n",
    "prediect_data_index = pd.RangeIndex(start=len(df1)-1, stop=len(df1)+29, step=1)\n",
    "plt.plot(prediect_data_index, scaler.inverse_transform(lst_output))\n",
    "plt.legend(['Train', 'Test', 'Predict', 'Predict30days'])\n",
    "plt.show()"
   ]
  },
  {
   "cell_type": "code",
   "execution_count": null,
   "metadata": {},
   "outputs": [],
   "source": []
  }
 ],
 "metadata": {
  "colab": {
   "provenance": []
  },
  "kernelspec": {
   "display_name": "Python 3 (ipykernel)",
   "language": "python",
   "name": "python3"
  },
  "language_info": {
   "codemirror_mode": {
    "name": "ipython",
    "version": 3
   },
   "file_extension": ".py",
   "mimetype": "text/x-python",
   "name": "python",
   "nbconvert_exporter": "python",
   "pygments_lexer": "ipython3",
   "version": "3.11.5"
  }
 },
 "nbformat": 4,
 "nbformat_minor": 4
}
