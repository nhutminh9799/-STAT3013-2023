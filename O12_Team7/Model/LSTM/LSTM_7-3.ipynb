{
  "cells": [
    {
      "cell_type": "code",
      "execution_count": 5,
      "metadata": {
        "colab": {
          "base_uri": "https://localhost:8080/"
        },
        "id": "FMDKda-XIUAK",
        "outputId": "be988c00-2f6c-43b6-a7bf-69a486a7845c"
      },
      "outputs": [],
      "source": [
        "# 1. Import thư viện cần thiết\n",
        "import numpy as np\n",
        "import pandas as pd\n",
        "import matplotlib.pyplot as plt\n",
        "from sklearn.preprocessing import MinMaxScaler\n",
        "from keras.models import Sequential\n",
        "from keras.layers import Dense, LSTM"
      ]
    },
    {
      "cell_type": "code",
      "execution_count": 6,
      "metadata": {
        "id": "aRm9GQ8KJJ5N"
      },
      "outputs": [],
      "source": [
        "# 2. Đọc file csv và gắng index với giá Close\n",
        "df = pd.read_csv('C:\\\\Users\\\\Admin\\\\Downloads\\\\ACB.csv')\n",
        "df1=df.reset_index()['Close']\n",
        "df1 = df1.str.replace(',', '').astype(float)"
      ]
    },
    {
      "cell_type": "code",
      "execution_count": 7,
      "metadata": {
        "id": "RdVpDho2JgL5"
      },
      "outputs": [],
      "source": [
        "# 3. Scaler data\n",
        "scaler=MinMaxScaler(feature_range=(0,1))\n",
        "df1=scaler.fit_transform(np.array(df1).reshape(-1,1))"
      ]
    },
    {
      "cell_type": "code",
      "execution_count": 8,
      "metadata": {
        "id": "B5JXpenzJoR3"
      },
      "outputs": [],
      "source": [
        "# 4. Chia train test\n",
        "train_size = int(0.7 * len(df1))\n",
        "test_size = int(0.3 * len(df1))\n",
        "\n",
        "train_data = df1[:train_size]\n",
        "test_data = df1[train_size:train_size+test_size]\n"
      ]
    },
    {
      "cell_type": "code",
      "execution_count": 9,
      "metadata": {
        "id": "yJfmuBORLSfC"
      },
      "outputs": [],
      "source": [
        "# 5. Hàm Create Dataset\n",
        "import numpy\n",
        "# convert an array of values into a dataset matrix\n",
        "def create_dataset(dataset, time_step=1):\n",
        "\tdataX, dataY = [], []\n",
        "\tfor i in range(len(dataset)-time_step-1):\n",
        "\t\ta = dataset[i:(i+time_step), 0]   ###i=0, X=0,1,2,3-----99   Y=100 \n",
        "\t\tdataX.append(a)\n",
        "\t\tdataY.append(dataset[i + time_step, 0])\n",
        "\treturn numpy.array(dataX), numpy.array(dataY)"
      ]
    },
    {
      "cell_type": "code",
      "execution_count": 10,
      "metadata": {
        "id": "e81cKq03LXFB"
      },
      "outputs": [],
      "source": [
        "#6. Reshape into X=t,t+1,t+2..t+99 and Y=t+100\n",
        "\n",
        "time_step = 100\n",
        "X_train, y_train = create_dataset(train_data, time_step)\n",
        "X_test, ytest = create_dataset(test_data, time_step)"
      ]
    },
    {
      "cell_type": "code",
      "execution_count": 11,
      "metadata": {
        "id": "RdBVfku7O2qb"
      },
      "outputs": [],
      "source": [
        "# 7. Reshape input to be [samples, time steps, features] which is required for LSTM\n",
        "X_train =X_train.reshape(X_train.shape[0],X_train.shape[1] , 1)\n",
        "X_test = X_test.reshape(X_test.shape[0],X_test.shape[1] , 1)"
      ]
    },
    {
      "cell_type": "code",
      "execution_count": 12,
      "metadata": {
        "id": "sSfxrE7BO9vX"
      },
      "outputs": [
        {
          "name": "stdout",
          "output_type": "stream",
          "text": [
            "WARNING:tensorflow:From c:\\Users\\Admin\\AppData\\Local\\Programs\\Python\\Python311\\Lib\\site-packages\\keras\\src\\backend.py:873: The name tf.get_default_graph is deprecated. Please use tf.compat.v1.get_default_graph instead.\n",
            "\n",
            "WARNING:tensorflow:From c:\\Users\\Admin\\AppData\\Local\\Programs\\Python\\Python311\\Lib\\site-packages\\keras\\src\\optimizers\\__init__.py:309: The name tf.train.Optimizer is deprecated. Please use tf.compat.v1.train.Optimizer instead.\n",
            "\n"
          ]
        }
      ],
      "source": [
        "# 8. Define LSTM Model\n",
        "\n",
        "model=Sequential()\n",
        "model.add(LSTM(50,return_sequences=True,input_shape=(100,1)))\n",
        "model.add(LSTM(50,return_sequences=True))\n",
        "model.add(LSTM(50))\n",
        "model.add(Dense(1))\n",
        "model.compile(loss='mean_squared_error',optimizer='adam')"
      ]
    },
    {
      "cell_type": "code",
      "execution_count": 13,
      "metadata": {
        "colab": {
          "base_uri": "https://localhost:8080/"
        },
        "id": "zgfeujZSPEKr",
        "outputId": "87151598-3792-46b5-857d-e7626c6a63de"
      },
      "outputs": [
        {
          "name": "stdout",
          "output_type": "stream",
          "text": [
            "Epoch 1/100\n",
            "WARNING:tensorflow:From c:\\Users\\Admin\\AppData\\Local\\Programs\\Python\\Python311\\Lib\\site-packages\\keras\\src\\utils\\tf_utils.py:492: The name tf.ragged.RaggedTensorValue is deprecated. Please use tf.compat.v1.ragged.RaggedTensorValue instead.\n",
            "\n",
            "15/15 [==============================] - 15s 219ms/step - loss: 0.0690\n",
            "Epoch 2/100\n",
            "15/15 [==============================] - 3s 188ms/step - loss: 0.0092\n",
            "Epoch 3/100\n",
            "15/15 [==============================] - 3s 222ms/step - loss: 0.0042\n",
            "Epoch 4/100\n",
            "15/15 [==============================] - 3s 220ms/step - loss: 0.0029\n",
            "Epoch 5/100\n",
            "15/15 [==============================] - 3s 180ms/step - loss: 0.0028\n",
            "Epoch 6/100\n",
            "15/15 [==============================] - 3s 188ms/step - loss: 0.0027\n",
            "Epoch 7/100\n",
            "15/15 [==============================] - 3s 180ms/step - loss: 0.0027\n",
            "Epoch 8/100\n",
            "15/15 [==============================] - 3s 190ms/step - loss: 0.0026\n",
            "Epoch 9/100\n",
            "15/15 [==============================] - 3s 170ms/step - loss: 0.0027\n",
            "Epoch 10/100\n",
            "15/15 [==============================] - 3s 173ms/step - loss: 0.0027\n",
            "Epoch 11/100\n",
            "15/15 [==============================] - 2s 165ms/step - loss: 0.0027\n",
            "Epoch 12/100\n",
            "15/15 [==============================] - 3s 200ms/step - loss: 0.0025\n",
            "Epoch 13/100\n",
            "15/15 [==============================] - 3s 203ms/step - loss: 0.0024\n",
            "Epoch 14/100\n",
            "15/15 [==============================] - 3s 213ms/step - loss: 0.0025\n",
            "Epoch 15/100\n",
            "15/15 [==============================] - 3s 228ms/step - loss: 0.0024\n",
            "Epoch 16/100\n",
            "15/15 [==============================] - 3s 223ms/step - loss: 0.0024\n",
            "Epoch 17/100\n",
            "15/15 [==============================] - 3s 226ms/step - loss: 0.0023\n",
            "Epoch 18/100\n",
            "15/15 [==============================] - 3s 222ms/step - loss: 0.0022\n",
            "Epoch 19/100\n",
            "15/15 [==============================] - 3s 213ms/step - loss: 0.0022\n",
            "Epoch 20/100\n",
            "15/15 [==============================] - 3s 222ms/step - loss: 0.0022\n",
            "Epoch 21/100\n",
            "15/15 [==============================] - 4s 279ms/step - loss: 0.0021\n",
            "Epoch 22/100\n",
            "15/15 [==============================] - 4s 235ms/step - loss: 0.0021\n",
            "Epoch 23/100\n",
            "15/15 [==============================] - 4s 253ms/step - loss: 0.0020\n",
            "Epoch 24/100\n",
            "15/15 [==============================] - 3s 232ms/step - loss: 0.0019\n",
            "Epoch 25/100\n",
            "15/15 [==============================] - 4s 234ms/step - loss: 0.0020\n",
            "Epoch 26/100\n",
            "15/15 [==============================] - 3s 200ms/step - loss: 0.0019\n",
            "Epoch 27/100\n",
            "15/15 [==============================] - 3s 222ms/step - loss: 0.0019\n",
            "Epoch 28/100\n",
            "15/15 [==============================] - 5s 347ms/step - loss: 0.0018\n",
            "Epoch 29/100\n",
            "15/15 [==============================] - 5s 311ms/step - loss: 0.0018\n",
            "Epoch 30/100\n",
            "15/15 [==============================] - 4s 253ms/step - loss: 0.0020\n",
            "Epoch 31/100\n",
            "15/15 [==============================] - 3s 230ms/step - loss: 0.0017\n",
            "Epoch 32/100\n",
            "15/15 [==============================] - 4s 282ms/step - loss: 0.0016\n",
            "Epoch 33/100\n",
            "15/15 [==============================] - 4s 262ms/step - loss: 0.0015\n",
            "Epoch 34/100\n",
            "15/15 [==============================] - 4s 259ms/step - loss: 0.0014\n",
            "Epoch 35/100\n",
            "15/15 [==============================] - 4s 279ms/step - loss: 0.0013\n",
            "Epoch 36/100\n",
            "15/15 [==============================] - 4s 279ms/step - loss: 0.0013\n",
            "Epoch 37/100\n",
            "15/15 [==============================] - 5s 349ms/step - loss: 0.0014\n",
            "Epoch 38/100\n",
            "15/15 [==============================] - 4s 276ms/step - loss: 0.0012\n",
            "Epoch 39/100\n",
            "15/15 [==============================] - 4s 293ms/step - loss: 0.0012\n",
            "Epoch 40/100\n",
            "15/15 [==============================] - 3s 224ms/step - loss: 0.0013\n",
            "Epoch 41/100\n",
            "15/15 [==============================] - 4s 252ms/step - loss: 0.0012\n",
            "Epoch 42/100\n",
            "15/15 [==============================] - 4s 262ms/step - loss: 0.0012\n",
            "Epoch 43/100\n",
            "15/15 [==============================] - 4s 285ms/step - loss: 0.0012\n",
            "Epoch 44/100\n",
            "15/15 [==============================] - 4s 249ms/step - loss: 0.0011\n",
            "Epoch 45/100\n",
            "15/15 [==============================] - 4s 262ms/step - loss: 0.0010\n",
            "Epoch 46/100\n",
            "15/15 [==============================] - 4s 273ms/step - loss: 0.0010\n",
            "Epoch 47/100\n",
            "15/15 [==============================] - 4s 246ms/step - loss: 0.0010\n",
            "Epoch 48/100\n",
            "15/15 [==============================] - 4s 284ms/step - loss: 0.0012\n",
            "Epoch 49/100\n",
            "15/15 [==============================] - 5s 312ms/step - loss: 0.0011\n",
            "Epoch 50/100\n",
            "15/15 [==============================] - 4s 268ms/step - loss: 0.0010\n",
            "Epoch 51/100\n",
            "15/15 [==============================] - 4s 294ms/step - loss: 9.5462e-04\n",
            "Epoch 52/100\n",
            "15/15 [==============================] - 6s 386ms/step - loss: 0.0011\n",
            "Epoch 53/100\n",
            "15/15 [==============================] - 5s 315ms/step - loss: 0.0011\n",
            "Epoch 54/100\n",
            "15/15 [==============================] - 4s 287ms/step - loss: 0.0011\n",
            "Epoch 55/100\n",
            "15/15 [==============================] - 4s 265ms/step - loss: 0.0010\n",
            "Epoch 56/100\n",
            "15/15 [==============================] - 5s 308ms/step - loss: 9.3603e-04\n",
            "Epoch 57/100\n",
            "15/15 [==============================] - 4s 261ms/step - loss: 9.0050e-04\n",
            "Epoch 58/100\n",
            "15/15 [==============================] - 4s 249ms/step - loss: 9.0848e-04\n",
            "Epoch 59/100\n",
            "15/15 [==============================] - 4s 242ms/step - loss: 8.8169e-04\n",
            "Epoch 60/100\n",
            "15/15 [==============================] - 4s 266ms/step - loss: 8.5158e-04\n",
            "Epoch 61/100\n",
            "15/15 [==============================] - 4s 281ms/step - loss: 8.3565e-04\n",
            "Epoch 62/100\n",
            "15/15 [==============================] - 4s 243ms/step - loss: 8.2743e-04\n",
            "Epoch 63/100\n",
            "15/15 [==============================] - 4s 271ms/step - loss: 8.6158e-04\n",
            "Epoch 64/100\n",
            "15/15 [==============================] - 4s 238ms/step - loss: 8.5297e-04\n",
            "Epoch 65/100\n",
            "15/15 [==============================] - 4s 240ms/step - loss: 7.9138e-04\n",
            "Epoch 66/100\n",
            "15/15 [==============================] - 4s 237ms/step - loss: 7.8709e-04\n",
            "Epoch 67/100\n",
            "15/15 [==============================] - 4s 234ms/step - loss: 8.9467e-04\n",
            "Epoch 68/100\n",
            "15/15 [==============================] - 3s 208ms/step - loss: 8.5781e-04\n",
            "Epoch 69/100\n",
            "15/15 [==============================] - 5s 313ms/step - loss: 8.5483e-04\n",
            "Epoch 70/100\n",
            "15/15 [==============================] - 6s 376ms/step - loss: 8.7689e-04\n",
            "Epoch 71/100\n",
            "15/15 [==============================] - 6s 407ms/step - loss: 7.4395e-04\n",
            "Epoch 72/100\n",
            "15/15 [==============================] - 5s 312ms/step - loss: 7.8452e-04\n",
            "Epoch 73/100\n",
            "15/15 [==============================] - 7s 451ms/step - loss: 8.1186e-04\n",
            "Epoch 74/100\n",
            "15/15 [==============================] - 6s 401ms/step - loss: 8.3052e-04\n",
            "Epoch 75/100\n",
            "15/15 [==============================] - 6s 378ms/step - loss: 8.0769e-04\n",
            "Epoch 76/100\n",
            "15/15 [==============================] - 6s 383ms/step - loss: 7.9131e-04\n",
            "Epoch 77/100\n",
            "15/15 [==============================] - 6s 408ms/step - loss: 7.4618e-04\n",
            "Epoch 78/100\n",
            "15/15 [==============================] - 7s 443ms/step - loss: 6.8388e-04\n",
            "Epoch 79/100\n",
            "15/15 [==============================] - 5s 321ms/step - loss: 7.4935e-04\n",
            "Epoch 80/100\n",
            "15/15 [==============================] - 5s 317ms/step - loss: 6.7942e-04\n",
            "Epoch 81/100\n",
            "15/15 [==============================] - 5s 339ms/step - loss: 8.8024e-04\n",
            "Epoch 82/100\n",
            "15/15 [==============================] - 5s 334ms/step - loss: 6.7202e-04\n",
            "Epoch 83/100\n",
            "15/15 [==============================] - 6s 379ms/step - loss: 7.0178e-04\n",
            "Epoch 84/100\n",
            "15/15 [==============================] - 5s 358ms/step - loss: 7.5590e-04\n",
            "Epoch 85/100\n",
            "15/15 [==============================] - 5s 334ms/step - loss: 6.8904e-04\n",
            "Epoch 86/100\n",
            "15/15 [==============================] - 6s 388ms/step - loss: 6.6783e-04\n",
            "Epoch 87/100\n",
            "15/15 [==============================] - 8s 507ms/step - loss: 7.3427e-04\n",
            "Epoch 88/100\n",
            "15/15 [==============================] - 7s 480ms/step - loss: 0.0010\n",
            "Epoch 89/100\n",
            "15/15 [==============================] - 7s 481ms/step - loss: 8.0121e-04\n",
            "Epoch 90/100\n",
            "15/15 [==============================] - 7s 444ms/step - loss: 7.0568e-04\n",
            "Epoch 91/100\n",
            "15/15 [==============================] - 7s 479ms/step - loss: 6.3099e-04\n",
            "Epoch 92/100\n",
            "15/15 [==============================] - 7s 462ms/step - loss: 6.2648e-04\n",
            "Epoch 93/100\n",
            "15/15 [==============================] - 7s 451ms/step - loss: 6.4447e-04\n",
            "Epoch 94/100\n",
            "15/15 [==============================] - 8s 507ms/step - loss: 9.6485e-04\n",
            "Epoch 95/100\n",
            "15/15 [==============================] - 7s 495ms/step - loss: 6.7468e-04\n",
            "Epoch 96/100\n",
            "15/15 [==============================] - 7s 498ms/step - loss: 5.9155e-04\n",
            "Epoch 97/100\n",
            "15/15 [==============================] - 7s 466ms/step - loss: 6.7111e-04\n",
            "Epoch 98/100\n",
            "15/15 [==============================] - 7s 477ms/step - loss: 6.4617e-04\n",
            "Epoch 99/100\n",
            "15/15 [==============================] - 6s 420ms/step - loss: 6.6527e-04\n",
            "Epoch 100/100\n",
            "15/15 [==============================] - 6s 425ms/step - loss: 6.3805e-04\n"
          ]
        },
        {
          "data": {
            "text/plain": [
              "<keras.src.callbacks.History at 0x297387d2410>"
            ]
          },
          "execution_count": 13,
          "metadata": {},
          "output_type": "execute_result"
        }
      ],
      "source": [
        "# 9. Fit mô hình với dữ liệu train\n",
        "model.fit(X_train,y_train,epochs=100,batch_size=64,verbose=1)"
      ]
    },
    {
      "cell_type": "code",
      "execution_count": 14,
      "metadata": {
        "colab": {
          "base_uri": "https://localhost:8080/"
        },
        "id": "Rxx_KQSkQpBG",
        "outputId": "838b0243-c20c-4627-f6a3-a1d23b99fffc"
      },
      "outputs": [
        {
          "name": "stdout",
          "output_type": "stream",
          "text": [
            "11/11 [==============================] - 19s 112ms/step\n"
          ]
        }
      ],
      "source": [
        "# 10. Dự báo dữ liệu test, val\n",
        "y_pred=model.predict(X_test)"
      ]
    },
    {
      "cell_type": "code",
      "execution_count": 15,
      "metadata": {
        "id": "5rwTN10LQ7rj"
      },
      "outputs": [],
      "source": [
        "# 11. Chuẩn hóa dữ liệu y_pred, y_pred_val\n",
        "y_pred=scaler.inverse_transform(y_pred)"
      ]
    },
    {
      "cell_type": "code",
      "execution_count": 16,
      "metadata": {
        "colab": {
          "base_uri": "https://localhost:8080/"
        },
        "id": "wu_9j94kRonD",
        "outputId": "5eaf0ce1-4445-4f88-f264-ad1df25df699"
      },
      "outputs": [
        {
          "name": "stdout",
          "output_type": "stream",
          "text": [
            "Testing RMSE: 12321.749410431084\n"
          ]
        }
      ],
      "source": [
        "# 12. Đánh giá độ chính xác thuật toán bằng RMSE\n",
        "test_rmse = np.sqrt(np.mean((y_pred - ytest)**2))\n",
        "print('Testing RMSE:', test_rmse)"
      ]
    },
    {
      "cell_type": "code",
      "execution_count": 17,
      "metadata": {
        "colab": {
          "base_uri": "https://localhost:8080/"
        },
        "id": "izQZ1iQyYl6N",
        "outputId": "0873396e-ffed-4413-e6e9-84e9cb303174"
      },
      "outputs": [],
      "source": [
        "# 13. Dự báo 30 ngày tiếp theo\n",
        "x_input = test_data[-100:].reshape(1, -1)\n",
        "x_input = np.array(x_input)\n",
        "temp_input = list(x_input[0])\n",
        "lst_output = []\n",
        "\n",
        "n_steps = 100\n",
        "i = 0\n",
        "\n",
        "while i < 30:\n",
        "    if len(temp_input) > 100:\n",
        "        x_input = np.array(temp_input[1:])\n",
        "        x_input = x_input.reshape(1, -1)\n",
        "        x_input = x_input.reshape((1, n_steps, 1))\n",
        "        yhat = model.predict(x_input, verbose=0)\n",
        "        temp_input.extend(yhat[0].tolist())\n",
        "        temp_input = temp_input[1:]\n",
        "        lst_output.extend(yhat.tolist())\n",
        "        i = i + 1\n",
        "    else:\n",
        "        x_input = x_input.reshape((1, n_steps, 1))\n",
        "        yhat = model.predict(x_input, verbose=0)\n",
        "        temp_input.extend(yhat[0].tolist())\n",
        "        lst_output.extend(yhat.tolist())\n",
        "        i = i + 1\n"
      ]
    },
    {
      "cell_type": "code",
      "execution_count": 18,
      "metadata": {
        "colab": {
          "base_uri": "https://localhost:8080/",
          "height": 430
        },
        "id": "KSa_mX51a654",
        "outputId": "a46b0393-ed53-41d8-b391-c22820d72e83"
      },
      "outputs": [
        {
          "data": {
            "image/png": "[encoded data removed]",
            "text/plain": [
              "<Figure size 640x480 with 1 Axes>"
            ]
          },
          "metadata": {},
          "output_type": "display_data"
        }
      ],
      "source": [
        "# 14.Vẽ hình\n",
        "\n",
        "train_data_index = pd.RangeIndex(start=0, stop=train_size, step=1)\n",
        "plt.plot(scaler.inverse_transform(train_data))\n",
        "test_data_index = pd.RangeIndex(start=train_size, stop=train_size+test_size, step=1)\n",
        "plt.plot(test_data_index,scaler.inverse_transform(test_data))\n",
        "test_data_index = pd.RangeIndex(start=train_size+101, stop=train_size+test_size, step=1)\n",
        "plt.plot(test_data_index,(y_pred))\n",
        "prediect_data_index = pd.RangeIndex(start=len(df1)-1, stop=len(df1)+29, step=1)\n",
        "plt.plot(prediect_data_index,scaler.inverse_transform(lst_output))\n",
        "plt.legend(['Train','Test','Predict','Predict30days'])\n",
        "plt.show()"
      ]
    }
  ],
  "metadata": {
    "colab": {
      "provenance": []
    },
    "kernelspec": {
      "display_name": "Python 3",
      "name": "python3"
    },
    "language_info": {
      "codemirror_mode": {
        "name": "ipython",
        "version": 3
      },
      "file_extension": ".py",
      "mimetype": "text/x-python",
      "name": "python",
      "nbconvert_exporter": "python",
      "pygments_lexer": "ipython3",
      "version": "3.11.5"
    }
  },
  "nbformat": 4,
  "nbformat_minor": 0
}
