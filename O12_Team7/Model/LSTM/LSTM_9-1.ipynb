{
  "cells": [
    {
      "cell_type": "code",
      "execution_count": 1,
      "metadata": {
        "colab": {
          "base_uri": "https://localhost:8080/"
        },
        "id": "FMDKda-XIUAK",
        "outputId": "be988c00-2f6c-43b6-a7bf-69a486a7845c"
      },
      "outputs": [
        {
          "name": "stdout",
          "output_type": "stream",
          "text": [
            "WARNING:tensorflow:From c:\\Users\\Admin\\AppData\\Local\\Programs\\Python\\Python311\\Lib\\site-packages\\keras\\src\\losses.py:2976: The name tf.losses.sparse_softmax_cross_entropy is deprecated. Please use tf.compat.v1.losses.sparse_softmax_cross_entropy instead.\n",
            "\n"
          ]
        }
      ],
      "source": [
        "# 1. Import thư viện cần thiết\n",
        "import numpy as np\n",
        "import pandas as pd\n",
        "import matplotlib.pyplot as plt\n",
        "from sklearn.preprocessing import MinMaxScaler\n",
        "from keras.models import Sequential\n",
        "from keras.layers import Dense, LSTM"
      ]
    },
    {
      "cell_type": "code",
      "execution_count": 2,
      "metadata": {
        "id": "aRm9GQ8KJJ5N"
      },
      "outputs": [],
      "source": [
        "# 2. Đọc file csv và gắng index với giá Close\n",
        "df = pd.read_csv('C:\\\\Users\\\\Admin\\\\Downloads\\\\ACB.csv')\n",
        "df1=df.reset_index()['Close']\n",
        "df1 = df1.str.replace(',', '').astype(float)"
      ]
    },
    {
      "cell_type": "code",
      "execution_count": 3,
      "metadata": {
        "id": "RdVpDho2JgL5"
      },
      "outputs": [],
      "source": [
        "# 3. Scaler data\n",
        "scaler=MinMaxScaler(feature_range=(0,1))\n",
        "df1=scaler.fit_transform(np.array(df1).reshape(-1,1))"
      ]
    },
    {
      "cell_type": "code",
      "execution_count": 4,
      "metadata": {
        "id": "B5JXpenzJoR3"
      },
      "outputs": [],
      "source": [
        "# 4. Chia train test\n",
        "train_size = int(0.9 * len(df1))\n",
        "test_size = int(0.1 * len(df1))\n",
        "\n",
        "train_data = df1[:train_size]\n",
        "test_data = df1[train_size:train_size+test_size]\n"
      ]
    },
    {
      "cell_type": "code",
      "execution_count": 5,
      "metadata": {
        "id": "yJfmuBORLSfC"
      },
      "outputs": [],
      "source": [
        "# 5. Hàm Create Dataset\n",
        "import numpy\n",
        "# convert an array of values into a dataset matrix\n",
        "def create_dataset(dataset, time_step=1):\n",
        "\tdataX, dataY = [], []\n",
        "\tfor i in range(len(dataset)-time_step-1):\n",
        "\t\ta = dataset[i:(i+time_step), 0]   ###i=0, X=0,1,2,3-----99   Y=100 \n",
        "\t\tdataX.append(a)\n",
        "\t\tdataY.append(dataset[i + time_step, 0])\n",
        "\treturn numpy.array(dataX), numpy.array(dataY)"
      ]
    },
    {
      "cell_type": "code",
      "execution_count": 6,
      "metadata": {
        "id": "e81cKq03LXFB"
      },
      "outputs": [],
      "source": [
        "#6. Reshape into X=t,t+1,t+2..t+99 and Y=t+100\n",
        "\n",
        "time_step = 100\n",
        "X_train, y_train = create_dataset(train_data, time_step)\n",
        "X_test, ytest = create_dataset(test_data, time_step)"
      ]
    },
    {
      "cell_type": "code",
      "execution_count": 7,
      "metadata": {
        "id": "RdBVfku7O2qb"
      },
      "outputs": [],
      "source": [
        "# 7. Reshape input to be [samples, time steps, features] which is required for LSTM\n",
        "X_train =X_train.reshape(X_train.shape[0],X_train.shape[1] , 1)\n",
        "X_test = X_test.reshape(X_test.shape[0],X_test.shape[1] , 1)"
      ]
    },
    {
      "cell_type": "code",
      "execution_count": 8,
      "metadata": {
        "id": "sSfxrE7BO9vX"
      },
      "outputs": [
        {
          "name": "stdout",
          "output_type": "stream",
          "text": [
            "WARNING:tensorflow:From c:\\Users\\Admin\\AppData\\Local\\Programs\\Python\\Python311\\Lib\\site-packages\\keras\\src\\backend.py:873: The name tf.get_default_graph is deprecated. Please use tf.compat.v1.get_default_graph instead.\n",
            "\n",
            "WARNING:tensorflow:From c:\\Users\\Admin\\AppData\\Local\\Programs\\Python\\Python311\\Lib\\site-packages\\keras\\src\\optimizers\\__init__.py:309: The name tf.train.Optimizer is deprecated. Please use tf.compat.v1.train.Optimizer instead.\n",
            "\n"
          ]
        }
      ],
      "source": [
        "# 8. Define LSTM Model\n",
        "\n",
        "model=Sequential()\n",
        "model.add(LSTM(50,return_sequences=True,input_shape=(100,1)))\n",
        "model.add(LSTM(50,return_sequences=True))\n",
        "model.add(LSTM(50))\n",
        "model.add(Dense(1))\n",
        "model.compile(loss='mean_squared_error',optimizer='adam')"
      ]
    },
    {
      "cell_type": "code",
      "execution_count": 9,
      "metadata": {
        "colab": {
          "base_uri": "https://localhost:8080/"
        },
        "id": "zgfeujZSPEKr",
        "outputId": "87151598-3792-46b5-857d-e7626c6a63de"
      },
      "outputs": [
        {
          "name": "stdout",
          "output_type": "stream",
          "text": [
            "Epoch 1/100\n"
          ]
        },
        {
          "name": "stdout",
          "output_type": "stream",
          "text": [
            "WARNING:tensorflow:From c:\\Users\\Admin\\AppData\\Local\\Programs\\Python\\Python311\\Lib\\site-packages\\keras\\src\\utils\\tf_utils.py:492: The name tf.ragged.RaggedTensorValue is deprecated. Please use tf.compat.v1.ragged.RaggedTensorValue instead.\n",
            "\n",
            "20/20 [==============================] - 104s 492ms/step - loss: 0.0402\n",
            "Epoch 2/100\n",
            "20/20 [==============================] - 9s 463ms/step - loss: 0.0046\n",
            "Epoch 3/100\n",
            "20/20 [==============================] - 10s 485ms/step - loss: 0.0024\n",
            "Epoch 4/100\n",
            "20/20 [==============================] - 10s 507ms/step - loss: 0.0021\n",
            "Epoch 5/100\n",
            "20/20 [==============================] - 10s 489ms/step - loss: 0.0021\n",
            "Epoch 6/100\n",
            "20/20 [==============================] - 9s 465ms/step - loss: 0.0020\n",
            "Epoch 7/100\n",
            "20/20 [==============================] - 9s 429ms/step - loss: 0.0020\n",
            "Epoch 8/100\n",
            "20/20 [==============================] - 10s 490ms/step - loss: 0.0019\n",
            "Epoch 9/100\n",
            "20/20 [==============================] - 9s 437ms/step - loss: 0.0019\n",
            "Epoch 10/100\n",
            "20/20 [==============================] - 9s 440ms/step - loss: 0.0018\n",
            "Epoch 11/100\n",
            "20/20 [==============================] - 9s 452ms/step - loss: 0.0018\n",
            "Epoch 12/100\n",
            "20/20 [==============================] - 7s 347ms/step - loss: 0.0017\n",
            "Epoch 13/100\n",
            "20/20 [==============================] - 6s 308ms/step - loss: 0.0017\n",
            "Epoch 14/100\n",
            "20/20 [==============================] - 7s 357ms/step - loss: 0.0016\n",
            "Epoch 15/100\n",
            "20/20 [==============================] - 7s 376ms/step - loss: 0.0016\n",
            "Epoch 16/100\n",
            "20/20 [==============================] - 7s 340ms/step - loss: 0.0017\n",
            "Epoch 17/100\n",
            "20/20 [==============================] - 7s 333ms/step - loss: 0.0016\n",
            "Epoch 18/100\n",
            "20/20 [==============================] - 6s 315ms/step - loss: 0.0014\n",
            "Epoch 19/100\n",
            "20/20 [==============================] - 6s 292ms/step - loss: 0.0014\n",
            "Epoch 20/100\n",
            "20/20 [==============================] - 6s 297ms/step - loss: 0.0014\n",
            "Epoch 21/100\n",
            "20/20 [==============================] - 6s 291ms/step - loss: 0.0016\n",
            "Epoch 22/100\n",
            "20/20 [==============================] - 6s 322ms/step - loss: 0.0014\n",
            "Epoch 23/100\n",
            "20/20 [==============================] - 6s 281ms/step - loss: 0.0013\n",
            "Epoch 24/100\n",
            "20/20 [==============================] - 6s 320ms/step - loss: 0.0013\n",
            "Epoch 25/100\n",
            "20/20 [==============================] - 8s 378ms/step - loss: 0.0012\n",
            "Epoch 26/100\n",
            "20/20 [==============================] - 7s 345ms/step - loss: 0.0011\n",
            "Epoch 27/100\n",
            "20/20 [==============================] - 7s 335ms/step - loss: 0.0013\n",
            "Epoch 28/100\n",
            "20/20 [==============================] - 7s 331ms/step - loss: 0.0011\n",
            "Epoch 29/100\n",
            "20/20 [==============================] - 7s 340ms/step - loss: 9.9679e-04\n",
            "Epoch 30/100\n",
            "20/20 [==============================] - 7s 354ms/step - loss: 0.0010\n",
            "Epoch 31/100\n",
            "20/20 [==============================] - 7s 341ms/step - loss: 0.0011\n",
            "Epoch 32/100\n",
            "20/20 [==============================] - 7s 349ms/step - loss: 0.0011\n",
            "Epoch 33/100\n",
            "20/20 [==============================] - 8s 380ms/step - loss: 9.7090e-04\n",
            "Epoch 34/100\n",
            "20/20 [==============================] - 7s 342ms/step - loss: 8.6576e-04\n",
            "Epoch 35/100\n",
            "20/20 [==============================] - 7s 356ms/step - loss: 8.8611e-04\n",
            "Epoch 36/100\n",
            "20/20 [==============================] - 8s 397ms/step - loss: 0.0012\n",
            "Epoch 37/100\n",
            "20/20 [==============================] - 8s 384ms/step - loss: 9.4598e-04\n",
            "Epoch 38/100\n",
            "20/20 [==============================] - 8s 385ms/step - loss: 8.8558e-04\n",
            "Epoch 39/100\n",
            "20/20 [==============================] - 7s 373ms/step - loss: 8.4321e-04\n",
            "Epoch 40/100\n",
            "20/20 [==============================] - 7s 372ms/step - loss: 7.7587e-04\n",
            "Epoch 41/100\n",
            "20/20 [==============================] - 7s 355ms/step - loss: 7.8890e-04\n",
            "Epoch 42/100\n",
            "20/20 [==============================] - 7s 342ms/step - loss: 7.8547e-04\n",
            "Epoch 43/100\n",
            "20/20 [==============================] - 7s 354ms/step - loss: 8.4055e-04\n",
            "Epoch 44/100\n",
            "20/20 [==============================] - 7s 357ms/step - loss: 7.5052e-04\n",
            "Epoch 45/100\n",
            "20/20 [==============================] - 7s 346ms/step - loss: 7.9467e-04\n",
            "Epoch 46/100\n",
            "20/20 [==============================] - 7s 358ms/step - loss: 8.1596e-04\n",
            "Epoch 47/100\n",
            "20/20 [==============================] - 7s 348ms/step - loss: 7.7304e-04\n",
            "Epoch 48/100\n",
            "20/20 [==============================] - 7s 347ms/step - loss: 7.4009e-04\n",
            "Epoch 49/100\n",
            "20/20 [==============================] - 6s 326ms/step - loss: 6.9832e-04\n",
            "Epoch 50/100\n",
            "20/20 [==============================] - 7s 337ms/step - loss: 6.8243e-04\n",
            "Epoch 51/100\n",
            "20/20 [==============================] - 7s 365ms/step - loss: 6.9784e-04\n",
            "Epoch 52/100\n",
            "20/20 [==============================] - 7s 336ms/step - loss: 6.4768e-04\n",
            "Epoch 53/100\n",
            "20/20 [==============================] - 8s 377ms/step - loss: 6.7397e-04\n",
            "Epoch 54/100\n",
            "20/20 [==============================] - 7s 352ms/step - loss: 6.6835e-04\n",
            "Epoch 55/100\n",
            "20/20 [==============================] - 8s 382ms/step - loss: 7.2410e-04\n",
            "Epoch 56/100\n",
            "20/20 [==============================] - 7s 369ms/step - loss: 6.4180e-04\n",
            "Epoch 57/100\n",
            "20/20 [==============================] - 7s 371ms/step - loss: 6.2646e-04\n",
            "Epoch 58/100\n",
            "20/20 [==============================] - 8s 374ms/step - loss: 6.1485e-04\n",
            "Epoch 59/100\n",
            "20/20 [==============================] - 8s 403ms/step - loss: 7.6476e-04\n",
            "Epoch 60/100\n",
            "20/20 [==============================] - 9s 447ms/step - loss: 6.6899e-04\n",
            "Epoch 61/100\n",
            "20/20 [==============================] - 8s 395ms/step - loss: 6.1887e-04\n",
            "Epoch 62/100\n",
            "20/20 [==============================] - 8s 396ms/step - loss: 6.2578e-04\n",
            "Epoch 63/100\n",
            "20/20 [==============================] - 8s 387ms/step - loss: 5.7817e-04\n",
            "Epoch 64/100\n",
            "20/20 [==============================] - 7s 353ms/step - loss: 6.0427e-04\n",
            "Epoch 65/100\n",
            "20/20 [==============================] - 7s 373ms/step - loss: 5.7768e-04\n",
            "Epoch 66/100\n",
            "20/20 [==============================] - 8s 417ms/step - loss: 6.0002e-04\n",
            "Epoch 67/100\n",
            "20/20 [==============================] - 8s 386ms/step - loss: 5.6809e-04\n",
            "Epoch 68/100\n",
            "20/20 [==============================] - 7s 334ms/step - loss: 5.7681e-04\n",
            "Epoch 69/100\n",
            "20/20 [==============================] - 6s 308ms/step - loss: 5.6705e-04\n",
            "Epoch 70/100\n",
            "20/20 [==============================] - 6s 301ms/step - loss: 5.1532e-04\n",
            "Epoch 71/100\n",
            "20/20 [==============================] - 6s 278ms/step - loss: 5.8358e-04\n",
            "Epoch 72/100\n",
            "20/20 [==============================] - 7s 333ms/step - loss: 5.3564e-04\n",
            "Epoch 73/100\n",
            "20/20 [==============================] - 7s 361ms/step - loss: 5.1846e-04\n",
            "Epoch 74/100\n",
            "20/20 [==============================] - 7s 372ms/step - loss: 6.5928e-04\n",
            "Epoch 75/100\n",
            "20/20 [==============================] - 7s 347ms/step - loss: 6.0718e-04\n",
            "Epoch 76/100\n",
            "20/20 [==============================] - 7s 350ms/step - loss: 5.8296e-04\n",
            "Epoch 77/100\n",
            "20/20 [==============================] - 7s 332ms/step - loss: 5.1589e-04\n",
            "Epoch 78/100\n",
            "20/20 [==============================] - 5s 260ms/step - loss: 4.7633e-04\n",
            "Epoch 79/100\n",
            "20/20 [==============================] - 4s 223ms/step - loss: 4.7659e-04\n",
            "Epoch 80/100\n",
            "20/20 [==============================] - 4s 214ms/step - loss: 4.7922e-04\n",
            "Epoch 81/100\n",
            "20/20 [==============================] - 5s 243ms/step - loss: 5.3120e-04\n",
            "Epoch 82/100\n",
            "20/20 [==============================] - 5s 230ms/step - loss: 4.5400e-04\n",
            "Epoch 83/100\n",
            "20/20 [==============================] - 5s 233ms/step - loss: 5.6889e-04\n",
            "Epoch 84/100\n",
            "20/20 [==============================] - 5s 240ms/step - loss: 6.4603e-04\n",
            "Epoch 85/100\n",
            "20/20 [==============================] - 4s 207ms/step - loss: 6.3077e-04\n",
            "Epoch 86/100\n",
            "20/20 [==============================] - 4s 197ms/step - loss: 4.7071e-04\n",
            "Epoch 87/100\n",
            "20/20 [==============================] - 4s 221ms/step - loss: 4.2929e-04\n",
            "Epoch 88/100\n",
            "20/20 [==============================] - 4s 207ms/step - loss: 4.2300e-04\n",
            "Epoch 89/100\n",
            "20/20 [==============================] - 4s 208ms/step - loss: 4.5706e-04\n",
            "Epoch 90/100\n",
            "20/20 [==============================] - 4s 217ms/step - loss: 4.2944e-04\n",
            "Epoch 91/100\n",
            "20/20 [==============================] - 4s 216ms/step - loss: 4.5597e-04\n",
            "Epoch 92/100\n",
            "20/20 [==============================] - 5s 229ms/step - loss: 4.1622e-04\n",
            "Epoch 93/100\n",
            "20/20 [==============================] - 4s 202ms/step - loss: 4.5405e-04\n",
            "Epoch 94/100\n",
            "20/20 [==============================] - 4s 208ms/step - loss: 4.8983e-04\n",
            "Epoch 95/100\n",
            "20/20 [==============================] - 4s 200ms/step - loss: 4.3281e-04\n",
            "Epoch 96/100\n",
            "20/20 [==============================] - 4s 190ms/step - loss: 4.1033e-04\n",
            "Epoch 97/100\n",
            "20/20 [==============================] - 4s 209ms/step - loss: 4.0780e-04\n",
            "Epoch 98/100\n",
            "20/20 [==============================] - 4s 218ms/step - loss: 4.2909e-04\n",
            "Epoch 99/100\n",
            "20/20 [==============================] - 4s 219ms/step - loss: 4.0749e-04\n",
            "Epoch 100/100\n",
            "20/20 [==============================] - 4s 209ms/step - loss: 3.8751e-04\n"
          ]
        },
        {
          "data": {
            "text/plain": [
              "<keras.src.callbacks.History at 0x204de8d11d0>"
            ]
          },
          "execution_count": 9,
          "metadata": {},
          "output_type": "execute_result"
        }
      ],
      "source": [
        "# 9. Fit mô hình với dữ liệu train\n",
        "model.fit(X_train,y_train,epochs=100,batch_size=64,verbose=1)"
      ]
    },
    {
      "cell_type": "code",
      "execution_count": 10,
      "metadata": {
        "colab": {
          "base_uri": "https://localhost:8080/"
        },
        "id": "Rxx_KQSkQpBG",
        "outputId": "838b0243-c20c-4627-f6a3-a1d23b99fffc"
      },
      "outputs": [
        {
          "name": "stdout",
          "output_type": "stream",
          "text": [
            "2/2 [==============================] - 5s 45ms/step\n"
          ]
        }
      ],
      "source": [
        "# 10. Dự báo dữ liệu test, val\n",
        "y_pred=model.predict(X_test)"
      ]
    },
    {
      "cell_type": "code",
      "execution_count": 11,
      "metadata": {
        "id": "5rwTN10LQ7rj"
      },
      "outputs": [],
      "source": [
        "# 11. Chuẩn hóa dữ liệu y_pred, y_pred_val\n",
        "y_pred=scaler.inverse_transform(y_pred)"
      ]
    },
    {
      "cell_type": "code",
      "execution_count": 12,
      "metadata": {
        "colab": {
          "base_uri": "https://localhost:8080/"
        },
        "id": "wu_9j94kRonD",
        "outputId": "5eaf0ce1-4445-4f88-f264-ad1df25df699"
      },
      "outputs": [
        {
          "name": "stdout",
          "output_type": "stream",
          "text": [
            "Testing RMSE: 13059.96530860143\n"
          ]
        }
      ],
      "source": [
        "# 12. Đánh giá độ chính xác thuật toán bằng RMSE\n",
        "test_rmse = np.sqrt(np.mean((y_pred - ytest)**2))\n",
        "print('Testing RMSE:', test_rmse)"
      ]
    },
    {
      "cell_type": "code",
      "execution_count": 13,
      "metadata": {
        "colab": {
          "base_uri": "https://localhost:8080/"
        },
        "id": "izQZ1iQyYl6N",
        "outputId": "0873396e-ffed-4413-e6e9-84e9cb303174"
      },
      "outputs": [],
      "source": [
        "# 13. Dự báo 30 ngày tiếp theo\n",
        "x_input = test_data[-100:].reshape(1, -1)\n",
        "x_input = np.array(x_input)\n",
        "temp_input = list(x_input[0])\n",
        "lst_output = []\n",
        "\n",
        "n_steps = 100\n",
        "i = 0\n",
        "\n",
        "while i < 30:\n",
        "    if len(temp_input) > 100:\n",
        "        x_input = np.array(temp_input[1:])\n",
        "        x_input = x_input.reshape(1, -1)\n",
        "        x_input = x_input.reshape((1, n_steps, 1))\n",
        "        yhat = model.predict(x_input, verbose=0)\n",
        "        temp_input.extend(yhat[0].tolist())\n",
        "        temp_input = temp_input[1:]\n",
        "        lst_output.extend(yhat.tolist())\n",
        "        i = i + 1\n",
        "    else:\n",
        "        x_input = x_input.reshape((1, n_steps, 1))\n",
        "        yhat = model.predict(x_input, verbose=0)\n",
        "        temp_input.extend(yhat[0].tolist())\n",
        "        lst_output.extend(yhat.tolist())\n",
        "        i = i + 1\n"
      ]
    },
    {
      "cell_type": "code",
      "execution_count": 14,
      "metadata": {
        "colab": {
          "base_uri": "https://localhost:8080/",
          "height": 430
        },
        "id": "KSa_mX51a654",
        "outputId": "a46b0393-ed53-41d8-b391-c22820d72e83"
      },
      "outputs": [
        {
          "data": {
            "image/png": "[encoded data removed]",
            "text/plain": [
              "<Figure size 640x480 with 1 Axes>"
            ]
          },
          "metadata": {},
          "output_type": "display_data"
        }
      ],
      "source": [
        "# 14.Vẽ hình\n",
        "\n",
        "train_data_index = pd.RangeIndex(start=0, stop=train_size, step=1)\n",
        "plt.plot(scaler.inverse_transform(train_data))\n",
        "test_data_index = pd.RangeIndex(start=train_size, stop=train_size+test_size, step=1)\n",
        "plt.plot(test_data_index,scaler.inverse_transform(test_data))\n",
        "test_data_index = pd.RangeIndex(start=train_size+101, stop=train_size+test_size, step=1)\n",
        "plt.plot(test_data_index,(y_pred))\n",
        "prediect_data_index = pd.RangeIndex(start=len(df1)-1, stop=len(df1)+29, step=1)\n",
        "plt.plot(prediect_data_index,scaler.inverse_transform(lst_output))\n",
        "plt.legend(['Train','Test','Predict','Predict30days'])\n",
        "plt.show()"
      ]
    }
  ],
  "metadata": {
    "colab": {
      "provenance": []
    },
    "kernelspec": {
      "display_name": "Python 3",
      "name": "python3"
    },
    "language_info": {
      "codemirror_mode": {
        "name": "ipython",
        "version": 3
      },
      "file_extension": ".py",
      "mimetype": "text/x-python",
      "name": "python",
      "nbconvert_exporter": "python",
      "pygments_lexer": "ipython3",
      "version": "3.11.5"
    }
  },
  "nbformat": 4,
  "nbformat_minor": 0
}
