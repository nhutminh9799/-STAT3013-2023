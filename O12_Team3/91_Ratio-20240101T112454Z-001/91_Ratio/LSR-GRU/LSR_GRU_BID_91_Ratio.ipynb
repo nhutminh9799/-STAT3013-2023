{
 "cells": [
  {
   "cell_type": "code",
   "execution_count": 1,
   "id": "b4958256-63aa-4024-9471-897a8469bbe0",
   "metadata": {},
   "outputs": [
    {
     "name": "stderr",
     "output_type": "stream",
     "text": [
      "/Users/nguyensithi/lib/python3.9/site-packages/urllib3/__init__.py:34: NotOpenSSLWarning: urllib3 v2.0 only supports OpenSSL 1.1.1+, currently the 'ssl' module is compiled with 'LibreSSL 2.8.3'. See: https://github.com/urllib3/urllib3/issues/3020\n",
      "  warnings.warn(\n"
     ]
    }
   ],
   "source": [
    "# 1. Import thư viện\n",
    "import pandas as pd\n",
    "import numpy as np\n",
    "from sklearn.linear_model import Lasso\n",
    "from sklearn.ensemble import GradientBoostingRegressor\n",
    "from keras.models import Sequential\n",
    "from keras.layers import GRU, Dense\n",
    "import matplotlib.pyplot as plt\n",
    "from sklearn.preprocessing import MinMaxScaler\n",
    "from sklearn.metrics import mean_squared_error"
   ]
  },
  {
   "cell_type": "code",
   "execution_count": 2,
   "id": "4df057d0-fece-4087-9c93-d06ad290c829",
   "metadata": {},
   "outputs": [],
   "source": [
    "#2 Read and preprocess data\n",
    "df = pd.read_csv(\"BID_Stock_Data.csv\")\n",
    "#df = pd.read_csv('AAPL.csv', header=0, parse_dates=[0], index_col=0)\n",
    "df = df[['Close']].dropna().reset_index(drop=True)"
   ]
  },
  {
   "cell_type": "code",
   "execution_count": 3,
   "id": "a6da4bcd-08e1-42c9-ba32-fc491c03a2e1",
   "metadata": {},
   "outputs": [],
   "source": [
    "# 4. Chia train test\n",
    "train_size = int(0.9 * len(df))\n",
    "test_size = len(df) - train_size\n",
    "train_data, test_data = df.iloc[:train_size], df.iloc[train_size:]"
   ]
  },
  {
   "cell_type": "code",
   "execution_count": 4,
   "id": "cb88aa4c-82aa-4a57-a75c-3e1b175a336b",
   "metadata": {},
   "outputs": [],
   "source": [
    "# 5. Scaling data\n",
    "scaler = MinMaxScaler(feature_range=(0, 1))\n",
    "scaled_data = scaler.fit_transform(df)"
   ]
  },
  {
   "cell_type": "code",
   "execution_count": 5,
   "id": "c965d4bd-8ba5-4c93-8030-ace7d9a4a7d9",
   "metadata": {},
   "outputs": [],
   "source": [
    "# 5. Hàm Create Dataset\n",
    "def create_dataset(dataset, time_step=1):\n",
    "    dataX, dataY = [], []\n",
    "    for i in range(len(dataset)-time_step-1):\n",
    "        a = dataset[i:(i+time_step), 0]   # i=0, X=0,1,2,3-----99   Y=100\n",
    "        dataX.append(a)\n",
    "        dataY.append(dataset[i + time_step, 0])\n",
    "    return np.array(dataX), np.array(dataY)\n",
    "look_back = 1\n",
    "X_train, Y_train = create_dataset(scaled_data[:train_size], look_back)\n",
    "X_test, Y_test = create_dataset(scaled_data[train_size:], look_back)"
   ]
  },
  {
   "cell_type": "code",
   "execution_count": 6,
   "id": "1896c3ba-a114-484c-9c48-d617a6054c12",
   "metadata": {},
   "outputs": [],
   "source": [
    "# 6. Reshape input to be [samples, time steps, features]\n",
    "X_train_gru = np.reshape(X_train, (X_train.shape[0], 1, X_train.shape[1]))\n",
    "X_test_gru = np.reshape(X_test, (X_test.shape[0], 1, X_test.shape[1]))"
   ]
  },
  {
   "cell_type": "code",
   "execution_count": 7,
   "id": "335ee348-662c-4e94-9a33-be17debb96b9",
   "metadata": {},
   "outputs": [
    {
     "data": {
      "text/html": [
       "<style>#sk-container-id-1 {color: black;}#sk-container-id-1 pre{padding: 0;}#sk-container-id-1 div.sk-toggleable {background-color: white;}#sk-container-id-1 label.sk-toggleable__label {cursor: pointer;display: block;width: 100%;margin-bottom: 0;padding: 0.3em;box-sizing: border-box;text-align: center;}#sk-container-id-1 label.sk-toggleable__label-arrow:before {content: \"▸\";float: left;margin-right: 0.25em;color: #696969;}#sk-container-id-1 label.sk-toggleable__label-arrow:hover:before {color: black;}#sk-container-id-1 div.sk-estimator:hover label.sk-toggleable__label-arrow:before {color: black;}#sk-container-id-1 div.sk-toggleable__content {max-height: 0;max-width: 0;overflow: hidden;text-align: left;background-color: #f0f8ff;}#sk-container-id-1 div.sk-toggleable__content pre {margin: 0.2em;color: black;border-radius: 0.25em;background-color: #f0f8ff;}#sk-container-id-1 input.sk-toggleable__control:checked~div.sk-toggleable__content {max-height: 200px;max-width: 100%;overflow: auto;}#sk-container-id-1 input.sk-toggleable__control:checked~label.sk-toggleable__label-arrow:before {content: \"▾\";}#sk-container-id-1 div.sk-estimator input.sk-toggleable__control:checked~label.sk-toggleable__label {background-color: #d4ebff;}#sk-container-id-1 div.sk-label input.sk-toggleable__control:checked~label.sk-toggleable__label {background-color: #d4ebff;}#sk-container-id-1 input.sk-hidden--visually {border: 0;clip: rect(1px 1px 1px 1px);clip: rect(1px, 1px, 1px, 1px);height: 1px;margin: -1px;overflow: hidden;padding: 0;position: absolute;width: 1px;}#sk-container-id-1 div.sk-estimator {font-family: monospace;background-color: #f0f8ff;border: 1px dotted black;border-radius: 0.25em;box-sizing: border-box;margin-bottom: 0.5em;}#sk-container-id-1 div.sk-estimator:hover {background-color: #d4ebff;}#sk-container-id-1 div.sk-parallel-item::after {content: \"\";width: 100%;border-bottom: 1px solid gray;flex-grow: 1;}#sk-container-id-1 div.sk-label:hover label.sk-toggleable__label {background-color: #d4ebff;}#sk-container-id-1 div.sk-serial::before {content: \"\";position: absolute;border-left: 1px solid gray;box-sizing: border-box;top: 0;bottom: 0;left: 50%;z-index: 0;}#sk-container-id-1 div.sk-serial {display: flex;flex-direction: column;align-items: center;background-color: white;padding-right: 0.2em;padding-left: 0.2em;position: relative;}#sk-container-id-1 div.sk-item {position: relative;z-index: 1;}#sk-container-id-1 div.sk-parallel {display: flex;align-items: stretch;justify-content: center;background-color: white;position: relative;}#sk-container-id-1 div.sk-item::before, #sk-container-id-1 div.sk-parallel-item::before {content: \"\";position: absolute;border-left: 1px solid gray;box-sizing: border-box;top: 0;bottom: 0;left: 50%;z-index: -1;}#sk-container-id-1 div.sk-parallel-item {display: flex;flex-direction: column;z-index: 1;position: relative;background-color: white;}#sk-container-id-1 div.sk-parallel-item:first-child::after {align-self: flex-end;width: 50%;}#sk-container-id-1 div.sk-parallel-item:last-child::after {align-self: flex-start;width: 50%;}#sk-container-id-1 div.sk-parallel-item:only-child::after {width: 0;}#sk-container-id-1 div.sk-dashed-wrapped {border: 1px dashed gray;margin: 0 0.4em 0.5em 0.4em;box-sizing: border-box;padding-bottom: 0.4em;background-color: white;}#sk-container-id-1 div.sk-label label {font-family: monospace;font-weight: bold;display: inline-block;line-height: 1.2em;}#sk-container-id-1 div.sk-label-container {text-align: center;}#sk-container-id-1 div.sk-container {/* jupyter's `normalize.less` sets `[hidden] { display: none; }` but bootstrap.min.css set `[hidden] { display: none !important; }` so we also need the `!important` here to be able to override the default hidden behavior on the sphinx rendered scikit-learn.org. See: https://github.com/scikit-learn/scikit-learn/issues/21755 */display: inline-block !important;position: relative;}#sk-container-id-1 div.sk-text-repr-fallback {display: none;}</style><div id=\"sk-container-id-1\" class=\"sk-top-container\"><div class=\"sk-text-repr-fallback\"><pre>Lasso(alpha=0.01)</pre><b>In a Jupyter environment, please rerun this cell to show the HTML representation or trust the notebook. <br />On GitHub, the HTML representation is unable to render, please try loading this page with nbviewer.org.</b></div><div class=\"sk-container\" hidden><div class=\"sk-item\"><div class=\"sk-estimator sk-toggleable\"><input class=\"sk-toggleable__control sk-hidden--visually\" id=\"sk-estimator-id-1\" type=\"checkbox\" checked><label for=\"sk-estimator-id-1\" class=\"sk-toggleable__label sk-toggleable__label-arrow\">Lasso</label><div class=\"sk-toggleable__content\"><pre>Lasso(alpha=0.01)</pre></div></div></div></div></div>"
      ],
      "text/plain": [
       "Lasso(alpha=0.01)"
      ]
     },
     "execution_count": 7,
     "metadata": {},
     "output_type": "execute_result"
    }
   ],
   "source": [
    "# 7. Lasso model\n",
    "lasso = Lasso(alpha=0.01)\n",
    "lasso.fit(X_train, Y_train)"
   ]
  },
  {
   "cell_type": "code",
   "execution_count": 8,
   "id": "51e1ca7a-b064-49a1-bb40-b28f9a1c549e",
   "metadata": {},
   "outputs": [
    {
     "name": "stdout",
     "output_type": "stream",
     "text": [
      "Epoch 1/100\n",
      "2216/2216 - 3s - loss: 0.0023 - 3s/epoch - 1ms/step\n",
      "Epoch 2/100\n",
      "2216/2216 - 2s - loss: 4.7602e-04 - 2s/epoch - 887us/step\n",
      "Epoch 3/100\n",
      "2216/2216 - 2s - loss: 4.8032e-04 - 2s/epoch - 895us/step\n",
      "Epoch 4/100\n",
      "2216/2216 - 2s - loss: 4.7820e-04 - 2s/epoch - 872us/step\n",
      "Epoch 5/100\n",
      "2216/2216 - 2s - loss: 4.5782e-04 - 2s/epoch - 903us/step\n",
      "Epoch 6/100\n",
      "2216/2216 - 2s - loss: 4.2451e-04 - 2s/epoch - 874us/step\n",
      "Epoch 7/100\n",
      "2216/2216 - 2s - loss: 4.3816e-04 - 2s/epoch - 873us/step\n",
      "Epoch 8/100\n",
      "2216/2216 - 2s - loss: 4.0213e-04 - 2s/epoch - 876us/step\n",
      "Epoch 9/100\n",
      "2216/2216 - 2s - loss: 4.1676e-04 - 2s/epoch - 875us/step\n",
      "Epoch 10/100\n",
      "2216/2216 - 2s - loss: 3.8638e-04 - 2s/epoch - 877us/step\n",
      "Epoch 11/100\n",
      "2216/2216 - 2s - loss: 4.0789e-04 - 2s/epoch - 900us/step\n",
      "Epoch 12/100\n",
      "2216/2216 - 2s - loss: 3.9028e-04 - 2s/epoch - 909us/step\n",
      "Epoch 13/100\n",
      "2216/2216 - 2s - loss: 3.9254e-04 - 2s/epoch - 880us/step\n",
      "Epoch 14/100\n",
      "2216/2216 - 2s - loss: 3.8657e-04 - 2s/epoch - 876us/step\n",
      "Epoch 15/100\n",
      "2216/2216 - 2s - loss: 3.7836e-04 - 2s/epoch - 877us/step\n",
      "Epoch 16/100\n",
      "2216/2216 - 2s - loss: 3.7178e-04 - 2s/epoch - 904us/step\n",
      "Epoch 17/100\n",
      "2216/2216 - 2s - loss: 3.7365e-04 - 2s/epoch - 888us/step\n",
      "Epoch 18/100\n",
      "2216/2216 - 2s - loss: 3.6921e-04 - 2s/epoch - 870us/step\n",
      "Epoch 19/100\n",
      "2216/2216 - 2s - loss: 3.7042e-04 - 2s/epoch - 872us/step\n",
      "Epoch 20/100\n",
      "2216/2216 - 2s - loss: 3.6285e-04 - 2s/epoch - 1ms/step\n",
      "Epoch 21/100\n",
      "2216/2216 - 2s - loss: 3.6559e-04 - 2s/epoch - 876us/step\n",
      "Epoch 22/100\n",
      "2216/2216 - 2s - loss: 3.6963e-04 - 2s/epoch - 875us/step\n",
      "Epoch 23/100\n",
      "2216/2216 - 2s - loss: 3.6842e-04 - 2s/epoch - 874us/step\n",
      "Epoch 24/100\n",
      "2216/2216 - 2s - loss: 3.6492e-04 - 2s/epoch - 877us/step\n",
      "Epoch 25/100\n",
      "2216/2216 - 2s - loss: 3.6102e-04 - 2s/epoch - 873us/step\n",
      "Epoch 26/100\n",
      "2216/2216 - 2s - loss: 3.5643e-04 - 2s/epoch - 880us/step\n",
      "Epoch 27/100\n",
      "2216/2216 - 2s - loss: 3.5344e-04 - 2s/epoch - 899us/step\n",
      "Epoch 28/100\n",
      "2216/2216 - 2s - loss: 3.6259e-04 - 2s/epoch - 896us/step\n",
      "Epoch 29/100\n",
      "2216/2216 - 2s - loss: 3.4463e-04 - 2s/epoch - 872us/step\n",
      "Epoch 30/100\n",
      "2216/2216 - 2s - loss: 3.5538e-04 - 2s/epoch - 875us/step\n",
      "Epoch 31/100\n",
      "2216/2216 - 2s - loss: 3.5934e-04 - 2s/epoch - 880us/step\n",
      "Epoch 32/100\n",
      "2216/2216 - 2s - loss: 3.4852e-04 - 2s/epoch - 876us/step\n",
      "Epoch 33/100\n",
      "2216/2216 - 2s - loss: 3.4990e-04 - 2s/epoch - 874us/step\n",
      "Epoch 34/100\n",
      "2216/2216 - 2s - loss: 3.4566e-04 - 2s/epoch - 876us/step\n",
      "Epoch 35/100\n",
      "2216/2216 - 2s - loss: 3.5107e-04 - 2s/epoch - 872us/step\n",
      "Epoch 36/100\n",
      "2216/2216 - 2s - loss: 3.4425e-04 - 2s/epoch - 895us/step\n",
      "Epoch 37/100\n",
      "2216/2216 - 2s - loss: 3.4681e-04 - 2s/epoch - 876us/step\n",
      "Epoch 38/100\n",
      "2216/2216 - 2s - loss: 3.4490e-04 - 2s/epoch - 879us/step\n",
      "Epoch 39/100\n",
      "2216/2216 - 2s - loss: 3.5201e-04 - 2s/epoch - 996us/step\n",
      "Epoch 40/100\n",
      "2216/2216 - 2s - loss: 3.4529e-04 - 2s/epoch - 972us/step\n",
      "Epoch 41/100\n",
      "2216/2216 - 2s - loss: 3.6018e-04 - 2s/epoch - 880us/step\n",
      "Epoch 42/100\n",
      "2216/2216 - 2s - loss: 3.4272e-04 - 2s/epoch - 893us/step\n",
      "Epoch 43/100\n",
      "2216/2216 - 2s - loss: 3.4278e-04 - 2s/epoch - 895us/step\n",
      "Epoch 44/100\n",
      "2216/2216 - 2s - loss: 3.5041e-04 - 2s/epoch - 880us/step\n",
      "Epoch 45/100\n",
      "2216/2216 - 2s - loss: 3.5011e-04 - 2s/epoch - 874us/step\n",
      "Epoch 46/100\n",
      "2216/2216 - 2s - loss: 3.4465e-04 - 2s/epoch - 879us/step\n",
      "Epoch 47/100\n",
      "2216/2216 - 2s - loss: 3.3298e-04 - 2s/epoch - 870us/step\n",
      "Epoch 48/100\n",
      "2216/2216 - 2s - loss: 3.3639e-04 - 2s/epoch - 874us/step\n",
      "Epoch 49/100\n",
      "2216/2216 - 2s - loss: 3.3084e-04 - 2s/epoch - 903us/step\n",
      "Epoch 50/100\n",
      "2216/2216 - 2s - loss: 3.3531e-04 - 2s/epoch - 909us/step\n",
      "Epoch 51/100\n",
      "2216/2216 - 2s - loss: 3.3203e-04 - 2s/epoch - 892us/step\n",
      "Epoch 52/100\n",
      "2216/2216 - 2s - loss: 3.2793e-04 - 2s/epoch - 904us/step\n",
      "Epoch 53/100\n",
      "2216/2216 - 2s - loss: 3.2699e-04 - 2s/epoch - 946us/step\n",
      "Epoch 54/100\n",
      "2216/2216 - 2s - loss: 3.1409e-04 - 2s/epoch - 904us/step\n",
      "Epoch 55/100\n",
      "2216/2216 - 2s - loss: 3.2877e-04 - 2s/epoch - 886us/step\n",
      "Epoch 56/100\n",
      "2216/2216 - 2s - loss: 3.3160e-04 - 2s/epoch - 882us/step\n",
      "Epoch 57/100\n",
      "2216/2216 - 2s - loss: 3.2848e-04 - 2s/epoch - 887us/step\n",
      "Epoch 58/100\n",
      "2216/2216 - 2s - loss: 3.1968e-04 - 2s/epoch - 946us/step\n",
      "Epoch 59/100\n",
      "2216/2216 - 2s - loss: 3.2917e-04 - 2s/epoch - 979us/step\n",
      "Epoch 60/100\n",
      "2216/2216 - 2s - loss: 3.2724e-04 - 2s/epoch - 889us/step\n",
      "Epoch 61/100\n",
      "2216/2216 - 2s - loss: 3.2780e-04 - 2s/epoch - 969us/step\n",
      "Epoch 62/100\n",
      "2216/2216 - 2s - loss: 3.3126e-04 - 2s/epoch - 890us/step\n",
      "Epoch 63/100\n",
      "2216/2216 - 2s - loss: 3.2842e-04 - 2s/epoch - 878us/step\n",
      "Epoch 64/100\n",
      "2216/2216 - 2s - loss: 3.2538e-04 - 2s/epoch - 875us/step\n",
      "Epoch 65/100\n",
      "2216/2216 - 2s - loss: 3.1694e-04 - 2s/epoch - 871us/step\n",
      "Epoch 66/100\n",
      "2216/2216 - 2s - loss: 3.2341e-04 - 2s/epoch - 892us/step\n",
      "Epoch 67/100\n",
      "2216/2216 - 2s - loss: 3.3169e-04 - 2s/epoch - 878us/step\n",
      "Epoch 68/100\n",
      "2216/2216 - 2s - loss: 3.1381e-04 - 2s/epoch - 874us/step\n",
      "Epoch 69/100\n",
      "2216/2216 - 2s - loss: 3.1714e-04 - 2s/epoch - 872us/step\n",
      "Epoch 70/100\n",
      "2216/2216 - 2s - loss: 3.1452e-04 - 2s/epoch - 871us/step\n",
      "Epoch 71/100\n",
      "2216/2216 - 2s - loss: 3.2274e-04 - 2s/epoch - 872us/step\n",
      "Epoch 72/100\n",
      "2216/2216 - 2s - loss: 3.1730e-04 - 2s/epoch - 879us/step\n",
      "Epoch 73/100\n",
      "2216/2216 - 2s - loss: 3.2046e-04 - 2s/epoch - 898us/step\n",
      "Epoch 74/100\n",
      "2216/2216 - 2s - loss: 3.2241e-04 - 2s/epoch - 878us/step\n",
      "Epoch 75/100\n",
      "2216/2216 - 2s - loss: 3.2471e-04 - 2s/epoch - 873us/step\n",
      "Epoch 76/100\n",
      "2216/2216 - 2s - loss: 3.3323e-04 - 2s/epoch - 873us/step\n",
      "Epoch 77/100\n",
      "2216/2216 - 2s - loss: 3.1582e-04 - 2s/epoch - 874us/step\n",
      "Epoch 78/100\n",
      "2216/2216 - 2s - loss: 3.2447e-04 - 2s/epoch - 874us/step\n",
      "Epoch 79/100\n",
      "2216/2216 - 2s - loss: 3.2291e-04 - 2s/epoch - 884us/step\n",
      "Epoch 80/100\n",
      "2216/2216 - 2s - loss: 3.2198e-04 - 2s/epoch - 873us/step\n",
      "Epoch 81/100\n",
      "2216/2216 - 2s - loss: 3.2478e-04 - 2s/epoch - 872us/step\n",
      "Epoch 82/100\n",
      "2216/2216 - 2s - loss: 3.0632e-04 - 2s/epoch - 871us/step\n",
      "Epoch 83/100\n",
      "2216/2216 - 2s - loss: 3.1067e-04 - 2s/epoch - 878us/step\n",
      "Epoch 84/100\n",
      "2216/2216 - 2s - loss: 3.1695e-04 - 2s/epoch - 874us/step\n",
      "Epoch 85/100\n",
      "2216/2216 - 2s - loss: 3.2358e-04 - 2s/epoch - 874us/step\n",
      "Epoch 86/100\n",
      "2216/2216 - 2s - loss: 3.1311e-04 - 2s/epoch - 876us/step\n",
      "Epoch 87/100\n",
      "2216/2216 - 2s - loss: 3.1685e-04 - 2s/epoch - 875us/step\n",
      "Epoch 88/100\n",
      "2216/2216 - 2s - loss: 3.0640e-04 - 2s/epoch - 923us/step\n",
      "Epoch 89/100\n",
      "2216/2216 - 2s - loss: 3.1920e-04 - 2s/epoch - 880us/step\n",
      "Epoch 90/100\n",
      "2216/2216 - 2s - loss: 3.1774e-04 - 2s/epoch - 876us/step\n",
      "Epoch 91/100\n",
      "2216/2216 - 2s - loss: 3.1352e-04 - 2s/epoch - 874us/step\n",
      "Epoch 92/100\n",
      "2216/2216 - 2s - loss: 3.1283e-04 - 2s/epoch - 872us/step\n",
      "Epoch 93/100\n",
      "2216/2216 - 2s - loss: 3.1419e-04 - 2s/epoch - 877us/step\n",
      "Epoch 94/100\n",
      "2216/2216 - 2s - loss: 3.1888e-04 - 2s/epoch - 888us/step\n",
      "Epoch 95/100\n",
      "2216/2216 - 2s - loss: 3.1348e-04 - 2s/epoch - 875us/step\n",
      "Epoch 96/100\n",
      "2216/2216 - 2s - loss: 3.1262e-04 - 2s/epoch - 877us/step\n",
      "Epoch 97/100\n",
      "2216/2216 - 2s - loss: 3.0886e-04 - 2s/epoch - 887us/step\n",
      "Epoch 98/100\n",
      "2216/2216 - 2s - loss: 3.1820e-04 - 2s/epoch - 880us/step\n",
      "Epoch 99/100\n",
      "2216/2216 - 2s - loss: 3.1392e-04 - 2s/epoch - 875us/step\n",
      "Epoch 100/100\n",
      "2216/2216 - 2s - loss: 3.1535e-04 - 2s/epoch - 877us/step\n"
     ]
    },
    {
     "data": {
      "text/plain": [
       "<keras.src.callbacks.History at 0x1780d7580>"
      ]
     },
     "execution_count": 8,
     "metadata": {},
     "output_type": "execute_result"
    }
   ],
   "source": [
    "# 8. Define GRU model\n",
    "gru_model = Sequential()\n",
    "gru_model.add(GRU(units=50, return_sequences=True, input_shape=(1, look_back)))\n",
    "gru_model.add(GRU(units=50))\n",
    "gru_model.add(Dense(1))\n",
    "gru_model.compile(loss='mean_squared_error', optimizer='adam')\n",
    "gru_model.fit(X_train_gru, Y_train, epochs=100, batch_size=1, verbose=2)\n"
   ]
  },
  {
   "cell_type": "code",
   "execution_count": 10,
   "id": "5585cd25-d1f2-4494-8f03-7b9a60985154",
   "metadata": {},
   "outputs": [
    {
     "name": "stdout",
     "output_type": "stream",
     "text": [
      "70/70 [==============================] - 0s 881us/step\n",
      "8/8 [==============================] - 0s 876us/step\n"
     ]
    }
   ],
   "source": [
    "# 9. Combine LSR and GRU\n",
    "X_meta_train = np.column_stack((lasso.predict(X_train), gru_model.predict(X_train_gru).flatten()))\n",
    "X_meta_test = np.column_stack((lasso.predict(X_test), gru_model.predict(X_test_gru).flatten()))"
   ]
  },
  {
   "cell_type": "code",
   "execution_count": 11,
   "id": "0f7110cc-f532-4d9f-bc5c-cf80dc943555",
   "metadata": {},
   "outputs": [],
   "source": [
    "# 10.Train meta-learner\n",
    "from sklearn.linear_model import LinearRegression\n",
    "meta_model = LinearRegression()\n",
    "meta_model.fit(X_meta_train, Y_train)\n",
    "\n",
    "# Utilize meta-learner to predict\n",
    "ensemble_pred = meta_model.predict(X_meta_test)\n",
    "ensemble_pred = scaler.inverse_transform(ensemble_pred.reshape(-1, 1))"
   ]
  },
  {
   "cell_type": "code",
   "execution_count": 12,
   "id": "71356e8b-52b2-4015-bb9a-4a8ddcad2b26",
   "metadata": {},
   "outputs": [
    {
     "name": "stdout",
     "output_type": "stream",
     "text": [
      "Testing RMSE: 39300.52311097145\n",
      "Testing MSLE: 98.91181396230982\n",
      "Testing MAPE: 4472168.737245763\n"
     ]
    }
   ],
   "source": [
    "from sklearn.metrics import mean_absolute_percentage_error,mean_absolute_error\n",
    "# 11. Đánh giá độ chính xác test\n",
    "#RMSE\n",
    "test_rmse = np.sqrt(np.mean((ensemble_pred - Y_test)**2))\n",
    "print('Testing RMSE:', test_rmse)\n",
    "#MSLE\n",
    "test_msle = np.mean((np.log1p(Y_test) - np.log1p(ensemble_pred))**2)\n",
    "print('Testing MSLE:', test_msle)\n",
    "# Mean Absolute Percentage Error (MAPE)\n",
    "test_mape = 100 * np.mean(np.abs((Y_test - ensemble_pred) / Y_test))\n",
    "print('Testing MAPE:', test_mape)"
   ]
  },
  {
   "cell_type": "code",
   "execution_count": 13,
   "id": "4b2ffe59-40b5-4002-a070-1d2ea1243b64",
   "metadata": {},
   "outputs": [
    {
     "name": "stdout",
     "output_type": "stream",
     "text": [
      "1/1 [==============================] - 0s 15ms/step\n",
      "1/1 [==============================] - 0s 13ms/step\n",
      "1/1 [==============================] - 0s 11ms/step\n",
      "1/1 [==============================] - 0s 11ms/step\n",
      "1/1 [==============================] - 0s 11ms/step\n",
      "1/1 [==============================] - 0s 12ms/step\n",
      "1/1 [==============================] - 0s 11ms/step\n",
      "1/1 [==============================] - 0s 11ms/step\n",
      "1/1 [==============================] - 0s 11ms/step\n",
      "1/1 [==============================] - 0s 11ms/step\n",
      "1/1 [==============================] - 0s 11ms/step\n",
      "1/1 [==============================] - 0s 11ms/step\n",
      "1/1 [==============================] - 0s 11ms/step\n",
      "1/1 [==============================] - 0s 11ms/step\n",
      "1/1 [==============================] - 0s 11ms/step\n",
      "1/1 [==============================] - 0s 15ms/step\n",
      "1/1 [==============================] - 0s 11ms/step\n",
      "1/1 [==============================] - 0s 11ms/step\n",
      "1/1 [==============================] - 0s 11ms/step\n",
      "1/1 [==============================] - 0s 11ms/step\n",
      "1/1 [==============================] - 0s 11ms/step\n",
      "1/1 [==============================] - 0s 11ms/step\n",
      "1/1 [==============================] - 0s 11ms/step\n",
      "1/1 [==============================] - 0s 11ms/step\n",
      "1/1 [==============================] - 0s 12ms/step\n",
      "1/1 [==============================] - 0s 11ms/step\n",
      "1/1 [==============================] - 0s 12ms/step\n",
      "1/1 [==============================] - 0s 11ms/step\n",
      "1/1 [==============================] - 0s 11ms/step\n",
      "1/1 [==============================] - 0s 11ms/step\n"
     ]
    }
   ],
   "source": [
    "future_steps = 30  \n",
    "\n",
    "# 12. Predict next 30 days\n",
    "ensemble_future_pred = []\n",
    "last_window = scaled_data[-look_back:]  # Cập nhật last_window cho bước thời gian cuối cùng của dữ liệu\n",
    "\n",
    "for i in range(future_steps):\n",
    "    # Chuẩn bị dữ liệu cho mỗi bước thời gian trong tương lai\n",
    "    last_window_gru = np.reshape(last_window, (1, 1, look_back))\n",
    "    lasso_future_pred = lasso.predict(last_window)\n",
    "    gru_future_pred = gru_model.predict(last_window_gru).flatten()\n",
    "    X_meta_future = np.column_stack((lasso_future_pred, gru_future_pred))\n",
    "\n",
    "    # Dự đoán sử dụng meta-learner\n",
    "    future_pred = meta_model.predict(X_meta_future)\n",
    "    ensemble_future_pred.append(future_pred[0])\n",
    "\n",
    "    # Cập nhật last_window cho bước tiếp theo\n",
    "    last_window = np.append(last_window[1:], future_pred)[np.newaxis]\n",
    "\n",
    "ensemble_future_pred = scaler.inverse_transform(np.array(ensemble_future_pred).reshape(-1, 1))\n"
   ]
  },
  {
   "cell_type": "code",
   "execution_count": 14,
   "id": "d696de42-cd03-452c-823c-1f758c1c8ca0",
   "metadata": {},
   "outputs": [],
   "source": [
    "# 13. Adjusting index for plotting\n",
    "last_index = df.index[-1]\n",
    "future_index = range(last_index + 1, last_index + future_steps + 1)"
   ]
  },
  {
   "cell_type": "code",
   "execution_count": 15,
   "id": "fd274615-4787-445b-85db-d031031aca0d",
   "metadata": {},
   "outputs": [
    {
     "data": {
      "image/png": "[encoded data removed]",
      "text/plain": [
       "<Figure size 640x480 with 1 Axes>"
      ]
     },
     "metadata": {},
     "output_type": "display_data"
    }
   ],
   "source": [
    "# 14. Vẽ đồ thị\n",
    "plt.plot(df.index[:train_size], scaler.inverse_transform(scaled_data[:train_size]), label='Train')\n",
    "plt.plot(df.index[train_size:train_size+len(Y_test)], scaler.inverse_transform(scaled_data[train_size:train_size+len(Y_test)]), label='Test')\n",
    "plt.plot(df.index[train_size:train_size+len(ensemble_pred)], ensemble_pred, label='Predict')\n",
    "plt.plot(future_index, ensemble_future_pred, label='Next30Days')\n",
    "plt.title('LSR-GRU 9:1 (BID Stock Price)')\n",
    "plt.legend()\n",
    "plt.show()"
   ]
  },
  {
   "cell_type": "code",
   "execution_count": null,
   "id": "4a7cc78f-782c-45f0-9f17-3f9635b62469",
   "metadata": {},
   "outputs": [],
   "source": []
  }
 ],
 "metadata": {
  "kernelspec": {
   "display_name": "Python 3 (ipykernel)",
   "language": "python",
   "name": "python3"
  },
  "language_info": {
   "codemirror_mode": {
    "name": "ipython",
    "version": 3
   },
   "file_extension": ".py",
   "mimetype": "text/x-python",
   "name": "python",
   "nbconvert_exporter": "python",
   "pygments_lexer": "ipython3",
   "version": "3.9.6"
  }
 },
 "nbformat": 4,
 "nbformat_minor": 5
}
