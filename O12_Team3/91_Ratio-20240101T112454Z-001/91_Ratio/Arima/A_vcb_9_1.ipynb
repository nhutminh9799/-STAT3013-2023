{
 "cells": [
  {
   "cell_type": "code",
   "execution_count": 1,
   "metadata": {},
   "outputs": [],
   "source": [
    "import pandas as pd\n",
    "import numpy as np\n",
    "from statsmodels.graphics.tsaplots import plot_acf, plot_pacf\n",
    "from statsmodels.tsa.stattools import acf, pacf\n",
    "import matplotlib.pyplot as plt\n",
    "import statsmodels.api as sm\n",
    "from matplotlib import pyplot"
   ]
  },
  {
   "cell_type": "code",
   "execution_count": 2,
   "metadata": {},
   "outputs": [
    {
     "data": {
      "text/html": [
       "<div>\n",
       "<style scoped>\n",
       "    .dataframe tbody tr th:only-of-type {\n",
       "        vertical-align: middle;\n",
       "    }\n",
       "\n",
       "    .dataframe tbody tr th {\n",
       "        vertical-align: top;\n",
       "    }\n",
       "\n",
       "    .dataframe thead th {\n",
       "        text-align: right;\n",
       "    }\n",
       "</style>\n",
       "<table border=\"1\" class=\"dataframe\">\n",
       "  <thead>\n",
       "    <tr style=\"text-align: right;\">\n",
       "      <th></th>\n",
       "      <th>Date</th>\n",
       "      <th>Open</th>\n",
       "      <th>High</th>\n",
       "      <th>Low</th>\n",
       "      <th>Close</th>\n",
       "      <th>Adj Close</th>\n",
       "      <th>Volume</th>\n",
       "    </tr>\n",
       "  </thead>\n",
       "  <tbody>\n",
       "    <tr>\n",
       "      <th>0</th>\n",
       "      <td>1/27/2014</td>\n",
       "      <td>12352807617</td>\n",
       "      <td>12352807617</td>\n",
       "      <td>12181833984</td>\n",
       "      <td>12181833984</td>\n",
       "      <td>12181833984</td>\n",
       "      <td>1740361</td>\n",
       "    </tr>\n",
       "    <tr>\n",
       "      <th>1</th>\n",
       "      <td>2/6/2014</td>\n",
       "      <td>12181833984</td>\n",
       "      <td>12181833984</td>\n",
       "      <td>11882630859</td>\n",
       "      <td>11925374023</td>\n",
       "      <td>11925374023</td>\n",
       "      <td>2882673</td>\n",
       "    </tr>\n",
       "    <tr>\n",
       "      <th>2</th>\n",
       "      <td>2/7/2014</td>\n",
       "      <td>11968117188</td>\n",
       "      <td>12053604492</td>\n",
       "      <td>11839887695</td>\n",
       "      <td>11882630859</td>\n",
       "      <td>11882630859</td>\n",
       "      <td>1889556</td>\n",
       "    </tr>\n",
       "    <tr>\n",
       "      <th>3</th>\n",
       "      <td>2/10/2014</td>\n",
       "      <td>11925374023</td>\n",
       "      <td>12096347656</td>\n",
       "      <td>11839887695</td>\n",
       "      <td>12096347656</td>\n",
       "      <td>12096347656</td>\n",
       "      <td>1143474</td>\n",
       "    </tr>\n",
       "    <tr>\n",
       "      <th>4</th>\n",
       "      <td>2/11/2014</td>\n",
       "      <td>12139090820</td>\n",
       "      <td>12224577148</td>\n",
       "      <td>12053604492</td>\n",
       "      <td>12096347656</td>\n",
       "      <td>12096347656</td>\n",
       "      <td>2232159</td>\n",
       "    </tr>\n",
       "    <tr>\n",
       "      <th>...</th>\n",
       "      <td>...</td>\n",
       "      <td>...</td>\n",
       "      <td>...</td>\n",
       "      <td>...</td>\n",
       "      <td>...</td>\n",
       "      <td>...</td>\n",
       "      <td>...</td>\n",
       "    </tr>\n",
       "    <tr>\n",
       "      <th>2454</th>\n",
       "      <td>12/7/2023</td>\n",
       "      <td>85700000000</td>\n",
       "      <td>86000000000</td>\n",
       "      <td>85000000000</td>\n",
       "      <td>85200000000</td>\n",
       "      <td>85200000000</td>\n",
       "      <td>2403460</td>\n",
       "    </tr>\n",
       "    <tr>\n",
       "      <th>2455</th>\n",
       "      <td>12/8/2023</td>\n",
       "      <td>85200000000</td>\n",
       "      <td>85500000000</td>\n",
       "      <td>85000000000</td>\n",
       "      <td>85000000000</td>\n",
       "      <td>85000000000</td>\n",
       "      <td>1293000</td>\n",
       "    </tr>\n",
       "    <tr>\n",
       "      <th>2456</th>\n",
       "      <td>12/11/2023</td>\n",
       "      <td>85000000000</td>\n",
       "      <td>85300000000</td>\n",
       "      <td>84100000000</td>\n",
       "      <td>84200000000</td>\n",
       "      <td>84200000000</td>\n",
       "      <td>2768100</td>\n",
       "    </tr>\n",
       "    <tr>\n",
       "      <th>2457</th>\n",
       "      <td>12/12/2023</td>\n",
       "      <td>84700000000</td>\n",
       "      <td>84700000000</td>\n",
       "      <td>84000000000</td>\n",
       "      <td>84200000000</td>\n",
       "      <td>84200000000</td>\n",
       "      <td>1148400</td>\n",
       "    </tr>\n",
       "    <tr>\n",
       "      <th>2458</th>\n",
       "      <td>12/13/2023</td>\n",
       "      <td>84200000000</td>\n",
       "      <td>84500000000</td>\n",
       "      <td>83700000000</td>\n",
       "      <td>83700000000</td>\n",
       "      <td>83700000000</td>\n",
       "      <td>2541000</td>\n",
       "    </tr>\n",
       "  </tbody>\n",
       "</table>\n",
       "<p>2459 rows × 7 columns</p>\n",
       "</div>"
      ],
      "text/plain": [
       "            Date         Open         High          Low        Close  \\\n",
       "0      1/27/2014  12352807617  12352807617  12181833984  12181833984   \n",
       "1       2/6/2014  12181833984  12181833984  11882630859  11925374023   \n",
       "2       2/7/2014  11968117188  12053604492  11839887695  11882630859   \n",
       "3      2/10/2014  11925374023  12096347656  11839887695  12096347656   \n",
       "4      2/11/2014  12139090820  12224577148  12053604492  12096347656   \n",
       "...          ...          ...          ...          ...          ...   \n",
       "2454   12/7/2023  85700000000  86000000000  85000000000  85200000000   \n",
       "2455   12/8/2023  85200000000  85500000000  85000000000  85000000000   \n",
       "2456  12/11/2023  85000000000  85300000000  84100000000  84200000000   \n",
       "2457  12/12/2023  84700000000  84700000000  84000000000  84200000000   \n",
       "2458  12/13/2023  84200000000  84500000000  83700000000  83700000000   \n",
       "\n",
       "        Adj Close   Volume  \n",
       "0     12181833984  1740361  \n",
       "1     11925374023  2882673  \n",
       "2     11882630859  1889556  \n",
       "3     12096347656  1143474  \n",
       "4     12096347656  2232159  \n",
       "...           ...      ...  \n",
       "2454  85200000000  2403460  \n",
       "2455  85000000000  1293000  \n",
       "2456  84200000000  2768100  \n",
       "2457  84200000000  1148400  \n",
       "2458  83700000000  2541000  \n",
       "\n",
       "[2459 rows x 7 columns]"
      ]
     },
     "execution_count": 2,
     "metadata": {},
     "output_type": "execute_result"
    }
   ],
   "source": [
    "df =pd.read_csv('VCB_Stock_Data.csv')\n",
    "df"
   ]
  },
  {
   "cell_type": "code",
   "execution_count": 3,
   "metadata": {},
   "outputs": [
    {
     "data": {
      "text/plain": [
       "0       83700000000\n",
       "1       84200000000\n",
       "2       84200000000\n",
       "3       85000000000\n",
       "4       85200000000\n",
       "           ...     \n",
       "2454    12096347656\n",
       "2455    12096347656\n",
       "2456    11882630859\n",
       "2457    11925374023\n",
       "2458    12181833984\n",
       "Name: Close, Length: 2459, dtype: int64"
      ]
     },
     "execution_count": 3,
     "metadata": {},
     "output_type": "execute_result"
    }
   ],
   "source": [
    "data = df['Close'][::-1];\n",
    "val= data.reset_index(drop=True);\n",
    "val"
   ]
  },
  {
   "cell_type": "code",
   "execution_count": 4,
   "metadata": {},
   "outputs": [],
   "source": [
    "# Create a date range starting from a specific date\n",
    "start_date = '1/27/2014'\n",
    "stop_date = '12/14/2023'\n",
    "dates = pd.date_range(start=start_date, periods=len(val),freq='D')"
   ]
  },
  {
   "cell_type": "code",
   "execution_count": 5,
   "metadata": {},
   "outputs": [],
   "source": [
    "# 2.  chia train test theo tỉ lệ 9-1\n",
    "df = df[['Close']]\n",
    "df = df.dropna() # Drop missing values\n",
    "df = df.reset_index(drop=True) # Reset the index\n",
    "# Split the data into training, testing\n",
    "train_size = int(0.9* len(df))\n",
    "test_size = int(0.1* len(df))\n",
    "\n",
    "train_data = df[:train_size]\n",
    "test_data = df[train_size:train_size+test_size]"
   ]
  },
  {
   "cell_type": "code",
   "execution_count": 6,
   "metadata": {},
   "outputs": [
    {
     "name": "stdout",
     "output_type": "stream",
     "text": [
      "Performing stepwise search to minimize aic\n",
      " ARIMA(2,1,2)(0,0,0)[0] intercept   : AIC=97092.793, Time=2.05 sec\n",
      " ARIMA(0,1,0)(0,0,0)[0] intercept   : AIC=97105.899, Time=0.04 sec\n",
      " ARIMA(1,1,0)(0,0,0)[0] intercept   : AIC=97107.078, Time=0.12 sec\n",
      " ARIMA(0,1,1)(0,0,0)[0] intercept   : AIC=97107.086, Time=0.11 sec\n",
      " ARIMA(0,1,0)(0,0,0)[0]             : AIC=97105.793, Time=0.04 sec\n",
      " ARIMA(1,1,2)(0,0,0)[0] intercept   : AIC=97111.131, Time=0.20 sec\n",
      " ARIMA(2,1,1)(0,0,0)[0] intercept   : AIC=97111.064, Time=0.21 sec\n",
      " ARIMA(3,1,2)(0,0,0)[0] intercept   : AIC=97096.364, Time=1.47 sec\n",
      " ARIMA(2,1,3)(0,0,0)[0] intercept   : AIC=97094.460, Time=1.91 sec\n",
      " ARIMA(1,1,1)(0,0,0)[0] intercept   : AIC=97109.079, Time=0.35 sec\n",
      " ARIMA(1,1,3)(0,0,0)[0] intercept   : AIC=97109.246, Time=0.95 sec\n",
      " ARIMA(3,1,1)(0,0,0)[0] intercept   : AIC=97108.975, Time=0.63 sec\n",
      " ARIMA(3,1,3)(0,0,0)[0] intercept   : AIC=97097.179, Time=3.30 sec\n",
      " ARIMA(2,1,2)(0,0,0)[0]             : AIC=97104.968, Time=1.27 sec\n",
      "\n",
      "Best model:  ARIMA(2,1,2)(0,0,0)[0] intercept\n",
      "Total fit time: 12.657 seconds\n"
     ]
    },
    {
     "data": {
      "text/html": [
       "<style>#sk-container-id-1 {color: black;}#sk-container-id-1 pre{padding: 0;}#sk-container-id-1 div.sk-toggleable {background-color: white;}#sk-container-id-1 label.sk-toggleable__label {cursor: pointer;display: block;width: 100%;margin-bottom: 0;padding: 0.3em;box-sizing: border-box;text-align: center;}#sk-container-id-1 label.sk-toggleable__label-arrow:before {content: \"▸\";float: left;margin-right: 0.25em;color: #696969;}#sk-container-id-1 label.sk-toggleable__label-arrow:hover:before {color: black;}#sk-container-id-1 div.sk-estimator:hover label.sk-toggleable__label-arrow:before {color: black;}#sk-container-id-1 div.sk-toggleable__content {max-height: 0;max-width: 0;overflow: hidden;text-align: left;background-color: #f0f8ff;}#sk-container-id-1 div.sk-toggleable__content pre {margin: 0.2em;color: black;border-radius: 0.25em;background-color: #f0f8ff;}#sk-container-id-1 input.sk-toggleable__control:checked~div.sk-toggleable__content {max-height: 200px;max-width: 100%;overflow: auto;}#sk-container-id-1 input.sk-toggleable__control:checked~label.sk-toggleable__label-arrow:before {content: \"▾\";}#sk-container-id-1 div.sk-estimator input.sk-toggleable__control:checked~label.sk-toggleable__label {background-color: #d4ebff;}#sk-container-id-1 div.sk-label input.sk-toggleable__control:checked~label.sk-toggleable__label {background-color: #d4ebff;}#sk-container-id-1 input.sk-hidden--visually {border: 0;clip: rect(1px 1px 1px 1px);clip: rect(1px, 1px, 1px, 1px);height: 1px;margin: -1px;overflow: hidden;padding: 0;position: absolute;width: 1px;}#sk-container-id-1 div.sk-estimator {font-family: monospace;background-color: #f0f8ff;border: 1px dotted black;border-radius: 0.25em;box-sizing: border-box;margin-bottom: 0.5em;}#sk-container-id-1 div.sk-estimator:hover {background-color: #d4ebff;}#sk-container-id-1 div.sk-parallel-item::after {content: \"\";width: 100%;border-bottom: 1px solid gray;flex-grow: 1;}#sk-container-id-1 div.sk-label:hover label.sk-toggleable__label {background-color: #d4ebff;}#sk-container-id-1 div.sk-serial::before {content: \"\";position: absolute;border-left: 1px solid gray;box-sizing: border-box;top: 0;bottom: 0;left: 50%;z-index: 0;}#sk-container-id-1 div.sk-serial {display: flex;flex-direction: column;align-items: center;background-color: white;padding-right: 0.2em;padding-left: 0.2em;position: relative;}#sk-container-id-1 div.sk-item {position: relative;z-index: 1;}#sk-container-id-1 div.sk-parallel {display: flex;align-items: stretch;justify-content: center;background-color: white;position: relative;}#sk-container-id-1 div.sk-item::before, #sk-container-id-1 div.sk-parallel-item::before {content: \"\";position: absolute;border-left: 1px solid gray;box-sizing: border-box;top: 0;bottom: 0;left: 50%;z-index: -1;}#sk-container-id-1 div.sk-parallel-item {display: flex;flex-direction: column;z-index: 1;position: relative;background-color: white;}#sk-container-id-1 div.sk-parallel-item:first-child::after {align-self: flex-end;width: 50%;}#sk-container-id-1 div.sk-parallel-item:last-child::after {align-self: flex-start;width: 50%;}#sk-container-id-1 div.sk-parallel-item:only-child::after {width: 0;}#sk-container-id-1 div.sk-dashed-wrapped {border: 1px dashed gray;margin: 0 0.4em 0.5em 0.4em;box-sizing: border-box;padding-bottom: 0.4em;background-color: white;}#sk-container-id-1 div.sk-label label {font-family: monospace;font-weight: bold;display: inline-block;line-height: 1.2em;}#sk-container-id-1 div.sk-label-container {text-align: center;}#sk-container-id-1 div.sk-container {/* jupyter's `normalize.less` sets `[hidden] { display: none; }` but bootstrap.min.css set `[hidden] { display: none !important; }` so we also need the `!important` here to be able to override the default hidden behavior on the sphinx rendered scikit-learn.org. See: https://github.com/scikit-learn/scikit-learn/issues/21755 */display: inline-block !important;position: relative;}#sk-container-id-1 div.sk-text-repr-fallback {display: none;}</style><div id=\"sk-container-id-1\" class=\"sk-top-container\"><div class=\"sk-text-repr-fallback\"><pre> ARIMA(2,1,2)(0,0,0)[0] intercept</pre><b>In a Jupyter environment, please rerun this cell to show the HTML representation or trust the notebook. <br />On GitHub, the HTML representation is unable to render, please try loading this page with nbviewer.org.</b></div><div class=\"sk-container\" hidden><div class=\"sk-item\"><div class=\"sk-estimator sk-toggleable\"><input class=\"sk-toggleable__control sk-hidden--visually\" id=\"sk-estimator-id-1\" type=\"checkbox\" checked><label for=\"sk-estimator-id-1\" class=\"sk-toggleable__label sk-toggleable__label-arrow\">ARIMA</label><div class=\"sk-toggleable__content\"><pre> ARIMA(2,1,2)(0,0,0)[0] intercept</pre></div></div></div></div></div>"
      ],
      "text/plain": [
       "ARIMA(order=(2, 1, 2), scoring_args={}, suppress_warnings=True)"
      ]
     },
     "execution_count": 6,
     "metadata": {},
     "output_type": "execute_result"
    }
   ],
   "source": [
    "x_train = np.array(train_data.index).reshape(-1, 1)\n",
    "y_train = np.array(train_data['Close'])\n",
    "\n",
    "\n",
    "from pmdarima.arima import auto_arima\n",
    "model = auto_arima(y_train, trace=True, error_action='ignore', suppress_warnings=True)\n",
    "\n",
    "\n",
    "model.fit(y_train)"
   ]
  },
  {
   "cell_type": "code",
   "execution_count": 7,
   "metadata": {},
   "outputs": [],
   "source": [
    "y_test = np.array(test_data['Close'])\n",
    "y_pred = model.predict(n_periods=len(y_test))"
   ]
  },
  {
   "cell_type": "code",
   "execution_count": 10,
   "metadata": {},
   "outputs": [
    {
     "name": "stdout",
     "output_type": "stream",
     "text": [
      "Predicted closing prices for the next 30 days:\n",
      "[6.56925673e+10 6.56705389e+10 6.55458906e+10 6.55605001e+10\n",
      " 6.57019212e+10 6.57443882e+10 6.56470853e+10 6.56085968e+10\n",
      " 6.57125232e+10 6.57952351e+10 6.57418028e+10 6.56763897e+10\n",
      " 6.57336551e+10 6.58303713e+10 6.58231789e+10 6.57555699e+10\n",
      " 6.57697179e+10 6.58584721e+10 6.58891673e+10 6.58376693e+10\n",
      " 6.58206360e+10 6.58873232e+10 6.59416407e+10 6.59159474e+10\n",
      " 6.58831230e+10 6.59223748e+10 6.59848896e+10 6.59863757e+10\n",
      " 6.59522921e+10 6.59662072e+10]\n"
     ]
    }
   ],
   "source": [
    "#Train all data to predict next 30 days.\n",
    "\n",
    "last_index =  df.index[-1]\n",
    "last_data = pd.RangeIndex(start=last_index, stop=last_index+30, step=1)\n",
    "\n",
    "\n",
    "x_next_30_days = np.array(range(last_index+1, last_index+31)).reshape(-1, 1)\n",
    "\n",
    "\n",
    "y_next_30_days = model.predict(n_periods=len(x_next_30_days))\n",
    "\n",
    "print('Predicted closing prices for the next 30 days:')\n",
    "print(y_next_30_days)\n"
   ]
  },
  {
   "cell_type": "code",
   "execution_count": 11,
   "metadata": {},
   "outputs": [
    {
     "name": "stdout",
     "output_type": "stream",
     "text": [
      "Testing RMSE: 15594412502.516079\n",
      "Testing MAPE: 0.17287573131476086\n",
      "Testing MSLE: 0.04185210268944358\n"
     ]
    },
    {
     "data": {
      "image/png": "[encoded data removed]",
      "text/plain": [
       "<Figure size 640x480 with 1 Axes>"
      ]
     },
     "metadata": {},
     "output_type": "display_data"
    }
   ],
   "source": [
    "from sklearn.metrics import mean_absolute_percentage_error,mean_absolute_error\n",
    "from sklearn.metrics import mean_squared_log_error, mean_absolute_error, mean_absolute_percentage_error\n",
    "\n",
    "# 7. Đánh giá độ chính xác test bằng RMSE, MAE , MAPE\n",
    "# RMSE\n",
    "test_rmse = np.sqrt(np.mean((y_pred - y_test)**2))\n",
    "print('Testing RMSE:', test_rmse)\n",
    "# MAPE\n",
    "test_mape = mean_absolute_percentage_error(y_test,y_pred)\n",
    "print('Testing MAPE:', test_mape)\n",
    "# Calculate MSLE\n",
    "test_msle = mean_squared_log_error(y_test, y_pred)\n",
    "print('Testing MSLE:', test_msle)\n",
    "# 9.Vẽ hình\n",
    "plt.plot(train_data.index, train_data['Close'])\n",
    "plt.plot(test_data.index, test_data['Close'])\n",
    "plt.plot(test_data.index, y_pred)\n",
    "plt.plot(last_data,y_next_30_days)\n",
    "plt.legend(['Train', 'Test', 'Predictions','Next30Day'])\n",
    "plt.show()"
   ]
  }
 ],
 "metadata": {
  "kernelspec": {
   "display_name": "base",
   "language": "python",
   "name": "python3"
  },
  "language_info": {
   "codemirror_mode": {
    "name": "ipython",
    "version": 3
   },
   "file_extension": ".py",
   "mimetype": "text/x-python",
   "name": "python",
   "nbconvert_exporter": "python",
   "pygments_lexer": "ipython3",
   "version": "3.11.4"
  }
 },
 "nbformat": 4,
 "nbformat_minor": 2
}
