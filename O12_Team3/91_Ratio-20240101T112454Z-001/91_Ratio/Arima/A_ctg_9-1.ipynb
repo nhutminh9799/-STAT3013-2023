{
 "cells": [
  {
   "cell_type": "code",
   "execution_count": 1,
   "metadata": {},
   "outputs": [],
   "source": [
    "import pandas as pd\n",
    "import numpy as np\n",
    "from statsmodels.graphics.tsaplots import plot_acf, plot_pacf\n",
    "from statsmodels.tsa.stattools import acf, pacf\n",
    "import matplotlib.pyplot as plt\n",
    "import statsmodels.api as sm\n",
    "from matplotlib import pyplot"
   ]
  },
  {
   "cell_type": "code",
   "execution_count": 2,
   "metadata": {},
   "outputs": [
    {
     "data": {
      "text/html": [
       "<div>\n",
       "<style scoped>\n",
       "    .dataframe tbody tr th:only-of-type {\n",
       "        vertical-align: middle;\n",
       "    }\n",
       "\n",
       "    .dataframe tbody tr th {\n",
       "        vertical-align: top;\n",
       "    }\n",
       "\n",
       "    .dataframe thead th {\n",
       "        text-align: right;\n",
       "    }\n",
       "</style>\n",
       "<table border=\"1\" class=\"dataframe\">\n",
       "  <thead>\n",
       "    <tr style=\"text-align: right;\">\n",
       "      <th></th>\n",
       "      <th>Date</th>\n",
       "      <th>Open</th>\n",
       "      <th>High</th>\n",
       "      <th>Low</th>\n",
       "      <th>Close</th>\n",
       "      <th>Adj Close</th>\n",
       "      <th>Volume</th>\n",
       "    </tr>\n",
       "  </thead>\n",
       "  <tbody>\n",
       "    <tr>\n",
       "      <th>0</th>\n",
       "      <td>1/27/2014</td>\n",
       "      <td>11717867188</td>\n",
       "      <td>11856540039</td>\n",
       "      <td>11648531250</td>\n",
       "      <td>11717867188</td>\n",
       "      <td>11717867188</td>\n",
       "      <td>608510</td>\n",
       "    </tr>\n",
       "    <tr>\n",
       "      <th>1</th>\n",
       "      <td>2/6/2014</td>\n",
       "      <td>11648531250</td>\n",
       "      <td>11717867188</td>\n",
       "      <td>11509858398</td>\n",
       "      <td>11648531250</td>\n",
       "      <td>11648531250</td>\n",
       "      <td>1140509</td>\n",
       "    </tr>\n",
       "    <tr>\n",
       "      <th>2</th>\n",
       "      <td>2/7/2014</td>\n",
       "      <td>11579194336</td>\n",
       "      <td>11717867188</td>\n",
       "      <td>11509858398</td>\n",
       "      <td>11579194336</td>\n",
       "      <td>11579194336</td>\n",
       "      <td>826750</td>\n",
       "    </tr>\n",
       "    <tr>\n",
       "      <th>3</th>\n",
       "      <td>2/10/2014</td>\n",
       "      <td>11509858398</td>\n",
       "      <td>11648531250</td>\n",
       "      <td>11440521484</td>\n",
       "      <td>11509858398</td>\n",
       "      <td>11509858398</td>\n",
       "      <td>1639712</td>\n",
       "    </tr>\n",
       "    <tr>\n",
       "      <th>4</th>\n",
       "      <td>2/11/2014</td>\n",
       "      <td>11579194336</td>\n",
       "      <td>11717867188</td>\n",
       "      <td>11440521484</td>\n",
       "      <td>11509858398</td>\n",
       "      <td>11509858398</td>\n",
       "      <td>2082063</td>\n",
       "    </tr>\n",
       "    <tr>\n",
       "      <th>...</th>\n",
       "      <td>...</td>\n",
       "      <td>...</td>\n",
       "      <td>...</td>\n",
       "      <td>...</td>\n",
       "      <td>...</td>\n",
       "      <td>...</td>\n",
       "      <td>...</td>\n",
       "    </tr>\n",
       "    <tr>\n",
       "      <th>2460</th>\n",
       "      <td>12/8/2023</td>\n",
       "      <td>27000000000</td>\n",
       "      <td>27100000000</td>\n",
       "      <td>26700000000</td>\n",
       "      <td>26900000000</td>\n",
       "      <td>26900000000</td>\n",
       "      <td>4518900</td>\n",
       "    </tr>\n",
       "    <tr>\n",
       "      <th>2461</th>\n",
       "      <td>12/11/2023</td>\n",
       "      <td>26950000000</td>\n",
       "      <td>27050000000</td>\n",
       "      <td>26700000000</td>\n",
       "      <td>26850000000</td>\n",
       "      <td>26850000000</td>\n",
       "      <td>2323100</td>\n",
       "    </tr>\n",
       "    <tr>\n",
       "      <th>2462</th>\n",
       "      <td>12/12/2023</td>\n",
       "      <td>26900000000</td>\n",
       "      <td>27000000000</td>\n",
       "      <td>26700000000</td>\n",
       "      <td>27000000000</td>\n",
       "      <td>27000000000</td>\n",
       "      <td>3346200</td>\n",
       "    </tr>\n",
       "    <tr>\n",
       "      <th>2463</th>\n",
       "      <td>12/13/2023</td>\n",
       "      <td>27150000000</td>\n",
       "      <td>27350000000</td>\n",
       "      <td>26700000000</td>\n",
       "      <td>26750000000</td>\n",
       "      <td>26750000000</td>\n",
       "      <td>3749800</td>\n",
       "    </tr>\n",
       "    <tr>\n",
       "      <th>2464</th>\n",
       "      <td>12/14/2023</td>\n",
       "      <td>26950000000</td>\n",
       "      <td>26950000000</td>\n",
       "      <td>26450000000</td>\n",
       "      <td>26750000000</td>\n",
       "      <td>26750000000</td>\n",
       "      <td>3873600</td>\n",
       "    </tr>\n",
       "  </tbody>\n",
       "</table>\n",
       "<p>2465 rows × 7 columns</p>\n",
       "</div>"
      ],
      "text/plain": [
       "            Date         Open         High          Low        Close  \\\n",
       "0      1/27/2014  11717867188  11856540039  11648531250  11717867188   \n",
       "1       2/6/2014  11648531250  11717867188  11509858398  11648531250   \n",
       "2       2/7/2014  11579194336  11717867188  11509858398  11579194336   \n",
       "3      2/10/2014  11509858398  11648531250  11440521484  11509858398   \n",
       "4      2/11/2014  11579194336  11717867188  11440521484  11509858398   \n",
       "...          ...          ...          ...          ...          ...   \n",
       "2460   12/8/2023  27000000000  27100000000  26700000000  26900000000   \n",
       "2461  12/11/2023  26950000000  27050000000  26700000000  26850000000   \n",
       "2462  12/12/2023  26900000000  27000000000  26700000000  27000000000   \n",
       "2463  12/13/2023  27150000000  27350000000  26700000000  26750000000   \n",
       "2464  12/14/2023  26950000000  26950000000  26450000000  26750000000   \n",
       "\n",
       "        Adj Close   Volume  \n",
       "0     11717867188   608510  \n",
       "1     11648531250  1140509  \n",
       "2     11579194336   826750  \n",
       "3     11509858398  1639712  \n",
       "4     11509858398  2082063  \n",
       "...           ...      ...  \n",
       "2460  26900000000  4518900  \n",
       "2461  26850000000  2323100  \n",
       "2462  27000000000  3346200  \n",
       "2463  26750000000  3749800  \n",
       "2464  26750000000  3873600  \n",
       "\n",
       "[2465 rows x 7 columns]"
      ]
     },
     "execution_count": 2,
     "metadata": {},
     "output_type": "execute_result"
    }
   ],
   "source": [
    "df =pd.read_csv('CTG_Stock_Data.csv')\n",
    "df"
   ]
  },
  {
   "cell_type": "code",
   "execution_count": 3,
   "metadata": {},
   "outputs": [
    {
     "data": {
      "text/plain": [
       "0       26750000000\n",
       "1       26750000000\n",
       "2       27000000000\n",
       "3       26850000000\n",
       "4       26900000000\n",
       "           ...     \n",
       "2460    11509858398\n",
       "2461    11509858398\n",
       "2462    11579194336\n",
       "2463    11648531250\n",
       "2464    11717867188\n",
       "Name: Close, Length: 2465, dtype: int64"
      ]
     },
     "execution_count": 3,
     "metadata": {},
     "output_type": "execute_result"
    }
   ],
   "source": [
    "data = df['Close'][::-1];\n",
    "val= data.reset_index(drop=True);\n",
    "val"
   ]
  },
  {
   "cell_type": "code",
   "execution_count": 4,
   "metadata": {},
   "outputs": [],
   "source": [
    "# Create a date range starting from a specific date\n",
    "start_date = '1/27/2014'\n",
    "stop_date = '12/14/2023'\n",
    "dates = pd.date_range(start=start_date, periods=len(val),freq='D')"
   ]
  },
  {
   "cell_type": "code",
   "execution_count": 6,
   "metadata": {},
   "outputs": [],
   "source": [
    "# 2.  chia train test theo tỉ lệ 9-1\n",
    "df = df[['Close']]\n",
    "df = df.dropna() # Drop missing values\n",
    "df = df.reset_index(drop=True) # Reset the index\n",
    "# Split the data into training, testing\n",
    "train_size = int(0.9* len(df))\n",
    "test_size = int(0.1* len(df))\n",
    "\n",
    "train_data = df[:train_size]\n",
    "test_data = df[train_size:train_size+test_size]"
   ]
  },
  {
   "cell_type": "code",
   "execution_count": 7,
   "metadata": {},
   "outputs": [
    {
     "name": "stdout",
     "output_type": "stream",
     "text": [
      "Performing stepwise search to minimize aic\n",
      " ARIMA(2,1,2)(0,0,0)[0] intercept   : AIC=94438.115, Time=1.59 sec\n",
      " ARIMA(0,1,0)(0,0,0)[0] intercept   : AIC=94436.816, Time=0.06 sec\n",
      " ARIMA(1,1,0)(0,0,0)[0] intercept   : AIC=94436.626, Time=0.11 sec\n",
      " ARIMA(0,1,1)(0,0,0)[0] intercept   : AIC=94436.652, Time=0.12 sec\n",
      " ARIMA(0,1,0)(0,0,0)[0]             : AIC=94435.225, Time=0.03 sec\n",
      " ARIMA(1,1,1)(0,0,0)[0] intercept   : AIC=94434.686, Time=0.53 sec\n",
      " ARIMA(2,1,1)(0,0,0)[0] intercept   : AIC=94440.548, Time=0.33 sec\n",
      " ARIMA(1,1,2)(0,0,0)[0] intercept   : AIC=94440.455, Time=0.18 sec\n",
      " ARIMA(0,1,2)(0,0,0)[0] intercept   : AIC=94438.584, Time=0.19 sec\n",
      " ARIMA(2,1,0)(0,0,0)[0] intercept   : AIC=94438.539, Time=0.18 sec\n",
      " ARIMA(1,1,1)(0,0,0)[0]             : AIC=94433.016, Time=0.46 sec\n",
      " ARIMA(0,1,1)(0,0,0)[0]             : AIC=94435.106, Time=0.08 sec\n",
      " ARIMA(1,1,0)(0,0,0)[0]             : AIC=94435.079, Time=0.09 sec\n",
      " ARIMA(2,1,1)(0,0,0)[0]             : AIC=94438.991, Time=0.24 sec\n",
      " ARIMA(1,1,2)(0,0,0)[0]             : AIC=94438.892, Time=0.15 sec\n",
      " ARIMA(0,1,2)(0,0,0)[0]             : AIC=94437.030, Time=0.16 sec\n",
      " ARIMA(2,1,0)(0,0,0)[0]             : AIC=94436.983, Time=0.13 sec\n",
      " ARIMA(2,1,2)(0,0,0)[0]             : AIC=94437.028, Time=0.75 sec\n",
      "\n",
      "Best model:  ARIMA(1,1,1)(0,0,0)[0]          \n",
      "Total fit time: 5.422 seconds\n"
     ]
    },
    {
     "data": {
      "text/html": [
       "<style>#sk-container-id-1 {color: black;}#sk-container-id-1 pre{padding: 0;}#sk-container-id-1 div.sk-toggleable {background-color: white;}#sk-container-id-1 label.sk-toggleable__label {cursor: pointer;display: block;width: 100%;margin-bottom: 0;padding: 0.3em;box-sizing: border-box;text-align: center;}#sk-container-id-1 label.sk-toggleable__label-arrow:before {content: \"▸\";float: left;margin-right: 0.25em;color: #696969;}#sk-container-id-1 label.sk-toggleable__label-arrow:hover:before {color: black;}#sk-container-id-1 div.sk-estimator:hover label.sk-toggleable__label-arrow:before {color: black;}#sk-container-id-1 div.sk-toggleable__content {max-height: 0;max-width: 0;overflow: hidden;text-align: left;background-color: #f0f8ff;}#sk-container-id-1 div.sk-toggleable__content pre {margin: 0.2em;color: black;border-radius: 0.25em;background-color: #f0f8ff;}#sk-container-id-1 input.sk-toggleable__control:checked~div.sk-toggleable__content {max-height: 200px;max-width: 100%;overflow: auto;}#sk-container-id-1 input.sk-toggleable__control:checked~label.sk-toggleable__label-arrow:before {content: \"▾\";}#sk-container-id-1 div.sk-estimator input.sk-toggleable__control:checked~label.sk-toggleable__label {background-color: #d4ebff;}#sk-container-id-1 div.sk-label input.sk-toggleable__control:checked~label.sk-toggleable__label {background-color: #d4ebff;}#sk-container-id-1 input.sk-hidden--visually {border: 0;clip: rect(1px 1px 1px 1px);clip: rect(1px, 1px, 1px, 1px);height: 1px;margin: -1px;overflow: hidden;padding: 0;position: absolute;width: 1px;}#sk-container-id-1 div.sk-estimator {font-family: monospace;background-color: #f0f8ff;border: 1px dotted black;border-radius: 0.25em;box-sizing: border-box;margin-bottom: 0.5em;}#sk-container-id-1 div.sk-estimator:hover {background-color: #d4ebff;}#sk-container-id-1 div.sk-parallel-item::after {content: \"\";width: 100%;border-bottom: 1px solid gray;flex-grow: 1;}#sk-container-id-1 div.sk-label:hover label.sk-toggleable__label {background-color: #d4ebff;}#sk-container-id-1 div.sk-serial::before {content: \"\";position: absolute;border-left: 1px solid gray;box-sizing: border-box;top: 0;bottom: 0;left: 50%;z-index: 0;}#sk-container-id-1 div.sk-serial {display: flex;flex-direction: column;align-items: center;background-color: white;padding-right: 0.2em;padding-left: 0.2em;position: relative;}#sk-container-id-1 div.sk-item {position: relative;z-index: 1;}#sk-container-id-1 div.sk-parallel {display: flex;align-items: stretch;justify-content: center;background-color: white;position: relative;}#sk-container-id-1 div.sk-item::before, #sk-container-id-1 div.sk-parallel-item::before {content: \"\";position: absolute;border-left: 1px solid gray;box-sizing: border-box;top: 0;bottom: 0;left: 50%;z-index: -1;}#sk-container-id-1 div.sk-parallel-item {display: flex;flex-direction: column;z-index: 1;position: relative;background-color: white;}#sk-container-id-1 div.sk-parallel-item:first-child::after {align-self: flex-end;width: 50%;}#sk-container-id-1 div.sk-parallel-item:last-child::after {align-self: flex-start;width: 50%;}#sk-container-id-1 div.sk-parallel-item:only-child::after {width: 0;}#sk-container-id-1 div.sk-dashed-wrapped {border: 1px dashed gray;margin: 0 0.4em 0.5em 0.4em;box-sizing: border-box;padding-bottom: 0.4em;background-color: white;}#sk-container-id-1 div.sk-label label {font-family: monospace;font-weight: bold;display: inline-block;line-height: 1.2em;}#sk-container-id-1 div.sk-label-container {text-align: center;}#sk-container-id-1 div.sk-container {/* jupyter's `normalize.less` sets `[hidden] { display: none; }` but bootstrap.min.css set `[hidden] { display: none !important; }` so we also need the `!important` here to be able to override the default hidden behavior on the sphinx rendered scikit-learn.org. See: https://github.com/scikit-learn/scikit-learn/issues/21755 */display: inline-block !important;position: relative;}#sk-container-id-1 div.sk-text-repr-fallback {display: none;}</style><div id=\"sk-container-id-1\" class=\"sk-top-container\"><div class=\"sk-text-repr-fallback\"><pre> ARIMA(1,1,1)(0,0,0)[0]          </pre><b>In a Jupyter environment, please rerun this cell to show the HTML representation or trust the notebook. <br />On GitHub, the HTML representation is unable to render, please try loading this page with nbviewer.org.</b></div><div class=\"sk-container\" hidden><div class=\"sk-item\"><div class=\"sk-estimator sk-toggleable\"><input class=\"sk-toggleable__control sk-hidden--visually\" id=\"sk-estimator-id-1\" type=\"checkbox\" checked><label for=\"sk-estimator-id-1\" class=\"sk-toggleable__label sk-toggleable__label-arrow\">ARIMA</label><div class=\"sk-toggleable__content\"><pre> ARIMA(1,1,1)(0,0,0)[0]          </pre></div></div></div></div></div>"
      ],
      "text/plain": [
       "ARIMA(order=(1, 1, 1), scoring_args={}, suppress_warnings=True,\n",
       "      with_intercept=False)"
      ]
     },
     "execution_count": 7,
     "metadata": {},
     "output_type": "execute_result"
    }
   ],
   "source": [
    "x_train = np.array(train_data.index).reshape(-1, 1)\n",
    "y_train = np.array(train_data['Close'])\n",
    "\n",
    "\n",
    "from pmdarima.arima import auto_arima\n",
    "model = auto_arima(y_train, trace=True, error_action='ignore', suppress_warnings=True)\n",
    "\n",
    "\n",
    "model.fit(y_train)"
   ]
  },
  {
   "cell_type": "code",
   "execution_count": 8,
   "metadata": {},
   "outputs": [],
   "source": [
    "y_test = np.array(test_data['Close'])\n",
    "y_pred = model.predict(n_periods=len(y_test))"
   ]
  },
  {
   "cell_type": "code",
   "execution_count": 9,
   "metadata": {},
   "outputs": [
    {
     "name": "stdout",
     "output_type": "stream",
     "text": [
      "Predicted closing prices for the next 30 days:\n",
      "[2.46448011e+10 2.46545431e+10 2.46453450e+10 2.46540297e+10\n",
      " 2.46458298e+10 2.46535719e+10 2.46462620e+10 2.46531638e+10\n",
      " 2.46466473e+10 2.46528000e+10 2.46469908e+10 2.46524757e+10\n",
      " 2.46472970e+10 2.46521866e+10 2.46475699e+10 2.46519289e+10\n",
      " 2.46478133e+10 2.46516991e+10 2.46480302e+10 2.46514943e+10\n",
      " 2.46482236e+10 2.46513117e+10 2.46483960e+10 2.46511490e+10\n",
      " 2.46485497e+10 2.46510039e+10 2.46486867e+10 2.46508745e+10\n",
      " 2.46488088e+10 2.46507592e+10]\n"
     ]
    }
   ],
   "source": [
    "#Train all data to predict next 30 days.\n",
    "\n",
    "last_index =  df.index[-1]\n",
    "last_data = pd.RangeIndex(start=last_index, stop=last_index+30, step=1)\n",
    "\n",
    "\n",
    "x_next_30_days = np.array(range(last_index+1, last_index+31)).reshape(-1, 1)\n",
    "\n",
    "\n",
    "y_next_30_days = model.predict(n_periods=len(x_next_30_days))\n",
    "\n",
    "print('Predicted closing prices for the next 30 days:')\n",
    "print(y_next_30_days)\n"
   ]
  },
  {
   "cell_type": "code",
   "execution_count": 11,
   "metadata": {},
   "outputs": [
    {
     "name": "stdout",
     "output_type": "stream",
     "text": [
      "Testing RMSE: 2083033492.2182748\n",
      "Testing MAPE: 0.06403169848099971\n",
      "Testing MSLE: 0.006342852383398537\n"
     ]
    },
    {
     "data": {
      "image/png": "[encoded data removed]",
      "text/plain": [
       "<Figure size 640x480 with 1 Axes>"
      ]
     },
     "metadata": {},
     "output_type": "display_data"
    }
   ],
   "source": [
    "from sklearn.metrics import mean_absolute_percentage_error,mean_absolute_error\n",
    "from sklearn.metrics import mean_squared_log_error, mean_absolute_error, mean_absolute_percentage_error\n",
    "\n",
    "# 7. Đánh giá độ chính xác test bằng RMSE, MAE , MAPE\n",
    "# RMSE\n",
    "test_rmse = np.sqrt(np.mean((y_pred - y_test)**2))\n",
    "print('Testing RMSE:', test_rmse)\n",
    "# MAPE\n",
    "test_mape = mean_absolute_percentage_error(y_test,y_pred)\n",
    "print('Testing MAPE:', test_mape)\n",
    "# Calculate MSLE\n",
    "test_msle = mean_squared_log_error(y_test, y_pred)\n",
    "print('Testing MSLE:', test_msle)\n",
    "# 9.Vẽ hình\n",
    "plt.plot(train_data.index, train_data['Close'])\n",
    "plt.plot(test_data.index, test_data['Close'])\n",
    "plt.plot(test_data.index, y_pred)\n",
    "plt.plot(last_data,y_next_30_days)\n",
    "plt.legend(['Train', 'Test', 'Predictions','Next30Day'])\n",
    "plt.show()"
   ]
  }
 ],
 "metadata": {
  "kernelspec": {
   "display_name": "base",
   "language": "python",
   "name": "python3"
  },
  "language_info": {
   "codemirror_mode": {
    "name": "ipython",
    "version": 3
   },
   "file_extension": ".py",
   "mimetype": "text/x-python",
   "name": "python",
   "nbconvert_exporter": "python",
   "pygments_lexer": "ipython3",
   "version": "3.11.4"
  }
 },
 "nbformat": 4,
 "nbformat_minor": 2
}
